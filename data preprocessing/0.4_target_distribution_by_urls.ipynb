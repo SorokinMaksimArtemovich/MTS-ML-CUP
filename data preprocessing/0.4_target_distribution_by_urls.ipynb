{
  "cells": [
    {
      "cell_type": "markdown",
      "metadata": {
        "id": "view-in-github",
        "colab_type": "text"
      },
      "source": [
        "<a href=\"https://colab.research.google.com/github/SorokinMaksimArtemovich/MTS-ML-CUP/blob/main/data%20preprocessing/0.4_target_distribution_by_urls.ipynb\" target=\"_parent\"><img src=\"https://colab.research.google.com/assets/colab-badge.svg\" alt=\"Open In Colab\"/></a>"
      ]
    },
    {
      "cell_type": "code",
      "execution_count": null,
      "id": "6778c833",
      "metadata": {
        "execution": {
          "iopub.execute_input": "2023-04-07T09:28:06.686350Z",
          "iopub.status.busy": "2023-04-07T09:28:06.685911Z",
          "iopub.status.idle": "2023-04-07T09:28:06.696856Z",
          "shell.execute_reply": "2023-04-07T09:28:06.696035Z"
        },
        "id": "6778c833",
        "papermill": {
          "duration": 0.026765,
          "end_time": "2023-04-07T09:28:06.699064",
          "exception": false,
          "start_time": "2023-04-07T09:28:06.672299",
          "status": "completed"
        },
        "tags": []
      },
      "outputs": [],
      "source": [
        "import sys\n",
        "import os\n",
        "import warnings\n",
        "os.environ['OPENBLAS_NUM_THREADS'] = '1'\n",
        "warnings.filterwarnings('ignore')"
      ]
    },
    {
      "cell_type": "code",
      "execution_count": null,
      "id": "b7236cc6",
      "metadata": {
        "execution": {
          "iopub.execute_input": "2023-04-07T09:28:06.721757Z",
          "iopub.status.busy": "2023-04-07T09:28:06.721030Z",
          "iopub.status.idle": "2023-04-07T09:28:30.922716Z",
          "shell.execute_reply": "2023-04-07T09:28:30.921111Z"
        },
        "id": "b7236cc6",
        "outputId": "46f0ff89-164a-4fee-999c-b09b3327534b",
        "papermill": {
          "duration": 24.21608,
          "end_time": "2023-04-07T09:28:30.925811",
          "exception": false,
          "start_time": "2023-04-07T09:28:06.709731",
          "status": "completed"
        },
        "tags": []
      },
      "outputs": [
        {
          "name": "stdout",
          "output_type": "stream",
          "text": [
            "Requirement already satisfied: implicit in /opt/conda/lib/python3.7/site-packages (0.4.4)\r\n",
            "Requirement already satisfied: tqdm>=4.27 in /opt/conda/lib/python3.7/site-packages (from implicit) (4.64.0)\r\n",
            "Requirement already satisfied: numpy in /opt/conda/lib/python3.7/site-packages (from implicit) (1.21.6)\r\n",
            "Requirement already satisfied: scipy>=0.16 in /opt/conda/lib/python3.7/site-packages (from implicit) (1.7.3)\r\n",
            "\u001b[33mWARNING: Running pip as the 'root' user can result in broken permissions and conflicting behaviour with the system package manager. It is recommended to use a virtual environment instead: https://pip.pypa.io/warnings/venv\u001b[0m\u001b[33m\r\n",
            "\u001b[0mRequirement already satisfied: catboost in /opt/conda/lib/python3.7/site-packages (1.1.1)\r\n",
            "Requirement already satisfied: scipy in /opt/conda/lib/python3.7/site-packages (from catboost) (1.7.3)\r\n",
            "Requirement already satisfied: six in /opt/conda/lib/python3.7/site-packages (from catboost) (1.15.0)\r\n",
            "Requirement already satisfied: matplotlib in /opt/conda/lib/python3.7/site-packages (from catboost) (3.5.2)\r\n",
            "Requirement already satisfied: plotly in /opt/conda/lib/python3.7/site-packages (from catboost) (5.13.0)\r\n",
            "Requirement already satisfied: numpy>=1.16.0 in /opt/conda/lib/python3.7/site-packages (from catboost) (1.21.6)\r\n",
            "Requirement already satisfied: graphviz in /opt/conda/lib/python3.7/site-packages (from catboost) (0.8.4)\r\n",
            "Requirement already satisfied: pandas>=0.24.0 in /opt/conda/lib/python3.7/site-packages (from catboost) (1.3.5)\r\n",
            "Requirement already satisfied: python-dateutil>=2.7.3 in /opt/conda/lib/python3.7/site-packages (from pandas>=0.24.0->catboost) (2.8.2)\r\n",
            "Requirement already satisfied: pytz>=2017.3 in /opt/conda/lib/python3.7/site-packages (from pandas>=0.24.0->catboost) (2022.1)\r\n",
            "Requirement already satisfied: kiwisolver>=1.0.1 in /opt/conda/lib/python3.7/site-packages (from matplotlib->catboost) (1.4.3)\r\n",
            "Requirement already satisfied: cycler>=0.10 in /opt/conda/lib/python3.7/site-packages (from matplotlib->catboost) (0.11.0)\r\n",
            "Requirement already satisfied: pyparsing>=2.2.1 in /opt/conda/lib/python3.7/site-packages (from matplotlib->catboost) (3.0.9)\r\n",
            "Requirement already satisfied: fonttools>=4.22.0 in /opt/conda/lib/python3.7/site-packages (from matplotlib->catboost) (4.33.3)\r\n",
            "Requirement already satisfied: pillow>=6.2.0 in /opt/conda/lib/python3.7/site-packages (from matplotlib->catboost) (9.1.1)\r\n",
            "Requirement already satisfied: packaging>=20.0 in /opt/conda/lib/python3.7/site-packages (from matplotlib->catboost) (23.0)\r\n",
            "Requirement already satisfied: tenacity>=6.2.0 in /opt/conda/lib/python3.7/site-packages (from plotly->catboost) (8.0.1)\r\n",
            "Requirement already satisfied: typing-extensions in /opt/conda/lib/python3.7/site-packages (from kiwisolver>=1.0.1->matplotlib->catboost) (4.1.1)\r\n",
            "\u001b[33mWARNING: Running pip as the 'root' user can result in broken permissions and conflicting behaviour with the system package manager. It is recommended to use a virtual environment instead: https://pip.pypa.io/warnings/venv\u001b[0m\u001b[33m\r\n",
            "\u001b[0m"
          ]
        }
      ],
      "source": [
        "import pandas as pd\n",
        "import numpy as np\n",
        "import time\n",
        "import pyarrow as pa\n",
        "import pyarrow.parquet as pq\n",
        "import scipy\n",
        "!pip install implicit\n",
        "import implicit\n",
        "import bisect\n",
        "import sklearn.metrics as m\n",
        "!pip install catboost\n",
        "from catboost import CatBoostClassifier, CatBoostRegressor, Pool\n",
        "from sklearn.calibration import calibration_curve, CalibratedClassifierCV"
      ]
    },
    {
      "cell_type": "code",
      "execution_count": null,
      "id": "b9209609",
      "metadata": {
        "execution": {
          "iopub.execute_input": "2023-04-07T09:28:30.948399Z",
          "iopub.status.busy": "2023-04-07T09:28:30.947954Z",
          "iopub.status.idle": "2023-04-07T09:28:32.015429Z",
          "shell.execute_reply": "2023-04-07T09:28:32.014331Z"
        },
        "id": "b9209609",
        "papermill": {
          "duration": 1.082183,
          "end_time": "2023-04-07T09:28:32.018265",
          "exception": false,
          "start_time": "2023-04-07T09:28:30.936082",
          "status": "completed"
        },
        "tags": []
      },
      "outputs": [],
      "source": [
        "import seaborn as sns\n",
        "import matplotlib.pyplot as plt\n",
        "import plotly.express as px\n",
        "\n",
        "%matplotlib inline\n",
        "sns.set_style('darkgrid')"
      ]
    },
    {
      "cell_type": "code",
      "execution_count": null,
      "id": "39b9f95e",
      "metadata": {
        "execution": {
          "iopub.execute_input": "2023-04-07T09:28:32.040943Z",
          "iopub.status.busy": "2023-04-07T09:28:32.039964Z",
          "iopub.status.idle": "2023-04-07T09:28:54.752905Z",
          "shell.execute_reply": "2023-04-07T09:28:54.751536Z"
        },
        "id": "39b9f95e",
        "outputId": "1160db33-ed23-435b-f3a9-0acbdf9b795a",
        "papermill": {
          "duration": 22.727147,
          "end_time": "2023-04-07T09:28:54.755596",
          "exception": false,
          "start_time": "2023-04-07T09:28:32.028449",
          "status": "completed"
        },
        "tags": []
      },
      "outputs": [
        {
          "name": "stdout",
          "output_type": "stream",
          "text": [
            "\u001b[33mWARNING: Running pip as the 'root' user can result in broken permissions and conflicting behaviour with the system package manager. It is recommended to use a virtual environment instead: https://pip.pypa.io/warnings/venv\u001b[0m\u001b[33m\r\n",
            "\u001b[0mCollecting faiss-cpu\r\n",
            "  Downloading faiss_cpu-1.7.3-cp37-cp37m-manylinux_2_17_x86_64.manylinux2014_x86_64.whl (17.0 MB)\r\n",
            "\u001b[2K     \u001b[90m━━━━━━━━━━━━━━━━━━━━━━━━━━━━━━━━━━━━━━━\u001b[0m \u001b[32m17.0/17.0 MB\u001b[0m \u001b[31m190.8 MB/s\u001b[0m eta \u001b[36m0:00:00\u001b[0m\r\n",
            "\u001b[?25hInstalling collected packages: faiss-cpu\r\n",
            "Successfully installed faiss-cpu-1.7.3\r\n",
            "\u001b[33mWARNING: Running pip as the 'root' user can result in broken permissions and conflicting behaviour with the system package manager. It is recommended to use a virtual environment instead: https://pip.pypa.io/warnings/venv\u001b[0m\u001b[33m\r\n",
            "\u001b[0m"
          ]
        }
      ],
      "source": [
        "!pip install feather-format >> none\n",
        "!pip install faiss-cpu --no-cache"
      ]
    },
    {
      "cell_type": "code",
      "execution_count": null,
      "id": "fcc1f0bb",
      "metadata": {
        "execution": {
          "iopub.execute_input": "2023-04-07T09:28:54.780040Z",
          "iopub.status.busy": "2023-04-07T09:28:54.779607Z",
          "iopub.status.idle": "2023-04-07T09:28:54.785009Z",
          "shell.execute_reply": "2023-04-07T09:28:54.784041Z"
        },
        "id": "fcc1f0bb",
        "papermill": {
          "duration": 0.019918,
          "end_time": "2023-04-07T09:28:54.787255",
          "exception": false,
          "start_time": "2023-04-07T09:28:54.767337",
          "status": "completed"
        },
        "tags": []
      },
      "outputs": [],
      "source": [
        "def age_bucket(x):\n",
        "    return bisect.bisect_left([18,25,35,45,55,65], x)"
      ]
    },
    {
      "cell_type": "code",
      "execution_count": null,
      "id": "75f17cfb",
      "metadata": {
        "execution": {
          "iopub.execute_input": "2023-04-07T09:28:54.810032Z",
          "iopub.status.busy": "2023-04-07T09:28:54.809647Z",
          "iopub.status.idle": "2023-04-07T09:28:55.005352Z",
          "shell.execute_reply": "2023-04-07T09:28:55.004137Z"
        },
        "id": "75f17cfb",
        "papermill": {
          "duration": 0.210041,
          "end_time": "2023-04-07T09:28:55.007786",
          "exception": false,
          "start_time": "2023-04-07T09:28:54.797745",
          "status": "completed"
        },
        "tags": [],
        "outputId": "11b957ae-6f46-49ed-cd53-ce8493a3882d"
      },
      "outputs": [
        {
          "data": {
            "text/plain": [
              "age        int64\n",
              "is_male    int64\n",
              "user_id    int64\n",
              "dtype: object"
            ]
          },
          "execution_count": 6,
          "metadata": {},
          "output_type": "execute_result"
        }
      ],
      "source": [
        "targets = pd.read_feather('/data/target_train.feather')\n",
        "targets = targets.dropna()\n",
        "targets['is_male'] = targets['is_male'].astype(int)\n",
        "targets['age'] = targets['age'].astype(int)\n",
        "targets.dtypes"
      ]
    },
    {
      "cell_type": "code",
      "execution_count": null,
      "id": "4348a1db",
      "metadata": {
        "execution": {
          "iopub.execute_input": "2023-04-07T09:28:55.030771Z",
          "iopub.status.busy": "2023-04-07T09:28:55.030361Z",
          "iopub.status.idle": "2023-04-07T09:29:31.376810Z",
          "shell.execute_reply": "2023-04-07T09:29:31.375853Z"
        },
        "id": "4348a1db",
        "papermill": {
          "duration": 36.36128,
          "end_time": "2023-04-07T09:29:31.379579",
          "exception": false,
          "start_time": "2023-04-07T09:28:55.018299",
          "status": "completed"
        },
        "tags": []
      },
      "outputs": [],
      "source": [
        "data = pd.read_feather('/data/dataset_full.feather')"
      ]
    },
    {
      "cell_type": "code",
      "execution_count": null,
      "id": "8c16808e",
      "metadata": {
        "execution": {
          "iopub.execute_input": "2023-04-07T09:29:31.403929Z",
          "iopub.status.busy": "2023-04-07T09:29:31.402747Z",
          "iopub.status.idle": "2023-04-07T09:29:31.409121Z",
          "shell.execute_reply": "2023-04-07T09:29:31.408377Z"
        },
        "papermill": {
          "duration": 0.020472,
          "end_time": "2023-04-07T09:29:31.411077",
          "exception": false,
          "start_time": "2023-04-07T09:29:31.390605",
          "status": "completed"
        },
        "tags": [],
        "id": "8c16808e",
        "outputId": "586876ec-8b02-4be0-9ba0-34ddc1484ae6"
      },
      "outputs": [
        {
          "data": {
            "text/plain": [
              "(322899435, 12)"
            ]
          },
          "execution_count": 8,
          "metadata": {},
          "output_type": "execute_result"
        }
      ],
      "source": [
        "data.shape"
      ]
    },
    {
      "cell_type": "code",
      "execution_count": null,
      "id": "b3f498a4",
      "metadata": {
        "execution": {
          "iopub.execute_input": "2023-04-07T09:29:31.435114Z",
          "iopub.status.busy": "2023-04-07T09:29:31.434073Z",
          "iopub.status.idle": "2023-04-07T09:30:20.629794Z",
          "shell.execute_reply": "2023-04-07T09:30:20.627306Z"
        },
        "papermill": {
          "duration": 49.214354,
          "end_time": "2023-04-07T09:30:20.636269",
          "exception": false,
          "start_time": "2023-04-07T09:29:31.421915",
          "status": "completed"
        },
        "tags": [],
        "id": "b3f498a4"
      },
      "outputs": [],
      "source": [
        "data = data[['user_id', 'url_host']].drop_duplicates()"
      ]
    },
    {
      "cell_type": "code",
      "execution_count": null,
      "id": "7570ecd6",
      "metadata": {
        "execution": {
          "iopub.execute_input": "2023-04-07T09:30:20.664405Z",
          "iopub.status.busy": "2023-04-07T09:30:20.663414Z",
          "iopub.status.idle": "2023-04-07T09:30:20.672508Z",
          "shell.execute_reply": "2023-04-07T09:30:20.671356Z"
        },
        "papermill": {
          "duration": 0.025167,
          "end_time": "2023-04-07T09:30:20.675676",
          "exception": false,
          "start_time": "2023-04-07T09:30:20.650509",
          "status": "completed"
        },
        "tags": [],
        "id": "7570ecd6",
        "outputId": "23e14df7-0c83-4bf9-f398-e189316b0d66"
      },
      "outputs": [
        {
          "data": {
            "text/plain": [
              "(32277669, 2)"
            ]
          },
          "execution_count": 10,
          "metadata": {},
          "output_type": "execute_result"
        }
      ],
      "source": [
        "data.shape"
      ]
    },
    {
      "cell_type": "code",
      "execution_count": null,
      "id": "d5158b4c",
      "metadata": {
        "execution": {
          "iopub.execute_input": "2023-04-07T09:30:20.721849Z",
          "iopub.status.busy": "2023-04-07T09:30:20.721289Z",
          "iopub.status.idle": "2023-04-07T09:30:23.860388Z",
          "shell.execute_reply": "2023-04-07T09:30:23.859241Z"
        },
        "id": "d5158b4c",
        "outputId": "df18fba9-e642-4833-f4bc-ef38652f93b8",
        "papermill": {
          "duration": 3.155261,
          "end_time": "2023-04-07T09:30:23.862810",
          "exception": false,
          "start_time": "2023-04-07T09:30:20.707549",
          "status": "completed"
        },
        "tags": []
      },
      "outputs": [
        {
          "data": {
            "text/html": [
              "<div>\n",
              "<style scoped>\n",
              "    .dataframe tbody tr th:only-of-type {\n",
              "        vertical-align: middle;\n",
              "    }\n",
              "\n",
              "    .dataframe tbody tr th {\n",
              "        vertical-align: top;\n",
              "    }\n",
              "\n",
              "    .dataframe thead th {\n",
              "        text-align: right;\n",
              "    }\n",
              "</style>\n",
              "<table border=\"1\" class=\"dataframe\">\n",
              "  <thead>\n",
              "    <tr style=\"text-align: right;\">\n",
              "      <th></th>\n",
              "      <th>user_id</th>\n",
              "      <th>url_host</th>\n",
              "      <th>age</th>\n",
              "      <th>is_male</th>\n",
              "    </tr>\n",
              "  </thead>\n",
              "  <tbody>\n",
              "    <tr>\n",
              "      <th>0</th>\n",
              "      <td>79395</td>\n",
              "      <td>ad.mail.ru</td>\n",
              "      <td>35</td>\n",
              "      <td>1</td>\n",
              "    </tr>\n",
              "    <tr>\n",
              "      <th>1</th>\n",
              "      <td>79395</td>\n",
              "      <td>i.ytimg.com</td>\n",
              "      <td>35</td>\n",
              "      <td>1</td>\n",
              "    </tr>\n",
              "    <tr>\n",
              "      <th>2</th>\n",
              "      <td>79395</td>\n",
              "      <td>node3.online.sberbank.ru</td>\n",
              "      <td>35</td>\n",
              "      <td>1</td>\n",
              "    </tr>\n",
              "    <tr>\n",
              "      <th>3</th>\n",
              "      <td>79395</td>\n",
              "      <td>play.google.com</td>\n",
              "      <td>35</td>\n",
              "      <td>1</td>\n",
              "    </tr>\n",
              "    <tr>\n",
              "      <th>4</th>\n",
              "      <td>79395</td>\n",
              "      <td>t.me</td>\n",
              "      <td>35</td>\n",
              "      <td>1</td>\n",
              "    </tr>\n",
              "    <tr>\n",
              "      <th>...</th>\n",
              "      <td>...</td>\n",
              "      <td>...</td>\n",
              "      <td>...</td>\n",
              "      <td>...</td>\n",
              "    </tr>\n",
              "    <tr>\n",
              "      <th>20592266</th>\n",
              "      <td>300964</td>\n",
              "      <td>youtube.com</td>\n",
              "      <td>57</td>\n",
              "      <td>0</td>\n",
              "    </tr>\n",
              "    <tr>\n",
              "      <th>20592267</th>\n",
              "      <td>300964</td>\n",
              "      <td>biosfera.kz</td>\n",
              "      <td>57</td>\n",
              "      <td>0</td>\n",
              "    </tr>\n",
              "    <tr>\n",
              "      <th>20592268</th>\n",
              "      <td>300964</td>\n",
              "      <td>chihuahuadog-ru.turbopages.org</td>\n",
              "      <td>57</td>\n",
              "      <td>0</td>\n",
              "    </tr>\n",
              "    <tr>\n",
              "      <th>20592269</th>\n",
              "      <td>300964</td>\n",
              "      <td>sun9-88.userapi.com</td>\n",
              "      <td>57</td>\n",
              "      <td>0</td>\n",
              "    </tr>\n",
              "    <tr>\n",
              "      <th>20592270</th>\n",
              "      <td>300964</td>\n",
              "      <td>showjet.ru</td>\n",
              "      <td>57</td>\n",
              "      <td>0</td>\n",
              "    </tr>\n",
              "  </tbody>\n",
              "</table>\n",
              "<p>20592271 rows × 4 columns</p>\n",
              "</div>"
            ],
            "text/plain": [
              "          user_id                        url_host  age  is_male\n",
              "0           79395                      ad.mail.ru   35        1\n",
              "1           79395                     i.ytimg.com   35        1\n",
              "2           79395        node3.online.sberbank.ru   35        1\n",
              "3           79395                 play.google.com   35        1\n",
              "4           79395                            t.me   35        1\n",
              "...           ...                             ...  ...      ...\n",
              "20592266   300964                     youtube.com   57        0\n",
              "20592267   300964                     biosfera.kz   57        0\n",
              "20592268   300964  chihuahuadog-ru.turbopages.org   57        0\n",
              "20592269   300964             sun9-88.userapi.com   57        0\n",
              "20592270   300964                      showjet.ru   57        0\n",
              "\n",
              "[20592271 rows x 4 columns]"
            ]
          },
          "execution_count": 11,
          "metadata": {},
          "output_type": "execute_result"
        }
      ],
      "source": [
        "data_merge = data.merge(targets, how = 'inner', on = ['user_id'])\n",
        "data_merge"
      ]
    },
    {
      "cell_type": "code",
      "execution_count": null,
      "id": "d225790c",
      "metadata": {
        "execution": {
          "iopub.execute_input": "2023-04-07T09:30:23.887664Z",
          "iopub.status.busy": "2023-04-07T09:30:23.887262Z",
          "iopub.status.idle": "2023-04-07T09:30:24.007333Z",
          "shell.execute_reply": "2023-04-07T09:30:24.006300Z"
        },
        "papermill": {
          "duration": 0.135326,
          "end_time": "2023-04-07T09:30:24.009726",
          "exception": false,
          "start_time": "2023-04-07T09:30:23.874400",
          "status": "completed"
        },
        "tags": [],
        "id": "d225790c"
      },
      "outputs": [],
      "source": [
        "data_merge = pa.Table.from_pandas(data_merge)"
      ]
    },
    {
      "cell_type": "markdown",
      "id": "d261058f",
      "metadata": {
        "papermill": {
          "duration": 0.010782,
          "end_time": "2023-04-07T09:30:24.032093",
          "exception": false,
          "start_time": "2023-04-07T09:30:24.021311",
          "status": "completed"
        },
        "tags": [],
        "id": "d261058f"
      },
      "source": [
        "### targets count, sum and mean aggregation by url_host"
      ]
    },
    {
      "cell_type": "code",
      "execution_count": null,
      "id": "a0e40c16",
      "metadata": {
        "execution": {
          "iopub.execute_input": "2023-04-07T09:30:24.056248Z",
          "iopub.status.busy": "2023-04-07T09:30:24.055803Z",
          "iopub.status.idle": "2023-04-07T09:30:25.035232Z",
          "shell.execute_reply": "2023-04-07T09:30:25.033894Z"
        },
        "papermill": {
          "duration": 0.994593,
          "end_time": "2023-04-07T09:30:25.037746",
          "exception": false,
          "start_time": "2023-04-07T09:30:24.043153",
          "status": "completed"
        },
        "tags": [],
        "id": "a0e40c16",
        "outputId": "75764e8e-c496-4d39-c800-e5c7e22338d9"
      },
      "outputs": [
        {
          "name": "stdout",
          "output_type": "stream",
          "text": [
            "CPU times: user 878 ms, sys: 58.6 ms, total: 937 ms\n",
            "Wall time: 972 ms\n"
          ]
        }
      ],
      "source": [
        "%%time\n",
        "data_agg = data_merge.select(['user_id', 'url_host', 'age', 'is_male']).\\\n",
        "    group_by(['url_host']).aggregate([('age', 'sum'), ('is_male', 'sum'), ('age', 'count'), ('is_male', 'count'), ('age', 'mean'), ('is_male', 'mean')])"
      ]
    },
    {
      "cell_type": "code",
      "execution_count": null,
      "id": "8b1a9a65",
      "metadata": {
        "execution": {
          "iopub.execute_input": "2023-04-07T09:30:25.061916Z",
          "iopub.status.busy": "2023-04-07T09:30:25.061505Z",
          "iopub.status.idle": "2023-04-07T09:30:25.070077Z",
          "shell.execute_reply": "2023-04-07T09:30:25.068968Z"
        },
        "papermill": {
          "duration": 0.023143,
          "end_time": "2023-04-07T09:30:25.072129",
          "exception": false,
          "start_time": "2023-04-07T09:30:25.048986",
          "status": "completed"
        },
        "tags": [],
        "id": "8b1a9a65",
        "outputId": "b0999911-2501-4552-ef1d-8a9029fb34fc"
      },
      "outputs": [
        {
          "data": {
            "text/plain": [
              "(170823, 7)"
            ]
          },
          "execution_count": 14,
          "metadata": {},
          "output_type": "execute_result"
        }
      ],
      "source": [
        "data_agg.shape"
      ]
    },
    {
      "cell_type": "markdown",
      "id": "fde80ef7",
      "metadata": {
        "papermill": {
          "duration": 0.010877,
          "end_time": "2023-04-07T09:30:25.094109",
          "exception": false,
          "start_time": "2023-04-07T09:30:25.083232",
          "status": "completed"
        },
        "tags": [],
        "id": "fde80ef7"
      },
      "source": [
        "## ALS\n",
        "we count mean user age by each url_host and use it as weights in ALS by user_id and url_host"
      ]
    },
    {
      "cell_type": "code",
      "execution_count": null,
      "id": "bf8c275c",
      "metadata": {
        "execution": {
          "iopub.execute_input": "2023-04-07T09:30:25.118271Z",
          "iopub.status.busy": "2023-04-07T09:30:25.117492Z",
          "iopub.status.idle": "2023-04-07T09:30:29.397392Z",
          "shell.execute_reply": "2023-04-07T09:30:29.395849Z"
        },
        "papermill": {
          "duration": 4.295208,
          "end_time": "2023-04-07T09:30:29.400248",
          "exception": false,
          "start_time": "2023-04-07T09:30:25.105040",
          "status": "completed"
        },
        "tags": [],
        "id": "bf8c275c",
        "outputId": "081aa964-93fc-42fa-b76d-e0f3ace2d536"
      },
      "outputs": [
        {
          "data": {
            "text/plain": [
              "pyarrow.Table\n",
              "user_id: int32\n",
              "url_host: dictionary<values=string, indices=int32, ordered=0>\n",
              "age_mean: double\n",
              "----\n",
              "user_id: [[173283,173283,173283,173283,173283,...,383285,383285,383285,383285,383285],[383285,383285,383285,383285,383285,...,49521,49521,49521,49521,49521],...,[58269,58269,58269,58269,58269,...,120278,120278,120278,120278,120278],[120278,120278,120278,120278,120278,...,120399,328966,89467,211894,76755]]\n",
              "url_host: [  -- dictionary:\n",
              "[\"-1\",\"0--stranger-livejournal-com.turbopages.org\",\"0-1.ru\",\"0-34.ru\",\"0-50.ru\",...,\"экзон.рф\",\"юбилей-на-бис.рф\",\"южныйокруг.рф\",\"явернусь.рф\",\"яркнига24.рф\"]  -- indices:\n",
              "[64628,89338,118279,146560,147911,...,180836,17626,49054,113508,114154],  -- dictionary:\n",
              "[\"-1\",\"0--stranger-livejournal-com.turbopages.org\",\"0-1.ru\",\"0-34.ru\",\"0-50.ru\",...,\"экзон.рф\",\"юбилей-на-бис.рф\",\"южныйокруг.рф\",\"явернусь.рф\",\"яркнига24.рф\"]  -- indices:\n",
              "[117489,195022,111474,5790,160869,...,160868,91521,160874,185709,160875],...,  -- dictionary:\n",
              "[\"-1\",\"0--stranger-livejournal-com.turbopages.org\",\"0-1.ru\",\"0-34.ru\",\"0-50.ru\",...,\"экзон.рф\",\"юбилей-на-бис.рф\",\"южныйокруг.рф\",\"явернусь.рф\",\"яркнига24.рф\"]  -- indices:\n",
              "[20290,30185,47990,53103,54710,...,52323,160868,148069,30602,148067],  -- dictionary:\n",
              "[\"-1\",\"0--stranger-livejournal-com.turbopages.org\",\"0-1.ru\",\"0-34.ru\",\"0-50.ru\",...,\"экзон.рф\",\"юбилей-на-бис.рф\",\"южныйокруг.рф\",\"явернусь.рф\",\"яркнига24.рф\"]  -- indices:\n",
              "[148068,91096,157452,93056,104933,...,177011,111456,146363,192942,29659]]\n",
              "age_mean: [[38.326326326326324,37.76114355979096,34.911904761904765,36.494954638029995,33.24087740877409,...,38.2579894482156,38.63856623760547,38.09874642077466,38.072463768115945,37.44624575940436],[38.06688235733307,38.65903513917692,35.56649128236872,38.483895583339624,35.124896288511536,...,35.112352541621036,34.784795321637425,34.810648812370474,39.55749378343757,34.81603495757653],...,[38.00106921778278,42.69385388480866,36.74258139371352,41.42663790779186,40.06677923981266,...,35.16688741721854,35.112352541621036,37.45553078973821,38.48794063079777,37.528415324527145],[37.42224171967537,34.68416851441242,39.02138163456228,38.650467227339476,35.5377358490566,...,null,null,null,null,null]]"
            ]
          },
          "execution_count": 15,
          "metadata": {},
          "output_type": "execute_result"
        }
      ],
      "source": [
        "data_to_als = pa.Table.from_pandas(data).select(['user_id', 'url_host']).join(data_agg.select(['url_host', 'age_mean']), 'url_host')\n",
        "data_to_als"
      ]
    },
    {
      "cell_type": "code",
      "execution_count": null,
      "id": "6377204c",
      "metadata": {
        "execution": {
          "iopub.execute_input": "2023-04-07T09:30:29.431666Z",
          "iopub.status.busy": "2023-04-07T09:30:29.430259Z",
          "iopub.status.idle": "2023-04-07T09:30:29.438065Z",
          "shell.execute_reply": "2023-04-07T09:30:29.436933Z"
        },
        "papermill": {
          "duration": 0.026544,
          "end_time": "2023-04-07T09:30:29.441242",
          "exception": false,
          "start_time": "2023-04-07T09:30:29.414698",
          "status": "completed"
        },
        "tags": [],
        "id": "6377204c",
        "outputId": "84b90cd9-260c-46eb-b5d5-f07c1eee6172"
      },
      "outputs": [
        {
          "data": {
            "text/plain": [
              "(32277669, 3)"
            ]
          },
          "execution_count": 16,
          "metadata": {},
          "output_type": "execute_result"
        }
      ],
      "source": [
        "data_to_als.shape"
      ]
    },
    {
      "cell_type": "code",
      "execution_count": null,
      "id": "d3093051",
      "metadata": {
        "execution": {
          "iopub.execute_input": "2023-04-07T09:30:29.471086Z",
          "iopub.status.busy": "2023-04-07T09:30:29.470379Z",
          "iopub.status.idle": "2023-04-07T09:30:37.572670Z",
          "shell.execute_reply": "2023-04-07T09:30:37.571124Z"
        },
        "papermill": {
          "duration": 8.117906,
          "end_time": "2023-04-07T09:30:37.575205",
          "exception": false,
          "start_time": "2023-04-07T09:30:29.457299",
          "status": "completed"
        },
        "tags": [],
        "id": "d3093051",
        "outputId": "8e2668ba-0bbf-45d6-d502-e898bf8a6e25"
      },
      "outputs": [
        {
          "name": "stdout",
          "output_type": "stream",
          "text": [
            "199683 urls\n",
            "415317 users\n"
          ]
        }
      ],
      "source": [
        "url_set = set(data_to_als.select(['url_host']).to_pandas()['url_host'])\n",
        "print(f'{len(url_set)} urls')\n",
        "url_dict = {url: idurl for url, idurl in zip(url_set, range(len(url_set)))}\n",
        "usr_set = set(data_to_als.select(['user_id']).to_pandas()['user_id'])\n",
        "print(f'{len(usr_set)} users')\n",
        "usr_dict = {usr: user_id for usr, user_id in zip(usr_set, range(len(usr_set)))}"
      ]
    },
    {
      "cell_type": "code",
      "execution_count": null,
      "id": "eaa3f79a",
      "metadata": {
        "execution": {
          "iopub.execute_input": "2023-04-07T09:30:37.606055Z",
          "iopub.status.busy": "2023-04-07T09:30:37.605635Z",
          "iopub.status.idle": "2023-04-07T09:30:40.604334Z",
          "shell.execute_reply": "2023-04-07T09:30:40.603252Z"
        },
        "papermill": {
          "duration": 3.02013,
          "end_time": "2023-04-07T09:30:40.607164",
          "exception": false,
          "start_time": "2023-04-07T09:30:37.587034",
          "status": "completed"
        },
        "tags": [],
        "id": "eaa3f79a",
        "outputId": "558af487-2624-4a72-c779-5f357998d959"
      },
      "outputs": [
        {
          "name": "stdout",
          "output_type": "stream",
          "text": [
            "CPU times: user 2.12 s, sys: 891 ms, total: 3.01 s\n",
            "Wall time: 2.96 s\n"
          ]
        }
      ],
      "source": [
        "%%time\n",
        "values = np.array(data_to_als.select(['age_mean']).to_pandas()['age_mean'].fillna(0))\n",
        "rows = np.array(data_to_als.select(['user_id']).to_pandas()['user_id'].map(usr_dict))\n",
        "cols = np.array(data_to_als.select(['url_host']).to_pandas()['url_host'].map(url_dict))\n",
        "mat = scipy.sparse.coo_matrix((values, (rows, cols)), shape=(rows.max() + 1, cols.max() + 1))\n",
        "als = implicit.approximate_als.FaissAlternatingLeastSquares(factors = 50, iterations = 30, use_gpu = False, \\\n",
        "       calculate_training_loss = False, regularization = 0.1)"
      ]
    },
    {
      "cell_type": "code",
      "execution_count": null,
      "id": "aae07f8e",
      "metadata": {
        "execution": {
          "iopub.execute_input": "2023-04-07T09:30:40.632718Z",
          "iopub.status.busy": "2023-04-07T09:30:40.632275Z",
          "iopub.status.idle": "2023-04-07T09:36:36.348795Z",
          "shell.execute_reply": "2023-04-07T09:36:36.347624Z"
        },
        "papermill": {
          "duration": 355.732376,
          "end_time": "2023-04-07T09:36:36.351374",
          "exception": false,
          "start_time": "2023-04-07T09:30:40.618998",
          "status": "completed"
        },
        "tags": [],
        "id": "aae07f8e",
        "outputId": "3fcb505a-2fa7-4f89-d762-17550f00dc1d",
        "colab": {
          "referenced_widgets": [
            "863f8bd237bd4441a96f967855c1056a"
          ]
        }
      },
      "outputs": [
        {
          "data": {
            "application/vnd.jupyter.widget-view+json": {
              "model_id": "863f8bd237bd4441a96f967855c1056a",
              "version_major": 2,
              "version_minor": 0
            },
            "text/plain": [
              "  0%|          | 0/30 [00:00<?, ?it/s]"
            ]
          },
          "metadata": {},
          "output_type": "display_data"
        },
        {
          "name": "stdout",
          "output_type": "stream",
          "text": [
            "CPU times: user 22min 31s, sys: 10.5 s, total: 22min 41s\n",
            "Wall time: 5min 55s\n"
          ]
        }
      ],
      "source": [
        "%%time\n",
        "als.fit(mat)"
      ]
    },
    {
      "cell_type": "code",
      "execution_count": null,
      "id": "200bb12d",
      "metadata": {
        "execution": {
          "iopub.execute_input": "2023-04-07T09:36:36.380141Z",
          "iopub.status.busy": "2023-04-07T09:36:36.379686Z",
          "iopub.status.idle": "2023-04-07T09:36:36.384846Z",
          "shell.execute_reply": "2023-04-07T09:36:36.383824Z"
        },
        "papermill": {
          "duration": 0.021877,
          "end_time": "2023-04-07T09:36:36.387163",
          "exception": false,
          "start_time": "2023-04-07T09:36:36.365286",
          "status": "completed"
        },
        "tags": [],
        "id": "200bb12d"
      },
      "outputs": [],
      "source": [
        "u_factors = als.user_factors \n",
        "d_factors = als.item_factors"
      ]
    },
    {
      "cell_type": "code",
      "execution_count": null,
      "id": "0c21684c",
      "metadata": {
        "execution": {
          "iopub.execute_input": "2023-04-07T09:36:36.412982Z",
          "iopub.status.busy": "2023-04-07T09:36:36.411949Z",
          "iopub.status.idle": "2023-04-07T09:36:36.879496Z",
          "shell.execute_reply": "2023-04-07T09:36:36.878302Z"
        },
        "papermill": {
          "duration": 0.48346,
          "end_time": "2023-04-07T09:36:36.882242",
          "exception": false,
          "start_time": "2023-04-07T09:36:36.398782",
          "status": "completed"
        },
        "tags": [],
        "id": "0c21684c"
      },
      "outputs": [],
      "source": [
        "inv_usr_map = {v: k for k, v in usr_dict.items()}\n",
        "mean_age_emb = pd.DataFrame(d_factors)\n",
        "mean_age_emb['user_id'] = mean_age_emb.index.map(inv_usr_map)"
      ]
    },
    {
      "cell_type": "code",
      "execution_count": null,
      "id": "733d40af",
      "metadata": {
        "execution": {
          "iopub.execute_input": "2023-04-07T09:36:36.908023Z",
          "iopub.status.busy": "2023-04-07T09:36:36.907584Z",
          "iopub.status.idle": "2023-04-07T09:36:58.357355Z",
          "shell.execute_reply": "2023-04-07T09:36:58.356205Z"
        },
        "papermill": {
          "duration": 21.466113,
          "end_time": "2023-04-07T09:36:58.360465",
          "exception": false,
          "start_time": "2023-04-07T09:36:36.894352",
          "status": "completed"
        },
        "tags": [],
        "id": "733d40af"
      },
      "outputs": [],
      "source": [
        "mean_age_emb.to_csv('/data/target_distribution_by_urls/mean_age_emb.csv', index = False)"
      ]
    },
    {
      "cell_type": "markdown",
      "id": "d2118cc0",
      "metadata": {
        "papermill": {
          "duration": 0.01164,
          "end_time": "2023-04-07T09:36:58.384599",
          "exception": false,
          "start_time": "2023-04-07T09:36:58.372959",
          "status": "completed"
        },
        "tags": [],
        "id": "d2118cc0"
      },
      "source": [
        "## weighted \n",
        "for each user we count sum of sum of targets by url_host and divide it on sum of count of user, that visit url_host"
      ]
    },
    {
      "cell_type": "code",
      "execution_count": null,
      "id": "cc61f1b1",
      "metadata": {
        "execution": {
          "iopub.execute_input": "2023-04-07T09:36:58.410595Z",
          "iopub.status.busy": "2023-04-07T09:36:58.409794Z",
          "iopub.status.idle": "2023-04-07T09:37:05.899997Z",
          "shell.execute_reply": "2023-04-07T09:37:05.899090Z"
        },
        "papermill": {
          "duration": 7.506173,
          "end_time": "2023-04-07T09:37:05.902603",
          "exception": false,
          "start_time": "2023-04-07T09:36:58.396430",
          "status": "completed"
        },
        "tags": [],
        "id": "cc61f1b1"
      },
      "outputs": [],
      "source": [
        "mean_table = pa.Table.from_pandas(data).\\\n",
        "    join(data_agg.select(['url_host', 'age_count', 'is_male_count', 'age_sum', 'is_male_sum']), 'url_host').\\\n",
        "    group_by(['user_id']).aggregate([('age_count', 'sum'), ('is_male_count', 'sum'), ('age_sum', 'sum'), ('is_male_sum', 'sum')])"
      ]
    },
    {
      "cell_type": "code",
      "execution_count": null,
      "id": "7d69b46d",
      "metadata": {
        "execution": {
          "iopub.execute_input": "2023-04-07T09:37:05.928608Z",
          "iopub.status.busy": "2023-04-07T09:37:05.928211Z",
          "iopub.status.idle": "2023-04-07T09:37:05.937838Z",
          "shell.execute_reply": "2023-04-07T09:37:05.936735Z"
        },
        "papermill": {
          "duration": 0.025628,
          "end_time": "2023-04-07T09:37:05.940474",
          "exception": false,
          "start_time": "2023-04-07T09:37:05.914846",
          "status": "completed"
        },
        "tags": [],
        "id": "7d69b46d"
      },
      "outputs": [],
      "source": [
        "mean_table = mean_table.to_pandas()"
      ]
    },
    {
      "cell_type": "code",
      "execution_count": null,
      "id": "a468dc88",
      "metadata": {
        "execution": {
          "iopub.execute_input": "2023-04-07T09:37:05.967033Z",
          "iopub.status.busy": "2023-04-07T09:37:05.966612Z",
          "iopub.status.idle": "2023-04-07T09:37:05.989037Z",
          "shell.execute_reply": "2023-04-07T09:37:05.987886Z"
        },
        "papermill": {
          "duration": 0.038403,
          "end_time": "2023-04-07T09:37:05.991313",
          "exception": false,
          "start_time": "2023-04-07T09:37:05.952910",
          "status": "completed"
        },
        "tags": [],
        "id": "a468dc88",
        "outputId": "08037d9c-b51b-4363-d002-695e273fb5fb"
      },
      "outputs": [
        {
          "data": {
            "text/html": [
              "<div>\n",
              "<style scoped>\n",
              "    .dataframe tbody tr th:only-of-type {\n",
              "        vertical-align: middle;\n",
              "    }\n",
              "\n",
              "    .dataframe tbody tr th {\n",
              "        vertical-align: top;\n",
              "    }\n",
              "\n",
              "    .dataframe thead th {\n",
              "        text-align: right;\n",
              "    }\n",
              "</style>\n",
              "<table border=\"1\" class=\"dataframe\">\n",
              "  <thead>\n",
              "    <tr style=\"text-align: right;\">\n",
              "      <th></th>\n",
              "      <th>age_count_sum</th>\n",
              "      <th>is_male_count_sum</th>\n",
              "      <th>age_sum_sum</th>\n",
              "      <th>is_male_sum_sum</th>\n",
              "      <th>user_id</th>\n",
              "      <th>mean_age</th>\n",
              "      <th>mean_sex</th>\n",
              "    </tr>\n",
              "  </thead>\n",
              "  <tbody>\n",
              "    <tr>\n",
              "      <th>0</th>\n",
              "      <td>11598571</td>\n",
              "      <td>11598571</td>\n",
              "      <td>433942779</td>\n",
              "      <td>5879406</td>\n",
              "      <td>173283</td>\n",
              "      <td>37.413469</td>\n",
              "      <td>0.506908</td>\n",
              "    </tr>\n",
              "    <tr>\n",
              "      <th>1</th>\n",
              "      <td>4795015</td>\n",
              "      <td>4795015</td>\n",
              "      <td>183473095</td>\n",
              "      <td>2484028</td>\n",
              "      <td>13315</td>\n",
              "      <td>38.263299</td>\n",
              "      <td>0.518044</td>\n",
              "    </tr>\n",
              "    <tr>\n",
              "      <th>2</th>\n",
              "      <td>6464977</td>\n",
              "      <td>6464977</td>\n",
              "      <td>242024525</td>\n",
              "      <td>3302585</td>\n",
              "      <td>209303</td>\n",
              "      <td>37.436255</td>\n",
              "      <td>0.510842</td>\n",
              "    </tr>\n",
              "    <tr>\n",
              "      <th>3</th>\n",
              "      <td>1174563</td>\n",
              "      <td>1174563</td>\n",
              "      <td>45250693</td>\n",
              "      <td>601970</td>\n",
              "      <td>138828</td>\n",
              "      <td>38.525556</td>\n",
              "      <td>0.512506</td>\n",
              "    </tr>\n",
              "    <tr>\n",
              "      <th>4</th>\n",
              "      <td>3200725</td>\n",
              "      <td>3200725</td>\n",
              "      <td>122704329</td>\n",
              "      <td>1642214</td>\n",
              "      <td>86581</td>\n",
              "      <td>38.336417</td>\n",
              "      <td>0.513076</td>\n",
              "    </tr>\n",
              "    <tr>\n",
              "      <th>...</th>\n",
              "      <td>...</td>\n",
              "      <td>...</td>\n",
              "      <td>...</td>\n",
              "      <td>...</td>\n",
              "      <td>...</td>\n",
              "      <td>...</td>\n",
              "      <td>...</td>\n",
              "    </tr>\n",
              "    <tr>\n",
              "      <th>415312</th>\n",
              "      <td>4173922</td>\n",
              "      <td>4173922</td>\n",
              "      <td>159576772</td>\n",
              "      <td>2145918</td>\n",
              "      <td>369206</td>\n",
              "      <td>38.231853</td>\n",
              "      <td>0.514125</td>\n",
              "    </tr>\n",
              "    <tr>\n",
              "      <th>415313</th>\n",
              "      <td>5858087</td>\n",
              "      <td>5858087</td>\n",
              "      <td>225772347</td>\n",
              "      <td>3009956</td>\n",
              "      <td>61441</td>\n",
              "      <td>38.540286</td>\n",
              "      <td>0.513812</td>\n",
              "    </tr>\n",
              "    <tr>\n",
              "      <th>415314</th>\n",
              "      <td>4804520</td>\n",
              "      <td>4804520</td>\n",
              "      <td>183549220</td>\n",
              "      <td>2461060</td>\n",
              "      <td>271514</td>\n",
              "      <td>38.203446</td>\n",
              "      <td>0.512238</td>\n",
              "    </tr>\n",
              "    <tr>\n",
              "      <th>415315</th>\n",
              "      <td>4032664</td>\n",
              "      <td>4032664</td>\n",
              "      <td>153033926</td>\n",
              "      <td>2073617</td>\n",
              "      <td>188339</td>\n",
              "      <td>37.948593</td>\n",
              "      <td>0.514205</td>\n",
              "    </tr>\n",
              "    <tr>\n",
              "      <th>415316</th>\n",
              "      <td>4934786</td>\n",
              "      <td>4934786</td>\n",
              "      <td>189016318</td>\n",
              "      <td>2524759</td>\n",
              "      <td>393786</td>\n",
              "      <td>38.302840</td>\n",
              "      <td>0.511625</td>\n",
              "    </tr>\n",
              "  </tbody>\n",
              "</table>\n",
              "<p>415317 rows × 7 columns</p>\n",
              "</div>"
            ],
            "text/plain": [
              "        age_count_sum  is_male_count_sum  age_sum_sum  is_male_sum_sum  \\\n",
              "0            11598571           11598571    433942779          5879406   \n",
              "1             4795015            4795015    183473095          2484028   \n",
              "2             6464977            6464977    242024525          3302585   \n",
              "3             1174563            1174563     45250693           601970   \n",
              "4             3200725            3200725    122704329          1642214   \n",
              "...               ...                ...          ...              ...   \n",
              "415312        4173922            4173922    159576772          2145918   \n",
              "415313        5858087            5858087    225772347          3009956   \n",
              "415314        4804520            4804520    183549220          2461060   \n",
              "415315        4032664            4032664    153033926          2073617   \n",
              "415316        4934786            4934786    189016318          2524759   \n",
              "\n",
              "        user_id   mean_age  mean_sex  \n",
              "0        173283  37.413469  0.506908  \n",
              "1         13315  38.263299  0.518044  \n",
              "2        209303  37.436255  0.510842  \n",
              "3        138828  38.525556  0.512506  \n",
              "4         86581  38.336417  0.513076  \n",
              "...         ...        ...       ...  \n",
              "415312   369206  38.231853  0.514125  \n",
              "415313    61441  38.540286  0.513812  \n",
              "415314   271514  38.203446  0.512238  \n",
              "415315   188339  37.948593  0.514205  \n",
              "415316   393786  38.302840  0.511625  \n",
              "\n",
              "[415317 rows x 7 columns]"
            ]
          },
          "execution_count": 25,
          "metadata": {},
          "output_type": "execute_result"
        }
      ],
      "source": [
        "mean_table['mean_age'] = mean_table['age_sum_sum'] / mean_table['age_count_sum']\n",
        "mean_table['mean_sex'] = mean_table['is_male_sum_sum'] / mean_table['is_male_count_sum']\n",
        "mean_table"
      ]
    },
    {
      "cell_type": "code",
      "execution_count": null,
      "id": "0276f24d",
      "metadata": {
        "execution": {
          "iopub.execute_input": "2023-04-07T09:37:06.024852Z",
          "iopub.status.busy": "2023-04-07T09:37:06.024138Z",
          "iopub.status.idle": "2023-04-07T09:37:06.044098Z",
          "shell.execute_reply": "2023-04-07T09:37:06.043328Z"
        },
        "papermill": {
          "duration": 0.04223,
          "end_time": "2023-04-07T09:37:06.046163",
          "exception": false,
          "start_time": "2023-04-07T09:37:06.003933",
          "status": "completed"
        },
        "tags": [],
        "id": "0276f24d",
        "outputId": "c347e2be-ddd8-4de4-9c0a-1f84eeae26ef"
      },
      "outputs": [
        {
          "data": {
            "text/html": [
              "<div>\n",
              "<style scoped>\n",
              "    .dataframe tbody tr th:only-of-type {\n",
              "        vertical-align: middle;\n",
              "    }\n",
              "\n",
              "    .dataframe tbody tr th {\n",
              "        vertical-align: top;\n",
              "    }\n",
              "\n",
              "    .dataframe thead th {\n",
              "        text-align: right;\n",
              "    }\n",
              "</style>\n",
              "<table border=\"1\" class=\"dataframe\">\n",
              "  <thead>\n",
              "    <tr style=\"text-align: right;\">\n",
              "      <th></th>\n",
              "      <th>user_id</th>\n",
              "      <th>mean_age</th>\n",
              "      <th>mean_sex</th>\n",
              "    </tr>\n",
              "  </thead>\n",
              "  <tbody>\n",
              "    <tr>\n",
              "      <th>0</th>\n",
              "      <td>173283</td>\n",
              "      <td>37.413469</td>\n",
              "      <td>0.506908</td>\n",
              "    </tr>\n",
              "    <tr>\n",
              "      <th>1</th>\n",
              "      <td>13315</td>\n",
              "      <td>38.263299</td>\n",
              "      <td>0.518044</td>\n",
              "    </tr>\n",
              "    <tr>\n",
              "      <th>2</th>\n",
              "      <td>209303</td>\n",
              "      <td>37.436255</td>\n",
              "      <td>0.510842</td>\n",
              "    </tr>\n",
              "    <tr>\n",
              "      <th>3</th>\n",
              "      <td>138828</td>\n",
              "      <td>38.525556</td>\n",
              "      <td>0.512506</td>\n",
              "    </tr>\n",
              "    <tr>\n",
              "      <th>4</th>\n",
              "      <td>86581</td>\n",
              "      <td>38.336417</td>\n",
              "      <td>0.513076</td>\n",
              "    </tr>\n",
              "    <tr>\n",
              "      <th>...</th>\n",
              "      <td>...</td>\n",
              "      <td>...</td>\n",
              "      <td>...</td>\n",
              "    </tr>\n",
              "    <tr>\n",
              "      <th>415312</th>\n",
              "      <td>369206</td>\n",
              "      <td>38.231853</td>\n",
              "      <td>0.514125</td>\n",
              "    </tr>\n",
              "    <tr>\n",
              "      <th>415313</th>\n",
              "      <td>61441</td>\n",
              "      <td>38.540286</td>\n",
              "      <td>0.513812</td>\n",
              "    </tr>\n",
              "    <tr>\n",
              "      <th>415314</th>\n",
              "      <td>271514</td>\n",
              "      <td>38.203446</td>\n",
              "      <td>0.512238</td>\n",
              "    </tr>\n",
              "    <tr>\n",
              "      <th>415315</th>\n",
              "      <td>188339</td>\n",
              "      <td>37.948593</td>\n",
              "      <td>0.514205</td>\n",
              "    </tr>\n",
              "    <tr>\n",
              "      <th>415316</th>\n",
              "      <td>393786</td>\n",
              "      <td>38.302840</td>\n",
              "      <td>0.511625</td>\n",
              "    </tr>\n",
              "  </tbody>\n",
              "</table>\n",
              "<p>415317 rows × 3 columns</p>\n",
              "</div>"
            ],
            "text/plain": [
              "        user_id   mean_age  mean_sex\n",
              "0        173283  37.413469  0.506908\n",
              "1         13315  38.263299  0.518044\n",
              "2        209303  37.436255  0.510842\n",
              "3        138828  38.525556  0.512506\n",
              "4         86581  38.336417  0.513076\n",
              "...         ...        ...       ...\n",
              "415312   369206  38.231853  0.514125\n",
              "415313    61441  38.540286  0.513812\n",
              "415314   271514  38.203446  0.512238\n",
              "415315   188339  37.948593  0.514205\n",
              "415316   393786  38.302840  0.511625\n",
              "\n",
              "[415317 rows x 3 columns]"
            ]
          },
          "execution_count": 26,
          "metadata": {},
          "output_type": "execute_result"
        }
      ],
      "source": [
        "mean_table = mean_table.drop(['age_count_sum', 'is_male_count_sum', 'is_male_sum_sum', 'age_sum_sum'], axis=1)\n",
        "mean_table"
      ]
    },
    {
      "cell_type": "code",
      "execution_count": null,
      "id": "bddfd628",
      "metadata": {
        "execution": {
          "iopub.execute_input": "2023-04-07T09:37:06.074957Z",
          "iopub.status.busy": "2023-04-07T09:37:06.073728Z",
          "iopub.status.idle": "2023-04-07T09:37:07.607588Z",
          "shell.execute_reply": "2023-04-07T09:37:07.606388Z"
        },
        "papermill": {
          "duration": 1.5509,
          "end_time": "2023-04-07T09:37:07.610087",
          "exception": false,
          "start_time": "2023-04-07T09:37:06.059187",
          "status": "completed"
        },
        "tags": [],
        "id": "bddfd628"
      },
      "outputs": [],
      "source": [
        "mean_table.to_csv('/data/target_distribution_by_urls/mean_age_and_sex_weighted.scv', index=False)"
      ]
    },
    {
      "cell_type": "markdown",
      "id": "c97a31af",
      "metadata": {
        "papermill": {
          "duration": 0.012233,
          "end_time": "2023-04-07T09:37:07.635240",
          "exception": false,
          "start_time": "2023-04-07T09:37:07.623007",
          "status": "completed"
        },
        "tags": [],
        "id": "c97a31af"
      },
      "source": [
        "## ranged\n",
        "for each user we count sum of sum of targets by url_host weighted with request_cnt of this user in this url_host and divide it on sum of count of user, that visit url_host weighted with request_cnt of this user in this url_host"
      ]
    },
    {
      "cell_type": "code",
      "execution_count": null,
      "id": "36971d30",
      "metadata": {
        "execution": {
          "iopub.execute_input": "2023-04-07T09:37:07.662482Z",
          "iopub.status.busy": "2023-04-07T09:37:07.662091Z",
          "iopub.status.idle": "2023-04-07T09:37:38.139657Z",
          "shell.execute_reply": "2023-04-07T09:37:38.138505Z"
        },
        "papermill": {
          "duration": 30.494704,
          "end_time": "2023-04-07T09:37:38.142772",
          "exception": false,
          "start_time": "2023-04-07T09:37:07.648068",
          "status": "completed"
        },
        "tags": [],
        "id": "36971d30"
      },
      "outputs": [],
      "source": [
        "data = pd.read_feather('/kaggle/input/mts-ml-cookies/dataset_full.feather')\n",
        "data = pa.Table.from_pandas(data)"
      ]
    },
    {
      "cell_type": "code",
      "execution_count": null,
      "id": "cce30041",
      "metadata": {
        "execution": {
          "iopub.execute_input": "2023-04-07T09:37:38.170241Z",
          "iopub.status.busy": "2023-04-07T09:37:38.169802Z",
          "iopub.status.idle": "2023-04-07T09:38:02.786761Z",
          "shell.execute_reply": "2023-04-07T09:38:02.785267Z"
        },
        "papermill": {
          "duration": 24.633976,
          "end_time": "2023-04-07T09:38:02.789572",
          "exception": false,
          "start_time": "2023-04-07T09:37:38.155596",
          "status": "completed"
        },
        "tags": [],
        "id": "cce30041",
        "outputId": "76d63e2f-72d7-4feb-9708-135f6eaa2dc4"
      },
      "outputs": [
        {
          "name": "stdout",
          "output_type": "stream",
          "text": [
            "CPU times: user 22.8 s, sys: 1.94 s, total: 24.7 s\n",
            "Wall time: 24.6 s\n"
          ]
        }
      ],
      "source": [
        "%%time\n",
        "data = data.select(['user_id', 'url_host', 'request_cnt']).\\\n",
        "    group_by(['user_id', 'url_host']).aggregate([('request_cnt', 'sum')])"
      ]
    },
    {
      "cell_type": "code",
      "execution_count": null,
      "id": "b5b19d3f",
      "metadata": {
        "execution": {
          "iopub.execute_input": "2023-04-07T09:38:02.815832Z",
          "iopub.status.busy": "2023-04-07T09:38:02.815441Z",
          "iopub.status.idle": "2023-04-07T09:38:08.530930Z",
          "shell.execute_reply": "2023-04-07T09:38:08.529763Z"
        },
        "papermill": {
          "duration": 5.73186,
          "end_time": "2023-04-07T09:38:08.533688",
          "exception": false,
          "start_time": "2023-04-07T09:38:02.801828",
          "status": "completed"
        },
        "tags": [],
        "id": "b5b19d3f"
      },
      "outputs": [],
      "source": [
        "data = data.join(data_agg.select(['url_host', 'age_count', 'is_male_count', 'age_sum', 'is_male_sum']), 'url_host', join_type='inner')"
      ]
    },
    {
      "cell_type": "code",
      "execution_count": null,
      "id": "b7e1e183",
      "metadata": {
        "execution": {
          "iopub.execute_input": "2023-04-07T09:38:08.560611Z",
          "iopub.status.busy": "2023-04-07T09:38:08.560218Z",
          "iopub.status.idle": "2023-04-07T09:38:09.371709Z",
          "shell.execute_reply": "2023-04-07T09:38:09.370703Z"
        },
        "papermill": {
          "duration": 0.827792,
          "end_time": "2023-04-07T09:38:09.374145",
          "exception": false,
          "start_time": "2023-04-07T09:38:08.546353",
          "status": "completed"
        },
        "tags": [],
        "id": "b7e1e183",
        "outputId": "4739cbb4-568b-420e-f165-3ec4a278599c"
      },
      "outputs": [
        {
          "data": {
            "text/html": [
              "<div>\n",
              "<style scoped>\n",
              "    .dataframe tbody tr th:only-of-type {\n",
              "        vertical-align: middle;\n",
              "    }\n",
              "\n",
              "    .dataframe tbody tr th {\n",
              "        vertical-align: top;\n",
              "    }\n",
              "\n",
              "    .dataframe thead th {\n",
              "        text-align: right;\n",
              "    }\n",
              "</style>\n",
              "<table border=\"1\" class=\"dataframe\">\n",
              "  <thead>\n",
              "    <tr style=\"text-align: right;\">\n",
              "      <th></th>\n",
              "      <th>request_cnt_sum</th>\n",
              "      <th>user_id</th>\n",
              "      <th>url_host</th>\n",
              "      <th>age_sum</th>\n",
              "      <th>age_count</th>\n",
              "      <th>is_male_count</th>\n",
              "      <th>is_male_sum</th>\n",
              "    </tr>\n",
              "  </thead>\n",
              "  <tbody>\n",
              "    <tr>\n",
              "      <th>0</th>\n",
              "      <td>3</td>\n",
              "      <td>173283</td>\n",
              "      <td>hoster1srv.povarenok.ru</td>\n",
              "      <td>38288</td>\n",
              "      <td>999</td>\n",
              "      <td>999</td>\n",
              "      <td>210</td>\n",
              "    </tr>\n",
              "    <tr>\n",
              "      <th>1</th>\n",
              "      <td>3</td>\n",
              "      <td>173283</td>\n",
              "      <td>login.mediafort.ru</td>\n",
              "      <td>122837</td>\n",
              "      <td>3253</td>\n",
              "      <td>3253</td>\n",
              "      <td>758</td>\n",
              "    </tr>\n",
              "    <tr>\n",
              "      <th>2</th>\n",
              "      <td>2</td>\n",
              "      <td>173283</td>\n",
              "      <td>optlist.ru</td>\n",
              "      <td>14663</td>\n",
              "      <td>420</td>\n",
              "      <td>420</td>\n",
              "      <td>219</td>\n",
              "    </tr>\n",
              "    <tr>\n",
              "      <th>3</th>\n",
              "      <td>1</td>\n",
              "      <td>173283</td>\n",
              "      <td>scripts.advmusic.com</td>\n",
              "      <td>788437</td>\n",
              "      <td>21604</td>\n",
              "      <td>21604</td>\n",
              "      <td>10617</td>\n",
              "    </tr>\n",
              "    <tr>\n",
              "      <th>4</th>\n",
              "      <td>23</td>\n",
              "      <td>173283</td>\n",
              "      <td>serieslife.online</td>\n",
              "      <td>162149</td>\n",
              "      <td>4878</td>\n",
              "      <td>4878</td>\n",
              "      <td>2439</td>\n",
              "    </tr>\n",
              "    <tr>\n",
              "      <th>...</th>\n",
              "      <td>...</td>\n",
              "      <td>...</td>\n",
              "      <td>...</td>\n",
              "      <td>...</td>\n",
              "      <td>...</td>\n",
              "      <td>...</td>\n",
              "      <td>...</td>\n",
              "    </tr>\n",
              "    <tr>\n",
              "      <th>32242723</th>\n",
              "      <td>2</td>\n",
              "      <td>185949</td>\n",
              "      <td>sun9-77.userapi.com</td>\n",
              "      <td>4578320</td>\n",
              "      <td>131320</td>\n",
              "      <td>131320</td>\n",
              "      <td>66317</td>\n",
              "    </tr>\n",
              "    <tr>\n",
              "      <th>32242724</th>\n",
              "      <td>2</td>\n",
              "      <td>185949</td>\n",
              "      <td>ad.adriver.ru</td>\n",
              "      <td>7019727</td>\n",
              "      <td>185627</td>\n",
              "      <td>185627</td>\n",
              "      <td>94717</td>\n",
              "    </tr>\n",
              "    <tr>\n",
              "      <th>32242725</th>\n",
              "      <td>1</td>\n",
              "      <td>185949</td>\n",
              "      <td>sun9-88.userapi.com</td>\n",
              "      <td>4346131</td>\n",
              "      <td>124795</td>\n",
              "      <td>124795</td>\n",
              "      <td>63497</td>\n",
              "    </tr>\n",
              "    <tr>\n",
              "      <th>32242726</th>\n",
              "      <td>4</td>\n",
              "      <td>25567</td>\n",
              "      <td>imasdk.googleapis.com</td>\n",
              "      <td>6226973</td>\n",
              "      <td>163402</td>\n",
              "      <td>163402</td>\n",
              "      <td>83642</td>\n",
              "    </tr>\n",
              "    <tr>\n",
              "      <th>32242727</th>\n",
              "      <td>35</td>\n",
              "      <td>25567</td>\n",
              "      <td>ru.wargaming.net</td>\n",
              "      <td>212014</td>\n",
              "      <td>6289</td>\n",
              "      <td>6289</td>\n",
              "      <td>5211</td>\n",
              "    </tr>\n",
              "  </tbody>\n",
              "</table>\n",
              "<p>32242728 rows × 7 columns</p>\n",
              "</div>"
            ],
            "text/plain": [
              "          request_cnt_sum  user_id                 url_host  age_sum  \\\n",
              "0                       3   173283  hoster1srv.povarenok.ru    38288   \n",
              "1                       3   173283       login.mediafort.ru   122837   \n",
              "2                       2   173283               optlist.ru    14663   \n",
              "3                       1   173283     scripts.advmusic.com   788437   \n",
              "4                      23   173283        serieslife.online   162149   \n",
              "...                   ...      ...                      ...      ...   \n",
              "32242723                2   185949      sun9-77.userapi.com  4578320   \n",
              "32242724                2   185949            ad.adriver.ru  7019727   \n",
              "32242725                1   185949      sun9-88.userapi.com  4346131   \n",
              "32242726                4    25567    imasdk.googleapis.com  6226973   \n",
              "32242727               35    25567         ru.wargaming.net   212014   \n",
              "\n",
              "          age_count  is_male_count  is_male_sum  \n",
              "0               999            999          210  \n",
              "1              3253           3253          758  \n",
              "2               420            420          219  \n",
              "3             21604          21604        10617  \n",
              "4              4878           4878         2439  \n",
              "...             ...            ...          ...  \n",
              "32242723     131320         131320        66317  \n",
              "32242724     185627         185627        94717  \n",
              "32242725     124795         124795        63497  \n",
              "32242726     163402         163402        83642  \n",
              "32242727       6289           6289         5211  \n",
              "\n",
              "[32242728 rows x 7 columns]"
            ]
          },
          "execution_count": 31,
          "metadata": {},
          "output_type": "execute_result"
        }
      ],
      "source": [
        "data = data.to_pandas()\n",
        "data"
      ]
    },
    {
      "cell_type": "code",
      "execution_count": null,
      "id": "0a2ea84d",
      "metadata": {
        "execution": {
          "iopub.execute_input": "2023-04-07T09:38:09.404421Z",
          "iopub.status.busy": "2023-04-07T09:38:09.404021Z",
          "iopub.status.idle": "2023-04-07T09:38:10.268744Z",
          "shell.execute_reply": "2023-04-07T09:38:10.267892Z"
        },
        "papermill": {
          "duration": 0.881624,
          "end_time": "2023-04-07T09:38:10.271391",
          "exception": false,
          "start_time": "2023-04-07T09:38:09.389767",
          "status": "completed"
        },
        "tags": [],
        "id": "0a2ea84d"
      },
      "outputs": [],
      "source": [
        "data['is_male_sum'] = data['is_male_sum']*data['request_cnt_sum']\n",
        "data['is_male_count'] = data['is_male_count']*data['request_cnt_sum']\n",
        "data['age_sum'] = data['age_sum']*data['request_cnt_sum']\n",
        "data['age_count'] = data['age_count']*data['request_cnt_sum']"
      ]
    },
    {
      "cell_type": "code",
      "execution_count": null,
      "id": "ed6e4976",
      "metadata": {
        "execution": {
          "iopub.execute_input": "2023-04-07T09:38:10.300284Z",
          "iopub.status.busy": "2023-04-07T09:38:10.299293Z",
          "iopub.status.idle": "2023-04-07T09:38:12.303997Z",
          "shell.execute_reply": "2023-04-07T09:38:12.302526Z"
        },
        "papermill": {
          "duration": 2.021933,
          "end_time": "2023-04-07T09:38:12.306984",
          "exception": false,
          "start_time": "2023-04-07T09:38:10.285051",
          "status": "completed"
        },
        "tags": [],
        "id": "ed6e4976"
      },
      "outputs": [],
      "source": [
        "mean_table = pa.Table.from_pandas(data).\\\n",
        "    group_by(['user_id']).aggregate([('age_count', 'sum'), ('is_male_count', 'sum'), ('age_sum', 'sum'), ('is_male_sum', 'sum')])"
      ]
    },
    {
      "cell_type": "code",
      "execution_count": null,
      "id": "6b6073e5",
      "metadata": {
        "execution": {
          "iopub.execute_input": "2023-04-07T09:38:12.334785Z",
          "iopub.status.busy": "2023-04-07T09:38:12.334402Z",
          "iopub.status.idle": "2023-04-07T09:38:12.348062Z",
          "shell.execute_reply": "2023-04-07T09:38:12.347004Z"
        },
        "papermill": {
          "duration": 0.02994,
          "end_time": "2023-04-07T09:38:12.350218",
          "exception": false,
          "start_time": "2023-04-07T09:38:12.320278",
          "status": "completed"
        },
        "tags": [],
        "id": "6b6073e5"
      },
      "outputs": [],
      "source": [
        "mean_table = mean_table.to_pandas()"
      ]
    },
    {
      "cell_type": "code",
      "execution_count": null,
      "id": "8ef778c7",
      "metadata": {
        "execution": {
          "iopub.execute_input": "2023-04-07T09:38:12.377967Z",
          "iopub.status.busy": "2023-04-07T09:38:12.377006Z",
          "iopub.status.idle": "2023-04-07T09:38:12.398794Z",
          "shell.execute_reply": "2023-04-07T09:38:12.397763Z"
        },
        "papermill": {
          "duration": 0.037968,
          "end_time": "2023-04-07T09:38:12.401166",
          "exception": false,
          "start_time": "2023-04-07T09:38:12.363198",
          "status": "completed"
        },
        "tags": [],
        "id": "8ef778c7",
        "outputId": "6256daed-6f9b-45e5-d66d-4ee2092759f6"
      },
      "outputs": [
        {
          "data": {
            "text/html": [
              "<div>\n",
              "<style scoped>\n",
              "    .dataframe tbody tr th:only-of-type {\n",
              "        vertical-align: middle;\n",
              "    }\n",
              "\n",
              "    .dataframe tbody tr th {\n",
              "        vertical-align: top;\n",
              "    }\n",
              "\n",
              "    .dataframe thead th {\n",
              "        text-align: right;\n",
              "    }\n",
              "</style>\n",
              "<table border=\"1\" class=\"dataframe\">\n",
              "  <thead>\n",
              "    <tr style=\"text-align: right;\">\n",
              "      <th></th>\n",
              "      <th>age_count_sum</th>\n",
              "      <th>is_male_count_sum</th>\n",
              "      <th>age_sum_sum</th>\n",
              "      <th>is_male_sum_sum</th>\n",
              "      <th>user_id</th>\n",
              "      <th>mean_age</th>\n",
              "      <th>mean_sex</th>\n",
              "    </tr>\n",
              "  </thead>\n",
              "  <tbody>\n",
              "    <tr>\n",
              "      <th>0</th>\n",
              "      <td>1070173717</td>\n",
              "      <td>1070173717</td>\n",
              "      <td>41077836337</td>\n",
              "      <td>548124829</td>\n",
              "      <td>173283</td>\n",
              "      <td>38.384269</td>\n",
              "      <td>0.512183</td>\n",
              "    </tr>\n",
              "    <tr>\n",
              "      <th>1</th>\n",
              "      <td>89430911</td>\n",
              "      <td>89430911</td>\n",
              "      <td>3454652225</td>\n",
              "      <td>45985071</td>\n",
              "      <td>13315</td>\n",
              "      <td>38.629286</td>\n",
              "      <td>0.514197</td>\n",
              "    </tr>\n",
              "    <tr>\n",
              "      <th>2</th>\n",
              "      <td>63665357</td>\n",
              "      <td>63665357</td>\n",
              "      <td>2335717162</td>\n",
              "      <td>32183733</td>\n",
              "      <td>209303</td>\n",
              "      <td>36.687412</td>\n",
              "      <td>0.505514</td>\n",
              "    </tr>\n",
              "    <tr>\n",
              "      <th>3</th>\n",
              "      <td>1949409</td>\n",
              "      <td>1949409</td>\n",
              "      <td>75138645</td>\n",
              "      <td>996701</td>\n",
              "      <td>138828</td>\n",
              "      <td>38.544320</td>\n",
              "      <td>0.511284</td>\n",
              "    </tr>\n",
              "    <tr>\n",
              "      <th>4</th>\n",
              "      <td>17127218</td>\n",
              "      <td>17127218</td>\n",
              "      <td>659942327</td>\n",
              "      <td>8773294</td>\n",
              "      <td>86581</td>\n",
              "      <td>38.531788</td>\n",
              "      <td>0.512243</td>\n",
              "    </tr>\n",
              "    <tr>\n",
              "      <th>...</th>\n",
              "      <td>...</td>\n",
              "      <td>...</td>\n",
              "      <td>...</td>\n",
              "      <td>...</td>\n",
              "      <td>...</td>\n",
              "      <td>...</td>\n",
              "      <td>...</td>\n",
              "    </tr>\n",
              "    <tr>\n",
              "      <th>415312</th>\n",
              "      <td>35088525</td>\n",
              "      <td>35088525</td>\n",
              "      <td>1349613741</td>\n",
              "      <td>18024606</td>\n",
              "      <td>317795</td>\n",
              "      <td>38.463108</td>\n",
              "      <td>0.513689</td>\n",
              "    </tr>\n",
              "    <tr>\n",
              "      <th>415313</th>\n",
              "      <td>47000432</td>\n",
              "      <td>47000432</td>\n",
              "      <td>1812958764</td>\n",
              "      <td>24063854</td>\n",
              "      <td>349601</td>\n",
              "      <td>38.573236</td>\n",
              "      <td>0.511992</td>\n",
              "    </tr>\n",
              "    <tr>\n",
              "      <th>415314</th>\n",
              "      <td>210757724</td>\n",
              "      <td>210757724</td>\n",
              "      <td>8125089492</td>\n",
              "      <td>108343846</td>\n",
              "      <td>98292</td>\n",
              "      <td>38.551799</td>\n",
              "      <td>0.514068</td>\n",
              "    </tr>\n",
              "    <tr>\n",
              "      <th>415315</th>\n",
              "      <td>19200949</td>\n",
              "      <td>19200949</td>\n",
              "      <td>703712551</td>\n",
              "      <td>9712261</td>\n",
              "      <td>179147</td>\n",
              "      <td>36.649884</td>\n",
              "      <td>0.505822</td>\n",
              "    </tr>\n",
              "    <tr>\n",
              "      <th>415316</th>\n",
              "      <td>89792668</td>\n",
              "      <td>89792668</td>\n",
              "      <td>3433120940</td>\n",
              "      <td>45957075</td>\n",
              "      <td>185949</td>\n",
              "      <td>38.233867</td>\n",
              "      <td>0.511813</td>\n",
              "    </tr>\n",
              "  </tbody>\n",
              "</table>\n",
              "<p>415317 rows × 7 columns</p>\n",
              "</div>"
            ],
            "text/plain": [
              "        age_count_sum  is_male_count_sum  age_sum_sum  is_male_sum_sum  \\\n",
              "0          1070173717         1070173717  41077836337        548124829   \n",
              "1            89430911           89430911   3454652225         45985071   \n",
              "2            63665357           63665357   2335717162         32183733   \n",
              "3             1949409            1949409     75138645           996701   \n",
              "4            17127218           17127218    659942327          8773294   \n",
              "...               ...                ...          ...              ...   \n",
              "415312       35088525           35088525   1349613741         18024606   \n",
              "415313       47000432           47000432   1812958764         24063854   \n",
              "415314      210757724          210757724   8125089492        108343846   \n",
              "415315       19200949           19200949    703712551          9712261   \n",
              "415316       89792668           89792668   3433120940         45957075   \n",
              "\n",
              "        user_id   mean_age  mean_sex  \n",
              "0        173283  38.384269  0.512183  \n",
              "1         13315  38.629286  0.514197  \n",
              "2        209303  36.687412  0.505514  \n",
              "3        138828  38.544320  0.511284  \n",
              "4         86581  38.531788  0.512243  \n",
              "...         ...        ...       ...  \n",
              "415312   317795  38.463108  0.513689  \n",
              "415313   349601  38.573236  0.511992  \n",
              "415314    98292  38.551799  0.514068  \n",
              "415315   179147  36.649884  0.505822  \n",
              "415316   185949  38.233867  0.511813  \n",
              "\n",
              "[415317 rows x 7 columns]"
            ]
          },
          "execution_count": 35,
          "metadata": {},
          "output_type": "execute_result"
        }
      ],
      "source": [
        "mean_table['mean_age'] = mean_table['age_sum_sum'] / mean_table['age_count_sum']\n",
        "mean_table['mean_sex'] = mean_table['is_male_sum_sum'] / mean_table['is_male_count_sum']\n",
        "mean_table"
      ]
    },
    {
      "cell_type": "code",
      "execution_count": null,
      "id": "609370d3",
      "metadata": {
        "execution": {
          "iopub.execute_input": "2023-04-07T09:38:12.430203Z",
          "iopub.status.busy": "2023-04-07T09:38:12.429318Z",
          "iopub.status.idle": "2023-04-07T09:38:12.449983Z",
          "shell.execute_reply": "2023-04-07T09:38:12.448953Z"
        },
        "papermill": {
          "duration": 0.037581,
          "end_time": "2023-04-07T09:38:12.452277",
          "exception": false,
          "start_time": "2023-04-07T09:38:12.414696",
          "status": "completed"
        },
        "tags": [],
        "id": "609370d3",
        "outputId": "11358486-1ee6-4e81-ddf4-4f4c0c1a74f4"
      },
      "outputs": [
        {
          "data": {
            "text/html": [
              "<div>\n",
              "<style scoped>\n",
              "    .dataframe tbody tr th:only-of-type {\n",
              "        vertical-align: middle;\n",
              "    }\n",
              "\n",
              "    .dataframe tbody tr th {\n",
              "        vertical-align: top;\n",
              "    }\n",
              "\n",
              "    .dataframe thead th {\n",
              "        text-align: right;\n",
              "    }\n",
              "</style>\n",
              "<table border=\"1\" class=\"dataframe\">\n",
              "  <thead>\n",
              "    <tr style=\"text-align: right;\">\n",
              "      <th></th>\n",
              "      <th>user_id</th>\n",
              "      <th>mean_age</th>\n",
              "      <th>mean_sex</th>\n",
              "    </tr>\n",
              "  </thead>\n",
              "  <tbody>\n",
              "    <tr>\n",
              "      <th>0</th>\n",
              "      <td>173283</td>\n",
              "      <td>38.384269</td>\n",
              "      <td>0.512183</td>\n",
              "    </tr>\n",
              "    <tr>\n",
              "      <th>1</th>\n",
              "      <td>13315</td>\n",
              "      <td>38.629286</td>\n",
              "      <td>0.514197</td>\n",
              "    </tr>\n",
              "    <tr>\n",
              "      <th>2</th>\n",
              "      <td>209303</td>\n",
              "      <td>36.687412</td>\n",
              "      <td>0.505514</td>\n",
              "    </tr>\n",
              "    <tr>\n",
              "      <th>3</th>\n",
              "      <td>138828</td>\n",
              "      <td>38.544320</td>\n",
              "      <td>0.511284</td>\n",
              "    </tr>\n",
              "    <tr>\n",
              "      <th>4</th>\n",
              "      <td>86581</td>\n",
              "      <td>38.531788</td>\n",
              "      <td>0.512243</td>\n",
              "    </tr>\n",
              "    <tr>\n",
              "      <th>...</th>\n",
              "      <td>...</td>\n",
              "      <td>...</td>\n",
              "      <td>...</td>\n",
              "    </tr>\n",
              "    <tr>\n",
              "      <th>415312</th>\n",
              "      <td>317795</td>\n",
              "      <td>38.463108</td>\n",
              "      <td>0.513689</td>\n",
              "    </tr>\n",
              "    <tr>\n",
              "      <th>415313</th>\n",
              "      <td>349601</td>\n",
              "      <td>38.573236</td>\n",
              "      <td>0.511992</td>\n",
              "    </tr>\n",
              "    <tr>\n",
              "      <th>415314</th>\n",
              "      <td>98292</td>\n",
              "      <td>38.551799</td>\n",
              "      <td>0.514068</td>\n",
              "    </tr>\n",
              "    <tr>\n",
              "      <th>415315</th>\n",
              "      <td>179147</td>\n",
              "      <td>36.649884</td>\n",
              "      <td>0.505822</td>\n",
              "    </tr>\n",
              "    <tr>\n",
              "      <th>415316</th>\n",
              "      <td>185949</td>\n",
              "      <td>38.233867</td>\n",
              "      <td>0.511813</td>\n",
              "    </tr>\n",
              "  </tbody>\n",
              "</table>\n",
              "<p>415317 rows × 3 columns</p>\n",
              "</div>"
            ],
            "text/plain": [
              "        user_id   mean_age  mean_sex\n",
              "0        173283  38.384269  0.512183\n",
              "1         13315  38.629286  0.514197\n",
              "2        209303  36.687412  0.505514\n",
              "3        138828  38.544320  0.511284\n",
              "4         86581  38.531788  0.512243\n",
              "...         ...        ...       ...\n",
              "415312   317795  38.463108  0.513689\n",
              "415313   349601  38.573236  0.511992\n",
              "415314    98292  38.551799  0.514068\n",
              "415315   179147  36.649884  0.505822\n",
              "415316   185949  38.233867  0.511813\n",
              "\n",
              "[415317 rows x 3 columns]"
            ]
          },
          "execution_count": 36,
          "metadata": {},
          "output_type": "execute_result"
        }
      ],
      "source": [
        "mean_table = mean_table.drop(['age_count_sum', 'is_male_count_sum', 'is_male_sum_sum', 'age_sum_sum'], axis=1)\n",
        "mean_table"
      ]
    },
    {
      "cell_type": "code",
      "execution_count": null,
      "id": "a795b60a",
      "metadata": {
        "execution": {
          "iopub.execute_input": "2023-04-07T09:38:12.481147Z",
          "iopub.status.busy": "2023-04-07T09:38:12.480632Z",
          "iopub.status.idle": "2023-04-07T09:38:13.997157Z",
          "shell.execute_reply": "2023-04-07T09:38:13.995733Z"
        },
        "papermill": {
          "duration": 1.534065,
          "end_time": "2023-04-07T09:38:13.999966",
          "exception": false,
          "start_time": "2023-04-07T09:38:12.465901",
          "status": "completed"
        },
        "tags": [],
        "id": "a795b60a"
      },
      "outputs": [],
      "source": [
        "mean_table.to_csv('/data/target_distribution_by_urls/mean_age_and_sex_ranged.scv', index=False)"
      ]
    }
  ],
  "metadata": {
    "kernelspec": {
      "display_name": "Python 3",
      "language": "python",
      "name": "python3"
    },
    "language_info": {
      "codemirror_mode": {
        "name": "ipython",
        "version": 3
      },
      "file_extension": ".py",
      "mimetype": "text/x-python",
      "name": "python",
      "nbconvert_exporter": "python",
      "pygments_lexer": "ipython3",
      "version": "3.7.12"
    },
    "papermill": {
      "default_parameters": {},
      "duration": 617.958242,
      "end_time": "2023-04-07T09:38:15.541390",
      "environment_variables": {},
      "exception": null,
      "input_path": "__notebook__.ipynb",
      "output_path": "__notebook__.ipynb",
      "parameters": {},
      "start_time": "2023-04-07T09:27:57.583148",
      "version": "2.3.4"
    },
    "widgets": {
      "application/vnd.jupyter.widget-state+json": {}
    },
    "colab": {
      "provenance": [],
      "include_colab_link": true
    }
  },
  "nbformat": 4,
  "nbformat_minor": 5
}