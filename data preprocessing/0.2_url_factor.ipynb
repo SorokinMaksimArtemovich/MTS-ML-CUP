{
 "cells": [
  {
   "cell_type": "code",
   "execution_count": 1,
   "id": "92f98368",
   "metadata": {
    "_cell_guid": "b1076dfc-b9ad-4769-8c92-a6c4dae69d19",
    "_uuid": "8f2839f25d086af736a60e9eeb907d3b93b6e0e5",
    "execution": {
     "iopub.execute_input": "2023-03-17T14:55:47.294921Z",
     "iopub.status.busy": "2023-03-17T14:55:47.294513Z",
     "iopub.status.idle": "2023-03-17T14:55:47.306315Z",
     "shell.execute_reply": "2023-03-17T14:55:47.305049Z"
    },
    "papermill": {
     "duration": 0.021045,
     "end_time": "2023-03-17T14:55:47.309160",
     "exception": false,
     "start_time": "2023-03-17T14:55:47.288115",
     "status": "completed"
    },
    "tags": []
   },
   "outputs": [],
   "source": [
    "import sys\n",
    "import os\n",
    "import warnings\n",
    "os.environ['OPENBLAS_NUM_THREADS'] = '1'\n",
    "warnings.filterwarnings('ignore')"
   ]
  },
  {
   "cell_type": "code",
   "execution_count": 2,
   "id": "3dde25b6",
   "metadata": {
    "execution": {
     "iopub.execute_input": "2023-03-17T14:55:47.317906Z",
     "iopub.status.busy": "2023-03-17T14:55:47.317483Z",
     "iopub.status.idle": "2023-03-17T14:55:47.766977Z",
     "shell.execute_reply": "2023-03-17T14:55:47.765667Z"
    },
    "papermill": {
     "duration": 0.457594,
     "end_time": "2023-03-17T14:55:47.770331",
     "exception": false,
     "start_time": "2023-03-17T14:55:47.312737",
     "status": "completed"
    },
    "tags": []
   },
   "outputs": [],
   "source": [
    "import pandas as pd\n",
    "import numpy as np\n",
    "import gc\n",
    "import pickle\n",
    "import time\n",
    "import pyarrow as pa\n",
    "import pyarrow.parquet as pq\n",
    "from tqdm import tqdm\n",
    "import scipy\n",
    "import implicit\n",
    "import bisect"
   ]
  },
  {
   "cell_type": "code",
   "execution_count": 7,
   "id": "b41a4781",
   "metadata": {
    "execution": {
     "iopub.execute_input": "2023-03-17T15:01:12.102658Z",
     "iopub.status.busy": "2023-03-17T15:01:12.102151Z",
     "iopub.status.idle": "2023-03-17T15:01:12.110514Z",
     "shell.execute_reply": "2023-03-17T15:01:12.108816Z"
    },
    "papermill": {
     "duration": 0.182675,
     "end_time": "2023-03-17T15:01:12.113454",
     "exception": false,
     "start_time": "2023-03-17T15:01:11.930779",
     "status": "completed"
    },
    "tags": []
   },
   "outputs": [],
   "source": [
    "def save(obj, path, verbose=True):\n",
    "    if verbose:\n",
    "        print(\"Saving object to {}\".format(path))\n",
    "\n",
    "    with open(path, \"wb\") as obj_file:\n",
    "        pickle.dump( obj, obj_file, protocol=pickle.HIGHEST_PROTOCOL )\n",
    "\n",
    "    if verbose:\n",
    "        print(\"Object saved to {}\".format(path))\n",
    "    pass"
   ]
  },
  {
   "cell_type": "code",
   "execution_count": null,
   "id": "cdf6d3be",
   "metadata": {},
   "outputs": [],
   "source": [
    "def load(path, verbose=True):\n",
    "    if verbose:\n",
    "        print(\"Loading object from {}\".format(path))\n",
    "    with open(path, \"rb\") as obj_file:\n",
    "        obj = pickle.load(obj_file)\n",
    "    if verbose:\n",
    "        print(\"Object loaded from {}\".format(path))\n",
    "    return obj"
   ]
  },
  {
   "cell_type": "code",
   "execution_count": 3,
   "id": "39248bc4",
   "metadata": {
    "execution": {
     "iopub.execute_input": "2023-03-17T14:55:47.779032Z",
     "iopub.status.busy": "2023-03-17T14:55:47.778328Z",
     "iopub.status.idle": "2023-03-17T14:56:18.254313Z",
     "shell.execute_reply": "2023-03-17T14:56:18.252510Z"
    },
    "papermill": {
     "duration": 30.484058,
     "end_time": "2023-03-17T14:56:18.257679",
     "exception": false,
     "start_time": "2023-03-17T14:55:47.773621",
     "status": "completed"
    },
    "tags": []
   },
   "outputs": [],
   "source": [
    "data = pd.read_feather('/data/dataset_full.feather', columns=['user_id', 'url_host'])"
   ]
  },
  {
   "cell_type": "code",
   "execution_count": 4,
   "id": "8e12d184",
   "metadata": {
    "execution": {
     "iopub.execute_input": "2023-03-17T14:56:18.267301Z",
     "iopub.status.busy": "2023-03-17T14:56:18.266857Z",
     "iopub.status.idle": "2023-03-17T14:56:19.668192Z",
     "shell.execute_reply": "2023-03-17T14:56:19.666346Z"
    },
    "papermill": {
     "duration": 1.409146,
     "end_time": "2023-03-17T14:56:19.671087",
     "exception": false,
     "start_time": "2023-03-17T14:56:18.261941",
     "status": "completed"
    },
    "tags": []
   },
   "outputs": [
    {
     "name": "stdout",
     "output_type": "stream",
     "text": [
      "Loading object from /kaggle/input/fork-of-datapreprocessing/url_only_factor_features_dict.pkl\n",
      "Object loaded from /kaggle/input/fork-of-datapreprocessing/url_only_factor_features_dict.pkl\n"
     ]
    }
   ],
   "source": [
    "feature_builder = load('/data/utils/url_only_factor_features_dict.pkl')"
   ]
  },
  {
   "cell_type": "code",
   "execution_count": 5,
   "id": "1c664c40",
   "metadata": {
    "execution": {
     "iopub.execute_input": "2023-03-17T14:56:19.679596Z",
     "iopub.status.busy": "2023-03-17T14:56:19.679129Z",
     "iopub.status.idle": "2023-03-17T14:56:19.686967Z",
     "shell.execute_reply": "2023-03-17T14:56:19.686072Z"
    },
    "papermill": {
     "duration": 0.015245,
     "end_time": "2023-03-17T14:56:19.689725",
     "exception": false,
     "start_time": "2023-03-17T14:56:19.674480",
     "status": "completed"
    },
    "tags": []
   },
   "outputs": [],
   "source": [
    "def build_backward_index_(x_array):\n",
    "            \n",
    "    backward_index = {}\n",
    "    for i in tqdm(range(len(x_array)), desc=\"Building backward index\"):\n",
    "        current_x = x_array[i]\n",
    "\n",
    "        if current_x not in backward_index.keys():\n",
    "            backward_index[current_x] = []\n",
    "        backward_index[current_x].append(i)\n",
    "    \n",
    "    \n",
    "    for x in tqdm(backward_index.keys(), desc=\"Building backward index (final types converting)\"):\n",
    "        backward_index[x] = np.array(backward_index[x])\n",
    "        \n",
    "    return backward_index"
   ]
  },
  {
   "cell_type": "code",
   "execution_count": 6,
   "id": "5f77864b",
   "metadata": {
    "execution": {
     "iopub.execute_input": "2023-03-17T14:56:19.698906Z",
     "iopub.status.busy": "2023-03-17T14:56:19.698121Z",
     "iopub.status.idle": "2023-03-17T15:01:11.761317Z",
     "shell.execute_reply": "2023-03-17T15:01:11.758914Z"
    },
    "papermill": {
     "duration": 292.073432,
     "end_time": "2023-03-17T15:01:11.766599",
     "exception": false,
     "start_time": "2023-03-17T14:56:19.693167",
     "status": "completed"
    },
    "tags": []
   },
   "outputs": [
    {
     "name": "stderr",
     "output_type": "stream",
     "text": [
      "Building backward index: 100%|██████████| 322899435/322899435 [04:04<00:00, 1319196.46it/s]\n",
      "Building backward index (final types converting): 100%|██████████| 415317/415317 [00:37<00:00, 11167.94it/s]\n"
     ]
    }
   ],
   "source": [
    "uniq_user_ids = np.unique( data[\"user_id\"].values )\n",
    "url_hosts = data[\"url_host\"].values\n",
    "user_ids_backward_index = build_backward_index_( data[\"user_id\"].values )"
   ]
  },
  {
   "cell_type": "code",
   "execution_count": 8,
   "id": "999ca634",
   "metadata": {
    "execution": {
     "iopub.execute_input": "2023-03-17T15:01:12.598518Z",
     "iopub.status.busy": "2023-03-17T15:01:12.597994Z",
     "iopub.status.idle": "2023-03-17T15:01:29.266688Z",
     "shell.execute_reply": "2023-03-17T15:01:29.265175Z"
    },
    "papermill": {
     "duration": 16.987086,
     "end_time": "2023-03-17T15:01:29.270717",
     "exception": false,
     "start_time": "2023-03-17T15:01:12.283631",
     "status": "completed"
    },
    "tags": []
   },
   "outputs": [
    {
     "name": "stdout",
     "output_type": "stream",
     "text": [
      "Saving object to user_ids_backward_index.pkl\n",
      "Object saved to user_ids_backward_index.pkl\n",
      "Saving object to uniq_user_ids.pkl\n",
      "Object saved to uniq_user_ids.pkl\n",
      "Saving object to url_hosts.pkl\n",
      "Object saved to url_hosts.pkl\n"
     ]
    }
   ],
   "source": [
    "save(user_ids_backward_index, \"/data/utils/user_ids_backward_index.pkl\")\n",
    "save(uniq_user_ids, \"/data/utils/uniq_user_ids.pkl\")\n",
    "save(url_hosts, \"/data/utils/url_hosts.pkl\")"
   ]
  },
  {
   "cell_type": "code",
   "execution_count": null,
   "id": "66db0bd7",
   "metadata": {},
   "outputs": [],
   "source": [
    "del(data)\n",
    "del(user_ids_backward_index)\n",
    "del(feature_builder)\n",
    "del(uniq_user_ids)\n",
    "del(url_hosts)\n",
    "gc.collect()"
   ]
  },
  {
   "cell_type": "code",
   "execution_count": null,
   "id": "c4752dd4",
   "metadata": {},
   "outputs": [],
   "source": [
    "user_ids_backward_index = load('/data/utils/user_ids_backward_index.pkl')\n",
    "uniq_user_ids = load('/data/utils/uniq_user_ids.pkl')\n",
    "url_hosts = load('/data/utils/url_hosts.pkl')\n",
    "url_dict = load('/data/utils/url_only_factor_features_dict.pkl')"
   ]
  },
  {
   "cell_type": "code",
   "execution_count": null,
   "id": "d68779cb",
   "metadata": {},
   "outputs": [],
   "source": [
    "def build_feat_dict(uniq_user_ids, url_hosts, user_ids_backward_index, url_feat_dict):\n",
    "        texts_for_transform = []\n",
    "        for i in tqdm( range(len(uniq_user_ids)), desc=\"Aggregating urls by user_id\" ):\n",
    "            uniq_id = uniq_user_ids[i]\n",
    "            id_group_mask = user_ids_backward_index[ uniq_id ]\n",
    "            group_urls = url_hosts[ id_group_mask ]\n",
    "            group_tokens = \" \".join( group_urls )\n",
    "            group_tokens = group_tokens.split(\" \")\n",
    "            texts_for_transform.append( group_tokens )\n",
    "        \n",
    "        encoded_feats = encode_user_urls_( texts_for_transform, url_feat_dict, verbose=True )\n",
    "        encoded_feats = np.array( encoded_feats )\n",
    "        \n",
    "        user_url_feats = {}\n",
    "        user_url_feats[\"feature_names\"] = url_feat_dict[\"feature_names\"]\n",
    "        \n",
    "        for i in range(len(uniq_user_ids)):\n",
    "            user_url_feats[uniq_user_ids[i]] = encoded_feats[i, :]\n",
    "        \n",
    "        return user_url_feats\n",
    "\n",
    "def encode_user_urls_(docs, url_feat_dict=None, verbose=True):\n",
    "\n",
    "    doc_vectors = []\n",
    "    if verbose:\n",
    "        proc_range = tqdm(range(len(docs)), desc=\"Encoding unique user's urls\")\n",
    "    else:\n",
    "        proc_range = range(len(docs))\n",
    "\n",
    "    for i in proc_range:\n",
    "        current_vector = []\n",
    "        uniq_docs = set(docs[i])\n",
    "        for current_url in uniq_docs:\n",
    "            extracted_vector = url_feat_dict[current_url]\n",
    "                \n",
    "            current_vector.append( extracted_vector )\n",
    "            \n",
    "        current_vector = np.mean( current_vector, axis=0 )\n",
    "        doc_vectors.append(current_vector)\n",
    "    return doc_vectors"
   ]
  },
  {
   "cell_type": "code",
   "execution_count": null,
   "id": "0bb49f75",
   "metadata": {},
   "outputs": [],
   "source": [
    "url_dict = build_feat_dict(uniq_user_ids, url_hosts, user_ids_backward_index, url_dict)"
   ]
  },
  {
   "cell_type": "code",
   "execution_count": null,
   "id": "f1263c9c",
   "metadata": {},
   "outputs": [],
   "source": [
    "feature_columns = []\n",
    "feature_columns += url_dict[\"feature_names\"]\n",
    "\n",
    "feature_vectors = []\n",
    "user_ids = []\n",
    "for user_id in tqdm(url_dict.keys(), desc=\"Building merged features\"):\n",
    "    if user_id == \"feature_names\":\n",
    "        continue\n",
    "    user_common_vector = []\n",
    "    user_ids.append(user_id)\n",
    "    user_common_vector.append(url_dict[user_id])\n",
    "    user_common_vector = np.array(user_common_vector)\n",
    "    feature_vectors.append(user_common_vector)\n",
    "feature_vectors = np.array(feature_vectors).reshape(415317,-1)\n",
    "users_dataset = pd.DataFrame(data=feature_vectors, columns=feature_columns)\n",
    "users_dataset[\"user_id\"] = user_ids"
   ]
  },
  {
   "cell_type": "code",
   "execution_count": null,
   "id": "e06ab8b6",
   "metadata": {},
   "outputs": [],
   "source": [
    "users_dataset.to_csv('data/url_factor/url_factor.csv', index = False)"
   ]
  }
 ],
 "metadata": {
  "kernelspec": {
   "display_name": "Python 3",
   "language": "python",
   "name": "python3"
  },
  "language_info": {
   "codemirror_mode": {
    "name": "ipython",
    "version": 3
   },
   "file_extension": ".py",
   "mimetype": "text/x-python",
   "name": "python",
   "nbconvert_exporter": "python",
   "pygments_lexer": "ipython3",
   "version": "3.7.12"
  },
  "papermill": {
   "default_parameters": {},
   "duration": 358.321575,
   "end_time": "2023-03-17T15:01:34.710388",
   "environment_variables": {},
   "exception": null,
   "input_path": "__notebook__.ipynb",
   "output_path": "__notebook__.ipynb",
   "parameters": {},
   "start_time": "2023-03-17T14:55:36.388813",
   "version": "2.4.0"
  }
 },
 "nbformat": 4,
 "nbformat_minor": 5
}
