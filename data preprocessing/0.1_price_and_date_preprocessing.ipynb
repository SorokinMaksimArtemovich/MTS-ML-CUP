{
  "cells": [
    {
      "cell_type": "markdown",
      "metadata": {
        "id": "view-in-github",
        "colab_type": "text"
      },
      "source": [
        "<a href=\"https://colab.research.google.com/github/SorokinMaksimArtemovich/MTS-ML-CUP/blob/main/data%20preprocessing/0.1_price_and_date_preprocessing.ipynb\" target=\"_parent\"><img src=\"https://colab.research.google.com/assets/colab-badge.svg\" alt=\"Open In Colab\"/></a>"
      ]
    },
    {
      "cell_type": "markdown",
      "id": "2facc6d0",
      "metadata": {
        "id": "2facc6d0"
      },
      "source": [
        "In this nootebook I use price and date for aggregation and making matrix"
      ]
    },
    {
      "cell_type": "code",
      "execution_count": null,
      "id": "f31a50b6",
      "metadata": {
        "execution": {
          "iopub.execute_input": "2023-03-13T16:18:14.263539Z",
          "iopub.status.busy": "2023-03-13T16:18:14.263071Z",
          "iopub.status.idle": "2023-03-13T16:18:14.275391Z",
          "shell.execute_reply": "2023-03-13T16:18:14.274228Z"
        },
        "papermill": {
          "duration": 0.030127,
          "end_time": "2023-03-13T16:18:14.278245",
          "exception": false,
          "start_time": "2023-03-13T16:18:14.248118",
          "status": "completed"
        },
        "tags": [],
        "id": "f31a50b6"
      },
      "outputs": [],
      "source": [
        "import sys\n",
        "import os\n",
        "import warnings\n",
        "os.environ['OPENBLAS_NUM_THREADS'] = '1'\n",
        "warnings.filterwarnings('ignore')"
      ]
    },
    {
      "cell_type": "code",
      "execution_count": null,
      "id": "ae0a0529",
      "metadata": {
        "execution": {
          "iopub.execute_input": "2023-03-13T16:18:14.304244Z",
          "iopub.status.busy": "2023-03-13T16:18:14.303772Z",
          "iopub.status.idle": "2023-03-13T16:18:53.706259Z",
          "shell.execute_reply": "2023-03-13T16:18:53.705000Z"
        },
        "papermill": {
          "duration": 39.419235,
          "end_time": "2023-03-13T16:18:53.709557",
          "exception": false,
          "start_time": "2023-03-13T16:18:14.290322",
          "status": "completed"
        },
        "tags": [],
        "id": "ae0a0529",
        "outputId": "f4b0daae-1413-493a-d333-2f477c219493"
      },
      "outputs": [
        {
          "name": "stdout",
          "output_type": "stream",
          "text": [
            "\u001b[33mWARNING: Running pip as the 'root' user can result in broken permissions and conflicting behaviour with the system package manager. It is recommended to use a virtual environment instead: https://pip.pypa.io/warnings/venv\u001b[0m\u001b[33m\r\n",
            "\u001b[0mCollecting faiss-cpu\r\n",
            "  Downloading faiss_cpu-1.7.3-cp37-cp37m-manylinux_2_17_x86_64.manylinux2014_x86_64.whl (17.0 MB)\r\n",
            "\u001b[2K     \u001b[90m━━━━━━━━━━━━━━━━━━━━━━━━━━━━━━━━━━━━━━━\u001b[0m \u001b[32m17.0/17.0 MB\u001b[0m \u001b[31m188.0 MB/s\u001b[0m eta \u001b[36m0:00:00\u001b[0m\r\n",
            "\u001b[?25hInstalling collected packages: faiss-cpu\r\n",
            "Successfully installed faiss-cpu-1.7.3\r\n",
            "\u001b[33mWARNING: Running pip as the 'root' user can result in broken permissions and conflicting behaviour with the system package manager. It is recommended to use a virtual environment instead: https://pip.pypa.io/warnings/venv\u001b[0m\u001b[33m\r\n",
            "\u001b[0mRequirement already satisfied: implicit in /opt/conda/lib/python3.7/site-packages (0.4.4)\r\n",
            "Requirement already satisfied: numpy in /opt/conda/lib/python3.7/site-packages (from implicit) (1.21.6)\r\n",
            "Requirement already satisfied: scipy>=0.16 in /opt/conda/lib/python3.7/site-packages (from implicit) (1.7.3)\r\n",
            "Requirement already satisfied: tqdm>=4.27 in /opt/conda/lib/python3.7/site-packages (from implicit) (4.64.0)\r\n",
            "\u001b[33mWARNING: Running pip as the 'root' user can result in broken permissions and conflicting behaviour with the system package manager. It is recommended to use a virtual environment instead: https://pip.pypa.io/warnings/venv\u001b[0m\u001b[33m\r\n",
            "\u001b[0m"
          ]
        }
      ],
      "source": [
        "import pandas as pd\n",
        "import numpy as np\n",
        "import gc\n",
        "import time\n",
        "import pyarrow as pa\n",
        "import pyarrow.parquet as pq\n",
        "import scipy\n",
        "import implicit\n",
        "import bisect\n",
        "import sklearn.metrics as m\n",
        "from catboost import CatBoostClassifier, CatBoostRegressor, Pool\n",
        "from sklearn.model_selection import train_test_split\n",
        "from sklearn.calibration import calibration_curve, CalibratedClassifierCV\n",
        "!pip install feather-format >> none\n",
        "!pip install faiss-cpu --no-cache\n",
        "!pip install implicit\n",
        "import implicit"
      ]
    },
    {
      "cell_type": "markdown",
      "id": "c2eca966",
      "metadata": {
        "id": "c2eca966"
      },
      "source": [
        "# Price aggregation\n",
        "I aggregate counts and sums of request_cnt by price groups and user and count mean, median, min, max and standard deviation od it by each user"
      ]
    },
    {
      "cell_type": "code",
      "execution_count": null,
      "id": "70cbf4bf",
      "metadata": {
        "execution": {
          "iopub.execute_input": "2023-03-13T16:18:53.775057Z",
          "iopub.status.busy": "2023-03-13T16:18:53.774607Z",
          "iopub.status.idle": "2023-03-13T16:19:39.091355Z",
          "shell.execute_reply": "2023-03-13T16:19:39.090004Z"
        },
        "papermill": {
          "duration": 45.333371,
          "end_time": "2023-03-13T16:19:39.094277",
          "exception": false,
          "start_time": "2023-03-13T16:18:53.760906",
          "status": "completed"
        },
        "tags": [],
        "id": "70cbf4bf"
      },
      "outputs": [],
      "source": [
        "data = pd.read_feather('/data/dataset_full.feather')\n",
        "data = data[['user_id', 'price', 'request_cnt']]"
      ]
    },
    {
      "cell_type": "code",
      "execution_count": null,
      "id": "91106800",
      "metadata": {
        "execution": {
          "iopub.execute_input": "2023-03-13T16:19:39.122301Z",
          "iopub.status.busy": "2023-03-13T16:19:39.121635Z",
          "iopub.status.idle": "2023-03-13T16:19:43.154251Z",
          "shell.execute_reply": "2023-03-13T16:19:43.152825Z"
        },
        "papermill": {
          "duration": 4.050789,
          "end_time": "2023-03-13T16:19:43.157757",
          "exception": false,
          "start_time": "2023-03-13T16:19:39.106968",
          "status": "completed"
        },
        "tags": [],
        "id": "91106800"
      },
      "outputs": [],
      "source": [
        "price_median = np.nanmedian(data[\"price\"])\n",
        "data[\"price\"] = data[\"price\"].fillna(price_median)"
      ]
    },
    {
      "cell_type": "code",
      "execution_count": null,
      "id": "10835323",
      "metadata": {
        "execution": {
          "iopub.execute_input": "2023-03-13T16:19:43.188267Z",
          "iopub.status.busy": "2023-03-13T16:19:43.187317Z",
          "iopub.status.idle": "2023-03-13T16:19:43.193750Z",
          "shell.execute_reply": "2023-03-13T16:19:43.192335Z"
        },
        "papermill": {
          "duration": 0.025839,
          "end_time": "2023-03-13T16:19:43.196297",
          "exception": false,
          "start_time": "2023-03-13T16:19:43.170458",
          "status": "completed"
        },
        "tags": [],
        "id": "10835323"
      },
      "outputs": [],
      "source": [
        "def price_bucket(x):\n",
        "    return bisect.bisect_left(range(5000, 85001, 5000), x)"
      ]
    },
    {
      "cell_type": "code",
      "execution_count": null,
      "id": "b112bba4",
      "metadata": {
        "execution": {
          "iopub.execute_input": "2023-03-13T16:19:43.225037Z",
          "iopub.status.busy": "2023-03-13T16:19:43.224379Z",
          "iopub.status.idle": "2023-03-13T16:19:48.101024Z",
          "shell.execute_reply": "2023-03-13T16:19:48.099650Z"
        },
        "papermill": {
          "duration": 4.894501,
          "end_time": "2023-03-13T16:19:48.103980",
          "exception": false,
          "start_time": "2023-03-13T16:19:43.209479",
          "status": "completed"
        },
        "tags": [],
        "id": "b112bba4",
        "outputId": "6dda35ec-6e62-4267-f413-22fd118054f6"
      },
      "outputs": [
        {
          "data": {
            "text/html": [
              "<div>\n",
              "<style scoped>\n",
              "    .dataframe tbody tr th:only-of-type {\n",
              "        vertical-align: middle;\n",
              "    }\n",
              "\n",
              "    .dataframe tbody tr th {\n",
              "        vertical-align: top;\n",
              "    }\n",
              "\n",
              "    .dataframe thead th {\n",
              "        text-align: right;\n",
              "    }\n",
              "</style>\n",
              "<table border=\"1\" class=\"dataframe\">\n",
              "  <thead>\n",
              "    <tr style=\"text-align: right;\">\n",
              "      <th></th>\n",
              "      <th>price</th>\n",
              "      <th>price_cat</th>\n",
              "    </tr>\n",
              "  </thead>\n",
              "  <tbody>\n",
              "    <tr>\n",
              "      <th>0</th>\n",
              "      <td>20368.0</td>\n",
              "      <td>4</td>\n",
              "    </tr>\n",
              "    <tr>\n",
              "      <th>1550</th>\n",
              "      <td>4990.0</td>\n",
              "      <td>0</td>\n",
              "    </tr>\n",
              "    <tr>\n",
              "      <th>2272</th>\n",
              "      <td>74259.0</td>\n",
              "      <td>14</td>\n",
              "    </tr>\n",
              "    <tr>\n",
              "      <th>3907</th>\n",
              "      <td>23876.0</td>\n",
              "      <td>4</td>\n",
              "    </tr>\n",
              "    <tr>\n",
              "      <th>5477</th>\n",
              "      <td>20465.0</td>\n",
              "      <td>4</td>\n",
              "    </tr>\n",
              "    <tr>\n",
              "      <th>...</th>\n",
              "      <td>...</td>\n",
              "      <td>...</td>\n",
              "    </tr>\n",
              "    <tr>\n",
              "      <th>322204409</th>\n",
              "      <td>44151.0</td>\n",
              "      <td>8</td>\n",
              "    </tr>\n",
              "    <tr>\n",
              "      <th>322498461</th>\n",
              "      <td>87207.0</td>\n",
              "      <td>17</td>\n",
              "    </tr>\n",
              "    <tr>\n",
              "      <th>322591672</th>\n",
              "      <td>6090.0</td>\n",
              "      <td>1</td>\n",
              "    </tr>\n",
              "    <tr>\n",
              "      <th>322605777</th>\n",
              "      <td>12217.0</td>\n",
              "      <td>2</td>\n",
              "    </tr>\n",
              "    <tr>\n",
              "      <th>322615069</th>\n",
              "      <td>81157.0</td>\n",
              "      <td>16</td>\n",
              "    </tr>\n",
              "  </tbody>\n",
              "</table>\n",
              "<p>29322 rows × 2 columns</p>\n",
              "</div>"
            ],
            "text/plain": [
              "             price  price_cat\n",
              "0          20368.0          4\n",
              "1550        4990.0          0\n",
              "2272       74259.0         14\n",
              "3907       23876.0          4\n",
              "5477       20465.0          4\n",
              "...            ...        ...\n",
              "322204409  44151.0          8\n",
              "322498461  87207.0         17\n",
              "322591672   6090.0          1\n",
              "322605777  12217.0          2\n",
              "322615069  81157.0         16\n",
              "\n",
              "[29322 rows x 2 columns]"
            ]
          },
          "execution_count": 7,
          "metadata": {},
          "output_type": "execute_result"
        }
      ],
      "source": [
        "price_df = pd.DataFrame()\n",
        "price_df['price'] = data['price'].drop_duplicates()\n",
        "price_df['price_cat'] = price_df['price'].apply(price_bucket)\n",
        "price_df"
      ]
    },
    {
      "cell_type": "code",
      "execution_count": null,
      "id": "1d5d8bc0",
      "metadata": {
        "execution": {
          "iopub.execute_input": "2023-03-13T16:19:48.131753Z",
          "iopub.status.busy": "2023-03-13T16:19:48.131300Z",
          "iopub.status.idle": "2023-03-13T16:20:16.535597Z",
          "shell.execute_reply": "2023-03-13T16:20:16.534495Z"
        },
        "papermill": {
          "duration": 28.421587,
          "end_time": "2023-03-13T16:20:16.538568",
          "exception": false,
          "start_time": "2023-03-13T16:19:48.116981",
          "status": "completed"
        },
        "tags": [],
        "id": "1d5d8bc0"
      },
      "outputs": [],
      "source": [
        "data = pa.Table.from_pandas(data)\n",
        "price_df = pa.Table.from_pandas(price_df)\n",
        "data = data.join(price_df, 'price', join_type = 'inner')"
      ]
    },
    {
      "cell_type": "code",
      "execution_count": null,
      "id": "012936d8",
      "metadata": {
        "execution": {
          "iopub.execute_input": "2023-03-13T16:20:16.567472Z",
          "iopub.status.busy": "2023-03-13T16:20:16.567049Z",
          "iopub.status.idle": "2023-03-13T16:20:16.731520Z",
          "shell.execute_reply": "2023-03-13T16:20:16.730551Z"
        },
        "papermill": {
          "duration": 0.181687,
          "end_time": "2023-03-13T16:20:16.733879",
          "exception": false,
          "start_time": "2023-03-13T16:20:16.552192",
          "status": "completed"
        },
        "tags": [],
        "id": "012936d8",
        "outputId": "567205da-4ce3-4559-8ba4-68f9336142e5"
      },
      "outputs": [
        {
          "data": {
            "text/plain": [
              "21"
            ]
          },
          "execution_count": 9,
          "metadata": {},
          "output_type": "execute_result"
        }
      ],
      "source": [
        "del(price_df)\n",
        "gc.collect()"
      ]
    },
    {
      "cell_type": "code",
      "execution_count": null,
      "id": "86b7e9fd",
      "metadata": {
        "execution": {
          "iopub.execute_input": "2023-03-13T16:20:16.761825Z",
          "iopub.status.busy": "2023-03-13T16:20:16.761177Z",
          "iopub.status.idle": "2023-03-13T16:20:33.867670Z",
          "shell.execute_reply": "2023-03-13T16:20:33.866263Z"
        },
        "papermill": {
          "duration": 17.123539,
          "end_time": "2023-03-13T16:20:33.870475",
          "exception": false,
          "start_time": "2023-03-13T16:20:16.746936",
          "status": "completed"
        },
        "tags": [],
        "id": "86b7e9fd",
        "outputId": "6afdb2aa-d519-4bc0-e0a1-5b21853131ca"
      },
      "outputs": [
        {
          "name": "stdout",
          "output_type": "stream",
          "text": [
            "CPU times: user 13.6 s, sys: 3.48 s, total: 17.1 s\n",
            "Wall time: 17.1 s\n"
          ]
        }
      ],
      "source": [
        "%%time\n",
        "price_agg = data.select(['user_id', 'price_cat', 'request_cnt']).\\\n",
        "    group_by(['user_id', 'price_cat']).aggregate([('request_cnt', 'count'), ('request_cnt', 'sum')]).\\\n",
        "    group_by(['user_id']).aggregate([('request_cnt_count', 'mean'), ('request_cnt_count', 'approximate_median'), ('request_cnt_count', 'min'), ('request_cnt_count', 'max'), ('request_cnt_count', 'stddev'), ('request_cnt_sum', 'mean'), ('request_cnt_sum', 'approximate_median'), ('request_cnt_sum', 'min'), ('request_cnt_sum', 'max'), ('request_cnt_sum', 'stddev')])"
      ]
    },
    {
      "cell_type": "code",
      "execution_count": null,
      "id": "7ef2085d",
      "metadata": {
        "execution": {
          "iopub.execute_input": "2023-03-13T16:20:33.898702Z",
          "iopub.status.busy": "2023-03-13T16:20:33.898284Z",
          "iopub.status.idle": "2023-03-13T16:20:36.104954Z",
          "shell.execute_reply": "2023-03-13T16:20:36.103267Z"
        },
        "papermill": {
          "duration": 2.223922,
          "end_time": "2023-03-13T16:20:36.107881",
          "exception": false,
          "start_time": "2023-03-13T16:20:33.883959",
          "status": "completed"
        },
        "tags": [],
        "id": "7ef2085d"
      },
      "outputs": [],
      "source": [
        "price_agg.to_pandas().to_csv('data/price_and_date_preprocessing/price_agg.csv', index=False)"
      ]
    },
    {
      "cell_type": "code",
      "execution_count": null,
      "id": "75fa4997",
      "metadata": {
        "execution": {
          "iopub.execute_input": "2023-03-13T16:20:36.135891Z",
          "iopub.status.busy": "2023-03-13T16:20:36.135460Z",
          "iopub.status.idle": "2023-03-13T16:20:36.265653Z",
          "shell.execute_reply": "2023-03-13T16:20:36.264465Z"
        },
        "papermill": {
          "duration": 0.146996,
          "end_time": "2023-03-13T16:20:36.268187",
          "exception": false,
          "start_time": "2023-03-13T16:20:36.121191",
          "status": "completed"
        },
        "tags": [],
        "id": "75fa4997",
        "outputId": "a791fd85-6abc-4a76-dd18-01439680283e"
      },
      "outputs": [
        {
          "data": {
            "text/plain": [
              "21"
            ]
          },
          "execution_count": 12,
          "metadata": {},
          "output_type": "execute_result"
        }
      ],
      "source": [
        "del(price_agg)\n",
        "gc.collect()"
      ]
    },
    {
      "cell_type": "code",
      "execution_count": null,
      "id": "8a23d106",
      "metadata": {
        "execution": {
          "iopub.execute_input": "2023-03-13T16:20:36.295987Z",
          "iopub.status.busy": "2023-03-13T16:20:36.295549Z",
          "iopub.status.idle": "2023-03-13T16:20:51.515021Z",
          "shell.execute_reply": "2023-03-13T16:20:51.513657Z"
        },
        "papermill": {
          "duration": 15.236666,
          "end_time": "2023-03-13T16:20:51.518137",
          "exception": false,
          "start_time": "2023-03-13T16:20:36.281471",
          "status": "completed"
        },
        "tags": [],
        "id": "8a23d106"
      },
      "outputs": [],
      "source": [
        "from sklearn.preprocessing import StandardScaler\n",
        "\n",
        "data = data.to_pandas()\n",
        "prices = data[\"price\"].values\n",
        "prices = np.log1p( prices )\n",
        "scaler = StandardScaler()\n",
        "scaler.fit( prices.reshape(-1, 1) )\n",
        "prices = scaler.transform( prices.reshape(-1, 1) )\n",
        "prices = prices.reshape(-1, )        \n",
        "data[\"price\"] = prices\n",
        "data = pa.Table.from_pandas(data)"
      ]
    },
    {
      "cell_type": "code",
      "execution_count": null,
      "id": "a7aa104c",
      "metadata": {
        "execution": {
          "iopub.execute_input": "2023-03-13T16:20:51.546794Z",
          "iopub.status.busy": "2023-03-13T16:20:51.545888Z",
          "iopub.status.idle": "2023-03-13T16:20:51.676392Z",
          "shell.execute_reply": "2023-03-13T16:20:51.675042Z"
        },
        "papermill": {
          "duration": 0.147668,
          "end_time": "2023-03-13T16:20:51.678902",
          "exception": false,
          "start_time": "2023-03-13T16:20:51.531234",
          "status": "completed"
        },
        "tags": [],
        "id": "a7aa104c",
        "outputId": "86c980d2-5a2a-4d92-a91c-104068a5b5b1"
      },
      "outputs": [
        {
          "data": {
            "text/plain": [
              "42"
            ]
          },
          "execution_count": 14,
          "metadata": {},
          "output_type": "execute_result"
        }
      ],
      "source": [
        "del(prices)\n",
        "del(scaler)\n",
        "gc.collect()"
      ]
    },
    {
      "cell_type": "code",
      "execution_count": null,
      "id": "631f2bb5",
      "metadata": {
        "execution": {
          "iopub.execute_input": "2023-03-13T16:20:51.706509Z",
          "iopub.status.busy": "2023-03-13T16:20:51.706105Z",
          "iopub.status.idle": "2023-03-13T16:21:21.490385Z",
          "shell.execute_reply": "2023-03-13T16:21:21.488897Z"
        },
        "papermill": {
          "duration": 29.801254,
          "end_time": "2023-03-13T16:21:21.492990",
          "exception": false,
          "start_time": "2023-03-13T16:20:51.691736",
          "status": "completed"
        },
        "tags": [],
        "id": "631f2bb5",
        "outputId": "6ed15b36-a2ac-44b9-819d-928db77c4a7b"
      },
      "outputs": [
        {
          "name": "stdout",
          "output_type": "stream",
          "text": [
            "CPU times: user 27.4 s, sys: 2.57 s, total: 29.9 s\n",
            "Wall time: 29.8 s\n"
          ]
        }
      ],
      "source": [
        "%%time\n",
        "price = data.select(['user_id', 'price']).\\\n",
        "    group_by(['user_id']).aggregate([('price', 'mean'), ('price', 'approximate_median'), ('price', 'min'), ('price', 'max'), ('price', 'stddev')])"
      ]
    },
    {
      "cell_type": "code",
      "execution_count": null,
      "id": "5516d694",
      "metadata": {
        "execution": {
          "iopub.execute_input": "2023-03-13T16:21:21.521737Z",
          "iopub.status.busy": "2023-03-13T16:21:21.521286Z",
          "iopub.status.idle": "2023-03-13T16:21:24.046659Z",
          "shell.execute_reply": "2023-03-13T16:21:24.045275Z"
        },
        "papermill": {
          "duration": 2.543824,
          "end_time": "2023-03-13T16:21:24.049976",
          "exception": false,
          "start_time": "2023-03-13T16:21:21.506152",
          "status": "completed"
        },
        "tags": [],
        "id": "5516d694"
      },
      "outputs": [],
      "source": [
        "price.to_pandas().to_csv('data/price_and_date_preprocessing/price.csv', index=False)"
      ]
    },
    {
      "cell_type": "code",
      "execution_count": null,
      "id": "834e5d3a",
      "metadata": {
        "execution": {
          "iopub.execute_input": "2023-03-13T16:21:24.078420Z",
          "iopub.status.busy": "2023-03-13T16:21:24.077593Z",
          "iopub.status.idle": "2023-03-13T16:21:24.207591Z",
          "shell.execute_reply": "2023-03-13T16:21:24.206332Z"
        },
        "papermill": {
          "duration": 0.147306,
          "end_time": "2023-03-13T16:21:24.210323",
          "exception": false,
          "start_time": "2023-03-13T16:21:24.063017",
          "status": "completed"
        },
        "tags": [],
        "id": "834e5d3a",
        "outputId": "a3ac3f40-c7c5-4153-bb44-990078b2e74c"
      },
      "outputs": [
        {
          "data": {
            "text/plain": [
              "63"
            ]
          },
          "execution_count": 17,
          "metadata": {},
          "output_type": "execute_result"
        }
      ],
      "source": [
        "del(price)\n",
        "del(data)\n",
        "gc.collect()"
      ]
    },
    {
      "cell_type": "markdown",
      "id": "7fa2aaad",
      "metadata": {
        "papermill": {
          "duration": 0.012721,
          "end_time": "2023-03-13T16:21:49.892185",
          "exception": false,
          "start_time": "2023-03-13T16:21:49.879464",
          "status": "completed"
        },
        "tags": [],
        "id": "7fa2aaad"
      },
      "source": [
        "# Date\n",
        "I extract months, days_of_month, days_of_week from date and agregate request_cnt by it"
      ]
    },
    {
      "cell_type": "code",
      "execution_count": null,
      "id": "6bf721b2",
      "metadata": {
        "execution": {
          "iopub.execute_input": "2023-03-13T16:21:24.238569Z",
          "iopub.status.busy": "2023-03-13T16:21:24.238172Z",
          "iopub.status.idle": "2023-03-13T16:21:49.862442Z",
          "shell.execute_reply": "2023-03-13T16:21:49.860868Z"
        },
        "papermill": {
          "duration": 25.642279,
          "end_time": "2023-03-13T16:21:49.865962",
          "exception": false,
          "start_time": "2023-03-13T16:21:24.223683",
          "status": "completed"
        },
        "tags": [],
        "id": "6bf721b2"
      },
      "outputs": [],
      "source": [
        "data = pd.read_feather('/data/dataset_full.feather')\n",
        "data = pa.Table.from_pandas(data)"
      ]
    },
    {
      "cell_type": "code",
      "execution_count": null,
      "id": "75982e4a",
      "metadata": {
        "execution": {
          "iopub.execute_input": "2023-03-13T16:21:49.920339Z",
          "iopub.status.busy": "2023-03-13T16:21:49.919470Z",
          "iopub.status.idle": "2023-03-13T16:23:40.792311Z",
          "shell.execute_reply": "2023-03-13T16:23:40.790966Z"
        },
        "papermill": {
          "duration": 110.90377,
          "end_time": "2023-03-13T16:23:40.808946",
          "exception": false,
          "start_time": "2023-03-13T16:21:49.905176",
          "status": "completed"
        },
        "tags": [],
        "id": "75982e4a",
        "outputId": "2d7c3d96-d021-448d-e965-d1e716a8c01b"
      },
      "outputs": [
        {
          "data": {
            "text/html": [
              "<div>\n",
              "<style scoped>\n",
              "    .dataframe tbody tr th:only-of-type {\n",
              "        vertical-align: middle;\n",
              "    }\n",
              "\n",
              "    .dataframe tbody tr th {\n",
              "        vertical-align: top;\n",
              "    }\n",
              "\n",
              "    .dataframe thead th {\n",
              "        text-align: right;\n",
              "    }\n",
              "</style>\n",
              "<table border=\"1\" class=\"dataframe\">\n",
              "  <thead>\n",
              "    <tr style=\"text-align: right;\">\n",
              "      <th></th>\n",
              "      <th>user_id</th>\n",
              "      <th>date</th>\n",
              "      <th>request_cnt</th>\n",
              "      <th>part_of_day</th>\n",
              "      <th>month</th>\n",
              "      <th>dayofmonth</th>\n",
              "      <th>dayofweek</th>\n",
              "    </tr>\n",
              "  </thead>\n",
              "  <tbody>\n",
              "    <tr>\n",
              "      <th>0</th>\n",
              "      <td>45098</td>\n",
              "      <td>2022-06-15</td>\n",
              "      <td>1</td>\n",
              "      <td>morning</td>\n",
              "      <td>6</td>\n",
              "      <td>15</td>\n",
              "      <td>2</td>\n",
              "    </tr>\n",
              "    <tr>\n",
              "      <th>1</th>\n",
              "      <td>45098</td>\n",
              "      <td>2022-06-19</td>\n",
              "      <td>1</td>\n",
              "      <td>morning</td>\n",
              "      <td>6</td>\n",
              "      <td>19</td>\n",
              "      <td>6</td>\n",
              "    </tr>\n",
              "    <tr>\n",
              "      <th>2</th>\n",
              "      <td>45098</td>\n",
              "      <td>2022-06-12</td>\n",
              "      <td>1</td>\n",
              "      <td>day</td>\n",
              "      <td>6</td>\n",
              "      <td>12</td>\n",
              "      <td>6</td>\n",
              "    </tr>\n",
              "    <tr>\n",
              "      <th>3</th>\n",
              "      <td>45098</td>\n",
              "      <td>2022-05-16</td>\n",
              "      <td>1</td>\n",
              "      <td>day</td>\n",
              "      <td>5</td>\n",
              "      <td>16</td>\n",
              "      <td>0</td>\n",
              "    </tr>\n",
              "    <tr>\n",
              "      <th>4</th>\n",
              "      <td>45098</td>\n",
              "      <td>2022-05-30</td>\n",
              "      <td>1</td>\n",
              "      <td>day</td>\n",
              "      <td>5</td>\n",
              "      <td>30</td>\n",
              "      <td>0</td>\n",
              "    </tr>\n",
              "    <tr>\n",
              "      <th>...</th>\n",
              "      <td>...</td>\n",
              "      <td>...</td>\n",
              "      <td>...</td>\n",
              "      <td>...</td>\n",
              "      <td>...</td>\n",
              "      <td>...</td>\n",
              "      <td>...</td>\n",
              "    </tr>\n",
              "    <tr>\n",
              "      <th>322899430</th>\n",
              "      <td>300964</td>\n",
              "      <td>2021-07-12</td>\n",
              "      <td>1</td>\n",
              "      <td>morning</td>\n",
              "      <td>7</td>\n",
              "      <td>12</td>\n",
              "      <td>0</td>\n",
              "    </tr>\n",
              "    <tr>\n",
              "      <th>322899431</th>\n",
              "      <td>300964</td>\n",
              "      <td>2021-06-20</td>\n",
              "      <td>1</td>\n",
              "      <td>evening</td>\n",
              "      <td>6</td>\n",
              "      <td>20</td>\n",
              "      <td>6</td>\n",
              "    </tr>\n",
              "    <tr>\n",
              "      <th>322899432</th>\n",
              "      <td>300964</td>\n",
              "      <td>2021-08-05</td>\n",
              "      <td>1</td>\n",
              "      <td>day</td>\n",
              "      <td>8</td>\n",
              "      <td>5</td>\n",
              "      <td>3</td>\n",
              "    </tr>\n",
              "    <tr>\n",
              "      <th>322899433</th>\n",
              "      <td>300964</td>\n",
              "      <td>2021-07-19</td>\n",
              "      <td>1</td>\n",
              "      <td>evening</td>\n",
              "      <td>7</td>\n",
              "      <td>19</td>\n",
              "      <td>0</td>\n",
              "    </tr>\n",
              "    <tr>\n",
              "      <th>322899434</th>\n",
              "      <td>300964</td>\n",
              "      <td>2021-08-09</td>\n",
              "      <td>1</td>\n",
              "      <td>night</td>\n",
              "      <td>8</td>\n",
              "      <td>9</td>\n",
              "      <td>0</td>\n",
              "    </tr>\n",
              "  </tbody>\n",
              "</table>\n",
              "<p>322899435 rows × 7 columns</p>\n",
              "</div>"
            ],
            "text/plain": [
              "           user_id       date  request_cnt part_of_day  month  dayofmonth  \\\n",
              "0            45098 2022-06-15            1     morning      6          15   \n",
              "1            45098 2022-06-19            1     morning      6          19   \n",
              "2            45098 2022-06-12            1         day      6          12   \n",
              "3            45098 2022-05-16            1         day      5          16   \n",
              "4            45098 2022-05-30            1         day      5          30   \n",
              "...            ...        ...          ...         ...    ...         ...   \n",
              "322899430   300964 2021-07-12            1     morning      7          12   \n",
              "322899431   300964 2021-06-20            1     evening      6          20   \n",
              "322899432   300964 2021-08-05            1         day      8           5   \n",
              "322899433   300964 2021-07-19            1     evening      7          19   \n",
              "322899434   300964 2021-08-09            1       night      8           9   \n",
              "\n",
              "           dayofweek  \n",
              "0                  2  \n",
              "1                  6  \n",
              "2                  6  \n",
              "3                  0  \n",
              "4                  0  \n",
              "...              ...  \n",
              "322899430          0  \n",
              "322899431          6  \n",
              "322899432          3  \n",
              "322899433          0  \n",
              "322899434          0  \n",
              "\n",
              "[322899435 rows x 7 columns]"
            ]
          },
          "execution_count": 19,
          "metadata": {},
          "output_type": "execute_result"
        }
      ],
      "source": [
        "data = data.select(['user_id', 'date', 'request_cnt', 'part_of_day']).to_pandas()\n",
        "data['month'] = data['date'].dt.month\n",
        "data['dayofmonth'] = data['date'].dt.day\n",
        "data['dayofweek'] = data['date'].dt.dayofweek\n",
        "data"
      ]
    },
    {
      "cell_type": "code",
      "execution_count": null,
      "id": "257ad611",
      "metadata": {
        "execution": {
          "iopub.execute_input": "2023-03-13T16:23:40.838656Z",
          "iopub.status.busy": "2023-03-13T16:23:40.838234Z",
          "iopub.status.idle": "2023-03-13T16:23:42.374585Z",
          "shell.execute_reply": "2023-03-13T16:23:42.373466Z"
        },
        "papermill": {
          "duration": 1.555485,
          "end_time": "2023-03-13T16:23:42.377913",
          "exception": false,
          "start_time": "2023-03-13T16:23:40.822428",
          "status": "completed"
        },
        "tags": [],
        "id": "257ad611"
      },
      "outputs": [],
      "source": [
        "data = pa.Table.from_pandas(data)"
      ]
    },
    {
      "cell_type": "markdown",
      "id": "98634ea9",
      "metadata": {
        "id": "98634ea9"
      },
      "source": [
        "# Matrix\n",
        "I encode this features with count or sum of request_cnt"
      ]
    },
    {
      "cell_type": "markdown",
      "id": "b8fa9b43",
      "metadata": {
        "papermill": {
          "duration": 0.013147,
          "end_time": "2023-03-13T16:23:42.404672",
          "exception": false,
          "start_time": "2023-03-13T16:23:42.391525",
          "status": "completed"
        },
        "tags": [],
        "id": "b8fa9b43"
      },
      "source": [
        "### month"
      ]
    },
    {
      "cell_type": "code",
      "execution_count": null,
      "id": "3d98cc1a",
      "metadata": {
        "execution": {
          "iopub.execute_input": "2023-03-13T16:23:42.434035Z",
          "iopub.status.busy": "2023-03-13T16:23:42.433341Z",
          "iopub.status.idle": "2023-03-13T16:23:55.448766Z",
          "shell.execute_reply": "2023-03-13T16:23:55.447381Z"
        },
        "papermill": {
          "duration": 13.033363,
          "end_time": "2023-03-13T16:23:55.451591",
          "exception": false,
          "start_time": "2023-03-13T16:23:42.418228",
          "status": "completed"
        },
        "tags": [],
        "id": "3d98cc1a",
        "outputId": "9fc87e29-3aaa-4532-b0e0-e61335f74ccb"
      },
      "outputs": [
        {
          "name": "stdout",
          "output_type": "stream",
          "text": [
            "CPU times: user 12.2 s, sys: 816 ms, total: 13 s\n",
            "Wall time: 13 s\n"
          ]
        }
      ],
      "source": [
        "%%time\n",
        "month_agg = data.select(['user_id', 'month', 'request_cnt']).\\\n",
        "    group_by(['user_id', 'month']).aggregate([('request_cnt', 'count')])"
      ]
    },
    {
      "cell_type": "code",
      "execution_count": null,
      "id": "ffd7590d",
      "metadata": {
        "execution": {
          "iopub.execute_input": "2023-03-13T16:23:55.480785Z",
          "iopub.status.busy": "2023-03-13T16:23:55.480394Z",
          "iopub.status.idle": "2023-03-13T16:23:55.916522Z",
          "shell.execute_reply": "2023-03-13T16:23:55.915019Z"
        },
        "papermill": {
          "duration": 0.45413,
          "end_time": "2023-03-13T16:23:55.919386",
          "exception": false,
          "start_time": "2023-03-13T16:23:55.465256",
          "status": "completed"
        },
        "tags": [],
        "id": "ffd7590d",
        "outputId": "e1a0b225-02b2-49fd-a7f0-d260149bb4b6"
      },
      "outputs": [
        {
          "name": "stdout",
          "output_type": "stream",
          "text": [
            "12 months\n",
            "415317 users\n"
          ]
        }
      ],
      "source": [
        "month_set = set(month_agg.select(['month']).to_pandas()['month'])\n",
        "print(f'{len(month_set)} months')\n",
        "month_dict = {url: idurl for url, idurl in zip(month_set, range(len(month_set)))}\n",
        "usr_set = set(month_agg.select(['user_id']).to_pandas()['user_id'])\n",
        "print(f'{len(usr_set)} users')\n",
        "usr_dict = {usr: user_id for usr, user_id in zip(usr_set, range(len(usr_set)))}"
      ]
    },
    {
      "cell_type": "code",
      "execution_count": null,
      "id": "b42ce719",
      "metadata": {
        "execution": {
          "iopub.execute_input": "2023-03-13T16:23:55.949250Z",
          "iopub.status.busy": "2023-03-13T16:23:55.948779Z",
          "iopub.status.idle": "2023-03-13T16:23:56.479248Z",
          "shell.execute_reply": "2023-03-13T16:23:56.476878Z"
        },
        "papermill": {
          "duration": 0.54901,
          "end_time": "2023-03-13T16:23:56.482238",
          "exception": false,
          "start_time": "2023-03-13T16:23:55.933228",
          "status": "completed"
        },
        "tags": [],
        "id": "b42ce719"
      },
      "outputs": [],
      "source": [
        "values = np.array(month_agg.select(['request_cnt_count']).to_pandas()['request_cnt_count'])\n",
        "rows = np.array(month_agg.select(['user_id']).to_pandas()['user_id'].map(usr_dict))\n",
        "cols = np.array(month_agg.select(['month']).to_pandas()['month'].map(month_dict))\n",
        "mat = scipy.sparse.coo_matrix((values, (rows, cols)), shape=(rows.max() + 1, cols.max() + 1)).toarray()"
      ]
    },
    {
      "cell_type": "code",
      "execution_count": null,
      "id": "27645c5d",
      "metadata": {
        "execution": {
          "iopub.execute_input": "2023-03-13T16:23:56.511663Z",
          "iopub.status.busy": "2023-03-13T16:23:56.511260Z",
          "iopub.status.idle": "2023-03-13T16:23:58.114760Z",
          "shell.execute_reply": "2023-03-13T16:23:58.113145Z"
        },
        "papermill": {
          "duration": 1.621641,
          "end_time": "2023-03-13T16:23:58.117619",
          "exception": false,
          "start_time": "2023-03-13T16:23:56.495978",
          "status": "completed"
        },
        "tags": [],
        "id": "27645c5d",
        "outputId": "297c320d-6419-4242-f731-448c288392d0"
      },
      "outputs": [
        {
          "name": "stdout",
          "output_type": "stream",
          "text": [
            "CPU times: user 1.57 s, sys: 83.7 ms, total: 1.65 s\n",
            "Wall time: 1.6 s\n"
          ]
        }
      ],
      "source": [
        "%%time\n",
        "inv_usr_map = {v: k for k, v in usr_dict.items()}\n",
        "month_mat = pd.DataFrame(mat)\n",
        "month_mat['user_id'] = month_mat.index.map(inv_usr_map)\n",
        "month_mat.to_csv('data/price_and_date_preprocessing/month_count.csv', index=False)"
      ]
    },
    {
      "cell_type": "code",
      "execution_count": null,
      "id": "08b9fa9f",
      "metadata": {
        "execution": {
          "iopub.execute_input": "2023-03-13T16:23:58.148031Z",
          "iopub.status.busy": "2023-03-13T16:23:58.147571Z",
          "iopub.status.idle": "2023-03-13T16:23:58.355885Z",
          "shell.execute_reply": "2023-03-13T16:23:58.354553Z"
        },
        "papermill": {
          "duration": 0.226177,
          "end_time": "2023-03-13T16:23:58.358441",
          "exception": false,
          "start_time": "2023-03-13T16:23:58.132264",
          "status": "completed"
        },
        "tags": [],
        "id": "08b9fa9f",
        "outputId": "3e008090-fcd0-49f9-f6e8-e46579627f40"
      },
      "outputs": [
        {
          "data": {
            "text/plain": [
              "42"
            ]
          },
          "execution_count": 25,
          "metadata": {},
          "output_type": "execute_result"
        }
      ],
      "source": [
        "del(month_agg)\n",
        "del(month_set)\n",
        "del(month_dict)\n",
        "del(usr_set)\n",
        "del(usr_dict)\n",
        "del(values)\n",
        "del(rows)\n",
        "del(cols)\n",
        "del(mat)\n",
        "del(inv_usr_map)\n",
        "del(month_mat)\n",
        "gc.collect()"
      ]
    },
    {
      "cell_type": "markdown",
      "id": "75632630",
      "metadata": {
        "papermill": {
          "duration": 0.013422,
          "end_time": "2023-03-13T16:23:58.385764",
          "exception": false,
          "start_time": "2023-03-13T16:23:58.372342",
          "status": "completed"
        },
        "tags": [],
        "id": "75632630"
      },
      "source": [
        "### dayofmonth"
      ]
    },
    {
      "cell_type": "code",
      "execution_count": null,
      "id": "38f317e3",
      "metadata": {
        "execution": {
          "iopub.execute_input": "2023-03-13T16:23:58.415322Z",
          "iopub.status.busy": "2023-03-13T16:23:58.414897Z",
          "iopub.status.idle": "2023-03-13T16:24:13.829517Z",
          "shell.execute_reply": "2023-03-13T16:24:13.827828Z"
        },
        "papermill": {
          "duration": 15.43277,
          "end_time": "2023-03-13T16:24:13.832531",
          "exception": false,
          "start_time": "2023-03-13T16:23:58.399761",
          "status": "completed"
        },
        "tags": [],
        "id": "38f317e3",
        "outputId": "934ec50f-023f-4795-b019-9c66274cec25"
      },
      "outputs": [
        {
          "name": "stdout",
          "output_type": "stream",
          "text": [
            "CPU times: user 14.3 s, sys: 1.17 s, total: 15.4 s\n",
            "Wall time: 15.4 s\n"
          ]
        }
      ],
      "source": [
        "%%time\n",
        "dayofmonth_agg = data.select(['user_id', 'dayofmonth', 'request_cnt']).\\\n",
        "    group_by(['user_id', 'dayofmonth']).aggregate([('request_cnt', 'count')])"
      ]
    },
    {
      "cell_type": "code",
      "execution_count": null,
      "id": "6b0920b2",
      "metadata": {
        "execution": {
          "iopub.execute_input": "2023-03-13T16:24:13.862441Z",
          "iopub.status.busy": "2023-03-13T16:24:13.862043Z",
          "iopub.status.idle": "2023-03-13T16:24:15.840872Z",
          "shell.execute_reply": "2023-03-13T16:24:15.839370Z"
        },
        "papermill": {
          "duration": 1.997159,
          "end_time": "2023-03-13T16:24:15.843814",
          "exception": false,
          "start_time": "2023-03-13T16:24:13.846655",
          "status": "completed"
        },
        "tags": [],
        "id": "6b0920b2",
        "outputId": "24edba6a-fd7a-4724-9247-3a7d8a421672"
      },
      "outputs": [
        {
          "name": "stdout",
          "output_type": "stream",
          "text": [
            "31 daysofmonth\n",
            "415317 users\n"
          ]
        }
      ],
      "source": [
        "dayofmonth_set = set(dayofmonth_agg.select(['dayofmonth']).to_pandas()['dayofmonth'])\n",
        "print(f'{len(dayofmonth_set)} daysofmonth')\n",
        "dayofmonth_dict = {url: idurl for url, idurl in zip(dayofmonth_set, range(len(dayofmonth_set)))}\n",
        "usr_set = set(dayofmonth_agg.select(['user_id']).to_pandas()['user_id'])\n",
        "print(f'{len(usr_set)} users')\n",
        "usr_dict = {usr: user_id for usr, user_id in zip(usr_set, range(len(usr_set)))}"
      ]
    },
    {
      "cell_type": "code",
      "execution_count": null,
      "id": "2768258e",
      "metadata": {
        "execution": {
          "iopub.execute_input": "2023-03-13T16:24:15.874580Z",
          "iopub.status.busy": "2023-03-13T16:24:15.874133Z",
          "iopub.status.idle": "2023-03-13T16:24:16.974717Z",
          "shell.execute_reply": "2023-03-13T16:24:16.973335Z"
        },
        "papermill": {
          "duration": 1.11865,
          "end_time": "2023-03-13T16:24:16.977231",
          "exception": false,
          "start_time": "2023-03-13T16:24:15.858581",
          "status": "completed"
        },
        "tags": [],
        "id": "2768258e",
        "outputId": "37586631-287c-4bac-a7c9-23fb2f6aa22d"
      },
      "outputs": [
        {
          "name": "stdout",
          "output_type": "stream",
          "text": [
            "CPU times: user 851 ms, sys: 259 ms, total: 1.11 s\n",
            "Wall time: 1.09 s\n"
          ]
        }
      ],
      "source": [
        "%%time\n",
        "values = np.array(dayofmonth_agg.select(['request_cnt_count']).to_pandas()['request_cnt_count'])\n",
        "rows = np.array(dayofmonth_agg.select(['user_id']).to_pandas()['user_id'].map(usr_dict))\n",
        "cols = np.array(dayofmonth_agg.select(['dayofmonth']).to_pandas()['dayofmonth'].map(dayofmonth_dict))\n",
        "mat = scipy.sparse.coo_matrix((values, (rows, cols)), shape=(rows.max() + 1, cols.max() + 1)).toarray()"
      ]
    },
    {
      "cell_type": "code",
      "execution_count": null,
      "id": "16ff60e8",
      "metadata": {
        "execution": {
          "iopub.execute_input": "2023-03-13T16:24:17.008707Z",
          "iopub.status.busy": "2023-03-13T16:24:17.008010Z",
          "iopub.status.idle": "2023-03-13T16:24:19.868398Z",
          "shell.execute_reply": "2023-03-13T16:24:19.867306Z"
        },
        "papermill": {
          "duration": 2.87944,
          "end_time": "2023-03-13T16:24:19.871493",
          "exception": false,
          "start_time": "2023-03-13T16:24:16.992053",
          "status": "completed"
        },
        "tags": [],
        "id": "16ff60e8",
        "outputId": "566ffe32-da29-48cd-85c1-aa197f5200f2"
      },
      "outputs": [
        {
          "name": "stdout",
          "output_type": "stream",
          "text": [
            "CPU times: user 2.78 s, sys: 81.2 ms, total: 2.86 s\n",
            "Wall time: 2.85 s\n"
          ]
        }
      ],
      "source": [
        "%%time\n",
        "inv_usr_map = {v: k for k, v in usr_dict.items()}\n",
        "dayofmonth_mat = pd.DataFrame(mat)\n",
        "dayofmonth_mat['user_id'] = dayofmonth_mat.index.map(inv_usr_map)\n",
        "dayofmonth_mat.to_csv('data/price_and_date_preprocessing/dayofmonth_count.csv', index=False)"
      ]
    },
    {
      "cell_type": "code",
      "execution_count": null,
      "id": "cb2ac7ef",
      "metadata": {
        "execution": {
          "iopub.execute_input": "2023-03-13T16:24:19.904197Z",
          "iopub.status.busy": "2023-03-13T16:24:19.903464Z",
          "iopub.status.idle": "2023-03-13T16:24:20.097597Z",
          "shell.execute_reply": "2023-03-13T16:24:20.096309Z"
        },
        "papermill": {
          "duration": 0.213712,
          "end_time": "2023-03-13T16:24:20.100276",
          "exception": false,
          "start_time": "2023-03-13T16:24:19.886564",
          "status": "completed"
        },
        "tags": [],
        "id": "cb2ac7ef",
        "outputId": "f792198e-80b9-4d95-80cb-e4847001fa9f"
      },
      "outputs": [
        {
          "data": {
            "text/plain": [
              "21"
            ]
          },
          "execution_count": 30,
          "metadata": {},
          "output_type": "execute_result"
        }
      ],
      "source": [
        "del(dayofmonth_agg)\n",
        "del(dayofmonth_set)\n",
        "del(dayofmonth_dict)\n",
        "del(usr_set)\n",
        "del(usr_dict)\n",
        "del(values)\n",
        "del(rows)\n",
        "del(cols)\n",
        "del(mat)\n",
        "del(inv_usr_map)\n",
        "del(dayofmonth_mat)\n",
        "gc.collect()"
      ]
    },
    {
      "cell_type": "markdown",
      "id": "3027183a",
      "metadata": {
        "papermill": {
          "duration": 0.01494,
          "end_time": "2023-03-13T16:24:20.130643",
          "exception": false,
          "start_time": "2023-03-13T16:24:20.115703",
          "status": "completed"
        },
        "tags": [],
        "id": "3027183a"
      },
      "source": [
        "### dayofweek"
      ]
    },
    {
      "cell_type": "code",
      "execution_count": null,
      "id": "de6ecdce",
      "metadata": {
        "execution": {
          "iopub.execute_input": "2023-03-13T16:24:20.162887Z",
          "iopub.status.busy": "2023-03-13T16:24:20.162196Z",
          "iopub.status.idle": "2023-03-13T16:24:33.779717Z",
          "shell.execute_reply": "2023-03-13T16:24:33.778263Z"
        },
        "papermill": {
          "duration": 13.636878,
          "end_time": "2023-03-13T16:24:33.782590",
          "exception": false,
          "start_time": "2023-03-13T16:24:20.145712",
          "status": "completed"
        },
        "tags": [],
        "id": "de6ecdce",
        "outputId": "b80cb49c-36e9-4563-fc27-58b984bd9727"
      },
      "outputs": [
        {
          "name": "stdout",
          "output_type": "stream",
          "text": [
            "CPU times: user 12.8 s, sys: 877 ms, total: 13.6 s\n",
            "Wall time: 13.6 s\n"
          ]
        }
      ],
      "source": [
        "%%time\n",
        "dayofweek_agg = data.select(['user_id', 'dayofweek', 'request_cnt']).\\\n",
        "    group_by(['user_id', 'dayofweek']).aggregate([('request_cnt', 'sum')])"
      ]
    },
    {
      "cell_type": "code",
      "execution_count": null,
      "id": "2f1196e4",
      "metadata": {
        "execution": {
          "iopub.execute_input": "2023-03-13T16:24:33.814896Z",
          "iopub.status.busy": "2023-03-13T16:24:33.814466Z",
          "iopub.status.idle": "2023-03-13T16:24:34.653484Z",
          "shell.execute_reply": "2023-03-13T16:24:34.651623Z"
        },
        "papermill": {
          "duration": 0.859354,
          "end_time": "2023-03-13T16:24:34.657233",
          "exception": false,
          "start_time": "2023-03-13T16:24:33.797879",
          "status": "completed"
        },
        "tags": [],
        "id": "2f1196e4",
        "outputId": "1bf07403-5388-4c7f-fc12-8a5b5274d9e3"
      },
      "outputs": [
        {
          "name": "stdout",
          "output_type": "stream",
          "text": [
            "7 dayofweeks\n",
            "415317 users\n"
          ]
        }
      ],
      "source": [
        "dayofweek_set = set(dayofweek_agg.select(['dayofweek']).to_pandas()['dayofweek'])\n",
        "print(f'{len(dayofweek_set)} dayofweeks')\n",
        "dayofweek_dict = {url: idurl for url, idurl in zip(dayofweek_set, range(len(dayofweek_set)))}\n",
        "usr_set = set(dayofweek_agg.select(['user_id']).to_pandas()['user_id'])\n",
        "print(f'{len(usr_set)} users')\n",
        "usr_dict = {usr: user_id for usr, user_id in zip(usr_set, range(len(usr_set)))}"
      ]
    },
    {
      "cell_type": "code",
      "execution_count": null,
      "id": "67811a2d",
      "metadata": {
        "execution": {
          "iopub.execute_input": "2023-03-13T16:24:34.692605Z",
          "iopub.status.busy": "2023-03-13T16:24:34.692154Z",
          "iopub.status.idle": "2023-03-13T16:24:35.298912Z",
          "shell.execute_reply": "2023-03-13T16:24:35.297092Z"
        },
        "papermill": {
          "duration": 0.627497,
          "end_time": "2023-03-13T16:24:35.301754",
          "exception": false,
          "start_time": "2023-03-13T16:24:34.674257",
          "status": "completed"
        },
        "tags": [],
        "id": "67811a2d",
        "outputId": "8f7ca6e8-646e-48fb-e5c3-6bdca80fc9a8"
      },
      "outputs": [
        {
          "name": "stdout",
          "output_type": "stream",
          "text": [
            "CPU times: user 538 ms, sys: 77.4 ms, total: 616 ms\n",
            "Wall time: 599 ms\n"
          ]
        }
      ],
      "source": [
        "%%time\n",
        "values = np.array(dayofweek_agg.select(['request_cnt_sum']).to_pandas()['request_cnt_sum'])\n",
        "rows = np.array(dayofweek_agg.select(['user_id']).to_pandas()['user_id'].map(usr_dict))\n",
        "cols = np.array(dayofweek_agg.select(['dayofweek']).to_pandas()['dayofweek'].map(dayofweek_dict))\n",
        "mat = scipy.sparse.coo_matrix((values, (rows, cols)), shape=(rows.max() + 1, cols.max() + 1)).toarray()"
      ]
    },
    {
      "cell_type": "code",
      "execution_count": null,
      "id": "103e5bc3",
      "metadata": {
        "execution": {
          "iopub.execute_input": "2023-03-13T16:24:35.334709Z",
          "iopub.status.busy": "2023-03-13T16:24:35.332324Z",
          "iopub.status.idle": "2023-03-13T16:24:36.747644Z",
          "shell.execute_reply": "2023-03-13T16:24:36.746182Z"
        },
        "papermill": {
          "duration": 1.433964,
          "end_time": "2023-03-13T16:24:36.750480",
          "exception": false,
          "start_time": "2023-03-13T16:24:35.316516",
          "status": "completed"
        },
        "tags": [],
        "id": "103e5bc3",
        "outputId": "541abbea-74a6-4cf4-abf7-df238ba8558c"
      },
      "outputs": [
        {
          "name": "stdout",
          "output_type": "stream",
          "text": [
            "CPU times: user 1.34 s, sys: 68.8 ms, total: 1.41 s\n",
            "Wall time: 1.41 s\n"
          ]
        }
      ],
      "source": [
        "%%time\n",
        "inv_usr_map = {v: k for k, v in usr_dict.items()}\n",
        "dayofweek_mat = pd.DataFrame(mat)\n",
        "dayofweek_mat['user_id'] = dayofweek_mat.index.map(inv_usr_map)\n",
        "dayofweek_mat.to_csv('data/price_and_date_preprocessing/dayofweek_sum.csv', index=False)"
      ]
    },
    {
      "cell_type": "code",
      "execution_count": null,
      "id": "2b76a69a",
      "metadata": {
        "execution": {
          "iopub.execute_input": "2023-03-13T16:24:36.783950Z",
          "iopub.status.busy": "2023-03-13T16:24:36.782690Z",
          "iopub.status.idle": "2023-03-13T16:24:36.968561Z",
          "shell.execute_reply": "2023-03-13T16:24:36.967687Z"
        },
        "papermill": {
          "duration": 0.204562,
          "end_time": "2023-03-13T16:24:36.970921",
          "exception": false,
          "start_time": "2023-03-13T16:24:36.766359",
          "status": "completed"
        },
        "tags": [],
        "id": "2b76a69a",
        "outputId": "e1760c45-f5c0-4aa2-e26b-43eae3b755c6"
      },
      "outputs": [
        {
          "data": {
            "text/plain": [
              "21"
            ]
          },
          "execution_count": 35,
          "metadata": {},
          "output_type": "execute_result"
        }
      ],
      "source": [
        "del(dayofweek_agg)\n",
        "del(dayofweek_set)\n",
        "del(dayofweek_dict)\n",
        "del(usr_set)\n",
        "del(usr_dict)\n",
        "del(values)\n",
        "del(rows)\n",
        "del(cols)\n",
        "del(mat)\n",
        "del(inv_usr_map)\n",
        "del(dayofweek_mat)\n",
        "gc.collect()"
      ]
    },
    {
      "cell_type": "markdown",
      "id": "79b73e05",
      "metadata": {
        "papermill": {
          "duration": 0.015264,
          "end_time": "2023-03-13T16:24:37.001922",
          "exception": false,
          "start_time": "2023-03-13T16:24:36.986658",
          "status": "completed"
        },
        "tags": [],
        "id": "79b73e05"
      },
      "source": [
        "## AGG\n",
        "I aggregate counts and sums of request_cnt by features and user and count mean, median, min, max and standard deviation od it by each user"
      ]
    },
    {
      "cell_type": "markdown",
      "id": "6e7b29b3",
      "metadata": {
        "id": "6e7b29b3"
      },
      "source": [
        "### month"
      ]
    },
    {
      "cell_type": "code",
      "execution_count": null,
      "id": "669599f3",
      "metadata": {
        "execution": {
          "iopub.execute_input": "2023-03-13T16:24:37.035607Z",
          "iopub.status.busy": "2023-03-13T16:24:37.035051Z",
          "iopub.status.idle": "2023-03-13T16:25:06.627831Z",
          "shell.execute_reply": "2023-03-13T16:25:06.624990Z"
        },
        "papermill": {
          "duration": 29.619915,
          "end_time": "2023-03-13T16:25:06.636621",
          "exception": false,
          "start_time": "2023-03-13T16:24:37.016706",
          "status": "completed"
        },
        "tags": [],
        "id": "669599f3",
        "outputId": "ddc6d681-5048-43c3-8846-37735c21d466"
      },
      "outputs": [
        {
          "name": "stdout",
          "output_type": "stream",
          "text": [
            "CPU times: user 17.3 s, sys: 12.2 s, total: 29.6 s\n",
            "Wall time: 29.6 s\n"
          ]
        }
      ],
      "source": [
        "%%time\n",
        "month_agg = data.select(['user_id', 'month', 'request_cnt']).\\\n",
        "    group_by(['user_id', 'month']).aggregate([('request_cnt', 'count'), ('request_cnt', 'sum')]).\\\n",
        "    group_by(['user_id']).aggregate([('request_cnt_count', 'mean'), ('request_cnt_count', 'approximate_median'), ('request_cnt_count', 'min'), ('request_cnt_count', 'max'), ('request_cnt_count', 'stddev'), ('request_cnt_sum', 'mean'), ('request_cnt_sum', 'approximate_median'), ('request_cnt_sum', 'min'), ('request_cnt_sum', 'max'), ('request_cnt_sum', 'stddev')])"
      ]
    },
    {
      "cell_type": "code",
      "execution_count": null,
      "id": "bc72c2c9",
      "metadata": {
        "execution": {
          "iopub.execute_input": "2023-03-13T16:25:06.681084Z",
          "iopub.status.busy": "2023-03-13T16:25:06.679638Z",
          "iopub.status.idle": "2023-03-13T16:25:09.514447Z",
          "shell.execute_reply": "2023-03-13T16:25:09.513251Z"
        },
        "papermill": {
          "duration": 2.857483,
          "end_time": "2023-03-13T16:25:09.517582",
          "exception": false,
          "start_time": "2023-03-13T16:25:06.660099",
          "status": "completed"
        },
        "tags": [],
        "id": "bc72c2c9"
      },
      "outputs": [],
      "source": [
        "month_agg.to_pandas().to_csv('data/price_and_date_preprocessing/month_agg.csv', index=False)"
      ]
    },
    {
      "cell_type": "code",
      "execution_count": null,
      "id": "e7187e84",
      "metadata": {
        "execution": {
          "iopub.execute_input": "2023-03-13T16:25:09.549649Z",
          "iopub.status.busy": "2023-03-13T16:25:09.549192Z",
          "iopub.status.idle": "2023-03-13T16:25:09.793212Z",
          "shell.execute_reply": "2023-03-13T16:25:09.791942Z"
        },
        "papermill": {
          "duration": 0.262684,
          "end_time": "2023-03-13T16:25:09.795835",
          "exception": false,
          "start_time": "2023-03-13T16:25:09.533151",
          "status": "completed"
        },
        "tags": [],
        "id": "e7187e84",
        "outputId": "6e2f0879-7814-4d49-9aad-09d8988ab500"
      },
      "outputs": [
        {
          "data": {
            "text/plain": [
              "63"
            ]
          },
          "execution_count": 38,
          "metadata": {},
          "output_type": "execute_result"
        }
      ],
      "source": [
        "del(month_agg)\n",
        "gc.collect()"
      ]
    },
    {
      "cell_type": "markdown",
      "id": "5225afa0",
      "metadata": {
        "id": "5225afa0"
      },
      "source": [
        "### day_of_month"
      ]
    },
    {
      "cell_type": "code",
      "execution_count": null,
      "id": "d9af483e",
      "metadata": {
        "execution": {
          "iopub.execute_input": "2023-03-13T16:25:09.828383Z",
          "iopub.status.busy": "2023-03-13T16:25:09.827920Z",
          "iopub.status.idle": "2023-03-13T16:25:34.538269Z",
          "shell.execute_reply": "2023-03-13T16:25:34.536857Z"
        },
        "papermill": {
          "duration": 24.730024,
          "end_time": "2023-03-13T16:25:34.540934",
          "exception": false,
          "start_time": "2023-03-13T16:25:09.810910",
          "status": "completed"
        },
        "tags": [],
        "id": "d9af483e",
        "outputId": "8bccd021-76ec-4272-8b0e-d6b87048d94d"
      },
      "outputs": [
        {
          "name": "stdout",
          "output_type": "stream",
          "text": [
            "CPU times: user 21.5 s, sys: 3.42 s, total: 24.9 s\n",
            "Wall time: 24.7 s\n"
          ]
        }
      ],
      "source": [
        "%%time\n",
        "dayofmonth_agg = data.select(['user_id', 'dayofmonth', 'request_cnt']).\\\n",
        "    group_by(['user_id', 'dayofmonth']).aggregate([('request_cnt', 'count'), ('request_cnt', 'sum')]).\\\n",
        "    group_by(['user_id']).aggregate([('request_cnt_count', 'mean'), ('request_cnt_count', 'approximate_median'), ('request_cnt_count', 'min'), ('request_cnt_count', 'max'), ('request_cnt_count', 'stddev'), ('request_cnt_sum', 'mean'), ('request_cnt_sum', 'approximate_median'), ('request_cnt_sum', 'min'), ('request_cnt_sum', 'max'), ('request_cnt_sum', 'stddev')])"
      ]
    },
    {
      "cell_type": "code",
      "execution_count": null,
      "id": "402fd279",
      "metadata": {
        "execution": {
          "iopub.execute_input": "2023-03-13T16:25:34.574480Z",
          "iopub.status.busy": "2023-03-13T16:25:34.574048Z",
          "iopub.status.idle": "2023-03-13T16:25:37.735244Z",
          "shell.execute_reply": "2023-03-13T16:25:37.733709Z"
        },
        "papermill": {
          "duration": 3.18133,
          "end_time": "2023-03-13T16:25:37.738391",
          "exception": false,
          "start_time": "2023-03-13T16:25:34.557061",
          "status": "completed"
        },
        "tags": [],
        "id": "402fd279"
      },
      "outputs": [],
      "source": [
        "dayofmonth_agg.to_pandas().to_csv('data/price_and_date_preprocessing/dayofmonth_agg.csv', index=False)"
      ]
    },
    {
      "cell_type": "code",
      "execution_count": null,
      "id": "301d2f80",
      "metadata": {
        "execution": {
          "iopub.execute_input": "2023-03-13T16:25:37.770352Z",
          "iopub.status.busy": "2023-03-13T16:25:37.769931Z",
          "iopub.status.idle": "2023-03-13T16:25:37.903225Z",
          "shell.execute_reply": "2023-03-13T16:25:37.901768Z"
        },
        "papermill": {
          "duration": 0.152202,
          "end_time": "2023-03-13T16:25:37.905539",
          "exception": false,
          "start_time": "2023-03-13T16:25:37.753337",
          "status": "completed"
        },
        "tags": [],
        "id": "301d2f80",
        "outputId": "2bdef815-774c-4851-c58a-861c5576ca93"
      },
      "outputs": [
        {
          "data": {
            "text/plain": [
              "63"
            ]
          },
          "execution_count": 41,
          "metadata": {},
          "output_type": "execute_result"
        }
      ],
      "source": [
        "del(dayofmonth_agg)\n",
        "gc.collect()"
      ]
    },
    {
      "cell_type": "markdown",
      "id": "690f1b2d",
      "metadata": {
        "id": "690f1b2d"
      },
      "source": [
        "### day_of_week"
      ]
    },
    {
      "cell_type": "code",
      "execution_count": null,
      "id": "185596b5",
      "metadata": {
        "execution": {
          "iopub.execute_input": "2023-03-13T16:25:37.940228Z",
          "iopub.status.busy": "2023-03-13T16:25:37.937784Z",
          "iopub.status.idle": "2023-03-13T16:25:54.648844Z",
          "shell.execute_reply": "2023-03-13T16:25:54.647255Z"
        },
        "papermill": {
          "duration": 16.730442,
          "end_time": "2023-03-13T16:25:54.651745",
          "exception": false,
          "start_time": "2023-03-13T16:25:37.921303",
          "status": "completed"
        },
        "tags": [],
        "id": "185596b5",
        "outputId": "c08fbce8-7fb9-42ea-81d8-c132320350c1"
      },
      "outputs": [
        {
          "name": "stdout",
          "output_type": "stream",
          "text": [
            "CPU times: user 15.9 s, sys: 1.01 s, total: 16.9 s\n",
            "Wall time: 16.7 s\n"
          ]
        }
      ],
      "source": [
        "%%time\n",
        "dayofweek_agg = data.select(['user_id', 'dayofweek', 'request_cnt']).\\\n",
        "    group_by(['user_id', 'dayofweek']).aggregate([('request_cnt', 'count'), ('request_cnt', 'sum')]).\\\n",
        "    group_by(['user_id']).aggregate([('request_cnt_count', 'mean'), ('request_cnt_count', 'approximate_median'), ('request_cnt_count', 'min'), ('request_cnt_count', 'max'), ('request_cnt_count', 'stddev'), ('request_cnt_sum', 'mean'), ('request_cnt_sum', 'approximate_median'), ('request_cnt_sum', 'min'), ('request_cnt_sum', 'max'), ('request_cnt_sum', 'stddev')])"
      ]
    },
    {
      "cell_type": "code",
      "execution_count": null,
      "id": "e1814e50",
      "metadata": {
        "execution": {
          "iopub.execute_input": "2023-03-13T16:25:54.684396Z",
          "iopub.status.busy": "2023-03-13T16:25:54.683970Z",
          "iopub.status.idle": "2023-03-13T16:25:57.968289Z",
          "shell.execute_reply": "2023-03-13T16:25:57.966527Z"
        },
        "papermill": {
          "duration": 3.304686,
          "end_time": "2023-03-13T16:25:57.971865",
          "exception": false,
          "start_time": "2023-03-13T16:25:54.667179",
          "status": "completed"
        },
        "tags": [],
        "id": "e1814e50"
      },
      "outputs": [],
      "source": [
        "dayofweek_agg.to_pandas().to_csv('data/price_and_date_preprocessing/dayofweek_agg.csv', index=False)"
      ]
    },
    {
      "cell_type": "code",
      "execution_count": null,
      "id": "ea2f85de",
      "metadata": {
        "execution": {
          "iopub.execute_input": "2023-03-13T16:25:58.004507Z",
          "iopub.status.busy": "2023-03-13T16:25:58.004097Z",
          "iopub.status.idle": "2023-03-13T16:25:58.138773Z",
          "shell.execute_reply": "2023-03-13T16:25:58.137524Z"
        },
        "papermill": {
          "duration": 0.154096,
          "end_time": "2023-03-13T16:25:58.141451",
          "exception": false,
          "start_time": "2023-03-13T16:25:57.987355",
          "status": "completed"
        },
        "tags": [],
        "id": "ea2f85de",
        "outputId": "573133b6-34af-4034-8e70-7a7fab615cb8"
      },
      "outputs": [
        {
          "data": {
            "text/plain": [
              "63"
            ]
          },
          "execution_count": 44,
          "metadata": {},
          "output_type": "execute_result"
        }
      ],
      "source": [
        "del(dayofweek_agg)\n",
        "gc.collect()"
      ]
    },
    {
      "cell_type": "markdown",
      "id": "2ce8abed",
      "metadata": {
        "id": "2ce8abed"
      },
      "source": [
        "### day_of_month and part_of_day"
      ]
    },
    {
      "cell_type": "code",
      "execution_count": null,
      "id": "e1e86a2d",
      "metadata": {
        "execution": {
          "iopub.execute_input": "2023-03-13T16:25:58.174025Z",
          "iopub.status.busy": "2023-03-13T16:25:58.173258Z",
          "iopub.status.idle": "2023-03-13T16:26:21.629494Z",
          "shell.execute_reply": "2023-03-13T16:26:21.628476Z"
        },
        "papermill": {
          "duration": 23.475738,
          "end_time": "2023-03-13T16:26:21.632176",
          "exception": false,
          "start_time": "2023-03-13T16:25:58.156438",
          "status": "completed"
        },
        "tags": [],
        "id": "e1e86a2d",
        "outputId": "95c3265f-8364-4ffc-dd4d-bc88f616c8fe"
      },
      "outputs": [
        {
          "name": "stdout",
          "output_type": "stream",
          "text": [
            "CPU times: user 21.8 s, sys: 1.91 s, total: 23.7 s\n",
            "Wall time: 23.4 s\n"
          ]
        }
      ],
      "source": [
        "%%time\n",
        "dayofweek_agg = data.select(['user_id', 'dayofweek', 'request_cnt', 'part_of_day']).\\\n",
        "    group_by(['user_id', 'dayofweek', 'part_of_day']).aggregate([('request_cnt', 'count'), ('request_cnt', 'sum')]).\\\n",
        "    group_by(['user_id']).aggregate([('request_cnt_count', 'mean'), ('request_cnt_count', 'approximate_median'), ('request_cnt_count', 'min'), ('request_cnt_count', 'max'), ('request_cnt_count', 'stddev'), ('request_cnt_sum', 'mean'), ('request_cnt_sum', 'approximate_median'), ('request_cnt_sum', 'min'), ('request_cnt_sum', 'max'), ('request_cnt_sum', 'stddev')])"
      ]
    },
    {
      "cell_type": "code",
      "execution_count": null,
      "id": "30b02622",
      "metadata": {
        "execution": {
          "iopub.execute_input": "2023-03-13T16:26:21.665538Z",
          "iopub.status.busy": "2023-03-13T16:26:21.664889Z",
          "iopub.status.idle": "2023-03-13T16:26:24.898201Z",
          "shell.execute_reply": "2023-03-13T16:26:24.896808Z"
        },
        "papermill": {
          "duration": 3.253638,
          "end_time": "2023-03-13T16:26:24.901245",
          "exception": false,
          "start_time": "2023-03-13T16:26:21.647607",
          "status": "completed"
        },
        "tags": [],
        "id": "30b02622"
      },
      "outputs": [],
      "source": [
        "dayofweek_agg.to_pandas().to_csv('data/price_and_date_preprocessing/dayofweek_with_part_of_day_agg.csv', index=False)"
      ]
    },
    {
      "cell_type": "code",
      "execution_count": null,
      "id": "6b20f460",
      "metadata": {
        "execution": {
          "iopub.execute_input": "2023-03-13T16:26:24.934000Z",
          "iopub.status.busy": "2023-03-13T16:26:24.933520Z",
          "iopub.status.idle": "2023-03-13T16:26:25.073178Z",
          "shell.execute_reply": "2023-03-13T16:26:25.072318Z"
        },
        "papermill": {
          "duration": 0.158831,
          "end_time": "2023-03-13T16:26:25.075368",
          "exception": false,
          "start_time": "2023-03-13T16:26:24.916537",
          "status": "completed"
        },
        "tags": [],
        "id": "6b20f460",
        "outputId": "df0ac571-0171-43a4-afd7-5a3883737cd7"
      },
      "outputs": [
        {
          "data": {
            "text/plain": [
              "63"
            ]
          },
          "execution_count": 47,
          "metadata": {},
          "output_type": "execute_result"
        }
      ],
      "source": [
        "del(data)\n",
        "del(dayofweek_agg)\n",
        "gc.collect()"
      ]
    }
  ],
  "metadata": {
    "kernelspec": {
      "display_name": "Python 3",
      "language": "python",
      "name": "python3"
    },
    "language_info": {
      "codemirror_mode": {
        "name": "ipython",
        "version": 3
      },
      "file_extension": ".py",
      "mimetype": "text/x-python",
      "name": "python",
      "nbconvert_exporter": "python",
      "pygments_lexer": "ipython3",
      "version": "3.7.12"
    },
    "papermill": {
      "default_parameters": {},
      "duration": 503.032704,
      "end_time": "2023-03-13T16:26:26.821164",
      "environment_variables": {},
      "exception": null,
      "input_path": "__notebook__.ipynb",
      "output_path": "__notebook__.ipynb",
      "parameters": {},
      "start_time": "2023-03-13T16:18:03.788460",
      "version": "2.3.4"
    },
    "colab": {
      "provenance": [],
      "include_colab_link": true
    }
  },
  "nbformat": 4,
  "nbformat_minor": 5
}