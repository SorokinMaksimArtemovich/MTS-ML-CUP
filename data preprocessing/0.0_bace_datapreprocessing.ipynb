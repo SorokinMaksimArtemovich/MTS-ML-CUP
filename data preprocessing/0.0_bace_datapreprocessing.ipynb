{
 "cells": [
  {
   "attachments": {},
   "cell_type": "markdown",
   "id": "4dab0fe1",
   "metadata": {
    "papermill": {
     "duration": 0.020277,
     "end_time": "2023-04-07T09:40:54.061496",
     "exception": false,
     "start_time": "2023-04-07T09:40:54.041219",
     "status": "completed"
    },
    "tags": []
   },
   "source": [
    "In this nootebook I use this features for aggregation, making matrix and making ALS embanding:\n",
    "\n",
    "- region_name\n",
    "- city_name\n",
    "- cpe_manufacturer_name\n",
    "- cpe_model_name\n",
    "- cpe_type_cd\n",
    "- cpe_model_os_type\n",
    "- date\n",
    "- part_of_day"
   ]
  },
  {
   "cell_type": "code",
   "execution_count": 1,
   "id": "ab55364d",
   "metadata": {
    "execution": {
     "iopub.execute_input": "2023-04-07T09:40:54.101988Z",
     "iopub.status.busy": "2023-04-07T09:40:54.101206Z",
     "iopub.status.idle": "2023-04-07T09:40:54.113146Z",
     "shell.execute_reply": "2023-04-07T09:40:54.111943Z"
    },
    "papermill": {
     "duration": 0.035404,
     "end_time": "2023-04-07T09:40:54.115765",
     "exception": false,
     "start_time": "2023-04-07T09:40:54.080361",
     "status": "completed"
    },
    "tags": []
   },
   "outputs": [],
   "source": [
    "import sys\n",
    "import os\n",
    "import warnings\n",
    "os.environ['OPENBLAS_NUM_THREADS'] = '1'\n",
    "warnings.filterwarnings('ignore')"
   ]
  },
  {
   "cell_type": "code",
   "execution_count": 2,
   "id": "5b586a1d",
   "metadata": {
    "execution": {
     "iopub.execute_input": "2023-04-07T09:40:54.156411Z",
     "iopub.status.busy": "2023-04-07T09:40:54.155887Z",
     "iopub.status.idle": "2023-04-07T09:41:31.566997Z",
     "shell.execute_reply": "2023-04-07T09:41:31.565556Z"
    },
    "papermill": {
     "duration": 37.434845,
     "end_time": "2023-04-07T09:41:31.570002",
     "exception": false,
     "start_time": "2023-04-07T09:40:54.135157",
     "status": "completed"
    },
    "tags": []
   },
   "outputs": [
    {
     "name": "stdout",
     "output_type": "stream",
     "text": [
      "\u001b[33mWARNING: Running pip as the 'root' user can result in broken permissions and conflicting behaviour with the system package manager. It is recommended to use a virtual environment instead: https://pip.pypa.io/warnings/venv\u001b[0m\u001b[33m\r\n",
      "\u001b[0mCollecting faiss-cpu\r\n",
      "  Downloading faiss_cpu-1.7.3-cp37-cp37m-manylinux_2_17_x86_64.manylinux2014_x86_64.whl (17.0 MB)\r\n",
      "\u001b[2K     \u001b[90m━━━━━━━━━━━━━━━━━━━━━━━━━━━━━━━━━━━━━━━\u001b[0m \u001b[32m17.0/17.0 MB\u001b[0m \u001b[31m196.7 MB/s\u001b[0m eta \u001b[36m0:00:00\u001b[0m\r\n",
      "\u001b[?25hInstalling collected packages: faiss-cpu\r\n",
      "Successfully installed faiss-cpu-1.7.3\r\n",
      "\u001b[33mWARNING: Running pip as the 'root' user can result in broken permissions and conflicting behaviour with the system package manager. It is recommended to use a virtual environment instead: https://pip.pypa.io/warnings/venv\u001b[0m\u001b[33m\r\n",
      "\u001b[0mRequirement already satisfied: implicit in /opt/conda/lib/python3.7/site-packages (0.4.4)\r\n",
      "Requirement already satisfied: scipy>=0.16 in /opt/conda/lib/python3.7/site-packages (from implicit) (1.7.3)\r\n",
      "Requirement already satisfied: tqdm>=4.27 in /opt/conda/lib/python3.7/site-packages (from implicit) (4.64.0)\r\n",
      "Requirement already satisfied: numpy in /opt/conda/lib/python3.7/site-packages (from implicit) (1.21.6)\r\n",
      "\u001b[33mWARNING: Running pip as the 'root' user can result in broken permissions and conflicting behaviour with the system package manager. It is recommended to use a virtual environment instead: https://pip.pypa.io/warnings/venv\u001b[0m\u001b[33m\r\n",
      "\u001b[0m"
     ]
    }
   ],
   "source": [
    "import pandas as pd\n",
    "import numpy as np\n",
    "import gc\n",
    "import time\n",
    "import pyarrow as pa\n",
    "import pyarrow.parquet as pq\n",
    "from tqdm import tqdm\n",
    "import pickle\n",
    "import scipy\n",
    "import implicit\n",
    "import bisect\n",
    "import sklearn.metrics as m\n",
    "from catboost import CatBoostClassifier, CatBoostRegressor, Pool\n",
    "from sklearn.model_selection import train_test_split\n",
    "from sklearn.calibration import calibration_curve, CalibratedClassifierCV\n",
    "!pip install feather-format >> none\n",
    "!pip install faiss-cpu --no-cache\n",
    "!pip install implicit\n",
    "import implicit"
   ]
  },
  {
   "cell_type": "code",
   "execution_count": 4,
   "id": "b7b94e21",
   "metadata": {
    "execution": {
     "iopub.execute_input": "2023-04-07T09:41:31.660792Z",
     "iopub.status.busy": "2023-04-07T09:41:31.660355Z",
     "iopub.status.idle": "2023-04-07T09:42:18.237106Z",
     "shell.execute_reply": "2023-04-07T09:42:18.230710Z"
    },
    "papermill": {
     "duration": 46.609753,
     "end_time": "2023-04-07T09:42:18.249635",
     "exception": false,
     "start_time": "2023-04-07T09:41:31.639882",
     "status": "completed"
    },
    "tags": []
   },
   "outputs": [],
   "source": [
    "data = pd.read_feather('/data/dataset_full.feather')\n",
    "data = pa.Table.from_pandas(data)"
   ]
  },
  {
   "attachments": {},
   "cell_type": "markdown",
   "id": "ecda6f49",
   "metadata": {
    "papermill": {
     "duration": 0.028893,
     "end_time": "2023-04-07T09:42:18.337992",
     "exception": false,
     "start_time": "2023-04-07T09:42:18.309099",
     "status": "completed"
    },
    "tags": []
   },
   "source": [
    "# Baceline\n",
    "Baceline by organizers"
   ]
  },
  {
   "cell_type": "code",
   "execution_count": 5,
   "id": "ea063bd3",
   "metadata": {
    "execution": {
     "iopub.execute_input": "2023-04-07T09:42:18.381938Z",
     "iopub.status.busy": "2023-04-07T09:42:18.380294Z",
     "iopub.status.idle": "2023-04-07T09:42:49.112130Z",
     "shell.execute_reply": "2023-04-07T09:42:49.110938Z"
    },
    "papermill": {
     "duration": 30.775955,
     "end_time": "2023-04-07T09:42:49.134270",
     "exception": false,
     "start_time": "2023-04-07T09:42:18.358315",
     "status": "completed"
    },
    "tags": []
   },
   "outputs": [
    {
     "name": "stdout",
     "output_type": "stream",
     "text": [
      "CPU times: user 24.9 s, sys: 5.89 s, total: 30.8 s\n",
      "Wall time: 30.7 s\n"
     ]
    }
   ],
   "source": [
    "%%time\n",
    "data_agg = data.select(['user_id', 'url_host', 'request_cnt']).\\\n",
    "    group_by(['user_id', 'url_host']).aggregate([('request_cnt', 'sum')])"
   ]
  },
  {
   "cell_type": "code",
   "execution_count": 6,
   "id": "6448f15f",
   "metadata": {
    "execution": {
     "iopub.execute_input": "2023-04-07T09:42:49.174964Z",
     "iopub.status.busy": "2023-04-07T09:42:49.174181Z",
     "iopub.status.idle": "2023-04-07T09:42:57.155002Z",
     "shell.execute_reply": "2023-04-07T09:42:57.153611Z"
    },
    "papermill": {
     "duration": 8.004327,
     "end_time": "2023-04-07T09:42:57.157884",
     "exception": false,
     "start_time": "2023-04-07T09:42:49.153557",
     "status": "completed"
    },
    "tags": []
   },
   "outputs": [
    {
     "name": "stdout",
     "output_type": "stream",
     "text": [
      "199683 urls\n",
      "415317 users\n"
     ]
    }
   ],
   "source": [
    "url_set = set(data_agg.select(['url_host']).to_pandas()['url_host'])\n",
    "print(f'{len(url_set)} urls')\n",
    "url_dict = {url: idurl for url, idurl in zip(url_set, range(len(url_set)))}\n",
    "usr_set = set(data_agg.select(['user_id']).to_pandas()['user_id'])\n",
    "print(f'{len(usr_set)} users')\n",
    "usr_dict = {usr: user_id for usr, user_id in zip(usr_set, range(len(usr_set)))}"
   ]
  },
  {
   "cell_type": "code",
   "execution_count": 7,
   "id": "3454e0e3",
   "metadata": {
    "execution": {
     "iopub.execute_input": "2023-04-07T09:42:57.206707Z",
     "iopub.status.busy": "2023-04-07T09:42:57.206264Z",
     "iopub.status.idle": "2023-04-07T09:42:59.985523Z",
     "shell.execute_reply": "2023-04-07T09:42:59.984348Z"
    },
    "papermill": {
     "duration": 2.803449,
     "end_time": "2023-04-07T09:42:59.988362",
     "exception": false,
     "start_time": "2023-04-07T09:42:57.184913",
     "status": "completed"
    },
    "tags": []
   },
   "outputs": [
    {
     "name": "stdout",
     "output_type": "stream",
     "text": [
      "CPU times: user 1.99 s, sys: 852 ms, total: 2.84 s\n",
      "Wall time: 2.77 s\n"
     ]
    }
   ],
   "source": [
    "%%time\n",
    "values = np.array(data_agg.select(['request_cnt_sum']).to_pandas()['request_cnt_sum'])\n",
    "rows = np.array(data_agg.select(['user_id']).to_pandas()['user_id'].map(usr_dict))\n",
    "cols = np.array(data_agg.select(['url_host']).to_pandas()['url_host'].map(url_dict))\n",
    "mat = scipy.sparse.coo_matrix((values, (rows, cols)), shape=(rows.max() + 1, cols.max() + 1))\n",
    "als = implicit.approximate_als.FaissAlternatingLeastSquares(factors = 50, iterations = 100, use_gpu = False, \\\n",
    "       calculate_training_loss = False, regularization = 0.1, nlist=400, nprobe=20)"
   ]
  },
  {
   "cell_type": "code",
   "execution_count": 8,
   "id": "6ebf0390",
   "metadata": {
    "execution": {
     "iopub.execute_input": "2023-04-07T09:43:00.030204Z",
     "iopub.status.busy": "2023-04-07T09:43:00.029033Z",
     "iopub.status.idle": "2023-04-07T10:01:54.754406Z",
     "shell.execute_reply": "2023-04-07T10:01:54.752933Z"
    },
    "papermill": {
     "duration": 1134.7501,
     "end_time": "2023-04-07T10:01:54.758129",
     "exception": false,
     "start_time": "2023-04-07T09:43:00.008029",
     "status": "completed"
    },
    "tags": []
   },
   "outputs": [
    {
     "data": {
      "application/vnd.jupyter.widget-view+json": {
       "model_id": "607e7d28b4d34be9afcfb3af999031e7",
       "version_major": 2,
       "version_minor": 0
      },
      "text/plain": [
       "  0%|          | 0/100 [00:00<?, ?it/s]"
      ]
     },
     "metadata": {},
     "output_type": "display_data"
    },
    {
     "name": "stdout",
     "output_type": "stream",
     "text": [
      "CPU times: user 1h 12min 21s, sys: 38.1 s, total: 1h 12min 59s\n",
      "Wall time: 18min 54s\n"
     ]
    }
   ],
   "source": [
    "%%time\n",
    "als.fit(mat)"
   ]
  },
  {
   "cell_type": "code",
   "execution_count": 9,
   "id": "09d64240",
   "metadata": {
    "execution": {
     "iopub.execute_input": "2023-04-07T10:01:54.803346Z",
     "iopub.status.busy": "2023-04-07T10:01:54.802886Z",
     "iopub.status.idle": "2023-04-07T10:01:54.808444Z",
     "shell.execute_reply": "2023-04-07T10:01:54.807280Z"
    },
    "papermill": {
     "duration": 0.030526,
     "end_time": "2023-04-07T10:01:54.810853",
     "exception": false,
     "start_time": "2023-04-07T10:01:54.780327",
     "status": "completed"
    },
    "tags": []
   },
   "outputs": [],
   "source": [
    "d_factors = als.item_factors\n",
    "u_factors = als.user_factors"
   ]
  },
  {
   "cell_type": "code",
   "execution_count": 10,
   "id": "d7282c9f",
   "metadata": {
    "execution": {
     "iopub.execute_input": "2023-04-07T10:01:54.853748Z",
     "iopub.status.busy": "2023-04-07T10:01:54.852177Z",
     "iopub.status.idle": "2023-04-07T10:01:55.420028Z",
     "shell.execute_reply": "2023-04-07T10:01:55.418720Z"
    },
    "papermill": {
     "duration": 0.591938,
     "end_time": "2023-04-07T10:01:55.422674",
     "exception": false,
     "start_time": "2023-04-07T10:01:54.830736",
     "status": "completed"
    },
    "tags": []
   },
   "outputs": [
    {
     "name": "stdout",
     "output_type": "stream",
     "text": [
      "CPU times: user 463 ms, sys: 95.9 ms, total: 559 ms\n",
      "Wall time: 558 ms\n"
     ]
    }
   ],
   "source": [
    "%%time\n",
    "inv_usr_map = {v: k for k, v in usr_dict.items()}\n",
    "bace_emb = pd.DataFrame(d_factors)\n",
    "bace_emb['user_id'] = bace_emb.index.map(inv_usr_map)"
   ]
  },
  {
   "cell_type": "code",
   "execution_count": 11,
   "id": "3a3c0969",
   "metadata": {
    "execution": {
     "iopub.execute_input": "2023-04-07T10:01:55.466043Z",
     "iopub.status.busy": "2023-04-07T10:01:55.464910Z",
     "iopub.status.idle": "2023-04-07T10:02:17.805823Z",
     "shell.execute_reply": "2023-04-07T10:02:17.804487Z"
    },
    "papermill": {
     "duration": 22.365577,
     "end_time": "2023-04-07T10:02:17.808610",
     "exception": false,
     "start_time": "2023-04-07T10:01:55.443033",
     "status": "completed"
    },
    "tags": []
   },
   "outputs": [],
   "source": [
    "bace_emb.to_csv('data/bace_preprocessing/df_bace.csv', index = False)"
   ]
  },
  {
   "cell_type": "code",
   "execution_count": 12,
   "id": "a174f2e2",
   "metadata": {
    "execution": {
     "iopub.execute_input": "2023-04-07T10:02:17.851107Z",
     "iopub.status.busy": "2023-04-07T10:02:17.850688Z",
     "iopub.status.idle": "2023-04-07T10:02:18.163264Z",
     "shell.execute_reply": "2023-04-07T10:02:18.162129Z"
    },
    "papermill": {
     "duration": 0.336884,
     "end_time": "2023-04-07T10:02:18.165746",
     "exception": false,
     "start_time": "2023-04-07T10:02:17.828862",
     "status": "completed"
    },
    "tags": []
   },
   "outputs": [
    {
     "data": {
      "text/plain": [
       "21"
      ]
     },
     "execution_count": 12,
     "metadata": {},
     "output_type": "execute_result"
    }
   ],
   "source": [
    "del(data_agg)\n",
    "del(values)\n",
    "del(rows)\n",
    "del(cols)\n",
    "del(mat)\n",
    "del(als)\n",
    "del(d_factors)\n",
    "del(inv_usr_map)\n",
    "del(bace_emb)\n",
    "gc.collect()"
   ]
  },
  {
   "attachments": {},
   "cell_type": "markdown",
   "id": "29c77946",
   "metadata": {},
   "source": [
    "### Saving url-embending for url encoding"
   ]
  },
  {
   "cell_type": "code",
   "execution_count": 13,
   "id": "2d9ab565",
   "metadata": {
    "execution": {
     "iopub.execute_input": "2023-04-07T10:02:18.207308Z",
     "iopub.status.busy": "2023-04-07T10:02:18.206931Z",
     "iopub.status.idle": "2023-04-07T10:03:00.872713Z",
     "shell.execute_reply": "2023-04-07T10:03:00.868789Z"
    },
    "papermill": {
     "duration": 42.694676,
     "end_time": "2023-04-07T10:03:00.880385",
     "exception": false,
     "start_time": "2023-04-07T10:02:18.185709",
     "status": "completed"
    },
    "tags": []
   },
   "outputs": [
    {
     "name": "stderr",
     "output_type": "stream",
     "text": [
      "Building url --> id mapping: 100%|██████████| 199683/199683 [00:00<00:00, 486750.54it/s]\n",
      "Building url factor features dict: 100%|██████████| 199683/199683 [00:00<00:00, 229057.28it/s]\n"
     ]
    },
    {
     "name": "stdout",
     "output_type": "stream",
     "text": [
      "Saving object to url_only_factor_features_dict.pkl\n",
      "Object saved to url_only_factor_features_dict.pkl\n"
     ]
    }
   ],
   "source": [
    "def save(obj, path, verbose=True):\n",
    "    if verbose:\n",
    "        print(\"Saving object to {}\".format(path))\n",
    "\n",
    "    with open(path, \"wb\") as obj_file:\n",
    "        pickle.dump( obj, obj_file, protocol=pickle.HIGHEST_PROTOCOL )\n",
    "\n",
    "    if verbose:\n",
    "        print(\"Object saved to {}\".format(path))\n",
    "    pass\n",
    "\n",
    "url_factor_features_dict = {}\n",
    "url_factor_features_dict[\"feature_names\"] = []\n",
    "for i in range(len(u_factors[0])):\n",
    "    url_factor_features_dict[\"feature_names\"].append( \"url_factor_{}\".format(i) )\n",
    "uniq_urls = list(sorted(list(set(data.select(['url_host']).to_pandas()['url_host'].values))))\n",
    "url_id_dict = {}\n",
    "for i in tqdm(range( len(uniq_urls) ), desc=\"Building url --> id mapping\"):\n",
    "    url_id_dict[ uniq_urls[i] ] = i\n",
    "inverted_url_id_dict = {v: k for k, v in url_id_dict.items()}\n",
    "for i in tqdm(range( len(u_factors) ), desc=\"Building url factor features dict\"):\n",
    "    url_id = inverted_url_id_dict[i]\n",
    "    url_factor_features = u_factors[i]\n",
    "    url_factor_features_dict[ url_id ] = url_factor_features\n",
    "\n",
    "save(url_factor_features_dict, \"data/utils/url_only_factor_features_dict.pkl\")"
   ]
  },
  {
   "attachments": {},
   "cell_type": "markdown",
   "id": "87d95d85",
   "metadata": {
    "papermill": {
     "duration": 0.06752,
     "end_time": "2023-04-07T10:03:01.008111",
     "exception": false,
     "start_time": "2023-04-07T10:03:00.940591",
     "status": "completed"
    },
    "tags": []
   },
   "source": [
    "# ALS embandings"
   ]
  },
  {
   "attachments": {},
   "cell_type": "markdown",
   "id": "5db94d75",
   "metadata": {
    "papermill": {
     "duration": 0.021085,
     "end_time": "2023-04-07T10:03:01.052861",
     "exception": false,
     "start_time": "2023-04-07T10:03:01.031776",
     "status": "completed"
    },
    "tags": []
   },
   "source": [
    "## Count of day that urers visit url_hosts\n",
    "I count the number of non-repetitive days for each user visit each url_host and use it as weight in sparse matrix for ALS embanding"
   ]
  },
  {
   "cell_type": "code",
   "execution_count": 14,
   "id": "6ae9fc64",
   "metadata": {
    "execution": {
     "iopub.execute_input": "2023-04-07T10:03:01.100245Z",
     "iopub.status.busy": "2023-04-07T10:03:01.097917Z",
     "iopub.status.idle": "2023-04-07T10:05:29.897426Z",
     "shell.execute_reply": "2023-04-07T10:05:29.896413Z"
    },
    "papermill": {
     "duration": 148.847211,
     "end_time": "2023-04-07T10:05:29.921865",
     "exception": false,
     "start_time": "2023-04-07T10:03:01.074654",
     "status": "completed"
    },
    "tags": []
   },
   "outputs": [
    {
     "name": "stdout",
     "output_type": "stream",
     "text": [
      "CPU times: user 2min 6s, sys: 29.3 s, total: 2min 35s\n",
      "Wall time: 2min 28s\n"
     ]
    }
   ],
   "source": [
    "%%time\n",
    "data_agg = pa.Table.from_pandas(data.select(['user_id', 'url_host', 'date']).\\\n",
    "    to_pandas().drop_duplicates()).\\\n",
    "    group_by(['user_id', 'url_host']).aggregate([('date', 'count')])"
   ]
  },
  {
   "cell_type": "code",
   "execution_count": 15,
   "id": "997aa000",
   "metadata": {
    "execution": {
     "iopub.execute_input": "2023-04-07T10:05:29.967651Z",
     "iopub.status.busy": "2023-04-07T10:05:29.966906Z",
     "iopub.status.idle": "2023-04-07T10:05:32.749918Z",
     "shell.execute_reply": "2023-04-07T10:05:32.748549Z"
    },
    "papermill": {
     "duration": 2.808743,
     "end_time": "2023-04-07T10:05:32.752318",
     "exception": false,
     "start_time": "2023-04-07T10:05:29.943575",
     "status": "completed"
    },
    "tags": []
   },
   "outputs": [
    {
     "name": "stdout",
     "output_type": "stream",
     "text": [
      "CPU times: user 2.01 s, sys: 952 ms, total: 2.96 s\n",
      "Wall time: 2.77 s\n"
     ]
    }
   ],
   "source": [
    "%%time\n",
    "values = np.array(data_agg.select(['date_count']).to_pandas()['date_count'])\n",
    "rows = np.array(data_agg.select(['user_id']).to_pandas()['user_id'].map(usr_dict))\n",
    "cols = np.array(data_agg.select(['url_host']).to_pandas()['url_host'].map(url_dict))\n",
    "mat = scipy.sparse.coo_matrix((values, (rows, cols)), shape=(rows.max() + 1, cols.max() + 1))\n",
    "als = implicit.approximate_als.FaissAlternatingLeastSquares(factors = 50, iterations = 30, use_gpu = False, \\\n",
    "       calculate_training_loss = False, regularization = 0.1)"
   ]
  },
  {
   "cell_type": "code",
   "execution_count": 16,
   "id": "6be6408d",
   "metadata": {
    "execution": {
     "iopub.execute_input": "2023-04-07T10:05:32.797638Z",
     "iopub.status.busy": "2023-04-07T10:05:32.797183Z",
     "iopub.status.idle": "2023-04-07T10:11:20.906347Z",
     "shell.execute_reply": "2023-04-07T10:11:20.905295Z"
    },
    "papermill": {
     "duration": 348.134941,
     "end_time": "2023-04-07T10:11:20.908810",
     "exception": false,
     "start_time": "2023-04-07T10:05:32.773869",
     "status": "completed"
    },
    "tags": []
   },
   "outputs": [
    {
     "data": {
      "application/vnd.jupyter.widget-view+json": {
       "model_id": "1dfeb02b7f78457794d1d42108aa04f6",
       "version_major": 2,
       "version_minor": 0
      },
      "text/plain": [
       "  0%|          | 0/30 [00:00<?, ?it/s]"
      ]
     },
     "metadata": {},
     "output_type": "display_data"
    },
    {
     "name": "stdout",
     "output_type": "stream",
     "text": [
      "CPU times: user 22min 6s, sys: 11.1 s, total: 22min 17s\n",
      "Wall time: 5min 48s\n"
     ]
    }
   ],
   "source": [
    "%%time\n",
    "als.fit(mat)"
   ]
  },
  {
   "cell_type": "code",
   "execution_count": 17,
   "id": "dbd1cbe9",
   "metadata": {
    "execution": {
     "iopub.execute_input": "2023-04-07T10:11:20.955078Z",
     "iopub.status.busy": "2023-04-07T10:11:20.954658Z",
     "iopub.status.idle": "2023-04-07T10:11:20.959872Z",
     "shell.execute_reply": "2023-04-07T10:11:20.958682Z"
    },
    "papermill": {
     "duration": 0.030269,
     "end_time": "2023-04-07T10:11:20.962212",
     "exception": false,
     "start_time": "2023-04-07T10:11:20.931943",
     "status": "completed"
    },
    "tags": []
   },
   "outputs": [],
   "source": [
    "d_factors = als.item_factors"
   ]
  },
  {
   "cell_type": "code",
   "execution_count": 18,
   "id": "3ee46009",
   "metadata": {
    "execution": {
     "iopub.execute_input": "2023-04-07T10:11:21.007401Z",
     "iopub.status.busy": "2023-04-07T10:11:21.006580Z",
     "iopub.status.idle": "2023-04-07T10:11:21.497039Z",
     "shell.execute_reply": "2023-04-07T10:11:21.495943Z"
    },
    "papermill": {
     "duration": 0.515886,
     "end_time": "2023-04-07T10:11:21.499631",
     "exception": false,
     "start_time": "2023-04-07T10:11:20.983745",
     "status": "completed"
    },
    "tags": []
   },
   "outputs": [
    {
     "name": "stdout",
     "output_type": "stream",
     "text": [
      "CPU times: user 458 ms, sys: 25 ms, total: 483 ms\n",
      "Wall time: 483 ms\n"
     ]
    }
   ],
   "source": [
    "%%time\n",
    "inv_usr_map = {v: k for k, v in usr_dict.items()}\n",
    "date_emb = pd.DataFrame(d_factors)\n",
    "date_emb['user_id'] = date_emb.index.map(inv_usr_map)"
   ]
  },
  {
   "cell_type": "code",
   "execution_count": 19,
   "id": "fe090985",
   "metadata": {
    "execution": {
     "iopub.execute_input": "2023-04-07T10:11:21.545452Z",
     "iopub.status.busy": "2023-04-07T10:11:21.544176Z",
     "iopub.status.idle": "2023-04-07T10:11:42.568890Z",
     "shell.execute_reply": "2023-04-07T10:11:42.567562Z"
    },
    "papermill": {
     "duration": 21.050434,
     "end_time": "2023-04-07T10:11:42.571670",
     "exception": false,
     "start_time": "2023-04-07T10:11:21.521236",
     "status": "completed"
    },
    "tags": []
   },
   "outputs": [],
   "source": [
    "date_emb.to_csv('data/bace_preprocessing/date_emb.csv', index = False)"
   ]
  },
  {
   "cell_type": "code",
   "execution_count": 20,
   "id": "817d5e87",
   "metadata": {
    "execution": {
     "iopub.execute_input": "2023-04-07T10:11:42.618497Z",
     "iopub.status.busy": "2023-04-07T10:11:42.617747Z",
     "iopub.status.idle": "2023-04-07T10:11:42.915429Z",
     "shell.execute_reply": "2023-04-07T10:11:42.914248Z"
    },
    "papermill": {
     "duration": 0.324113,
     "end_time": "2023-04-07T10:11:42.918244",
     "exception": false,
     "start_time": "2023-04-07T10:11:42.594131",
     "status": "completed"
    },
    "tags": []
   },
   "outputs": [
    {
     "data": {
      "text/plain": [
       "21"
      ]
     },
     "execution_count": 20,
     "metadata": {},
     "output_type": "execute_result"
    }
   ],
   "source": [
    "del(data_agg)\n",
    "del(values)\n",
    "del(rows)\n",
    "del(cols)\n",
    "del(mat)\n",
    "del(als)\n",
    "del(d_factors)\n",
    "del(inv_usr_map)\n",
    "del(date_emb)\n",
    "del(url_set)\n",
    "del(url_dict)\n",
    "del(usr_set)\n",
    "del(usr_dict)\n",
    "gc.collect()"
   ]
  },
  {
   "attachments": {},
   "cell_type": "markdown",
   "id": "5d010cab",
   "metadata": {
    "papermill": {
     "duration": 0.021396,
     "end_time": "2023-04-07T10:11:42.961403",
     "exception": false,
     "start_time": "2023-04-07T10:11:42.940007",
     "status": "completed"
    },
    "tags": []
   },
   "source": [
    "## Region\n",
    "I count the number of requests for each user from each region and use it as weight in sparse matrix for ALS embanding"
   ]
  },
  {
   "cell_type": "code",
   "execution_count": 21,
   "id": "2bddd213",
   "metadata": {
    "execution": {
     "iopub.execute_input": "2023-04-07T10:11:43.007448Z",
     "iopub.status.busy": "2023-04-07T10:11:43.006365Z",
     "iopub.status.idle": "2023-04-07T10:11:54.087842Z",
     "shell.execute_reply": "2023-04-07T10:11:54.086541Z"
    },
    "papermill": {
     "duration": 11.106663,
     "end_time": "2023-04-07T10:11:54.090050",
     "exception": false,
     "start_time": "2023-04-07T10:11:42.983387",
     "status": "completed"
    },
    "tags": []
   },
   "outputs": [
    {
     "name": "stdout",
     "output_type": "stream",
     "text": [
      "CPU times: user 10.3 s, sys: 781 ms, total: 11.1 s\n",
      "Wall time: 11.1 s\n"
     ]
    }
   ],
   "source": [
    "%%time\n",
    "region_agg = data.select(['user_id', 'region_name', 'request_cnt']).\\\n",
    "    group_by(['user_id', 'region_name']).aggregate([('request_cnt', 'count')])"
   ]
  },
  {
   "cell_type": "code",
   "execution_count": 22,
   "id": "e309847c",
   "metadata": {
    "execution": {
     "iopub.execute_input": "2023-04-07T10:11:54.136876Z",
     "iopub.status.busy": "2023-04-07T10:11:54.136073Z",
     "iopub.status.idle": "2023-04-07T10:11:54.578865Z",
     "shell.execute_reply": "2023-04-07T10:11:54.577466Z"
    },
    "papermill": {
     "duration": 0.469111,
     "end_time": "2023-04-07T10:11:54.581294",
     "exception": false,
     "start_time": "2023-04-07T10:11:54.112183",
     "status": "completed"
    },
    "tags": []
   },
   "outputs": [
    {
     "name": "stdout",
     "output_type": "stream",
     "text": [
      "415317 users\n",
      "81 regions\n"
     ]
    }
   ],
   "source": [
    "usr_set = set(region_agg.select(['user_id']).to_pandas()['user_id'])\n",
    "print(f'{len(usr_set)} users')\n",
    "usr_dict = {usr: user_id for usr, user_id in zip(usr_set, range(len(usr_set)))}\n",
    "region_set = set(region_agg.select(['region_name']).to_pandas()['region_name'])\n",
    "print(f'{len(region_set)} regions')\n",
    "region_dict = {url: idurl for url, idurl in zip(region_set, range(len(region_set)))}"
   ]
  },
  {
   "cell_type": "code",
   "execution_count": 23,
   "id": "1b59570b",
   "metadata": {
    "execution": {
     "iopub.execute_input": "2023-04-07T10:11:54.705773Z",
     "iopub.status.busy": "2023-04-07T10:11:54.705328Z",
     "iopub.status.idle": "2023-04-07T10:11:55.126909Z",
     "shell.execute_reply": "2023-04-07T10:11:55.125729Z"
    },
    "papermill": {
     "duration": 0.447364,
     "end_time": "2023-04-07T10:11:55.129433",
     "exception": false,
     "start_time": "2023-04-07T10:11:54.682069",
     "status": "completed"
    },
    "tags": []
   },
   "outputs": [
    {
     "name": "stdout",
     "output_type": "stream",
     "text": [
      "CPU times: user 410 ms, sys: 6.04 ms, total: 416 ms\n",
      "Wall time: 414 ms\n"
     ]
    }
   ],
   "source": [
    "%%time\n",
    "values = np.array(region_agg.select(['request_cnt_count']).to_pandas()['request_cnt_count'])\n",
    "rows = np.array(region_agg.select(['user_id']).to_pandas()['user_id'].map(usr_dict))\n",
    "cols = np.array(region_agg.select(['region_name']).to_pandas()['region_name'].map(region_dict))\n",
    "mat = scipy.sparse.coo_matrix((values, (rows, cols)), shape=(rows.max() + 1, cols.max() + 1))\n",
    "als = implicit.approximate_als.FaissAlternatingLeastSquares(factors = 50, iterations = 30, use_gpu = False, \\\n",
    "       calculate_training_loss = False, regularization = 0.1)"
   ]
  },
  {
   "cell_type": "code",
   "execution_count": 24,
   "id": "ad2be140",
   "metadata": {
    "execution": {
     "iopub.execute_input": "2023-04-07T10:11:55.176570Z",
     "iopub.status.busy": "2023-04-07T10:11:55.175676Z",
     "iopub.status.idle": "2023-04-07T10:13:04.062680Z",
     "shell.execute_reply": "2023-04-07T10:13:04.061556Z"
    },
    "papermill": {
     "duration": 68.913703,
     "end_time": "2023-04-07T10:13:04.065645",
     "exception": false,
     "start_time": "2023-04-07T10:11:55.151942",
     "status": "completed"
    },
    "tags": []
   },
   "outputs": [
    {
     "data": {
      "application/vnd.jupyter.widget-view+json": {
       "model_id": "e34d91c7062144fb9e60753c248b4e8f",
       "version_major": 2,
       "version_minor": 0
      },
      "text/plain": [
       "  0%|          | 0/30 [00:00<?, ?it/s]"
      ]
     },
     "metadata": {},
     "output_type": "display_data"
    },
    {
     "name": "stdout",
     "output_type": "stream",
     "text": [
      "CPU times: user 3min 28s, sys: 51.5 s, total: 4min 19s\n",
      "Wall time: 1min 8s\n"
     ]
    }
   ],
   "source": [
    "%%time\n",
    "als.fit(mat)"
   ]
  },
  {
   "cell_type": "code",
   "execution_count": 25,
   "id": "3c2f9330",
   "metadata": {
    "execution": {
     "iopub.execute_input": "2023-04-07T10:13:04.115302Z",
     "iopub.status.busy": "2023-04-07T10:13:04.114843Z",
     "iopub.status.idle": "2023-04-07T10:13:04.120551Z",
     "shell.execute_reply": "2023-04-07T10:13:04.119306Z"
    },
    "papermill": {
     "duration": 0.033414,
     "end_time": "2023-04-07T10:13:04.123086",
     "exception": false,
     "start_time": "2023-04-07T10:13:04.089672",
     "status": "completed"
    },
    "tags": []
   },
   "outputs": [],
   "source": [
    "d_factors = als.item_factors"
   ]
  },
  {
   "cell_type": "code",
   "execution_count": 26,
   "id": "fc6d5644",
   "metadata": {
    "execution": {
     "iopub.execute_input": "2023-04-07T10:13:04.171821Z",
     "iopub.status.busy": "2023-04-07T10:13:04.171387Z",
     "iopub.status.idle": "2023-04-07T10:13:04.664728Z",
     "shell.execute_reply": "2023-04-07T10:13:04.663653Z"
    },
    "papermill": {
     "duration": 0.52141,
     "end_time": "2023-04-07T10:13:04.667772",
     "exception": false,
     "start_time": "2023-04-07T10:13:04.146362",
     "status": "completed"
    },
    "tags": []
   },
   "outputs": [
    {
     "name": "stdout",
     "output_type": "stream",
     "text": [
      "CPU times: user 454 ms, sys: 34 ms, total: 488 ms\n",
      "Wall time: 487 ms\n"
     ]
    }
   ],
   "source": [
    "%%time\n",
    "inv_usr_map = {v: k for k, v in usr_dict.items()}\n",
    "region_emb = pd.DataFrame(d_factors)\n",
    "region_emb['user_id'] = region_emb.index.map(inv_usr_map)"
   ]
  },
  {
   "cell_type": "code",
   "execution_count": 27,
   "id": "9e28a5d6",
   "metadata": {
    "execution": {
     "iopub.execute_input": "2023-04-07T10:13:04.716719Z",
     "iopub.status.busy": "2023-04-07T10:13:04.716315Z",
     "iopub.status.idle": "2023-04-07T10:13:26.770587Z",
     "shell.execute_reply": "2023-04-07T10:13:26.769635Z"
    },
    "papermill": {
     "duration": 22.080929,
     "end_time": "2023-04-07T10:13:26.773285",
     "exception": false,
     "start_time": "2023-04-07T10:13:04.692356",
     "status": "completed"
    },
    "tags": []
   },
   "outputs": [],
   "source": [
    "region_emb.to_csv('data/bace_preprocessing/region_emb.csv', index = False)"
   ]
  },
  {
   "cell_type": "code",
   "execution_count": 28,
   "id": "5ccc0b21",
   "metadata": {
    "execution": {
     "iopub.execute_input": "2023-04-07T10:13:26.820783Z",
     "iopub.status.busy": "2023-04-07T10:13:26.820074Z",
     "iopub.status.idle": "2023-04-07T10:13:27.003721Z",
     "shell.execute_reply": "2023-04-07T10:13:27.002819Z"
    },
    "papermill": {
     "duration": 0.20992,
     "end_time": "2023-04-07T10:13:27.005902",
     "exception": false,
     "start_time": "2023-04-07T10:13:26.795982",
     "status": "completed"
    },
    "tags": []
   },
   "outputs": [
    {
     "data": {
      "text/plain": [
       "21"
      ]
     },
     "execution_count": 28,
     "metadata": {},
     "output_type": "execute_result"
    }
   ],
   "source": [
    "del(region_agg)\n",
    "del(values)\n",
    "del(rows)\n",
    "del(cols)\n",
    "del(mat)\n",
    "del(als)\n",
    "del(d_factors)\n",
    "del(inv_usr_map)\n",
    "del(region_emb)\n",
    "del(region_set)\n",
    "del(region_dict)\n",
    "gc.collect()"
   ]
  },
  {
   "attachments": {},
   "cell_type": "markdown",
   "id": "e16588f8",
   "metadata": {
    "papermill": {
     "duration": 0.022299,
     "end_time": "2023-04-07T10:13:27.050899",
     "exception": false,
     "start_time": "2023-04-07T10:13:27.028600",
     "status": "completed"
    },
    "tags": []
   },
   "source": [
    "## City\n",
    "I count the number of requests for each user from each city and use it as weight in sparse matrix for ALS embanding"
   ]
  },
  {
   "cell_type": "code",
   "execution_count": 29,
   "id": "cbcfbbe4",
   "metadata": {
    "execution": {
     "iopub.execute_input": "2023-04-07T10:13:27.098203Z",
     "iopub.status.busy": "2023-04-07T10:13:27.097780Z",
     "iopub.status.idle": "2023-04-07T10:13:39.318788Z",
     "shell.execute_reply": "2023-04-07T10:13:39.317683Z"
    },
    "papermill": {
     "duration": 12.247579,
     "end_time": "2023-04-07T10:13:39.321313",
     "exception": false,
     "start_time": "2023-04-07T10:13:27.073734",
     "status": "completed"
    },
    "tags": []
   },
   "outputs": [
    {
     "name": "stdout",
     "output_type": "stream",
     "text": [
      "CPU times: user 11.4 s, sys: 800 ms, total: 12.2 s\n",
      "Wall time: 12.2 s\n"
     ]
    }
   ],
   "source": [
    "%%time\n",
    "city_agg = data.select(['user_id', 'region_name', 'city_name', 'request_cnt']).\\\n",
    "    group_by(['user_id', 'region_name', 'city_name']).aggregate([('request_cnt', 'count')])"
   ]
  },
  {
   "cell_type": "code",
   "execution_count": 30,
   "id": "3048497f",
   "metadata": {
    "execution": {
     "iopub.execute_input": "2023-04-07T10:13:39.369778Z",
     "iopub.status.busy": "2023-04-07T10:13:39.368578Z",
     "iopub.status.idle": "2023-04-07T10:13:40.483107Z",
     "shell.execute_reply": "2023-04-07T10:13:40.481861Z"
    },
    "papermill": {
     "duration": 1.141548,
     "end_time": "2023-04-07T10:13:40.485999",
     "exception": false,
     "start_time": "2023-04-07T10:13:39.344451",
     "status": "completed"
    },
    "tags": []
   },
   "outputs": [
    {
     "data": {
      "text/html": [
       "<div>\n",
       "<style scoped>\n",
       "    .dataframe tbody tr th:only-of-type {\n",
       "        vertical-align: middle;\n",
       "    }\n",
       "\n",
       "    .dataframe tbody tr th {\n",
       "        vertical-align: top;\n",
       "    }\n",
       "\n",
       "    .dataframe thead th {\n",
       "        text-align: right;\n",
       "    }\n",
       "</style>\n",
       "<table border=\"1\" class=\"dataframe\">\n",
       "  <thead>\n",
       "    <tr style=\"text-align: right;\">\n",
       "      <th></th>\n",
       "      <th>request_cnt_count</th>\n",
       "      <th>user_id</th>\n",
       "      <th>city_name</th>\n",
       "    </tr>\n",
       "  </thead>\n",
       "  <tbody>\n",
       "    <tr>\n",
       "      <th>0</th>\n",
       "      <td>1543</td>\n",
       "      <td>45098</td>\n",
       "      <td>Краснодарский край Краснодар</td>\n",
       "    </tr>\n",
       "    <tr>\n",
       "      <th>1</th>\n",
       "      <td>4</td>\n",
       "      <td>45098</td>\n",
       "      <td>Ставропольский край Ставрополь</td>\n",
       "    </tr>\n",
       "    <tr>\n",
       "      <th>2</th>\n",
       "      <td>1</td>\n",
       "      <td>45098</td>\n",
       "      <td>Республика Адыгея Адыгейск</td>\n",
       "    </tr>\n",
       "    <tr>\n",
       "      <th>3</th>\n",
       "      <td>1</td>\n",
       "      <td>45098</td>\n",
       "      <td>Ставропольский край Изобильный</td>\n",
       "    </tr>\n",
       "    <tr>\n",
       "      <th>4</th>\n",
       "      <td>1</td>\n",
       "      <td>45098</td>\n",
       "      <td>Ставропольский край Новоалександровск</td>\n",
       "    </tr>\n",
       "    <tr>\n",
       "      <th>...</th>\n",
       "      <td>...</td>\n",
       "      <td>...</td>\n",
       "      <td>...</td>\n",
       "    </tr>\n",
       "    <tr>\n",
       "      <th>1288654</th>\n",
       "      <td>236</td>\n",
       "      <td>260127</td>\n",
       "      <td>Курская область Курск</td>\n",
       "    </tr>\n",
       "    <tr>\n",
       "      <th>1288655</th>\n",
       "      <td>623</td>\n",
       "      <td>260127</td>\n",
       "      <td>Белгородская область Белгород</td>\n",
       "    </tr>\n",
       "    <tr>\n",
       "      <th>1288656</th>\n",
       "      <td>1</td>\n",
       "      <td>260127</td>\n",
       "      <td>Белгородская область Строитель</td>\n",
       "    </tr>\n",
       "    <tr>\n",
       "      <th>1288657</th>\n",
       "      <td>1110</td>\n",
       "      <td>300964</td>\n",
       "      <td>Калужская область Обнинск</td>\n",
       "    </tr>\n",
       "    <tr>\n",
       "      <th>1288658</th>\n",
       "      <td>3</td>\n",
       "      <td>300964</td>\n",
       "      <td>Москва Москва</td>\n",
       "    </tr>\n",
       "  </tbody>\n",
       "</table>\n",
       "<p>1288659 rows × 3 columns</p>\n",
       "</div>"
      ],
      "text/plain": [
       "         request_cnt_count  user_id                              city_name\n",
       "0                     1543    45098           Краснодарский край Краснодар\n",
       "1                        4    45098         Ставропольский край Ставрополь\n",
       "2                        1    45098             Республика Адыгея Адыгейск\n",
       "3                        1    45098         Ставропольский край Изобильный\n",
       "4                        1    45098  Ставропольский край Новоалександровск\n",
       "...                    ...      ...                                    ...\n",
       "1288654                236   260127                  Курская область Курск\n",
       "1288655                623   260127          Белгородская область Белгород\n",
       "1288656                  1   260127         Белгородская область Строитель\n",
       "1288657               1110   300964              Калужская область Обнинск\n",
       "1288658                  3   300964                          Москва Москва\n",
       "\n",
       "[1288659 rows x 3 columns]"
      ]
     },
     "execution_count": 30,
     "metadata": {},
     "output_type": "execute_result"
    }
   ],
   "source": [
    "city_agg = city_agg.to_pandas()\n",
    "city_agg['city_name'] = city_agg['region_name'].astype('string') + ' ' + city_agg['city_name'].astype('string')\n",
    "city_agg = city_agg.drop('region_name', axis=1)\n",
    "city_agg"
   ]
  },
  {
   "cell_type": "code",
   "execution_count": 31,
   "id": "9d8d2851",
   "metadata": {
    "execution": {
     "iopub.execute_input": "2023-04-07T10:13:40.536299Z",
     "iopub.status.busy": "2023-04-07T10:13:40.535852Z",
     "iopub.status.idle": "2023-04-07T10:13:41.070030Z",
     "shell.execute_reply": "2023-04-07T10:13:41.069015Z"
    },
    "papermill": {
     "duration": 0.562367,
     "end_time": "2023-04-07T10:13:41.072741",
     "exception": false,
     "start_time": "2023-04-07T10:13:40.510374",
     "status": "completed"
    },
    "tags": []
   },
   "outputs": [],
   "source": [
    "city_agg = pa.Table.from_pandas(city_agg)"
   ]
  },
  {
   "cell_type": "code",
   "execution_count": 32,
   "id": "8f5afa43",
   "metadata": {
    "execution": {
     "iopub.execute_input": "2023-04-07T10:13:41.124135Z",
     "iopub.status.busy": "2023-04-07T10:13:41.123728Z",
     "iopub.status.idle": "2023-04-07T10:13:42.847698Z",
     "shell.execute_reply": "2023-04-07T10:13:42.846269Z"
    },
    "papermill": {
     "duration": 1.754471,
     "end_time": "2023-04-07T10:13:42.850502",
     "exception": false,
     "start_time": "2023-04-07T10:13:41.096031",
     "status": "completed"
    },
    "tags": []
   },
   "outputs": [
    {
     "name": "stdout",
     "output_type": "stream",
     "text": [
      "1000 cities\n"
     ]
    }
   ],
   "source": [
    "city_set = set(city_agg.select(['city_name']).to_pandas()['city_name'])\n",
    "print(f'{len(city_set)} cities')\n",
    "city_dict = {url: idurl for url, idurl in zip(city_set, range(len(city_set)))}"
   ]
  },
  {
   "cell_type": "code",
   "execution_count": 33,
   "id": "08515e44",
   "metadata": {
    "execution": {
     "iopub.execute_input": "2023-04-07T10:13:42.900372Z",
     "iopub.status.busy": "2023-04-07T10:13:42.899969Z",
     "iopub.status.idle": "2023-04-07T10:13:44.085786Z",
     "shell.execute_reply": "2023-04-07T10:13:44.084245Z"
    },
    "papermill": {
     "duration": 1.213743,
     "end_time": "2023-04-07T10:13:44.088544",
     "exception": false,
     "start_time": "2023-04-07T10:13:42.874801",
     "status": "completed"
    },
    "tags": []
   },
   "outputs": [
    {
     "name": "stdout",
     "output_type": "stream",
     "text": [
      "CPU times: user 1.06 s, sys: 121 ms, total: 1.18 s\n",
      "Wall time: 1.18 s\n"
     ]
    }
   ],
   "source": [
    "%%time\n",
    "values = np.array(city_agg.select(['request_cnt_count']).to_pandas()['request_cnt_count'])\n",
    "rows = np.array(city_agg.select(['user_id']).to_pandas()['user_id'].map(usr_dict))\n",
    "cols = np.array(city_agg.select(['city_name']).to_pandas()['city_name'].map(city_dict))\n",
    "mat = scipy.sparse.coo_matrix((values, (rows, cols)), shape=(rows.max() + 1, cols.max() + 1))\n",
    "als = implicit.approximate_als.FaissAlternatingLeastSquares(factors = 50, iterations = 30, use_gpu = False, \\\n",
    "       calculate_training_loss = False, regularization = 0.1)"
   ]
  },
  {
   "cell_type": "code",
   "execution_count": 34,
   "id": "9408c658",
   "metadata": {
    "execution": {
     "iopub.execute_input": "2023-04-07T10:13:44.145097Z",
     "iopub.status.busy": "2023-04-07T10:13:44.144674Z",
     "iopub.status.idle": "2023-04-07T10:14:57.143450Z",
     "shell.execute_reply": "2023-04-07T10:14:57.138683Z"
    },
    "papermill": {
     "duration": 73.03903,
     "end_time": "2023-04-07T10:14:57.155100",
     "exception": false,
     "start_time": "2023-04-07T10:13:44.116070",
     "status": "completed"
    },
    "tags": []
   },
   "outputs": [
    {
     "data": {
      "application/vnd.jupyter.widget-view+json": {
       "model_id": "943c196a6a8643eb999b202677406f97",
       "version_major": 2,
       "version_minor": 0
      },
      "text/plain": [
       "  0%|          | 0/30 [00:00<?, ?it/s]"
      ]
     },
     "metadata": {},
     "output_type": "display_data"
    },
    {
     "name": "stdout",
     "output_type": "stream",
     "text": [
      "CPU times: user 3min 44s, sys: 47.4 s, total: 4min 31s\n",
      "Wall time: 1min 12s\n"
     ]
    }
   ],
   "source": [
    "%%time\n",
    "als.fit(mat)"
   ]
  },
  {
   "cell_type": "code",
   "execution_count": 35,
   "id": "fb184d56",
   "metadata": {
    "execution": {
     "iopub.execute_input": "2023-04-07T10:14:57.376219Z",
     "iopub.status.busy": "2023-04-07T10:14:57.372838Z",
     "iopub.status.idle": "2023-04-07T10:14:57.385883Z",
     "shell.execute_reply": "2023-04-07T10:14:57.381954Z"
    },
    "papermill": {
     "duration": 0.124761,
     "end_time": "2023-04-07T10:14:57.394630",
     "exception": false,
     "start_time": "2023-04-07T10:14:57.269869",
     "status": "completed"
    },
    "tags": []
   },
   "outputs": [],
   "source": [
    "d_factors = als.item_factors"
   ]
  },
  {
   "cell_type": "code",
   "execution_count": 36,
   "id": "e0148f73",
   "metadata": {
    "execution": {
     "iopub.execute_input": "2023-04-07T10:14:57.597316Z",
     "iopub.status.busy": "2023-04-07T10:14:57.594020Z",
     "iopub.status.idle": "2023-04-07T10:14:58.984829Z",
     "shell.execute_reply": "2023-04-07T10:14:58.978725Z"
    },
    "papermill": {
     "duration": 1.504025,
     "end_time": "2023-04-07T10:14:58.995360",
     "exception": false,
     "start_time": "2023-04-07T10:14:57.491335",
     "status": "completed"
    },
    "tags": []
   },
   "outputs": [
    {
     "name": "stdout",
     "output_type": "stream",
     "text": [
      "CPU times: user 1.27 s, sys: 91.4 ms, total: 1.37 s\n",
      "Wall time: 1.37 s\n"
     ]
    }
   ],
   "source": [
    "%%time\n",
    "inv_usr_map = {v: k for k, v in usr_dict.items()}\n",
    "city_emb = pd.DataFrame(d_factors)\n",
    "city_emb['user_id'] = city_emb.index.map(inv_usr_map)"
   ]
  },
  {
   "cell_type": "code",
   "execution_count": 37,
   "id": "c5ac1ebc",
   "metadata": {
    "execution": {
     "iopub.execute_input": "2023-04-07T10:14:59.214337Z",
     "iopub.status.busy": "2023-04-07T10:14:59.212242Z",
     "iopub.status.idle": "2023-04-07T10:15:27.011299Z",
     "shell.execute_reply": "2023-04-07T10:15:27.010291Z"
    },
    "papermill": {
     "duration": 27.929331,
     "end_time": "2023-04-07T10:15:27.013974",
     "exception": false,
     "start_time": "2023-04-07T10:14:59.084643",
     "status": "completed"
    },
    "tags": []
   },
   "outputs": [],
   "source": [
    "city_emb.to_csv('data/bace_preprocessing/city_emb.csv', index = False)"
   ]
  },
  {
   "cell_type": "code",
   "execution_count": 38,
   "id": "d392f039",
   "metadata": {
    "execution": {
     "iopub.execute_input": "2023-04-07T10:15:27.064025Z",
     "iopub.status.busy": "2023-04-07T10:15:27.063210Z",
     "iopub.status.idle": "2023-04-07T10:15:27.256240Z",
     "shell.execute_reply": "2023-04-07T10:15:27.255285Z"
    },
    "papermill": {
     "duration": 0.220649,
     "end_time": "2023-04-07T10:15:27.258756",
     "exception": false,
     "start_time": "2023-04-07T10:15:27.038107",
     "status": "completed"
    },
    "tags": []
   },
   "outputs": [
    {
     "data": {
      "text/plain": [
       "21"
      ]
     },
     "execution_count": 38,
     "metadata": {},
     "output_type": "execute_result"
    }
   ],
   "source": [
    "del(city_agg)\n",
    "del(values)\n",
    "del(rows)\n",
    "del(cols)\n",
    "del(mat)\n",
    "del(als)\n",
    "del(d_factors)\n",
    "del(inv_usr_map)\n",
    "del(city_emb)\n",
    "del(city_set)\n",
    "del(city_dict)\n",
    "gc.collect()"
   ]
  },
  {
   "attachments": {},
   "cell_type": "markdown",
   "id": "ee332db8",
   "metadata": {
    "papermill": {
     "duration": 0.02348,
     "end_time": "2023-04-07T10:15:27.306571",
     "exception": false,
     "start_time": "2023-04-07T10:15:27.283091",
     "status": "completed"
    },
    "tags": []
   },
   "source": [
    "## Model\n",
    "I count the number of requests for each user from each model and use it as weight in sparse matrix for ALS embanding"
   ]
  },
  {
   "cell_type": "code",
   "execution_count": 39,
   "id": "3767592d",
   "metadata": {
    "execution": {
     "iopub.execute_input": "2023-04-07T10:15:27.358428Z",
     "iopub.status.busy": "2023-04-07T10:15:27.357331Z",
     "iopub.status.idle": "2023-04-07T10:15:39.637741Z",
     "shell.execute_reply": "2023-04-07T10:15:39.636353Z"
    },
    "papermill": {
     "duration": 12.309433,
     "end_time": "2023-04-07T10:15:39.640184",
     "exception": false,
     "start_time": "2023-04-07T10:15:27.330751",
     "status": "completed"
    },
    "tags": []
   },
   "outputs": [
    {
     "name": "stdout",
     "output_type": "stream",
     "text": [
      "CPU times: user 10.2 s, sys: 2.04 s, total: 12.3 s\n",
      "Wall time: 12.3 s\n"
     ]
    }
   ],
   "source": [
    "%%time\n",
    "model_agg = data.select(['user_id', 'cpe_model_name', 'request_cnt']).\\\n",
    "    group_by(['user_id', 'cpe_model_name']).aggregate([('request_cnt', 'count')])"
   ]
  },
  {
   "cell_type": "code",
   "execution_count": 40,
   "id": "06b4ed0b",
   "metadata": {
    "execution": {
     "iopub.execute_input": "2023-04-07T10:15:39.690722Z",
     "iopub.status.busy": "2023-04-07T10:15:39.689968Z",
     "iopub.status.idle": "2023-04-07T10:15:39.719832Z",
     "shell.execute_reply": "2023-04-07T10:15:39.718546Z"
    },
    "papermill": {
     "duration": 0.057701,
     "end_time": "2023-04-07T10:15:39.722442",
     "exception": false,
     "start_time": "2023-04-07T10:15:39.664741",
     "status": "completed"
    },
    "tags": []
   },
   "outputs": [
    {
     "name": "stdout",
     "output_type": "stream",
     "text": [
      "599 cities\n"
     ]
    }
   ],
   "source": [
    "model_set = set(model_agg.select(['cpe_model_name']).to_pandas()['cpe_model_name'])\n",
    "print(f'{len(model_set)} cities')\n",
    "model_dict = {url: idurl for url, idurl in zip(model_set, range(len(model_set)))}"
   ]
  },
  {
   "cell_type": "code",
   "execution_count": 41,
   "id": "6c798e3f",
   "metadata": {
    "execution": {
     "iopub.execute_input": "2023-04-07T10:15:39.771909Z",
     "iopub.status.busy": "2023-04-07T10:15:39.771488Z",
     "iopub.status.idle": "2023-04-07T10:15:40.180265Z",
     "shell.execute_reply": "2023-04-07T10:15:40.179244Z"
    },
    "papermill": {
     "duration": 0.43685,
     "end_time": "2023-04-07T10:15:40.183079",
     "exception": false,
     "start_time": "2023-04-07T10:15:39.746229",
     "status": "completed"
    },
    "tags": []
   },
   "outputs": [
    {
     "name": "stdout",
     "output_type": "stream",
     "text": [
      "CPU times: user 396 ms, sys: 155 ms, total: 551 ms\n",
      "Wall time: 401 ms\n"
     ]
    }
   ],
   "source": [
    "%%time\n",
    "values = np.array(model_agg.select(['request_cnt_count']).to_pandas()['request_cnt_count'])\n",
    "rows = np.array(model_agg.select(['user_id']).to_pandas()['user_id'].map(usr_dict))\n",
    "cols = np.array(model_agg.select(['cpe_model_name']).to_pandas()['cpe_model_name'].map(model_dict))\n",
    "mat = scipy.sparse.coo_matrix((values, (rows, cols)), shape=(rows.max() + 1, cols.max() + 1))\n",
    "als = implicit.approximate_als.FaissAlternatingLeastSquares(factors = 50, iterations = 30, use_gpu = False, \\\n",
    "       calculate_training_loss = False, regularization = 0.1)"
   ]
  },
  {
   "cell_type": "code",
   "execution_count": 42,
   "id": "5829a364",
   "metadata": {
    "execution": {
     "iopub.execute_input": "2023-04-07T10:15:40.232992Z",
     "iopub.status.busy": "2023-04-07T10:15:40.232046Z",
     "iopub.status.idle": "2023-04-07T10:16:42.884434Z",
     "shell.execute_reply": "2023-04-07T10:16:42.883273Z"
    },
    "papermill": {
     "duration": 62.706324,
     "end_time": "2023-04-07T10:16:42.913283",
     "exception": false,
     "start_time": "2023-04-07T10:15:40.206959",
     "status": "completed"
    },
    "tags": []
   },
   "outputs": [
    {
     "data": {
      "application/vnd.jupyter.widget-view+json": {
       "model_id": "bb7694cebcf0422eac8958cd1cadefdb",
       "version_major": 2,
       "version_minor": 0
      },
      "text/plain": [
       "  0%|          | 0/30 [00:00<?, ?it/s]"
      ]
     },
     "metadata": {},
     "output_type": "display_data"
    },
    {
     "name": "stdout",
     "output_type": "stream",
     "text": [
      "CPU times: user 3min 7s, sys: 49.8 s, total: 3min 56s\n",
      "Wall time: 1min 2s\n"
     ]
    }
   ],
   "source": [
    "%%time\n",
    "als.fit(mat)"
   ]
  },
  {
   "cell_type": "code",
   "execution_count": 43,
   "id": "e4d5b27c",
   "metadata": {
    "execution": {
     "iopub.execute_input": "2023-04-07T10:16:42.964273Z",
     "iopub.status.busy": "2023-04-07T10:16:42.963852Z",
     "iopub.status.idle": "2023-04-07T10:16:42.969243Z",
     "shell.execute_reply": "2023-04-07T10:16:42.967973Z"
    },
    "papermill": {
     "duration": 0.033901,
     "end_time": "2023-04-07T10:16:42.971672",
     "exception": false,
     "start_time": "2023-04-07T10:16:42.937771",
     "status": "completed"
    },
    "tags": []
   },
   "outputs": [],
   "source": [
    "u_factors = als.user_factors \n",
    "d_factors = als.item_factors"
   ]
  },
  {
   "cell_type": "code",
   "execution_count": 44,
   "id": "81112a65",
   "metadata": {
    "execution": {
     "iopub.execute_input": "2023-04-07T10:16:43.022273Z",
     "iopub.status.busy": "2023-04-07T10:16:43.021391Z",
     "iopub.status.idle": "2023-04-07T10:16:43.511876Z",
     "shell.execute_reply": "2023-04-07T10:16:43.510506Z"
    },
    "papermill": {
     "duration": 0.518643,
     "end_time": "2023-04-07T10:16:43.514548",
     "exception": false,
     "start_time": "2023-04-07T10:16:42.995905",
     "status": "completed"
    },
    "tags": []
   },
   "outputs": [
    {
     "name": "stdout",
     "output_type": "stream",
     "text": [
      "CPU times: user 451 ms, sys: 30.9 ms, total: 482 ms\n",
      "Wall time: 483 ms\n"
     ]
    }
   ],
   "source": [
    "%%time\n",
    "inv_usr_map = {v: k for k, v in usr_dict.items()}\n",
    "model_emb = pd.DataFrame(d_factors)\n",
    "model_emb['user_id'] = model_emb.index.map(inv_usr_map)"
   ]
  },
  {
   "cell_type": "code",
   "execution_count": 45,
   "id": "8adcedaa",
   "metadata": {
    "execution": {
     "iopub.execute_input": "2023-04-07T10:16:43.564638Z",
     "iopub.status.busy": "2023-04-07T10:16:43.564177Z",
     "iopub.status.idle": "2023-04-07T10:17:05.244134Z",
     "shell.execute_reply": "2023-04-07T10:17:05.243162Z"
    },
    "papermill": {
     "duration": 21.708039,
     "end_time": "2023-04-07T10:17:05.246925",
     "exception": false,
     "start_time": "2023-04-07T10:16:43.538886",
     "status": "completed"
    },
    "tags": []
   },
   "outputs": [],
   "source": [
    "model_emb.to_csv('data/bace_preprocessing/model_emb.csv', index = False)"
   ]
  },
  {
   "cell_type": "code",
   "execution_count": 46,
   "id": "7ecee8af",
   "metadata": {
    "execution": {
     "iopub.execute_input": "2023-04-07T10:17:05.297814Z",
     "iopub.status.busy": "2023-04-07T10:17:05.297087Z",
     "iopub.status.idle": "2023-04-07T10:17:05.498889Z",
     "shell.execute_reply": "2023-04-07T10:17:05.497591Z"
    },
    "papermill": {
     "duration": 0.230455,
     "end_time": "2023-04-07T10:17:05.501538",
     "exception": false,
     "start_time": "2023-04-07T10:17:05.271083",
     "status": "completed"
    },
    "tags": []
   },
   "outputs": [
    {
     "data": {
      "text/plain": [
       "21"
      ]
     },
     "execution_count": 46,
     "metadata": {},
     "output_type": "execute_result"
    }
   ],
   "source": [
    "del(model_agg)\n",
    "del(values)\n",
    "del(rows)\n",
    "del(cols)\n",
    "del(mat)\n",
    "del(als)\n",
    "del(d_factors)\n",
    "del(inv_usr_map)\n",
    "del(model_emb)\n",
    "del(model_set)\n",
    "del(model_dict)\n",
    "del(usr_set)\n",
    "del(usr_dict)\n",
    "gc.collect()"
   ]
  },
  {
   "attachments": {},
   "cell_type": "markdown",
   "id": "03fd6c46",
   "metadata": {
    "papermill": {
     "duration": 0.024174,
     "end_time": "2023-04-07T10:17:05.551040",
     "exception": false,
     "start_time": "2023-04-07T10:17:05.526866",
     "status": "completed"
    },
    "tags": []
   },
   "source": [
    "# Matrix\n",
    "I encode this features with count and sum of request_cnt"
   ]
  },
  {
   "cell_type": "markdown",
   "id": "98726dc7",
   "metadata": {
    "papermill": {
     "duration": 0.024205,
     "end_time": "2023-04-07T10:17:05.599595",
     "exception": false,
     "start_time": "2023-04-07T10:17:05.575390",
     "status": "completed"
    },
    "tags": []
   },
   "source": [
    "## PartOfDay"
   ]
  },
  {
   "cell_type": "code",
   "execution_count": 47,
   "id": "8e652067",
   "metadata": {
    "execution": {
     "iopub.execute_input": "2023-04-07T10:17:05.650163Z",
     "iopub.status.busy": "2023-04-07T10:17:05.649734Z",
     "iopub.status.idle": "2023-04-07T10:17:19.811745Z",
     "shell.execute_reply": "2023-04-07T10:17:19.810556Z"
    },
    "papermill": {
     "duration": 14.190413,
     "end_time": "2023-04-07T10:17:19.814199",
     "exception": false,
     "start_time": "2023-04-07T10:17:05.623786",
     "status": "completed"
    },
    "tags": []
   },
   "outputs": [
    {
     "name": "stdout",
     "output_type": "stream",
     "text": [
      "CPU times: user 12.9 s, sys: 1.27 s, total: 14.2 s\n",
      "Wall time: 14.2 s\n"
     ]
    }
   ],
   "source": [
    "%%time\n",
    "data_agg = data.select(['user_id', 'part_of_day', 'request_cnt']).\\\n",
    "    group_by(['user_id', 'part_of_day']).aggregate([('request_cnt', 'sum'), ('request_cnt', 'count')])"
   ]
  },
  {
   "cell_type": "code",
   "execution_count": 48,
   "id": "f9ba04ad",
   "metadata": {
    "execution": {
     "iopub.execute_input": "2023-04-07T10:17:19.868915Z",
     "iopub.status.busy": "2023-04-07T10:17:19.867694Z",
     "iopub.status.idle": "2023-04-07T10:17:20.849431Z",
     "shell.execute_reply": "2023-04-07T10:17:20.848272Z"
    },
    "papermill": {
     "duration": 1.013768,
     "end_time": "2023-04-07T10:17:20.852556",
     "exception": false,
     "start_time": "2023-04-07T10:17:19.838788",
     "status": "completed"
    },
    "tags": []
   },
   "outputs": [
    {
     "name": "stdout",
     "output_type": "stream",
     "text": [
      "415317 users\n",
      "4 part_of_days\n"
     ]
    }
   ],
   "source": [
    "usr_set = set(data_agg.select(['user_id']).to_pandas()['user_id'])\n",
    "print(f'{len(usr_set)} users')\n",
    "usr_dict = {usr: user_id for usr, user_id in zip(usr_set, range(len(usr_set)))}\n",
    "region_set = set(data_agg.select(['part_of_day']).to_pandas()['part_of_day'])\n",
    "print(f'{len(region_set)} part_of_days')\n",
    "region_dict = {url: idurl for url, idurl in zip(region_set, range(len(region_set)))}\n",
    "values = np.array(data_agg.select(['request_cnt_count']).to_pandas()['request_cnt_count'])\n",
    "rows = np.array(data_agg.select(['user_id']).to_pandas()['user_id'].map(usr_dict))\n",
    "cols = np.array(data_agg.select(['part_of_day']).to_pandas()['part_of_day'].map(region_dict))\n",
    "count_mat = scipy.sparse.coo_matrix((values, (rows, cols)), shape=(rows.max() + 1, cols.max() + 1)).toarray()"
   ]
  },
  {
   "cell_type": "code",
   "execution_count": 49,
   "id": "bd456a9f",
   "metadata": {
    "execution": {
     "iopub.execute_input": "2023-04-07T10:17:20.903191Z",
     "iopub.status.busy": "2023-04-07T10:17:20.902804Z",
     "iopub.status.idle": "2023-04-07T10:17:21.869628Z",
     "shell.execute_reply": "2023-04-07T10:17:21.868341Z"
    },
    "papermill": {
     "duration": 0.995378,
     "end_time": "2023-04-07T10:17:21.872395",
     "exception": false,
     "start_time": "2023-04-07T10:17:20.877017",
     "status": "completed"
    },
    "tags": []
   },
   "outputs": [
    {
     "name": "stdout",
     "output_type": "stream",
     "text": [
      "415317 users\n",
      "4 part_of_days\n"
     ]
    }
   ],
   "source": [
    "usr_set = set(data_agg.select(['user_id']).to_pandas()['user_id'])\n",
    "print(f'{len(usr_set)} users')\n",
    "usr_dict = {usr: user_id for usr, user_id in zip(usr_set, range(len(usr_set)))}\n",
    "region_set = set(data_agg.select(['part_of_day']).to_pandas()['part_of_day'])\n",
    "print(f'{len(region_set)} part_of_days')\n",
    "region_dict = {url: idurl for url, idurl in zip(region_set, range(len(region_set)))}\n",
    "values = np.array(data_agg.select(['request_cnt_sum']).to_pandas()['request_cnt_sum'])\n",
    "rows = np.array(data_agg.select(['user_id']).to_pandas()['user_id'].map(usr_dict))\n",
    "cols = np.array(data_agg.select(['part_of_day']).to_pandas()['part_of_day'].map(region_dict))\n",
    "sum_mat = scipy.sparse.coo_matrix((values, (rows, cols)), shape=(rows.max() + 1, cols.max() + 1)).toarray()"
   ]
  },
  {
   "cell_type": "code",
   "execution_count": 50,
   "id": "20320008",
   "metadata": {
    "execution": {
     "iopub.execute_input": "2023-04-07T10:17:21.923626Z",
     "iopub.status.busy": "2023-04-07T10:17:21.922255Z",
     "iopub.status.idle": "2023-04-07T10:17:23.957389Z",
     "shell.execute_reply": "2023-04-07T10:17:23.956109Z"
    },
    "papermill": {
     "duration": 2.063173,
     "end_time": "2023-04-07T10:17:23.960054",
     "exception": false,
     "start_time": "2023-04-07T10:17:21.896881",
     "status": "completed"
    },
    "tags": []
   },
   "outputs": [
    {
     "name": "stdout",
     "output_type": "stream",
     "text": [
      "CPU times: user 1.98 s, sys: 41.9 ms, total: 2.02 s\n",
      "Wall time: 2.03 s\n"
     ]
    }
   ],
   "source": [
    "%%time\n",
    "inv_usr_map = {v: k for k, v in usr_dict.items()}\n",
    "count_mat = pd.DataFrame(count_mat)\n",
    "count_mat['user_id'] = count_mat.index.map(inv_usr_map)\n",
    "sum_mat = pd.DataFrame(sum_mat)\n",
    "sum_mat['user_id'] = sum_mat.index.map(inv_usr_map)\n",
    "count_mat = count_mat.merge(sum_mat, on='user_id', how='inner', suffixes=('count', 'sum'))\n",
    "count_mat.to_csv('data/bace_preprocessing/part_of_day.csv', index=False)"
   ]
  },
  {
   "cell_type": "code",
   "execution_count": 51,
   "id": "5a0ef4fa",
   "metadata": {
    "execution": {
     "iopub.execute_input": "2023-04-07T10:17:24.011366Z",
     "iopub.status.busy": "2023-04-07T10:17:24.010189Z",
     "iopub.status.idle": "2023-04-07T10:17:24.193260Z",
     "shell.execute_reply": "2023-04-07T10:17:24.192268Z"
    },
    "papermill": {
     "duration": 0.211394,
     "end_time": "2023-04-07T10:17:24.195866",
     "exception": false,
     "start_time": "2023-04-07T10:17:23.984472",
     "status": "completed"
    },
    "tags": []
   },
   "outputs": [
    {
     "data": {
      "text/plain": [
       "63"
      ]
     },
     "execution_count": 51,
     "metadata": {},
     "output_type": "execute_result"
    }
   ],
   "source": [
    "del(data_agg)\n",
    "del(values)\n",
    "del(rows)\n",
    "del(cols)\n",
    "del(sum_mat)\n",
    "del(count_mat)\n",
    "del(inv_usr_map)\n",
    "del(region_set)\n",
    "del(region_dict)\n",
    "del(usr_set)\n",
    "del(usr_dict)\n",
    "gc.collect()"
   ]
  },
  {
   "attachments": {},
   "cell_type": "markdown",
   "id": "e3d5dcd5",
   "metadata": {
    "papermill": {
     "duration": 0.024184,
     "end_time": "2023-04-07T10:17:24.245443",
     "exception": false,
     "start_time": "2023-04-07T10:17:24.221259",
     "status": "completed"
    },
    "tags": []
   },
   "source": [
    "# AGG\n",
    "I aggregate counts and sums of request_cnt by features and user and count mean, median, min, max and standard deviation od it by each user"
   ]
  },
  {
   "cell_type": "markdown",
   "id": "21ba0593",
   "metadata": {
    "papermill": {
     "duration": 0.023801,
     "end_time": "2023-04-07T10:17:24.293451",
     "exception": false,
     "start_time": "2023-04-07T10:17:24.269650",
     "status": "completed"
    },
    "tags": []
   },
   "source": [
    "### date"
   ]
  },
  {
   "cell_type": "code",
   "execution_count": 52,
   "id": "4e954527",
   "metadata": {
    "execution": {
     "iopub.execute_input": "2023-04-07T10:17:24.345651Z",
     "iopub.status.busy": "2023-04-07T10:17:24.345202Z",
     "iopub.status.idle": "2023-04-07T10:17:55.816755Z",
     "shell.execute_reply": "2023-04-07T10:17:55.815451Z"
    },
    "papermill": {
     "duration": 31.524336,
     "end_time": "2023-04-07T10:17:55.843241",
     "exception": false,
     "start_time": "2023-04-07T10:17:24.318905",
     "status": "completed"
    },
    "tags": []
   },
   "outputs": [
    {
     "name": "stdout",
     "output_type": "stream",
     "text": [
      "CPU times: user 23.6 s, sys: 8.03 s, total: 31.7 s\n",
      "Wall time: 31.5 s\n"
     ]
    }
   ],
   "source": [
    "%%time\n",
    "date_agg = data.select(['user_id', 'date', 'request_cnt']).\\\n",
    "    group_by(['user_id', 'date']).aggregate([('request_cnt', 'count'), ('request_cnt', 'sum')]).\\\n",
    "    group_by(['user_id']).aggregate([('date', 'count'), ('request_cnt_count', 'mean'), ('request_cnt_count', 'approximate_median'), ('request_cnt_count', 'min'), ('request_cnt_count', 'max'), ('request_cnt_count', 'stddev'), ('request_cnt_sum', 'mean'), ('request_cnt_sum', 'approximate_median'), ('request_cnt_sum', 'min'), ('request_cnt_sum', 'max'), ('request_cnt_sum', 'stddev')])"
   ]
  },
  {
   "cell_type": "code",
   "execution_count": 53,
   "id": "9a991101",
   "metadata": {
    "execution": {
     "iopub.execute_input": "2023-04-07T10:17:55.893972Z",
     "iopub.status.busy": "2023-04-07T10:17:55.893570Z",
     "iopub.status.idle": "2023-04-07T10:17:59.102040Z",
     "shell.execute_reply": "2023-04-07T10:17:59.101026Z"
    },
    "papermill": {
     "duration": 3.236998,
     "end_time": "2023-04-07T10:17:59.104661",
     "exception": false,
     "start_time": "2023-04-07T10:17:55.867663",
     "status": "completed"
    },
    "tags": []
   },
   "outputs": [],
   "source": [
    "date_agg.to_pandas().to_csv('data/bace_preprocessing/date_agg.csv', index=False)"
   ]
  },
  {
   "cell_type": "code",
   "execution_count": 54,
   "id": "9f0a87a9",
   "metadata": {
    "execution": {
     "iopub.execute_input": "2023-04-07T10:17:59.156975Z",
     "iopub.status.busy": "2023-04-07T10:17:59.155575Z",
     "iopub.status.idle": "2023-04-07T10:17:59.298660Z",
     "shell.execute_reply": "2023-04-07T10:17:59.297267Z"
    },
    "papermill": {
     "duration": 0.171745,
     "end_time": "2023-04-07T10:17:59.301340",
     "exception": false,
     "start_time": "2023-04-07T10:17:59.129595",
     "status": "completed"
    },
    "tags": []
   },
   "outputs": [
    {
     "data": {
      "text/plain": [
       "63"
      ]
     },
     "execution_count": 54,
     "metadata": {},
     "output_type": "execute_result"
    }
   ],
   "source": [
    "del(date_agg)\n",
    "gc.collect()"
   ]
  },
  {
   "cell_type": "markdown",
   "id": "f8918f92",
   "metadata": {
    "papermill": {
     "duration": 0.02687,
     "end_time": "2023-04-07T10:17:59.353253",
     "exception": false,
     "start_time": "2023-04-07T10:17:59.326383",
     "status": "completed"
    },
    "tags": []
   },
   "source": [
    "### url_host"
   ]
  },
  {
   "cell_type": "code",
   "execution_count": 55,
   "id": "bef01ba9",
   "metadata": {
    "execution": {
     "iopub.execute_input": "2023-04-07T10:17:59.406325Z",
     "iopub.status.busy": "2023-04-07T10:17:59.405871Z",
     "iopub.status.idle": "2023-04-07T10:18:34.115700Z",
     "shell.execute_reply": "2023-04-07T10:18:34.114458Z"
    },
    "papermill": {
     "duration": 34.764338,
     "end_time": "2023-04-07T10:18:34.142456",
     "exception": false,
     "start_time": "2023-04-07T10:17:59.378118",
     "status": "completed"
    },
    "tags": []
   },
   "outputs": [
    {
     "name": "stdout",
     "output_type": "stream",
     "text": [
      "CPU times: user 32.6 s, sys: 2.49 s, total: 35 s\n",
      "Wall time: 34.7 s\n"
     ]
    }
   ],
   "source": [
    "%%time\n",
    "url_agg = data.select(['user_id', 'url_host', 'request_cnt']).\\\n",
    "    group_by(['user_id', 'url_host']).aggregate([('request_cnt', 'count'), ('request_cnt', 'sum')]).\\\n",
    "    group_by(['user_id']).aggregate([('request_cnt_count', 'mean'), ('request_cnt_count', 'approximate_median'), ('request_cnt_count', 'min'), ('request_cnt_count', 'max'), ('request_cnt_count', 'stddev'), ('request_cnt_sum', 'mean'), ('request_cnt_sum', 'approximate_median'), ('request_cnt_sum', 'min'), ('request_cnt_sum', 'max'), ('request_cnt_sum', 'stddev')])"
   ]
  },
  {
   "cell_type": "code",
   "execution_count": 56,
   "id": "df009c54",
   "metadata": {
    "execution": {
     "iopub.execute_input": "2023-04-07T10:18:34.193465Z",
     "iopub.status.busy": "2023-04-07T10:18:34.192627Z",
     "iopub.status.idle": "2023-04-07T10:18:37.413854Z",
     "shell.execute_reply": "2023-04-07T10:18:37.412578Z"
    },
    "papermill": {
     "duration": 3.249839,
     "end_time": "2023-04-07T10:18:37.416676",
     "exception": false,
     "start_time": "2023-04-07T10:18:34.166837",
     "status": "completed"
    },
    "tags": []
   },
   "outputs": [],
   "source": [
    "url_agg.to_pandas().to_csv('data/bace_preprocessing/url_agg.csv', index=False)"
   ]
  },
  {
   "cell_type": "code",
   "execution_count": 57,
   "id": "f6c792fb",
   "metadata": {
    "execution": {
     "iopub.execute_input": "2023-04-07T10:18:37.468424Z",
     "iopub.status.busy": "2023-04-07T10:18:37.468005Z",
     "iopub.status.idle": "2023-04-07T10:18:37.611969Z",
     "shell.execute_reply": "2023-04-07T10:18:37.610791Z"
    },
    "papermill": {
     "duration": 0.172661,
     "end_time": "2023-04-07T10:18:37.614342",
     "exception": false,
     "start_time": "2023-04-07T10:18:37.441681",
     "status": "completed"
    },
    "tags": []
   },
   "outputs": [
    {
     "data": {
      "text/plain": [
       "63"
      ]
     },
     "execution_count": 57,
     "metadata": {},
     "output_type": "execute_result"
    }
   ],
   "source": [
    "del(url_agg)\n",
    "gc.collect()"
   ]
  },
  {
   "cell_type": "markdown",
   "id": "a189253b",
   "metadata": {
    "papermill": {
     "duration": 0.024858,
     "end_time": "2023-04-07T10:18:37.664517",
     "exception": false,
     "start_time": "2023-04-07T10:18:37.639659",
     "status": "completed"
    },
    "tags": []
   },
   "source": [
    "### region"
   ]
  },
  {
   "cell_type": "code",
   "execution_count": 58,
   "id": "38b7ef37",
   "metadata": {
    "execution": {
     "iopub.execute_input": "2023-04-07T10:18:37.716454Z",
     "iopub.status.busy": "2023-04-07T10:18:37.716003Z",
     "iopub.status.idle": "2023-04-07T10:18:51.410310Z",
     "shell.execute_reply": "2023-04-07T10:18:51.408773Z"
    },
    "papermill": {
     "duration": 13.723595,
     "end_time": "2023-04-07T10:18:51.413174",
     "exception": false,
     "start_time": "2023-04-07T10:18:37.689579",
     "status": "completed"
    },
    "tags": []
   },
   "outputs": [
    {
     "name": "stdout",
     "output_type": "stream",
     "text": [
      "CPU times: user 13 s, sys: 815 ms, total: 13.8 s\n",
      "Wall time: 13.7 s\n"
     ]
    }
   ],
   "source": [
    "%%time\n",
    "region_agg = data.select(['user_id', 'region_name', 'request_cnt']).\\\n",
    "    group_by(['user_id', 'region_name']).aggregate([('request_cnt', 'count'), ('request_cnt', 'sum')]).\\\n",
    "    group_by(['user_id']).aggregate([('request_cnt_count', 'mean'), ('request_cnt_count', 'approximate_median'), ('request_cnt_count', 'min'), ('request_cnt_count', 'max'), ('request_cnt_count', 'stddev'), ('request_cnt_sum', 'mean'), ('request_cnt_sum', 'approximate_median'), ('request_cnt_sum', 'min'), ('request_cnt_sum', 'max'), ('request_cnt_sum', 'stddev')])"
   ]
  },
  {
   "cell_type": "code",
   "execution_count": 59,
   "id": "1858c6eb",
   "metadata": {
    "execution": {
     "iopub.execute_input": "2023-04-07T10:18:51.467578Z",
     "iopub.status.busy": "2023-04-07T10:18:51.466746Z",
     "iopub.status.idle": "2023-04-07T10:18:53.753521Z",
     "shell.execute_reply": "2023-04-07T10:18:53.752211Z"
    },
    "papermill": {
     "duration": 2.317878,
     "end_time": "2023-04-07T10:18:53.756667",
     "exception": false,
     "start_time": "2023-04-07T10:18:51.438789",
     "status": "completed"
    },
    "tags": []
   },
   "outputs": [],
   "source": [
    "region_agg.to_pandas().to_csv('data/bace_preprocessing/region_agg.csv', index=False)"
   ]
  },
  {
   "cell_type": "code",
   "execution_count": 60,
   "id": "98184327",
   "metadata": {
    "execution": {
     "iopub.execute_input": "2023-04-07T10:18:53.810202Z",
     "iopub.status.busy": "2023-04-07T10:18:53.809128Z",
     "iopub.status.idle": "2023-04-07T10:18:53.946385Z",
     "shell.execute_reply": "2023-04-07T10:18:53.945202Z"
    },
    "papermill": {
     "duration": 0.167994,
     "end_time": "2023-04-07T10:18:53.949265",
     "exception": false,
     "start_time": "2023-04-07T10:18:53.781271",
     "status": "completed"
    },
    "tags": []
   },
   "outputs": [
    {
     "data": {
      "text/plain": [
       "63"
      ]
     },
     "execution_count": 60,
     "metadata": {},
     "output_type": "execute_result"
    }
   ],
   "source": [
    "del(region_agg)\n",
    "gc.collect()"
   ]
  },
  {
   "cell_type": "markdown",
   "id": "016ad278",
   "metadata": {
    "papermill": {
     "duration": 0.024291,
     "end_time": "2023-04-07T10:18:53.998381",
     "exception": false,
     "start_time": "2023-04-07T10:18:53.974090",
     "status": "completed"
    },
    "tags": []
   },
   "source": [
    "### city"
   ]
  },
  {
   "cell_type": "code",
   "execution_count": 61,
   "id": "eec60e5d",
   "metadata": {
    "execution": {
     "iopub.execute_input": "2023-04-07T10:18:54.051737Z",
     "iopub.status.busy": "2023-04-07T10:18:54.050950Z",
     "iopub.status.idle": "2023-04-07T10:19:09.017101Z",
     "shell.execute_reply": "2023-04-07T10:19:09.015584Z"
    },
    "papermill": {
     "duration": 14.995459,
     "end_time": "2023-04-07T10:19:09.019922",
     "exception": false,
     "start_time": "2023-04-07T10:18:54.024463",
     "status": "completed"
    },
    "tags": []
   },
   "outputs": [
    {
     "name": "stdout",
     "output_type": "stream",
     "text": [
      "CPU times: user 14.2 s, sys: 933 ms, total: 15.1 s\n",
      "Wall time: 15 s\n"
     ]
    }
   ],
   "source": [
    "%%time\n",
    "city_agg = data.select(['user_id', 'region_name', 'city_name', 'request_cnt']).\\\n",
    "    group_by(['user_id', 'region_name', 'city_name']).aggregate([('request_cnt', 'count'), ('request_cnt', 'sum')]).\\\n",
    "    group_by(['user_id']).aggregate([('request_cnt_count', 'mean'), ('request_cnt_count', 'approximate_median'), ('request_cnt_count', 'min'), ('request_cnt_count', 'max'), ('request_cnt_count', 'stddev'), ('request_cnt_sum', 'mean'), ('request_cnt_sum', 'approximate_median'), ('request_cnt_sum', 'min'), ('request_cnt_sum', 'max'), ('request_cnt_sum', 'stddev')])"
   ]
  },
  {
   "cell_type": "code",
   "execution_count": 62,
   "id": "f94deb3d",
   "metadata": {
    "execution": {
     "iopub.execute_input": "2023-04-07T10:19:09.073148Z",
     "iopub.status.busy": "2023-04-07T10:19:09.072748Z",
     "iopub.status.idle": "2023-04-07T10:19:11.563059Z",
     "shell.execute_reply": "2023-04-07T10:19:11.561856Z"
    },
    "papermill": {
     "duration": 2.520538,
     "end_time": "2023-04-07T10:19:11.565937",
     "exception": false,
     "start_time": "2023-04-07T10:19:09.045399",
     "status": "completed"
    },
    "tags": []
   },
   "outputs": [],
   "source": [
    "city_agg.to_pandas().to_csv('data/bace_preprocessing/city_agg.csv', index=False)"
   ]
  },
  {
   "cell_type": "code",
   "execution_count": 63,
   "id": "751d0dd8",
   "metadata": {
    "execution": {
     "iopub.execute_input": "2023-04-07T10:19:11.619685Z",
     "iopub.status.busy": "2023-04-07T10:19:11.619197Z",
     "iopub.status.idle": "2023-04-07T10:19:11.765386Z",
     "shell.execute_reply": "2023-04-07T10:19:11.764165Z"
    },
    "papermill": {
     "duration": 0.175698,
     "end_time": "2023-04-07T10:19:11.767781",
     "exception": false,
     "start_time": "2023-04-07T10:19:11.592083",
     "status": "completed"
    },
    "tags": []
   },
   "outputs": [
    {
     "data": {
      "text/plain": [
       "63"
      ]
     },
     "execution_count": 63,
     "metadata": {},
     "output_type": "execute_result"
    }
   ],
   "source": [
    "del(city_agg)\n",
    "gc.collect()"
   ]
  },
  {
   "cell_type": "markdown",
   "id": "e8e0e83f",
   "metadata": {
    "papermill": {
     "duration": 0.02524,
     "end_time": "2023-04-07T10:19:11.819535",
     "exception": false,
     "start_time": "2023-04-07T10:19:11.794295",
     "status": "completed"
    },
    "tags": []
   },
   "source": [
    "### model"
   ]
  },
  {
   "cell_type": "code",
   "execution_count": 64,
   "id": "d4ea0887",
   "metadata": {
    "execution": {
     "iopub.execute_input": "2023-04-07T10:19:11.873751Z",
     "iopub.status.busy": "2023-04-07T10:19:11.872762Z",
     "iopub.status.idle": "2023-04-07T10:19:26.347793Z",
     "shell.execute_reply": "2023-04-07T10:19:26.346504Z"
    },
    "papermill": {
     "duration": 14.504803,
     "end_time": "2023-04-07T10:19:26.350332",
     "exception": false,
     "start_time": "2023-04-07T10:19:11.845529",
     "status": "completed"
    },
    "tags": []
   },
   "outputs": [
    {
     "name": "stdout",
     "output_type": "stream",
     "text": [
      "CPU times: user 13.8 s, sys: 862 ms, total: 14.6 s\n",
      "Wall time: 14.5 s\n"
     ]
    }
   ],
   "source": [
    "%%time\n",
    "model_agg = data.select(['user_id', 'cpe_manufacturer_name', 'cpe_model_name', 'request_cnt']).\\\n",
    "    group_by(['user_id', 'cpe_manufacturer_name', 'cpe_model_name']).aggregate([('request_cnt', 'count'), ('request_cnt', 'sum')]).\\\n",
    "    group_by(['user_id']).aggregate([('request_cnt_count', 'mean'), ('request_cnt_count', 'approximate_median'), ('request_cnt_count', 'min'), ('request_cnt_count', 'max'), ('request_cnt_count', 'stddev'), ('request_cnt_sum', 'mean'), ('request_cnt_sum', 'approximate_median'), ('request_cnt_sum', 'min'), ('request_cnt_sum', 'max'), ('request_cnt_sum', 'stddev')])"
   ]
  },
  {
   "cell_type": "code",
   "execution_count": 65,
   "id": "2b02827f",
   "metadata": {
    "execution": {
     "iopub.execute_input": "2023-04-07T10:19:26.403558Z",
     "iopub.status.busy": "2023-04-07T10:19:26.403085Z",
     "iopub.status.idle": "2023-04-07T10:19:28.452825Z",
     "shell.execute_reply": "2023-04-07T10:19:28.451696Z"
    },
    "papermill": {
     "duration": 2.079618,
     "end_time": "2023-04-07T10:19:28.455530",
     "exception": false,
     "start_time": "2023-04-07T10:19:26.375912",
     "status": "completed"
    },
    "tags": []
   },
   "outputs": [],
   "source": [
    "model_agg.to_pandas().to_csv('data/bace_preprocessing/model_agg.csv', index=False)"
   ]
  },
  {
   "cell_type": "code",
   "execution_count": 66,
   "id": "a3999a5c",
   "metadata": {
    "execution": {
     "iopub.execute_input": "2023-04-07T10:19:28.508808Z",
     "iopub.status.busy": "2023-04-07T10:19:28.508192Z",
     "iopub.status.idle": "2023-04-07T10:19:28.654620Z",
     "shell.execute_reply": "2023-04-07T10:19:28.653354Z"
    },
    "papermill": {
     "duration": 0.175869,
     "end_time": "2023-04-07T10:19:28.657103",
     "exception": false,
     "start_time": "2023-04-07T10:19:28.481234",
     "status": "completed"
    },
    "tags": []
   },
   "outputs": [
    {
     "data": {
      "text/plain": [
       "63"
      ]
     },
     "execution_count": 66,
     "metadata": {},
     "output_type": "execute_result"
    }
   ],
   "source": [
    "del(model_agg)\n",
    "gc.collect()"
   ]
  },
  {
   "attachments": {},
   "cell_type": "markdown",
   "id": "6e2505c0",
   "metadata": {
    "papermill": {
     "duration": 0.025393,
     "end_time": "2023-04-07T10:19:28.709047",
     "exception": false,
     "start_time": "2023-04-07T10:19:28.683654",
     "status": "completed"
    },
    "tags": []
   },
   "source": [
    "### manufacturer_name"
   ]
  },
  {
   "cell_type": "code",
   "execution_count": 67,
   "id": "b93c78e0",
   "metadata": {
    "execution": {
     "iopub.execute_input": "2023-04-07T10:19:28.762594Z",
     "iopub.status.busy": "2023-04-07T10:19:28.762139Z",
     "iopub.status.idle": "2023-04-07T10:19:42.217612Z",
     "shell.execute_reply": "2023-04-07T10:19:42.216618Z"
    },
    "papermill": {
     "duration": 13.485468,
     "end_time": "2023-04-07T10:19:42.220006",
     "exception": false,
     "start_time": "2023-04-07T10:19:28.734538",
     "status": "completed"
    },
    "tags": []
   },
   "outputs": [
    {
     "name": "stdout",
     "output_type": "stream",
     "text": [
      "CPU times: user 12.7 s, sys: 868 ms, total: 13.6 s\n",
      "Wall time: 13.4 s\n"
     ]
    }
   ],
   "source": [
    "%%time\n",
    "manuf_agg = data.select(['user_id', 'cpe_manufacturer_name', 'request_cnt']).\\\n",
    "    group_by(['user_id', 'cpe_manufacturer_name']).aggregate([('request_cnt', 'count'), ('request_cnt', 'sum')]).\\\n",
    "    group_by(['user_id']).aggregate([('request_cnt_count', 'mean'), ('request_cnt_count', 'approximate_median'), ('request_cnt_count', 'min'), ('request_cnt_count', 'max'), ('request_cnt_count', 'stddev'), ('request_cnt_sum', 'mean'), ('request_cnt_sum', 'approximate_median'), ('request_cnt_sum', 'min'), ('request_cnt_sum', 'max'), ('request_cnt_sum', 'stddev')])"
   ]
  },
  {
   "cell_type": "code",
   "execution_count": 68,
   "id": "1e65c7aa",
   "metadata": {
    "execution": {
     "iopub.execute_input": "2023-04-07T10:19:42.273282Z",
     "iopub.status.busy": "2023-04-07T10:19:42.272843Z",
     "iopub.status.idle": "2023-04-07T10:19:44.301793Z",
     "shell.execute_reply": "2023-04-07T10:19:44.300556Z"
    },
    "papermill": {
     "duration": 2.058787,
     "end_time": "2023-04-07T10:19:44.304524",
     "exception": false,
     "start_time": "2023-04-07T10:19:42.245737",
     "status": "completed"
    },
    "tags": []
   },
   "outputs": [],
   "source": [
    "manuf_agg.to_pandas().to_csv('data/bace_preprocessing/manuf_agg.csv', index=False)"
   ]
  },
  {
   "cell_type": "code",
   "execution_count": 69,
   "id": "5c867c73",
   "metadata": {
    "execution": {
     "iopub.execute_input": "2023-04-07T10:19:44.357662Z",
     "iopub.status.busy": "2023-04-07T10:19:44.357212Z",
     "iopub.status.idle": "2023-04-07T10:19:44.491991Z",
     "shell.execute_reply": "2023-04-07T10:19:44.490790Z"
    },
    "papermill": {
     "duration": 0.164073,
     "end_time": "2023-04-07T10:19:44.494306",
     "exception": false,
     "start_time": "2023-04-07T10:19:44.330233",
     "status": "completed"
    },
    "tags": []
   },
   "outputs": [
    {
     "data": {
      "text/plain": [
       "63"
      ]
     },
     "execution_count": 69,
     "metadata": {},
     "output_type": "execute_result"
    }
   ],
   "source": [
    "del(manuf_agg)\n",
    "gc.collect()"
   ]
  },
  {
   "cell_type": "markdown",
   "id": "3adc65d9",
   "metadata": {
    "papermill": {
     "duration": 0.025289,
     "end_time": "2023-04-07T10:19:44.545256",
     "exception": false,
     "start_time": "2023-04-07T10:19:44.519967",
     "status": "completed"
    },
    "tags": []
   },
   "source": [
    "### cpe_type"
   ]
  },
  {
   "cell_type": "code",
   "execution_count": 70,
   "id": "85747431",
   "metadata": {
    "execution": {
     "iopub.execute_input": "2023-04-07T10:19:44.598101Z",
     "iopub.status.busy": "2023-04-07T10:19:44.597715Z",
     "iopub.status.idle": "2023-04-07T10:19:58.872957Z",
     "shell.execute_reply": "2023-04-07T10:19:58.871405Z"
    },
    "papermill": {
     "duration": 14.304795,
     "end_time": "2023-04-07T10:19:58.875532",
     "exception": false,
     "start_time": "2023-04-07T10:19:44.570737",
     "status": "completed"
    },
    "tags": []
   },
   "outputs": [
    {
     "name": "stdout",
     "output_type": "stream",
     "text": [
      "CPU times: user 13.6 s, sys: 859 ms, total: 14.4 s\n",
      "Wall time: 14.3 s\n"
     ]
    }
   ],
   "source": [
    "%%time\n",
    "cpe_agg = data.select(['user_id', 'cpe_type_cd', 'request_cnt']).\\\n",
    "    group_by(['user_id', 'cpe_type_cd']).aggregate([('request_cnt', 'count'), ('request_cnt', 'sum')]).\\\n",
    "    group_by(['user_id']).aggregate([('request_cnt_count', 'mean'), ('request_cnt_count', 'approximate_median'), ('request_cnt_count', 'min'), ('request_cnt_count', 'max'), ('request_cnt_count', 'stddev'), ('request_cnt_sum', 'mean'), ('request_cnt_sum', 'approximate_median'), ('request_cnt_sum', 'min'), ('request_cnt_sum', 'max'), ('request_cnt_sum', 'stddev')])"
   ]
  },
  {
   "cell_type": "code",
   "execution_count": 71,
   "id": "a84d1619",
   "metadata": {
    "execution": {
     "iopub.execute_input": "2023-04-07T10:19:58.931834Z",
     "iopub.status.busy": "2023-04-07T10:19:58.930720Z",
     "iopub.status.idle": "2023-04-07T10:20:00.968531Z",
     "shell.execute_reply": "2023-04-07T10:20:00.967393Z"
    },
    "papermill": {
     "duration": 2.068554,
     "end_time": "2023-04-07T10:20:00.971317",
     "exception": false,
     "start_time": "2023-04-07T10:19:58.902763",
     "status": "completed"
    },
    "tags": []
   },
   "outputs": [],
   "source": [
    "cpe_agg.to_pandas().to_csv('data/bace_preprocessing/cpe_agg.csv', index=False)"
   ]
  },
  {
   "cell_type": "code",
   "execution_count": 72,
   "id": "52ddc7e4",
   "metadata": {
    "execution": {
     "iopub.execute_input": "2023-04-07T10:20:01.025063Z",
     "iopub.status.busy": "2023-04-07T10:20:01.024260Z",
     "iopub.status.idle": "2023-04-07T10:20:01.163432Z",
     "shell.execute_reply": "2023-04-07T10:20:01.162662Z"
    },
    "papermill": {
     "duration": 0.168409,
     "end_time": "2023-04-07T10:20:01.165688",
     "exception": false,
     "start_time": "2023-04-07T10:20:00.997279",
     "status": "completed"
    },
    "tags": []
   },
   "outputs": [
    {
     "data": {
      "text/plain": [
       "63"
      ]
     },
     "execution_count": 72,
     "metadata": {},
     "output_type": "execute_result"
    }
   ],
   "source": [
    "del(cpe_agg)\n",
    "gc.collect()"
   ]
  },
  {
   "cell_type": "markdown",
   "id": "40b427a9",
   "metadata": {
    "papermill": {
     "duration": 0.02544,
     "end_time": "2023-04-07T10:20:01.217293",
     "exception": false,
     "start_time": "2023-04-07T10:20:01.191853",
     "status": "completed"
    },
    "tags": []
   },
   "source": [
    "### os_type"
   ]
  },
  {
   "cell_type": "code",
   "execution_count": 73,
   "id": "7cf7c6a8",
   "metadata": {
    "execution": {
     "iopub.execute_input": "2023-04-07T10:20:01.271522Z",
     "iopub.status.busy": "2023-04-07T10:20:01.270811Z",
     "iopub.status.idle": "2023-04-07T10:20:14.549005Z",
     "shell.execute_reply": "2023-04-07T10:20:14.547694Z"
    },
    "papermill": {
     "duration": 13.308533,
     "end_time": "2023-04-07T10:20:14.551519",
     "exception": false,
     "start_time": "2023-04-07T10:20:01.242986",
     "status": "completed"
    },
    "tags": []
   },
   "outputs": [
    {
     "name": "stdout",
     "output_type": "stream",
     "text": [
      "CPU times: user 12.5 s, sys: 896 ms, total: 13.4 s\n",
      "Wall time: 13.3 s\n"
     ]
    }
   ],
   "source": [
    "%%time\n",
    "os_agg = data.select(['user_id', 'cpe_model_os_type', 'request_cnt']).\\\n",
    "    group_by(['user_id', 'cpe_model_os_type']).aggregate([('request_cnt', 'count'), ('request_cnt', 'sum')]).\\\n",
    "    group_by(['user_id']).aggregate([('request_cnt_count', 'mean'), ('request_cnt_count', 'approximate_median'), ('request_cnt_count', 'min'), ('request_cnt_count', 'max'), ('request_cnt_count', 'stddev'), ('request_cnt_sum', 'mean'), ('request_cnt_sum', 'approximate_median'), ('request_cnt_sum', 'min'), ('request_cnt_sum', 'max'), ('request_cnt_sum', 'stddev')])"
   ]
  },
  {
   "cell_type": "code",
   "execution_count": 74,
   "id": "9c070076",
   "metadata": {
    "execution": {
     "iopub.execute_input": "2023-04-07T10:20:14.607539Z",
     "iopub.status.busy": "2023-04-07T10:20:14.607084Z",
     "iopub.status.idle": "2023-04-07T10:20:16.629027Z",
     "shell.execute_reply": "2023-04-07T10:20:16.627892Z"
    },
    "papermill": {
     "duration": 2.052812,
     "end_time": "2023-04-07T10:20:16.631764",
     "exception": false,
     "start_time": "2023-04-07T10:20:14.578952",
     "status": "completed"
    },
    "tags": []
   },
   "outputs": [],
   "source": [
    "os_agg.to_pandas().to_csv('data/bace_preprocessing/os_agg.csv', index=False)"
   ]
  },
  {
   "cell_type": "code",
   "execution_count": 75,
   "id": "3ecf97e9",
   "metadata": {
    "execution": {
     "iopub.execute_input": "2023-04-07T10:20:16.685884Z",
     "iopub.status.busy": "2023-04-07T10:20:16.685423Z",
     "iopub.status.idle": "2023-04-07T10:20:16.828831Z",
     "shell.execute_reply": "2023-04-07T10:20:16.827576Z"
    },
    "papermill": {
     "duration": 0.173246,
     "end_time": "2023-04-07T10:20:16.831211",
     "exception": false,
     "start_time": "2023-04-07T10:20:16.657965",
     "status": "completed"
    },
    "tags": []
   },
   "outputs": [
    {
     "data": {
      "text/plain": [
       "63"
      ]
     },
     "execution_count": 75,
     "metadata": {},
     "output_type": "execute_result"
    }
   ],
   "source": [
    "del(os_agg)\n",
    "gc.collect()"
   ]
  }
 ],
 "metadata": {
  "kernelspec": {
   "display_name": "Python 3",
   "language": "python",
   "name": "python3"
  },
  "language_info": {
   "codemirror_mode": {
    "name": "ipython",
    "version": 3
   },
   "file_extension": ".py",
   "mimetype": "text/x-python",
   "name": "python",
   "nbconvert_exporter": "python",
   "pygments_lexer": "ipython3",
   "version": "3.7.12"
  },
  "papermill": {
   "default_parameters": {},
   "duration": 2374.994724,
   "end_time": "2023-04-07T10:20:19.430577",
   "environment_variables": {},
   "exception": null,
   "input_path": "__notebook__.ipynb",
   "output_path": "__notebook__.ipynb",
   "parameters": {},
   "start_time": "2023-04-07T09:40:44.435853",
   "version": "2.3.4"
  },
  "widgets": {
   "application/vnd.jupyter.widget-state+json": {
    "state": {
     "0009b8668ee44ae7875e4655fca818dd": {
      "model_module": "@jupyter-widgets/controls",
      "model_module_version": "1.5.0",
      "model_name": "HTMLModel",
      "state": {
       "_dom_classes": [],
       "_model_module": "@jupyter-widgets/controls",
       "_model_module_version": "1.5.0",
       "_model_name": "HTMLModel",
       "_view_count": null,
       "_view_module": "@jupyter-widgets/controls",
       "_view_module_version": "1.5.0",
       "_view_name": "HTMLView",
       "description": "",
       "description_tooltip": null,
       "layout": "IPY_MODEL_750d08553cec4cc1a5739b04d84af114",
       "placeholder": "​",
       "style": "IPY_MODEL_82a44da67c024407b8bd6284e89c9973",
       "value": " 30/30 [01:05&lt;00:00,  2.09s/it]"
      }
     },
     "0339b75e5ce444be9f36e6ccdd84b537": {
      "model_module": "@jupyter-widgets/controls",
      "model_module_version": "1.5.0",
      "model_name": "DescriptionStyleModel",
      "state": {
       "_model_module": "@jupyter-widgets/controls",
       "_model_module_version": "1.5.0",
       "_model_name": "DescriptionStyleModel",
       "_view_count": null,
       "_view_module": "@jupyter-widgets/base",
       "_view_module_version": "1.2.0",
       "_view_name": "StyleView",
       "description_width": ""
      }
     },
     "034fcb7fb55945b1a45f5e0a3dddc49a": {
      "model_module": "@jupyter-widgets/base",
      "model_module_version": "1.2.0",
      "model_name": "LayoutModel",
      "state": {
       "_model_module": "@jupyter-widgets/base",
       "_model_module_version": "1.2.0",
       "_model_name": "LayoutModel",
       "_view_count": null,
       "_view_module": "@jupyter-widgets/base",
       "_view_module_version": "1.2.0",
       "_view_name": "LayoutView",
       "align_content": null,
       "align_items": null,
       "align_self": null,
       "border": null,
       "bottom": null,
       "display": null,
       "flex": null,
       "flex_flow": null,
       "grid_area": null,
       "grid_auto_columns": null,
       "grid_auto_flow": null,
       "grid_auto_rows": null,
       "grid_column": null,
       "grid_gap": null,
       "grid_row": null,
       "grid_template_areas": null,
       "grid_template_columns": null,
       "grid_template_rows": null,
       "height": null,
       "justify_content": null,
       "justify_items": null,
       "left": null,
       "margin": null,
       "max_height": null,
       "max_width": null,
       "min_height": null,
       "min_width": null,
       "object_fit": null,
       "object_position": null,
       "order": null,
       "overflow": null,
       "overflow_x": null,
       "overflow_y": null,
       "padding": null,
       "right": null,
       "top": null,
       "visibility": null,
       "width": null
      }
     },
     "03719aeff94b45fa88927b34cc91ed1d": {
      "model_module": "@jupyter-widgets/base",
      "model_module_version": "1.2.0",
      "model_name": "LayoutModel",
      "state": {
       "_model_module": "@jupyter-widgets/base",
       "_model_module_version": "1.2.0",
       "_model_name": "LayoutModel",
       "_view_count": null,
       "_view_module": "@jupyter-widgets/base",
       "_view_module_version": "1.2.0",
       "_view_name": "LayoutView",
       "align_content": null,
       "align_items": null,
       "align_self": null,
       "border": null,
       "bottom": null,
       "display": null,
       "flex": null,
       "flex_flow": null,
       "grid_area": null,
       "grid_auto_columns": null,
       "grid_auto_flow": null,
       "grid_auto_rows": null,
       "grid_column": null,
       "grid_gap": null,
       "grid_row": null,
       "grid_template_areas": null,
       "grid_template_columns": null,
       "grid_template_rows": null,
       "height": null,
       "justify_content": null,
       "justify_items": null,
       "left": null,
       "margin": null,
       "max_height": null,
       "max_width": null,
       "min_height": null,
       "min_width": null,
       "object_fit": null,
       "object_position": null,
       "order": null,
       "overflow": null,
       "overflow_x": null,
       "overflow_y": null,
       "padding": null,
       "right": null,
       "top": null,
       "visibility": null,
       "width": null
      }
     },
     "10c1e84c54c4496dbdc3b3386ea251d2": {
      "model_module": "@jupyter-widgets/controls",
      "model_module_version": "1.5.0",
      "model_name": "HTMLModel",
      "state": {
       "_dom_classes": [],
       "_model_module": "@jupyter-widgets/controls",
       "_model_module_version": "1.5.0",
       "_model_name": "HTMLModel",
       "_view_count": null,
       "_view_module": "@jupyter-widgets/controls",
       "_view_module_version": "1.5.0",
       "_view_name": "HTMLView",
       "description": "",
       "description_tooltip": null,
       "layout": "IPY_MODEL_d5314a92302144ecbd8b30d2a4e30a3e",
       "placeholder": "​",
       "style": "IPY_MODEL_c7f71cd4127848d69c79a05255ef8986",
       "value": "100%"
      }
     },
     "1dfeb02b7f78457794d1d42108aa04f6": {
      "model_module": "@jupyter-widgets/controls",
      "model_module_version": "1.5.0",
      "model_name": "HBoxModel",
      "state": {
       "_dom_classes": [],
       "_model_module": "@jupyter-widgets/controls",
       "_model_module_version": "1.5.0",
       "_model_name": "HBoxModel",
       "_view_count": null,
       "_view_module": "@jupyter-widgets/controls",
       "_view_module_version": "1.5.0",
       "_view_name": "HBoxView",
       "box_style": "",
       "children": [
        "IPY_MODEL_e869e8de1aaf4536a970395616ff480e",
        "IPY_MODEL_789c0d33b156467480234006e31ff843",
        "IPY_MODEL_2c24f7419c4848b1a262ab7e95092eff"
       ],
       "layout": "IPY_MODEL_43346b7303654ec6afc1f1a226ae248a"
      }
     },
     "25dc911395b549a4a4e0bf57b4fd923a": {
      "model_module": "@jupyter-widgets/controls",
      "model_module_version": "1.5.0",
      "model_name": "FloatProgressModel",
      "state": {
       "_dom_classes": [],
       "_model_module": "@jupyter-widgets/controls",
       "_model_module_version": "1.5.0",
       "_model_name": "FloatProgressModel",
       "_view_count": null,
       "_view_module": "@jupyter-widgets/controls",
       "_view_module_version": "1.5.0",
       "_view_name": "ProgressView",
       "bar_style": "success",
       "description": "",
       "description_tooltip": null,
       "layout": "IPY_MODEL_b2a7855db7e049e3ae6178e2da660737",
       "max": 30,
       "min": 0,
       "orientation": "horizontal",
       "style": "IPY_MODEL_a92615e9afaf4bf8bd50bf235979788a",
       "value": 30
      }
     },
     "2c24f7419c4848b1a262ab7e95092eff": {
      "model_module": "@jupyter-widgets/controls",
      "model_module_version": "1.5.0",
      "model_name": "HTMLModel",
      "state": {
       "_dom_classes": [],
       "_model_module": "@jupyter-widgets/controls",
       "_model_module_version": "1.5.0",
       "_model_name": "HTMLModel",
       "_view_count": null,
       "_view_module": "@jupyter-widgets/controls",
       "_view_module_version": "1.5.0",
       "_view_name": "HTMLView",
       "description": "",
       "description_tooltip": null,
       "layout": "IPY_MODEL_95f1fdd25c6b463ba3bdd8abaedcad78",
       "placeholder": "​",
       "style": "IPY_MODEL_a7249995b7c54230b2b7d5c93dbaca8d",
       "value": " 30/30 [05:41&lt;00:00, 11.36s/it]"
      }
     },
     "2c9ca30fe1a04e1cbc7f1a807b0b025e": {
      "model_module": "@jupyter-widgets/base",
      "model_module_version": "1.2.0",
      "model_name": "LayoutModel",
      "state": {
       "_model_module": "@jupyter-widgets/base",
       "_model_module_version": "1.2.0",
       "_model_name": "LayoutModel",
       "_view_count": null,
       "_view_module": "@jupyter-widgets/base",
       "_view_module_version": "1.2.0",
       "_view_name": "LayoutView",
       "align_content": null,
       "align_items": null,
       "align_self": null,
       "border": null,
       "bottom": null,
       "display": null,
       "flex": null,
       "flex_flow": null,
       "grid_area": null,
       "grid_auto_columns": null,
       "grid_auto_flow": null,
       "grid_auto_rows": null,
       "grid_column": null,
       "grid_gap": null,
       "grid_row": null,
       "grid_template_areas": null,
       "grid_template_columns": null,
       "grid_template_rows": null,
       "height": null,
       "justify_content": null,
       "justify_items": null,
       "left": null,
       "margin": null,
       "max_height": null,
       "max_width": null,
       "min_height": null,
       "min_width": null,
       "object_fit": null,
       "object_position": null,
       "order": null,
       "overflow": null,
       "overflow_x": null,
       "overflow_y": null,
       "padding": null,
       "right": null,
       "top": null,
       "visibility": null,
       "width": null
      }
     },
     "2e8ee8917c3b4469b5773afdb1e895be": {
      "model_module": "@jupyter-widgets/controls",
      "model_module_version": "1.5.0",
      "model_name": "FloatProgressModel",
      "state": {
       "_dom_classes": [],
       "_model_module": "@jupyter-widgets/controls",
       "_model_module_version": "1.5.0",
       "_model_name": "FloatProgressModel",
       "_view_count": null,
       "_view_module": "@jupyter-widgets/controls",
       "_view_module_version": "1.5.0",
       "_view_name": "ProgressView",
       "bar_style": "success",
       "description": "",
       "description_tooltip": null,
       "layout": "IPY_MODEL_ff7c94d2071d45b7ae8a603cc940f445",
       "max": 30,
       "min": 0,
       "orientation": "horizontal",
       "style": "IPY_MODEL_f53852cbae5c461b97683d0c9981a2de",
       "value": 30
      }
     },
     "368b89644bb24bb68058dd549b1eed32": {
      "model_module": "@jupyter-widgets/base",
      "model_module_version": "1.2.0",
      "model_name": "LayoutModel",
      "state": {
       "_model_module": "@jupyter-widgets/base",
       "_model_module_version": "1.2.0",
       "_model_name": "LayoutModel",
       "_view_count": null,
       "_view_module": "@jupyter-widgets/base",
       "_view_module_version": "1.2.0",
       "_view_name": "LayoutView",
       "align_content": null,
       "align_items": null,
       "align_self": null,
       "border": null,
       "bottom": null,
       "display": null,
       "flex": null,
       "flex_flow": null,
       "grid_area": null,
       "grid_auto_columns": null,
       "grid_auto_flow": null,
       "grid_auto_rows": null,
       "grid_column": null,
       "grid_gap": null,
       "grid_row": null,
       "grid_template_areas": null,
       "grid_template_columns": null,
       "grid_template_rows": null,
       "height": null,
       "justify_content": null,
       "justify_items": null,
       "left": null,
       "margin": null,
       "max_height": null,
       "max_width": null,
       "min_height": null,
       "min_width": null,
       "object_fit": null,
       "object_position": null,
       "order": null,
       "overflow": null,
       "overflow_x": null,
       "overflow_y": null,
       "padding": null,
       "right": null,
       "top": null,
       "visibility": null,
       "width": null
      }
     },
     "37dee69c75b44d75a51a45735b12a1e0": {
      "model_module": "@jupyter-widgets/controls",
      "model_module_version": "1.5.0",
      "model_name": "ProgressStyleModel",
      "state": {
       "_model_module": "@jupyter-widgets/controls",
       "_model_module_version": "1.5.0",
       "_model_name": "ProgressStyleModel",
       "_view_count": null,
       "_view_module": "@jupyter-widgets/base",
       "_view_module_version": "1.2.0",
       "_view_name": "StyleView",
       "bar_color": null,
       "description_width": ""
      }
     },
     "399f937eac9d4b589182d5a5acb166a0": {
      "model_module": "@jupyter-widgets/controls",
      "model_module_version": "1.5.0",
      "model_name": "DescriptionStyleModel",
      "state": {
       "_model_module": "@jupyter-widgets/controls",
       "_model_module_version": "1.5.0",
       "_model_name": "DescriptionStyleModel",
       "_view_count": null,
       "_view_module": "@jupyter-widgets/base",
       "_view_module_version": "1.2.0",
       "_view_name": "StyleView",
       "description_width": ""
      }
     },
     "3a75ec48c2f74996b39923a691cfb7ba": {
      "model_module": "@jupyter-widgets/controls",
      "model_module_version": "1.5.0",
      "model_name": "HTMLModel",
      "state": {
       "_dom_classes": [],
       "_model_module": "@jupyter-widgets/controls",
       "_model_module_version": "1.5.0",
       "_model_name": "HTMLModel",
       "_view_count": null,
       "_view_module": "@jupyter-widgets/controls",
       "_view_module_version": "1.5.0",
       "_view_name": "HTMLView",
       "description": "",
       "description_tooltip": null,
       "layout": "IPY_MODEL_2c9ca30fe1a04e1cbc7f1a807b0b025e",
       "placeholder": "​",
       "style": "IPY_MODEL_50f0e480203d4391be66c57250e7ba63",
       "value": "100%"
      }
     },
     "3ebd175a334e4de29e71ed420a0616d7": {
      "model_module": "@jupyter-widgets/base",
      "model_module_version": "1.2.0",
      "model_name": "LayoutModel",
      "state": {
       "_model_module": "@jupyter-widgets/base",
       "_model_module_version": "1.2.0",
       "_model_name": "LayoutModel",
       "_view_count": null,
       "_view_module": "@jupyter-widgets/base",
       "_view_module_version": "1.2.0",
       "_view_name": "LayoutView",
       "align_content": null,
       "align_items": null,
       "align_self": null,
       "border": null,
       "bottom": null,
       "display": null,
       "flex": null,
       "flex_flow": null,
       "grid_area": null,
       "grid_auto_columns": null,
       "grid_auto_flow": null,
       "grid_auto_rows": null,
       "grid_column": null,
       "grid_gap": null,
       "grid_row": null,
       "grid_template_areas": null,
       "grid_template_columns": null,
       "grid_template_rows": null,
       "height": null,
       "justify_content": null,
       "justify_items": null,
       "left": null,
       "margin": null,
       "max_height": null,
       "max_width": null,
       "min_height": null,
       "min_width": null,
       "object_fit": null,
       "object_position": null,
       "order": null,
       "overflow": null,
       "overflow_x": null,
       "overflow_y": null,
       "padding": null,
       "right": null,
       "top": null,
       "visibility": null,
       "width": null
      }
     },
     "43346b7303654ec6afc1f1a226ae248a": {
      "model_module": "@jupyter-widgets/base",
      "model_module_version": "1.2.0",
      "model_name": "LayoutModel",
      "state": {
       "_model_module": "@jupyter-widgets/base",
       "_model_module_version": "1.2.0",
       "_model_name": "LayoutModel",
       "_view_count": null,
       "_view_module": "@jupyter-widgets/base",
       "_view_module_version": "1.2.0",
       "_view_name": "LayoutView",
       "align_content": null,
       "align_items": null,
       "align_self": null,
       "border": null,
       "bottom": null,
       "display": null,
       "flex": null,
       "flex_flow": null,
       "grid_area": null,
       "grid_auto_columns": null,
       "grid_auto_flow": null,
       "grid_auto_rows": null,
       "grid_column": null,
       "grid_gap": null,
       "grid_row": null,
       "grid_template_areas": null,
       "grid_template_columns": null,
       "grid_template_rows": null,
       "height": null,
       "justify_content": null,
       "justify_items": null,
       "left": null,
       "margin": null,
       "max_height": null,
       "max_width": null,
       "min_height": null,
       "min_width": null,
       "object_fit": null,
       "object_position": null,
       "order": null,
       "overflow": null,
       "overflow_x": null,
       "overflow_y": null,
       "padding": null,
       "right": null,
       "top": null,
       "visibility": null,
       "width": null
      }
     },
     "4ef713f8c15847c5bc99f157212da9eb": {
      "model_module": "@jupyter-widgets/base",
      "model_module_version": "1.2.0",
      "model_name": "LayoutModel",
      "state": {
       "_model_module": "@jupyter-widgets/base",
       "_model_module_version": "1.2.0",
       "_model_name": "LayoutModel",
       "_view_count": null,
       "_view_module": "@jupyter-widgets/base",
       "_view_module_version": "1.2.0",
       "_view_name": "LayoutView",
       "align_content": null,
       "align_items": null,
       "align_self": null,
       "border": null,
       "bottom": null,
       "display": null,
       "flex": null,
       "flex_flow": null,
       "grid_area": null,
       "grid_auto_columns": null,
       "grid_auto_flow": null,
       "grid_auto_rows": null,
       "grid_column": null,
       "grid_gap": null,
       "grid_row": null,
       "grid_template_areas": null,
       "grid_template_columns": null,
       "grid_template_rows": null,
       "height": null,
       "justify_content": null,
       "justify_items": null,
       "left": null,
       "margin": null,
       "max_height": null,
       "max_width": null,
       "min_height": null,
       "min_width": null,
       "object_fit": null,
       "object_position": null,
       "order": null,
       "overflow": null,
       "overflow_x": null,
       "overflow_y": null,
       "padding": null,
       "right": null,
       "top": null,
       "visibility": null,
       "width": null
      }
     },
     "50f0e480203d4391be66c57250e7ba63": {
      "model_module": "@jupyter-widgets/controls",
      "model_module_version": "1.5.0",
      "model_name": "DescriptionStyleModel",
      "state": {
       "_model_module": "@jupyter-widgets/controls",
       "_model_module_version": "1.5.0",
       "_model_name": "DescriptionStyleModel",
       "_view_count": null,
       "_view_module": "@jupyter-widgets/base",
       "_view_module_version": "1.2.0",
       "_view_name": "StyleView",
       "description_width": ""
      }
     },
     "607e7d28b4d34be9afcfb3af999031e7": {
      "model_module": "@jupyter-widgets/controls",
      "model_module_version": "1.5.0",
      "model_name": "HBoxModel",
      "state": {
       "_dom_classes": [],
       "_model_module": "@jupyter-widgets/controls",
       "_model_module_version": "1.5.0",
       "_model_name": "HBoxModel",
       "_view_count": null,
       "_view_module": "@jupyter-widgets/controls",
       "_view_module_version": "1.5.0",
       "_view_name": "HBoxView",
       "box_style": "",
       "children": [
        "IPY_MODEL_3a75ec48c2f74996b39923a691cfb7ba",
        "IPY_MODEL_b1dc2bf2f16744c88b46ff6059abba18",
        "IPY_MODEL_8ca1ee05e0924f67bc375d96031f0c85"
       ],
       "layout": "IPY_MODEL_034fcb7fb55945b1a45f5e0a3dddc49a"
      }
     },
     "750d08553cec4cc1a5739b04d84af114": {
      "model_module": "@jupyter-widgets/base",
      "model_module_version": "1.2.0",
      "model_name": "LayoutModel",
      "state": {
       "_model_module": "@jupyter-widgets/base",
       "_model_module_version": "1.2.0",
       "_model_name": "LayoutModel",
       "_view_count": null,
       "_view_module": "@jupyter-widgets/base",
       "_view_module_version": "1.2.0",
       "_view_name": "LayoutView",
       "align_content": null,
       "align_items": null,
       "align_self": null,
       "border": null,
       "bottom": null,
       "display": null,
       "flex": null,
       "flex_flow": null,
       "grid_area": null,
       "grid_auto_columns": null,
       "grid_auto_flow": null,
       "grid_auto_rows": null,
       "grid_column": null,
       "grid_gap": null,
       "grid_row": null,
       "grid_template_areas": null,
       "grid_template_columns": null,
       "grid_template_rows": null,
       "height": null,
       "justify_content": null,
       "justify_items": null,
       "left": null,
       "margin": null,
       "max_height": null,
       "max_width": null,
       "min_height": null,
       "min_width": null,
       "object_fit": null,
       "object_position": null,
       "order": null,
       "overflow": null,
       "overflow_x": null,
       "overflow_y": null,
       "padding": null,
       "right": null,
       "top": null,
       "visibility": null,
       "width": null
      }
     },
     "75ef0e09f8c64a62a6467df3ec327672": {
      "model_module": "@jupyter-widgets/base",
      "model_module_version": "1.2.0",
      "model_name": "LayoutModel",
      "state": {
       "_model_module": "@jupyter-widgets/base",
       "_model_module_version": "1.2.0",
       "_model_name": "LayoutModel",
       "_view_count": null,
       "_view_module": "@jupyter-widgets/base",
       "_view_module_version": "1.2.0",
       "_view_name": "LayoutView",
       "align_content": null,
       "align_items": null,
       "align_self": null,
       "border": null,
       "bottom": null,
       "display": null,
       "flex": null,
       "flex_flow": null,
       "grid_area": null,
       "grid_auto_columns": null,
       "grid_auto_flow": null,
       "grid_auto_rows": null,
       "grid_column": null,
       "grid_gap": null,
       "grid_row": null,
       "grid_template_areas": null,
       "grid_template_columns": null,
       "grid_template_rows": null,
       "height": null,
       "justify_content": null,
       "justify_items": null,
       "left": null,
       "margin": null,
       "max_height": null,
       "max_width": null,
       "min_height": null,
       "min_width": null,
       "object_fit": null,
       "object_position": null,
       "order": null,
       "overflow": null,
       "overflow_x": null,
       "overflow_y": null,
       "padding": null,
       "right": null,
       "top": null,
       "visibility": null,
       "width": null
      }
     },
     "789c0d33b156467480234006e31ff843": {
      "model_module": "@jupyter-widgets/controls",
      "model_module_version": "1.5.0",
      "model_name": "FloatProgressModel",
      "state": {
       "_dom_classes": [],
       "_model_module": "@jupyter-widgets/controls",
       "_model_module_version": "1.5.0",
       "_model_name": "FloatProgressModel",
       "_view_count": null,
       "_view_module": "@jupyter-widgets/controls",
       "_view_module_version": "1.5.0",
       "_view_name": "ProgressView",
       "bar_style": "success",
       "description": "",
       "description_tooltip": null,
       "layout": "IPY_MODEL_a421783583104f848e22d44192bfec9f",
       "max": 30,
       "min": 0,
       "orientation": "horizontal",
       "style": "IPY_MODEL_85e23a11a66244139b0547d718adfe93",
       "value": 30
      }
     },
     "82a44da67c024407b8bd6284e89c9973": {
      "model_module": "@jupyter-widgets/controls",
      "model_module_version": "1.5.0",
      "model_name": "DescriptionStyleModel",
      "state": {
       "_model_module": "@jupyter-widgets/controls",
       "_model_module_version": "1.5.0",
       "_model_name": "DescriptionStyleModel",
       "_view_count": null,
       "_view_module": "@jupyter-widgets/base",
       "_view_module_version": "1.2.0",
       "_view_name": "StyleView",
       "description_width": ""
      }
     },
     "85e23a11a66244139b0547d718adfe93": {
      "model_module": "@jupyter-widgets/controls",
      "model_module_version": "1.5.0",
      "model_name": "ProgressStyleModel",
      "state": {
       "_model_module": "@jupyter-widgets/controls",
       "_model_module_version": "1.5.0",
       "_model_name": "ProgressStyleModel",
       "_view_count": null,
       "_view_module": "@jupyter-widgets/base",
       "_view_module_version": "1.2.0",
       "_view_name": "StyleView",
       "bar_color": null,
       "description_width": ""
      }
     },
     "8732a57c4e6f40ef9fe18dfb327132a1": {
      "model_module": "@jupyter-widgets/base",
      "model_module_version": "1.2.0",
      "model_name": "LayoutModel",
      "state": {
       "_model_module": "@jupyter-widgets/base",
       "_model_module_version": "1.2.0",
       "_model_name": "LayoutModel",
       "_view_count": null,
       "_view_module": "@jupyter-widgets/base",
       "_view_module_version": "1.2.0",
       "_view_name": "LayoutView",
       "align_content": null,
       "align_items": null,
       "align_self": null,
       "border": null,
       "bottom": null,
       "display": null,
       "flex": null,
       "flex_flow": null,
       "grid_area": null,
       "grid_auto_columns": null,
       "grid_auto_flow": null,
       "grid_auto_rows": null,
       "grid_column": null,
       "grid_gap": null,
       "grid_row": null,
       "grid_template_areas": null,
       "grid_template_columns": null,
       "grid_template_rows": null,
       "height": null,
       "justify_content": null,
       "justify_items": null,
       "left": null,
       "margin": null,
       "max_height": null,
       "max_width": null,
       "min_height": null,
       "min_width": null,
       "object_fit": null,
       "object_position": null,
       "order": null,
       "overflow": null,
       "overflow_x": null,
       "overflow_y": null,
       "padding": null,
       "right": null,
       "top": null,
       "visibility": null,
       "width": null
      }
     },
     "8c74ba99b8d644c5bc326b5970433f9b": {
      "model_module": "@jupyter-widgets/controls",
      "model_module_version": "1.5.0",
      "model_name": "ProgressStyleModel",
      "state": {
       "_model_module": "@jupyter-widgets/controls",
       "_model_module_version": "1.5.0",
       "_model_name": "ProgressStyleModel",
       "_view_count": null,
       "_view_module": "@jupyter-widgets/base",
       "_view_module_version": "1.2.0",
       "_view_name": "StyleView",
       "bar_color": null,
       "description_width": ""
      }
     },
     "8ca1ee05e0924f67bc375d96031f0c85": {
      "model_module": "@jupyter-widgets/controls",
      "model_module_version": "1.5.0",
      "model_name": "HTMLModel",
      "state": {
       "_dom_classes": [],
       "_model_module": "@jupyter-widgets/controls",
       "_model_module_version": "1.5.0",
       "_model_name": "HTMLModel",
       "_view_count": null,
       "_view_module": "@jupyter-widgets/controls",
       "_view_module_version": "1.5.0",
       "_view_name": "HTMLView",
       "description": "",
       "description_tooltip": null,
       "layout": "IPY_MODEL_03719aeff94b45fa88927b34cc91ed1d",
       "placeholder": "​",
       "style": "IPY_MODEL_8e92565ee0a04d51a9d248d5a0c4f3ae",
       "value": " 100/100 [18:48&lt;00:00, 11.17s/it]"
      }
     },
     "8e92565ee0a04d51a9d248d5a0c4f3ae": {
      "model_module": "@jupyter-widgets/controls",
      "model_module_version": "1.5.0",
      "model_name": "DescriptionStyleModel",
      "state": {
       "_model_module": "@jupyter-widgets/controls",
       "_model_module_version": "1.5.0",
       "_model_name": "DescriptionStyleModel",
       "_view_count": null,
       "_view_module": "@jupyter-widgets/base",
       "_view_module_version": "1.2.0",
       "_view_name": "StyleView",
       "description_width": ""
      }
     },
     "943c196a6a8643eb999b202677406f97": {
      "model_module": "@jupyter-widgets/controls",
      "model_module_version": "1.5.0",
      "model_name": "HBoxModel",
      "state": {
       "_dom_classes": [],
       "_model_module": "@jupyter-widgets/controls",
       "_model_module_version": "1.5.0",
       "_model_name": "HBoxModel",
       "_view_count": null,
       "_view_module": "@jupyter-widgets/controls",
       "_view_module_version": "1.5.0",
       "_view_name": "HBoxView",
       "box_style": "",
       "children": [
        "IPY_MODEL_f58f671f394c487b97e7b950a9d19135",
        "IPY_MODEL_25dc911395b549a4a4e0bf57b4fd923a",
        "IPY_MODEL_b54932fa30984f768fc0b2fd19438919"
       ],
       "layout": "IPY_MODEL_368b89644bb24bb68058dd549b1eed32"
      }
     },
     "95f1fdd25c6b463ba3bdd8abaedcad78": {
      "model_module": "@jupyter-widgets/base",
      "model_module_version": "1.2.0",
      "model_name": "LayoutModel",
      "state": {
       "_model_module": "@jupyter-widgets/base",
       "_model_module_version": "1.2.0",
       "_model_name": "LayoutModel",
       "_view_count": null,
       "_view_module": "@jupyter-widgets/base",
       "_view_module_version": "1.2.0",
       "_view_name": "LayoutView",
       "align_content": null,
       "align_items": null,
       "align_self": null,
       "border": null,
       "bottom": null,
       "display": null,
       "flex": null,
       "flex_flow": null,
       "grid_area": null,
       "grid_auto_columns": null,
       "grid_auto_flow": null,
       "grid_auto_rows": null,
       "grid_column": null,
       "grid_gap": null,
       "grid_row": null,
       "grid_template_areas": null,
       "grid_template_columns": null,
       "grid_template_rows": null,
       "height": null,
       "justify_content": null,
       "justify_items": null,
       "left": null,
       "margin": null,
       "max_height": null,
       "max_width": null,
       "min_height": null,
       "min_width": null,
       "object_fit": null,
       "object_position": null,
       "order": null,
       "overflow": null,
       "overflow_x": null,
       "overflow_y": null,
       "padding": null,
       "right": null,
       "top": null,
       "visibility": null,
       "width": null
      }
     },
     "99224cde18c4447eb527d3ba7c3ba093": {
      "model_module": "@jupyter-widgets/base",
      "model_module_version": "1.2.0",
      "model_name": "LayoutModel",
      "state": {
       "_model_module": "@jupyter-widgets/base",
       "_model_module_version": "1.2.0",
       "_model_name": "LayoutModel",
       "_view_count": null,
       "_view_module": "@jupyter-widgets/base",
       "_view_module_version": "1.2.0",
       "_view_name": "LayoutView",
       "align_content": null,
       "align_items": null,
       "align_self": null,
       "border": null,
       "bottom": null,
       "display": null,
       "flex": null,
       "flex_flow": null,
       "grid_area": null,
       "grid_auto_columns": null,
       "grid_auto_flow": null,
       "grid_auto_rows": null,
       "grid_column": null,
       "grid_gap": null,
       "grid_row": null,
       "grid_template_areas": null,
       "grid_template_columns": null,
       "grid_template_rows": null,
       "height": null,
       "justify_content": null,
       "justify_items": null,
       "left": null,
       "margin": null,
       "max_height": null,
       "max_width": null,
       "min_height": null,
       "min_width": null,
       "object_fit": null,
       "object_position": null,
       "order": null,
       "overflow": null,
       "overflow_x": null,
       "overflow_y": null,
       "padding": null,
       "right": null,
       "top": null,
       "visibility": null,
       "width": null
      }
     },
     "9cb4120ccb284fab8ee32ef9fc0634e4": {
      "model_module": "@jupyter-widgets/controls",
      "model_module_version": "1.5.0",
      "model_name": "FloatProgressModel",
      "state": {
       "_dom_classes": [],
       "_model_module": "@jupyter-widgets/controls",
       "_model_module_version": "1.5.0",
       "_model_name": "FloatProgressModel",
       "_view_count": null,
       "_view_module": "@jupyter-widgets/controls",
       "_view_module_version": "1.5.0",
       "_view_name": "ProgressView",
       "bar_style": "success",
       "description": "",
       "description_tooltip": null,
       "layout": "IPY_MODEL_a77ccbcbd8294fc4bc6d367c00bd6d0b",
       "max": 30,
       "min": 0,
       "orientation": "horizontal",
       "style": "IPY_MODEL_8c74ba99b8d644c5bc326b5970433f9b",
       "value": 30
      }
     },
     "9f43ae4189664b16ab18785cc99a5fcf": {
      "model_module": "@jupyter-widgets/base",
      "model_module_version": "1.2.0",
      "model_name": "LayoutModel",
      "state": {
       "_model_module": "@jupyter-widgets/base",
       "_model_module_version": "1.2.0",
       "_model_name": "LayoutModel",
       "_view_count": null,
       "_view_module": "@jupyter-widgets/base",
       "_view_module_version": "1.2.0",
       "_view_name": "LayoutView",
       "align_content": null,
       "align_items": null,
       "align_self": null,
       "border": null,
       "bottom": null,
       "display": null,
       "flex": null,
       "flex_flow": null,
       "grid_area": null,
       "grid_auto_columns": null,
       "grid_auto_flow": null,
       "grid_auto_rows": null,
       "grid_column": null,
       "grid_gap": null,
       "grid_row": null,
       "grid_template_areas": null,
       "grid_template_columns": null,
       "grid_template_rows": null,
       "height": null,
       "justify_content": null,
       "justify_items": null,
       "left": null,
       "margin": null,
       "max_height": null,
       "max_width": null,
       "min_height": null,
       "min_width": null,
       "object_fit": null,
       "object_position": null,
       "order": null,
       "overflow": null,
       "overflow_x": null,
       "overflow_y": null,
       "padding": null,
       "right": null,
       "top": null,
       "visibility": null,
       "width": null
      }
     },
     "a421783583104f848e22d44192bfec9f": {
      "model_module": "@jupyter-widgets/base",
      "model_module_version": "1.2.0",
      "model_name": "LayoutModel",
      "state": {
       "_model_module": "@jupyter-widgets/base",
       "_model_module_version": "1.2.0",
       "_model_name": "LayoutModel",
       "_view_count": null,
       "_view_module": "@jupyter-widgets/base",
       "_view_module_version": "1.2.0",
       "_view_name": "LayoutView",
       "align_content": null,
       "align_items": null,
       "align_self": null,
       "border": null,
       "bottom": null,
       "display": null,
       "flex": null,
       "flex_flow": null,
       "grid_area": null,
       "grid_auto_columns": null,
       "grid_auto_flow": null,
       "grid_auto_rows": null,
       "grid_column": null,
       "grid_gap": null,
       "grid_row": null,
       "grid_template_areas": null,
       "grid_template_columns": null,
       "grid_template_rows": null,
       "height": null,
       "justify_content": null,
       "justify_items": null,
       "left": null,
       "margin": null,
       "max_height": null,
       "max_width": null,
       "min_height": null,
       "min_width": null,
       "object_fit": null,
       "object_position": null,
       "order": null,
       "overflow": null,
       "overflow_x": null,
       "overflow_y": null,
       "padding": null,
       "right": null,
       "top": null,
       "visibility": null,
       "width": null
      }
     },
     "a7249995b7c54230b2b7d5c93dbaca8d": {
      "model_module": "@jupyter-widgets/controls",
      "model_module_version": "1.5.0",
      "model_name": "DescriptionStyleModel",
      "state": {
       "_model_module": "@jupyter-widgets/controls",
       "_model_module_version": "1.5.0",
       "_model_name": "DescriptionStyleModel",
       "_view_count": null,
       "_view_module": "@jupyter-widgets/base",
       "_view_module_version": "1.2.0",
       "_view_name": "StyleView",
       "description_width": ""
      }
     },
     "a77ccbcbd8294fc4bc6d367c00bd6d0b": {
      "model_module": "@jupyter-widgets/base",
      "model_module_version": "1.2.0",
      "model_name": "LayoutModel",
      "state": {
       "_model_module": "@jupyter-widgets/base",
       "_model_module_version": "1.2.0",
       "_model_name": "LayoutModel",
       "_view_count": null,
       "_view_module": "@jupyter-widgets/base",
       "_view_module_version": "1.2.0",
       "_view_name": "LayoutView",
       "align_content": null,
       "align_items": null,
       "align_self": null,
       "border": null,
       "bottom": null,
       "display": null,
       "flex": null,
       "flex_flow": null,
       "grid_area": null,
       "grid_auto_columns": null,
       "grid_auto_flow": null,
       "grid_auto_rows": null,
       "grid_column": null,
       "grid_gap": null,
       "grid_row": null,
       "grid_template_areas": null,
       "grid_template_columns": null,
       "grid_template_rows": null,
       "height": null,
       "justify_content": null,
       "justify_items": null,
       "left": null,
       "margin": null,
       "max_height": null,
       "max_width": null,
       "min_height": null,
       "min_width": null,
       "object_fit": null,
       "object_position": null,
       "order": null,
       "overflow": null,
       "overflow_x": null,
       "overflow_y": null,
       "padding": null,
       "right": null,
       "top": null,
       "visibility": null,
       "width": null
      }
     },
     "a92615e9afaf4bf8bd50bf235979788a": {
      "model_module": "@jupyter-widgets/controls",
      "model_module_version": "1.5.0",
      "model_name": "ProgressStyleModel",
      "state": {
       "_model_module": "@jupyter-widgets/controls",
       "_model_module_version": "1.5.0",
       "_model_name": "ProgressStyleModel",
       "_view_count": null,
       "_view_module": "@jupyter-widgets/base",
       "_view_module_version": "1.2.0",
       "_view_name": "StyleView",
       "bar_color": null,
       "description_width": ""
      }
     },
     "aa8ebc5462e8420796e5a6f283f86941": {
      "model_module": "@jupyter-widgets/controls",
      "model_module_version": "1.5.0",
      "model_name": "DescriptionStyleModel",
      "state": {
       "_model_module": "@jupyter-widgets/controls",
       "_model_module_version": "1.5.0",
       "_model_name": "DescriptionStyleModel",
       "_view_count": null,
       "_view_module": "@jupyter-widgets/base",
       "_view_module_version": "1.2.0",
       "_view_name": "StyleView",
       "description_width": ""
      }
     },
     "b1dc2bf2f16744c88b46ff6059abba18": {
      "model_module": "@jupyter-widgets/controls",
      "model_module_version": "1.5.0",
      "model_name": "FloatProgressModel",
      "state": {
       "_dom_classes": [],
       "_model_module": "@jupyter-widgets/controls",
       "_model_module_version": "1.5.0",
       "_model_name": "FloatProgressModel",
       "_view_count": null,
       "_view_module": "@jupyter-widgets/controls",
       "_view_module_version": "1.5.0",
       "_view_name": "ProgressView",
       "bar_style": "success",
       "description": "",
       "description_tooltip": null,
       "layout": "IPY_MODEL_9f43ae4189664b16ab18785cc99a5fcf",
       "max": 100,
       "min": 0,
       "orientation": "horizontal",
       "style": "IPY_MODEL_37dee69c75b44d75a51a45735b12a1e0",
       "value": 100
      }
     },
     "b2a7855db7e049e3ae6178e2da660737": {
      "model_module": "@jupyter-widgets/base",
      "model_module_version": "1.2.0",
      "model_name": "LayoutModel",
      "state": {
       "_model_module": "@jupyter-widgets/base",
       "_model_module_version": "1.2.0",
       "_model_name": "LayoutModel",
       "_view_count": null,
       "_view_module": "@jupyter-widgets/base",
       "_view_module_version": "1.2.0",
       "_view_name": "LayoutView",
       "align_content": null,
       "align_items": null,
       "align_self": null,
       "border": null,
       "bottom": null,
       "display": null,
       "flex": null,
       "flex_flow": null,
       "grid_area": null,
       "grid_auto_columns": null,
       "grid_auto_flow": null,
       "grid_auto_rows": null,
       "grid_column": null,
       "grid_gap": null,
       "grid_row": null,
       "grid_template_areas": null,
       "grid_template_columns": null,
       "grid_template_rows": null,
       "height": null,
       "justify_content": null,
       "justify_items": null,
       "left": null,
       "margin": null,
       "max_height": null,
       "max_width": null,
       "min_height": null,
       "min_width": null,
       "object_fit": null,
       "object_position": null,
       "order": null,
       "overflow": null,
       "overflow_x": null,
       "overflow_y": null,
       "padding": null,
       "right": null,
       "top": null,
       "visibility": null,
       "width": null
      }
     },
     "b54932fa30984f768fc0b2fd19438919": {
      "model_module": "@jupyter-widgets/controls",
      "model_module_version": "1.5.0",
      "model_name": "HTMLModel",
      "state": {
       "_dom_classes": [],
       "_model_module": "@jupyter-widgets/controls",
       "_model_module_version": "1.5.0",
       "_model_name": "HTMLModel",
       "_view_count": null,
       "_view_module": "@jupyter-widgets/controls",
       "_view_module_version": "1.5.0",
       "_view_name": "HTMLView",
       "description": "",
       "description_tooltip": null,
       "layout": "IPY_MODEL_99224cde18c4447eb527d3ba7c3ba093",
       "placeholder": "​",
       "style": "IPY_MODEL_d61442192deb4df0ac79c1c0877005e4",
       "value": " 30/30 [01:08&lt;00:00,  2.30s/it]"
      }
     },
     "bb7694cebcf0422eac8958cd1cadefdb": {
      "model_module": "@jupyter-widgets/controls",
      "model_module_version": "1.5.0",
      "model_name": "HBoxModel",
      "state": {
       "_dom_classes": [],
       "_model_module": "@jupyter-widgets/controls",
       "_model_module_version": "1.5.0",
       "_model_name": "HBoxModel",
       "_view_count": null,
       "_view_module": "@jupyter-widgets/controls",
       "_view_module_version": "1.5.0",
       "_view_name": "HBoxView",
       "box_style": "",
       "children": [
        "IPY_MODEL_10c1e84c54c4496dbdc3b3386ea251d2",
        "IPY_MODEL_2e8ee8917c3b4469b5773afdb1e895be",
        "IPY_MODEL_c455e936fd154570b87424555420bf14"
       ],
       "layout": "IPY_MODEL_4ef713f8c15847c5bc99f157212da9eb"
      }
     },
     "c455e936fd154570b87424555420bf14": {
      "model_module": "@jupyter-widgets/controls",
      "model_module_version": "1.5.0",
      "model_name": "HTMLModel",
      "state": {
       "_dom_classes": [],
       "_model_module": "@jupyter-widgets/controls",
       "_model_module_version": "1.5.0",
       "_model_name": "HTMLModel",
       "_view_count": null,
       "_view_module": "@jupyter-widgets/controls",
       "_view_module_version": "1.5.0",
       "_view_name": "HTMLView",
       "description": "",
       "description_tooltip": null,
       "layout": "IPY_MODEL_f3b5beb769414f00a9cf1a52a8458ba7",
       "placeholder": "​",
       "style": "IPY_MODEL_aa8ebc5462e8420796e5a6f283f86941",
       "value": " 30/30 [00:59&lt;00:00,  1.98s/it]"
      }
     },
     "c7f71cd4127848d69c79a05255ef8986": {
      "model_module": "@jupyter-widgets/controls",
      "model_module_version": "1.5.0",
      "model_name": "DescriptionStyleModel",
      "state": {
       "_model_module": "@jupyter-widgets/controls",
       "_model_module_version": "1.5.0",
       "_model_name": "DescriptionStyleModel",
       "_view_count": null,
       "_view_module": "@jupyter-widgets/base",
       "_view_module_version": "1.2.0",
       "_view_name": "StyleView",
       "description_width": ""
      }
     },
     "d5314a92302144ecbd8b30d2a4e30a3e": {
      "model_module": "@jupyter-widgets/base",
      "model_module_version": "1.2.0",
      "model_name": "LayoutModel",
      "state": {
       "_model_module": "@jupyter-widgets/base",
       "_model_module_version": "1.2.0",
       "_model_name": "LayoutModel",
       "_view_count": null,
       "_view_module": "@jupyter-widgets/base",
       "_view_module_version": "1.2.0",
       "_view_name": "LayoutView",
       "align_content": null,
       "align_items": null,
       "align_self": null,
       "border": null,
       "bottom": null,
       "display": null,
       "flex": null,
       "flex_flow": null,
       "grid_area": null,
       "grid_auto_columns": null,
       "grid_auto_flow": null,
       "grid_auto_rows": null,
       "grid_column": null,
       "grid_gap": null,
       "grid_row": null,
       "grid_template_areas": null,
       "grid_template_columns": null,
       "grid_template_rows": null,
       "height": null,
       "justify_content": null,
       "justify_items": null,
       "left": null,
       "margin": null,
       "max_height": null,
       "max_width": null,
       "min_height": null,
       "min_width": null,
       "object_fit": null,
       "object_position": null,
       "order": null,
       "overflow": null,
       "overflow_x": null,
       "overflow_y": null,
       "padding": null,
       "right": null,
       "top": null,
       "visibility": null,
       "width": null
      }
     },
     "d61442192deb4df0ac79c1c0877005e4": {
      "model_module": "@jupyter-widgets/controls",
      "model_module_version": "1.5.0",
      "model_name": "DescriptionStyleModel",
      "state": {
       "_model_module": "@jupyter-widgets/controls",
       "_model_module_version": "1.5.0",
       "_model_name": "DescriptionStyleModel",
       "_view_count": null,
       "_view_module": "@jupyter-widgets/base",
       "_view_module_version": "1.2.0",
       "_view_name": "StyleView",
       "description_width": ""
      }
     },
     "db86b7ccb6f247fcba04cd750d4ba34d": {
      "model_module": "@jupyter-widgets/controls",
      "model_module_version": "1.5.0",
      "model_name": "DescriptionStyleModel",
      "state": {
       "_model_module": "@jupyter-widgets/controls",
       "_model_module_version": "1.5.0",
       "_model_name": "DescriptionStyleModel",
       "_view_count": null,
       "_view_module": "@jupyter-widgets/base",
       "_view_module_version": "1.2.0",
       "_view_name": "StyleView",
       "description_width": ""
      }
     },
     "e34d91c7062144fb9e60753c248b4e8f": {
      "model_module": "@jupyter-widgets/controls",
      "model_module_version": "1.5.0",
      "model_name": "HBoxModel",
      "state": {
       "_dom_classes": [],
       "_model_module": "@jupyter-widgets/controls",
       "_model_module_version": "1.5.0",
       "_model_name": "HBoxModel",
       "_view_count": null,
       "_view_module": "@jupyter-widgets/controls",
       "_view_module_version": "1.5.0",
       "_view_name": "HBoxView",
       "box_style": "",
       "children": [
        "IPY_MODEL_ed57562989de45e5bbdff6bbd56cbee8",
        "IPY_MODEL_9cb4120ccb284fab8ee32ef9fc0634e4",
        "IPY_MODEL_0009b8668ee44ae7875e4655fca818dd"
       ],
       "layout": "IPY_MODEL_75ef0e09f8c64a62a6467df3ec327672"
      }
     },
     "e869e8de1aaf4536a970395616ff480e": {
      "model_module": "@jupyter-widgets/controls",
      "model_module_version": "1.5.0",
      "model_name": "HTMLModel",
      "state": {
       "_dom_classes": [],
       "_model_module": "@jupyter-widgets/controls",
       "_model_module_version": "1.5.0",
       "_model_name": "HTMLModel",
       "_view_count": null,
       "_view_module": "@jupyter-widgets/controls",
       "_view_module_version": "1.5.0",
       "_view_name": "HTMLView",
       "description": "",
       "description_tooltip": null,
       "layout": "IPY_MODEL_f62d661a872d4e3795f3a08ce1592c7c",
       "placeholder": "​",
       "style": "IPY_MODEL_399f937eac9d4b589182d5a5acb166a0",
       "value": "100%"
      }
     },
     "ed57562989de45e5bbdff6bbd56cbee8": {
      "model_module": "@jupyter-widgets/controls",
      "model_module_version": "1.5.0",
      "model_name": "HTMLModel",
      "state": {
       "_dom_classes": [],
       "_model_module": "@jupyter-widgets/controls",
       "_model_module_version": "1.5.0",
       "_model_name": "HTMLModel",
       "_view_count": null,
       "_view_module": "@jupyter-widgets/controls",
       "_view_module_version": "1.5.0",
       "_view_name": "HTMLView",
       "description": "",
       "description_tooltip": null,
       "layout": "IPY_MODEL_8732a57c4e6f40ef9fe18dfb327132a1",
       "placeholder": "​",
       "style": "IPY_MODEL_db86b7ccb6f247fcba04cd750d4ba34d",
       "value": "100%"
      }
     },
     "f3b5beb769414f00a9cf1a52a8458ba7": {
      "model_module": "@jupyter-widgets/base",
      "model_module_version": "1.2.0",
      "model_name": "LayoutModel",
      "state": {
       "_model_module": "@jupyter-widgets/base",
       "_model_module_version": "1.2.0",
       "_model_name": "LayoutModel",
       "_view_count": null,
       "_view_module": "@jupyter-widgets/base",
       "_view_module_version": "1.2.0",
       "_view_name": "LayoutView",
       "align_content": null,
       "align_items": null,
       "align_self": null,
       "border": null,
       "bottom": null,
       "display": null,
       "flex": null,
       "flex_flow": null,
       "grid_area": null,
       "grid_auto_columns": null,
       "grid_auto_flow": null,
       "grid_auto_rows": null,
       "grid_column": null,
       "grid_gap": null,
       "grid_row": null,
       "grid_template_areas": null,
       "grid_template_columns": null,
       "grid_template_rows": null,
       "height": null,
       "justify_content": null,
       "justify_items": null,
       "left": null,
       "margin": null,
       "max_height": null,
       "max_width": null,
       "min_height": null,
       "min_width": null,
       "object_fit": null,
       "object_position": null,
       "order": null,
       "overflow": null,
       "overflow_x": null,
       "overflow_y": null,
       "padding": null,
       "right": null,
       "top": null,
       "visibility": null,
       "width": null
      }
     },
     "f53852cbae5c461b97683d0c9981a2de": {
      "model_module": "@jupyter-widgets/controls",
      "model_module_version": "1.5.0",
      "model_name": "ProgressStyleModel",
      "state": {
       "_model_module": "@jupyter-widgets/controls",
       "_model_module_version": "1.5.0",
       "_model_name": "ProgressStyleModel",
       "_view_count": null,
       "_view_module": "@jupyter-widgets/base",
       "_view_module_version": "1.2.0",
       "_view_name": "StyleView",
       "bar_color": null,
       "description_width": ""
      }
     },
     "f58f671f394c487b97e7b950a9d19135": {
      "model_module": "@jupyter-widgets/controls",
      "model_module_version": "1.5.0",
      "model_name": "HTMLModel",
      "state": {
       "_dom_classes": [],
       "_model_module": "@jupyter-widgets/controls",
       "_model_module_version": "1.5.0",
       "_model_name": "HTMLModel",
       "_view_count": null,
       "_view_module": "@jupyter-widgets/controls",
       "_view_module_version": "1.5.0",
       "_view_name": "HTMLView",
       "description": "",
       "description_tooltip": null,
       "layout": "IPY_MODEL_3ebd175a334e4de29e71ed420a0616d7",
       "placeholder": "​",
       "style": "IPY_MODEL_0339b75e5ce444be9f36e6ccdd84b537",
       "value": "100%"
      }
     },
     "f62d661a872d4e3795f3a08ce1592c7c": {
      "model_module": "@jupyter-widgets/base",
      "model_module_version": "1.2.0",
      "model_name": "LayoutModel",
      "state": {
       "_model_module": "@jupyter-widgets/base",
       "_model_module_version": "1.2.0",
       "_model_name": "LayoutModel",
       "_view_count": null,
       "_view_module": "@jupyter-widgets/base",
       "_view_module_version": "1.2.0",
       "_view_name": "LayoutView",
       "align_content": null,
       "align_items": null,
       "align_self": null,
       "border": null,
       "bottom": null,
       "display": null,
       "flex": null,
       "flex_flow": null,
       "grid_area": null,
       "grid_auto_columns": null,
       "grid_auto_flow": null,
       "grid_auto_rows": null,
       "grid_column": null,
       "grid_gap": null,
       "grid_row": null,
       "grid_template_areas": null,
       "grid_template_columns": null,
       "grid_template_rows": null,
       "height": null,
       "justify_content": null,
       "justify_items": null,
       "left": null,
       "margin": null,
       "max_height": null,
       "max_width": null,
       "min_height": null,
       "min_width": null,
       "object_fit": null,
       "object_position": null,
       "order": null,
       "overflow": null,
       "overflow_x": null,
       "overflow_y": null,
       "padding": null,
       "right": null,
       "top": null,
       "visibility": null,
       "width": null
      }
     },
     "ff7c94d2071d45b7ae8a603cc940f445": {
      "model_module": "@jupyter-widgets/base",
      "model_module_version": "1.2.0",
      "model_name": "LayoutModel",
      "state": {
       "_model_module": "@jupyter-widgets/base",
       "_model_module_version": "1.2.0",
       "_model_name": "LayoutModel",
       "_view_count": null,
       "_view_module": "@jupyter-widgets/base",
       "_view_module_version": "1.2.0",
       "_view_name": "LayoutView",
       "align_content": null,
       "align_items": null,
       "align_self": null,
       "border": null,
       "bottom": null,
       "display": null,
       "flex": null,
       "flex_flow": null,
       "grid_area": null,
       "grid_auto_columns": null,
       "grid_auto_flow": null,
       "grid_auto_rows": null,
       "grid_column": null,
       "grid_gap": null,
       "grid_row": null,
       "grid_template_areas": null,
       "grid_template_columns": null,
       "grid_template_rows": null,
       "height": null,
       "justify_content": null,
       "justify_items": null,
       "left": null,
       "margin": null,
       "max_height": null,
       "max_width": null,
       "min_height": null,
       "min_width": null,
       "object_fit": null,
       "object_position": null,
       "order": null,
       "overflow": null,
       "overflow_x": null,
       "overflow_y": null,
       "padding": null,
       "right": null,
       "top": null,
       "visibility": null,
       "width": null
      }
     }
    },
    "version_major": 2,
    "version_minor": 0
   }
  }
 },
 "nbformat": 4,
 "nbformat_minor": 5
}
