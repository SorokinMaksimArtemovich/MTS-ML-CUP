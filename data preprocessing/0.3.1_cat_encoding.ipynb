{
 "cells": [
  {
   "cell_type": "code",
   "execution_count": 1,
   "id": "c05c826d",
   "metadata": {
    "execution": {
     "iopub.execute_input": "2023-03-19T09:44:15.992250Z",
     "iopub.status.busy": "2023-03-19T09:44:15.991527Z",
     "iopub.status.idle": "2023-03-19T09:44:16.010616Z",
     "shell.execute_reply": "2023-03-19T09:44:16.009305Z"
    },
    "papermill": {
     "duration": 0.033646,
     "end_time": "2023-03-19T09:44:16.013937",
     "exception": false,
     "start_time": "2023-03-19T09:44:15.980291",
     "status": "completed"
    },
    "tags": []
   },
   "outputs": [],
   "source": [
    "import sys\n",
    "import os\n",
    "import warnings\n",
    "os.environ['OPENBLAS_NUM_THREADS'] = '1'\n",
    "warnings.filterwarnings('ignore')"
   ]
  },
  {
   "cell_type": "code",
   "execution_count": 2,
   "id": "d286dbd7",
   "metadata": {
    "execution": {
     "iopub.execute_input": "2023-03-19T09:44:16.032156Z",
     "iopub.status.busy": "2023-03-19T09:44:16.031662Z",
     "iopub.status.idle": "2023-03-19T09:45:01.105466Z",
     "shell.execute_reply": "2023-03-19T09:45:01.103916Z"
    },
    "papermill": {
     "duration": 45.086718,
     "end_time": "2023-03-19T09:45:01.108895",
     "exception": false,
     "start_time": "2023-03-19T09:44:16.022177",
     "status": "completed"
    },
    "tags": []
   },
   "outputs": [
    {
     "name": "stdout",
     "output_type": "stream",
     "text": [
      "\u001b[33mWARNING: Running pip as the 'root' user can result in broken permissions and conflicting behaviour with the system package manager. It is recommended to use a virtual environment instead: https://pip.pypa.io/warnings/venv\u001b[0m\u001b[33m\r\n",
      "\u001b[0mCollecting faiss-cpu\r\n",
      "  Downloading faiss_cpu-1.7.3-cp37-cp37m-manylinux_2_17_x86_64.manylinux2014_x86_64.whl (17.0 MB)\r\n",
      "\u001b[2K     \u001b[90m━━━━━━━━━━━━━━━━━━━━━━━━━━━━━━━━━━━━━━━━\u001b[0m \u001b[32m17.0/17.0 MB\u001b[0m \u001b[31m8.0 MB/s\u001b[0m eta \u001b[36m0:00:00\u001b[0m\r\n",
      "\u001b[?25hInstalling collected packages: faiss-cpu\r\n",
      "Successfully installed faiss-cpu-1.7.3\r\n",
      "\u001b[33mWARNING: Running pip as the 'root' user can result in broken permissions and conflicting behaviour with the system package manager. It is recommended to use a virtual environment instead: https://pip.pypa.io/warnings/venv\u001b[0m\u001b[33m\r\n",
      "\u001b[0mRequirement already satisfied: implicit in /opt/conda/lib/python3.7/site-packages (0.4.4)\r\n",
      "Requirement already satisfied: numpy in /opt/conda/lib/python3.7/site-packages (from implicit) (1.21.6)\r\n",
      "Requirement already satisfied: scipy>=0.16 in /opt/conda/lib/python3.7/site-packages (from implicit) (1.7.3)\r\n",
      "Requirement already satisfied: tqdm>=4.27 in /opt/conda/lib/python3.7/site-packages (from implicit) (4.64.0)\r\n",
      "\u001b[33mWARNING: Running pip as the 'root' user can result in broken permissions and conflicting behaviour with the system package manager. It is recommended to use a virtual environment instead: https://pip.pypa.io/warnings/venv\u001b[0m\u001b[33m\r\n",
      "\u001b[0m"
     ]
    }
   ],
   "source": [
    "import pandas as pd\n",
    "import numpy as np\n",
    "import gc\n",
    "import time\n",
    "import pyarrow as pa\n",
    "import pyarrow.parquet as pq\n",
    "from tqdm import tqdm\n",
    "import pickle\n",
    "import scipy\n",
    "import implicit\n",
    "import bisect\n",
    "import sklearn.metrics as m\n",
    "from catboost import CatBoostClassifier, CatBoostRegressor, Pool\n",
    "from sklearn.model_selection import train_test_split\n",
    "from sklearn.calibration import calibration_curve, CalibratedClassifierCV\n",
    "!pip install feather-format >> none\n",
    "!pip install faiss-cpu --no-cache\n",
    "!pip install implicit\n",
    "import implicit"
   ]
  },
  {
   "cell_type": "code",
   "execution_count": 4,
   "id": "deb0dc6b",
   "metadata": {
    "execution": {
     "iopub.execute_input": "2023-03-19T09:45:01.171715Z",
     "iopub.status.busy": "2023-03-19T09:45:01.171223Z",
     "iopub.status.idle": "2023-03-19T09:45:01.178321Z",
     "shell.execute_reply": "2023-03-19T09:45:01.176879Z"
    },
    "papermill": {
     "duration": 0.023221,
     "end_time": "2023-03-19T09:45:01.181018",
     "exception": false,
     "start_time": "2023-03-19T09:45:01.157797",
     "status": "completed"
    },
    "tags": []
   },
   "outputs": [],
   "source": [
    "def load(path, verbose=True):\n",
    "    if verbose:\n",
    "        print(\"Loading object from {}\".format(path))\n",
    "    with open(path, \"rb\") as obj_file:\n",
    "        obj = pickle.load(obj_file)\n",
    "    if verbose:\n",
    "        print(\"Object loaded from {}\".format(path))\n",
    "    return obj"
   ]
  },
  {
   "cell_type": "code",
   "execution_count": 5,
   "id": "336c3119",
   "metadata": {
    "execution": {
     "iopub.execute_input": "2023-03-19T09:45:01.209326Z",
     "iopub.status.busy": "2023-03-19T09:45:01.208855Z",
     "iopub.status.idle": "2023-03-19T09:45:22.604663Z",
     "shell.execute_reply": "2023-03-19T09:45:22.603205Z"
    },
    "papermill": {
     "duration": 21.413454,
     "end_time": "2023-03-19T09:45:22.607973",
     "exception": false,
     "start_time": "2023-03-19T09:45:01.194519",
     "status": "completed"
    },
    "tags": []
   },
   "outputs": [
    {
     "name": "stdout",
     "output_type": "stream",
     "text": [
      "Loading object from /kaggle/input/cat-encoded/city_name.pkl\n",
      "Object loaded from /kaggle/input/cat-encoded/city_name.pkl\n"
     ]
    }
   ],
   "source": [
    "city_name = load('/data/utils/city_name.pkl')\n",
    "city_name = pa.Table.from_pandas(city_name)"
   ]
  },
  {
   "cell_type": "code",
   "execution_count": 6,
   "id": "a44a99c2",
   "metadata": {
    "execution": {
     "iopub.execute_input": "2023-03-19T09:45:22.635151Z",
     "iopub.status.busy": "2023-03-19T09:45:22.634611Z",
     "iopub.status.idle": "2023-03-19T09:45:55.691730Z",
     "shell.execute_reply": "2023-03-19T09:45:55.690263Z"
    },
    "papermill": {
     "duration": 33.086198,
     "end_time": "2023-03-19T09:45:55.707164",
     "exception": false,
     "start_time": "2023-03-19T09:45:22.620966",
     "status": "completed"
    },
    "tags": []
   },
   "outputs": [
    {
     "name": "stdout",
     "output_type": "stream",
     "text": [
      "CPU times: user 29.3 s, sys: 3.85 s, total: 33.1 s\n",
      "Wall time: 33 s\n"
     ]
    }
   ],
   "source": [
    "%%time\n",
    "city_agg = city_name.group_by(['user_id']).\\\n",
    "        aggregate([('city_name_0', 'mean'), ('city_name_0', 'approximate_median'), ('city_name_0', 'min'), ('city_name_0', 'max'), ('city_name_0', 'stddev')])"
   ]
  },
  {
   "cell_type": "code",
   "execution_count": 7,
   "id": "0641f6f3",
   "metadata": {
    "execution": {
     "iopub.execute_input": "2023-03-19T09:45:55.734111Z",
     "iopub.status.busy": "2023-03-19T09:45:55.733632Z",
     "iopub.status.idle": "2023-03-19T09:45:58.607150Z",
     "shell.execute_reply": "2023-03-19T09:45:58.605093Z"
    },
    "papermill": {
     "duration": 2.891009,
     "end_time": "2023-03-19T09:45:58.610313",
     "exception": false,
     "start_time": "2023-03-19T09:45:55.719304",
     "status": "completed"
    },
    "tags": []
   },
   "outputs": [],
   "source": [
    "city_agg.to_pandas().to_csv('/data/cat_encoded/city_agg_0.csv', index=False)"
   ]
  },
  {
   "cell_type": "code",
   "execution_count": 8,
   "id": "7fb6627f",
   "metadata": {
    "execution": {
     "iopub.execute_input": "2023-03-19T09:45:58.638920Z",
     "iopub.status.busy": "2023-03-19T09:45:58.638405Z",
     "iopub.status.idle": "2023-03-19T09:45:59.027061Z",
     "shell.execute_reply": "2023-03-19T09:45:59.026005Z"
    },
    "papermill": {
     "duration": 0.407298,
     "end_time": "2023-03-19T09:45:59.029663",
     "exception": false,
     "start_time": "2023-03-19T09:45:58.622365",
     "status": "completed"
    },
    "tags": []
   },
   "outputs": [
    {
     "data": {
      "text/plain": [
       "21"
      ]
     },
     "execution_count": 8,
     "metadata": {},
     "output_type": "execute_result"
    }
   ],
   "source": [
    "del(city_name)\n",
    "del(city_agg)\n",
    "gc.collect()"
   ]
  },
  {
   "cell_type": "code",
   "execution_count": 9,
   "id": "731a9ce7",
   "metadata": {
    "execution": {
     "iopub.execute_input": "2023-03-19T09:45:59.057811Z",
     "iopub.status.busy": "2023-03-19T09:45:59.056413Z",
     "iopub.status.idle": "2023-03-19T09:46:14.919421Z",
     "shell.execute_reply": "2023-03-19T09:46:14.918227Z"
    },
    "papermill": {
     "duration": 15.880463,
     "end_time": "2023-03-19T09:46:14.922532",
     "exception": false,
     "start_time": "2023-03-19T09:45:59.042069",
     "status": "completed"
    },
    "tags": []
   },
   "outputs": [
    {
     "name": "stdout",
     "output_type": "stream",
     "text": [
      "Loading object from /kaggle/input/cat-encoded/cpe_manufacturer_name.pkl\n",
      "Object loaded from /kaggle/input/cat-encoded/cpe_manufacturer_name.pkl\n"
     ]
    }
   ],
   "source": [
    "cpe_manufacturer_name = load('/data/utils/cpe_manufacturer_name.pkl')\n",
    "cpe_manufacturer_name = pa.Table.from_pandas(cpe_manufacturer_name)"
   ]
  },
  {
   "cell_type": "code",
   "execution_count": 10,
   "id": "20a2c381",
   "metadata": {
    "execution": {
     "iopub.execute_input": "2023-03-19T09:46:14.951667Z",
     "iopub.status.busy": "2023-03-19T09:46:14.951155Z",
     "iopub.status.idle": "2023-03-19T09:46:45.752155Z",
     "shell.execute_reply": "2023-03-19T09:46:45.750258Z"
    },
    "papermill": {
     "duration": 30.83066,
     "end_time": "2023-03-19T09:46:45.767275",
     "exception": false,
     "start_time": "2023-03-19T09:46:14.936615",
     "status": "completed"
    },
    "tags": []
   },
   "outputs": [
    {
     "name": "stdout",
     "output_type": "stream",
     "text": [
      "CPU times: user 28.2 s, sys: 2.72 s, total: 30.9 s\n",
      "Wall time: 30.8 s\n"
     ]
    }
   ],
   "source": [
    "%%time\n",
    "manuf_agg = cpe_manufacturer_name.group_by(['user_id']).\\\n",
    "        aggregate([('cpe_manufacturer_name_0', 'mean'), ('cpe_manufacturer_name_0', 'approximate_median'), ('cpe_manufacturer_name_0', 'min'), ('cpe_manufacturer_name_0', 'max'), ('cpe_manufacturer_name_0', 'stddev')])"
   ]
  },
  {
   "cell_type": "code",
   "execution_count": 11,
   "id": "f5590186",
   "metadata": {
    "execution": {
     "iopub.execute_input": "2023-03-19T09:46:45.797726Z",
     "iopub.status.busy": "2023-03-19T09:46:45.797230Z",
     "iopub.status.idle": "2023-03-19T09:46:48.361532Z",
     "shell.execute_reply": "2023-03-19T09:46:48.359540Z"
    },
    "papermill": {
     "duration": 2.584019,
     "end_time": "2023-03-19T09:46:48.365170",
     "exception": false,
     "start_time": "2023-03-19T09:46:45.781151",
     "status": "completed"
    },
    "tags": []
   },
   "outputs": [],
   "source": [
    "manuf_agg.to_pandas().to_csv('/data/cat_encoded/manuf_agg_0.csv', index=False)"
   ]
  },
  {
   "cell_type": "code",
   "execution_count": 12,
   "id": "2d03da42",
   "metadata": {
    "execution": {
     "iopub.execute_input": "2023-03-19T09:46:48.392680Z",
     "iopub.status.busy": "2023-03-19T09:46:48.392145Z",
     "iopub.status.idle": "2023-03-19T09:46:48.670187Z",
     "shell.execute_reply": "2023-03-19T09:46:48.668851Z"
    },
    "papermill": {
     "duration": 0.296536,
     "end_time": "2023-03-19T09:46:48.673982",
     "exception": false,
     "start_time": "2023-03-19T09:46:48.377446",
     "status": "completed"
    },
    "tags": []
   },
   "outputs": [
    {
     "data": {
      "text/plain": [
       "84"
      ]
     },
     "execution_count": 12,
     "metadata": {},
     "output_type": "execute_result"
    }
   ],
   "source": [
    "del(cpe_manufacturer_name)\n",
    "del(manuf_agg)\n",
    "gc.collect()"
   ]
  },
  {
   "cell_type": "code",
   "execution_count": 13,
   "id": "89c5d0dc",
   "metadata": {
    "execution": {
     "iopub.execute_input": "2023-03-19T09:46:48.700989Z",
     "iopub.status.busy": "2023-03-19T09:46:48.700478Z",
     "iopub.status.idle": "2023-03-19T09:47:04.090269Z",
     "shell.execute_reply": "2023-03-19T09:47:04.088284Z"
    },
    "papermill": {
     "duration": 15.407244,
     "end_time": "2023-03-19T09:47:04.093539",
     "exception": false,
     "start_time": "2023-03-19T09:46:48.686295",
     "status": "completed"
    },
    "tags": []
   },
   "outputs": [
    {
     "name": "stdout",
     "output_type": "stream",
     "text": [
      "Loading object from /kaggle/input/cat-encoded/cpe_model_name.pkl\n",
      "Object loaded from /kaggle/input/cat-encoded/cpe_model_name.pkl\n"
     ]
    }
   ],
   "source": [
    "cpe_model_name = load('/data/utils/cpe_model_name.pkl')\n",
    "cpe_model_name = pa.Table.from_pandas(cpe_model_name)"
   ]
  },
  {
   "cell_type": "code",
   "execution_count": 14,
   "id": "0de12916",
   "metadata": {
    "execution": {
     "iopub.execute_input": "2023-03-19T09:47:04.121550Z",
     "iopub.status.busy": "2023-03-19T09:47:04.121045Z",
     "iopub.status.idle": "2023-03-19T09:47:34.600868Z",
     "shell.execute_reply": "2023-03-19T09:47:34.599389Z"
    },
    "papermill": {
     "duration": 30.508798,
     "end_time": "2023-03-19T09:47:34.615601",
     "exception": false,
     "start_time": "2023-03-19T09:47:04.106803",
     "status": "completed"
    },
    "tags": []
   },
   "outputs": [
    {
     "name": "stdout",
     "output_type": "stream",
     "text": [
      "CPU times: user 27.9 s, sys: 2.67 s, total: 30.6 s\n",
      "Wall time: 30.5 s\n"
     ]
    }
   ],
   "source": [
    "%%time\n",
    "model_agg = cpe_model_name.group_by(['user_id']).\\\n",
    "        aggregate([('cpe_model_name_0', 'mean'), ('cpe_model_name_0', 'approximate_median'), ('cpe_model_name_0', 'min'), ('cpe_model_name_0', 'max'), ('cpe_model_name_0', 'stddev')])"
   ]
  },
  {
   "cell_type": "code",
   "execution_count": 15,
   "id": "92757381",
   "metadata": {
    "execution": {
     "iopub.execute_input": "2023-03-19T09:47:34.642223Z",
     "iopub.status.busy": "2023-03-19T09:47:34.641773Z",
     "iopub.status.idle": "2023-03-19T09:47:37.141267Z",
     "shell.execute_reply": "2023-03-19T09:47:37.139482Z"
    },
    "papermill": {
     "duration": 2.516652,
     "end_time": "2023-03-19T09:47:37.144508",
     "exception": false,
     "start_time": "2023-03-19T09:47:34.627856",
     "status": "completed"
    },
    "tags": []
   },
   "outputs": [],
   "source": [
    "model_agg.to_pandas().to_csv('/data/cat_encoded/model_agg_0.csv', index=False)"
   ]
  },
  {
   "cell_type": "code",
   "execution_count": 16,
   "id": "0902c7a8",
   "metadata": {
    "execution": {
     "iopub.execute_input": "2023-03-19T09:47:37.171427Z",
     "iopub.status.busy": "2023-03-19T09:47:37.170914Z",
     "iopub.status.idle": "2023-03-19T09:47:37.356584Z",
     "shell.execute_reply": "2023-03-19T09:47:37.355187Z"
    },
    "papermill": {
     "duration": 0.202185,
     "end_time": "2023-03-19T09:47:37.359160",
     "exception": false,
     "start_time": "2023-03-19T09:47:37.156975",
     "status": "completed"
    },
    "tags": []
   },
   "outputs": [
    {
     "data": {
      "text/plain": [
       "84"
      ]
     },
     "execution_count": 16,
     "metadata": {},
     "output_type": "execute_result"
    }
   ],
   "source": [
    "del(cpe_model_name)\n",
    "del(model_agg)\n",
    "gc.collect()"
   ]
  },
  {
   "cell_type": "code",
   "execution_count": 17,
   "id": "41e8ca7c",
   "metadata": {
    "execution": {
     "iopub.execute_input": "2023-03-19T09:47:37.386419Z",
     "iopub.status.busy": "2023-03-19T09:47:37.385924Z",
     "iopub.status.idle": "2023-03-19T09:47:58.784181Z",
     "shell.execute_reply": "2023-03-19T09:47:58.781869Z"
    },
    "papermill": {
     "duration": 21.416447,
     "end_time": "2023-03-19T09:47:58.788272",
     "exception": false,
     "start_time": "2023-03-19T09:47:37.371825",
     "status": "completed"
    },
    "tags": []
   },
   "outputs": [
    {
     "name": "stdout",
     "output_type": "stream",
     "text": [
      "Loading object from /kaggle/input/cat-encoded/cpe_model_os_type.pkl\n",
      "Object loaded from /kaggle/input/cat-encoded/cpe_model_os_type.pkl\n"
     ]
    }
   ],
   "source": [
    "cpe_model_os_type = load('/data/utils/cpe_model_os_type.pkl')\n",
    "cpe_model_os_type = pa.Table.from_pandas(cpe_model_os_type)"
   ]
  },
  {
   "cell_type": "code",
   "execution_count": 18,
   "id": "a993d1c4",
   "metadata": {
    "execution": {
     "iopub.execute_input": "2023-03-19T09:47:58.819467Z",
     "iopub.status.busy": "2023-03-19T09:47:58.818871Z",
     "iopub.status.idle": "2023-03-19T09:48:29.706549Z",
     "shell.execute_reply": "2023-03-19T09:48:29.704646Z"
    },
    "papermill": {
     "duration": 30.917134,
     "end_time": "2023-03-19T09:48:29.719942",
     "exception": false,
     "start_time": "2023-03-19T09:47:58.802808",
     "status": "completed"
    },
    "tags": []
   },
   "outputs": [
    {
     "name": "stdout",
     "output_type": "stream",
     "text": [
      "CPU times: user 28.6 s, sys: 2.43 s, total: 31 s\n",
      "Wall time: 30.9 s\n"
     ]
    }
   ],
   "source": [
    "%%time\n",
    "os_agg = cpe_model_os_type.group_by(['user_id']).\\\n",
    "        aggregate([('cpe_model_os_type_0', 'mean'), ('cpe_model_os_type_0', 'approximate_median'), ('cpe_model_os_type_0', 'min'), ('cpe_model_os_type_0', 'max'), ('cpe_model_os_type_0', 'stddev')])"
   ]
  },
  {
   "cell_type": "code",
   "execution_count": 19,
   "id": "ca9b4c9e",
   "metadata": {
    "execution": {
     "iopub.execute_input": "2023-03-19T09:48:29.749377Z",
     "iopub.status.busy": "2023-03-19T09:48:29.748896Z",
     "iopub.status.idle": "2023-03-19T09:48:32.238978Z",
     "shell.execute_reply": "2023-03-19T09:48:32.237441Z"
    },
    "papermill": {
     "duration": 2.507853,
     "end_time": "2023-03-19T09:48:32.241941",
     "exception": false,
     "start_time": "2023-03-19T09:48:29.734088",
     "status": "completed"
    },
    "tags": []
   },
   "outputs": [],
   "source": [
    "os_agg.to_pandas().to_csv('/data/cat_encoded/os_agg_0.csv', index=False)"
   ]
  },
  {
   "cell_type": "code",
   "execution_count": 20,
   "id": "92209743",
   "metadata": {
    "execution": {
     "iopub.execute_input": "2023-03-19T09:48:32.270166Z",
     "iopub.status.busy": "2023-03-19T09:48:32.269659Z",
     "iopub.status.idle": "2023-03-19T09:48:32.558082Z",
     "shell.execute_reply": "2023-03-19T09:48:32.556795Z"
    },
    "papermill": {
     "duration": 0.305331,
     "end_time": "2023-03-19T09:48:32.560664",
     "exception": false,
     "start_time": "2023-03-19T09:48:32.255333",
     "status": "completed"
    },
    "tags": []
   },
   "outputs": [
    {
     "data": {
      "text/plain": [
       "84"
      ]
     },
     "execution_count": 20,
     "metadata": {},
     "output_type": "execute_result"
    }
   ],
   "source": [
    "del(cpe_model_os_type)\n",
    "del(os_agg)\n",
    "gc.collect()"
   ]
  },
  {
   "cell_type": "code",
   "execution_count": 21,
   "id": "4128e96d",
   "metadata": {
    "execution": {
     "iopub.execute_input": "2023-03-19T09:48:32.591620Z",
     "iopub.status.busy": "2023-03-19T09:48:32.591056Z",
     "iopub.status.idle": "2023-03-19T09:48:49.876191Z",
     "shell.execute_reply": "2023-03-19T09:48:49.874840Z"
    },
    "papermill": {
     "duration": 17.305084,
     "end_time": "2023-03-19T09:48:49.879129",
     "exception": false,
     "start_time": "2023-03-19T09:48:32.574045",
     "status": "completed"
    },
    "tags": []
   },
   "outputs": [
    {
     "name": "stdout",
     "output_type": "stream",
     "text": [
      "Loading object from /kaggle/input/cat-encoded/part_of_day.pkl\n",
      "Object loaded from /kaggle/input/cat-encoded/part_of_day.pkl\n"
     ]
    }
   ],
   "source": [
    "part_of_day = load('/data/utils/part_of_day.pkl')\n",
    "part_of_day = pa.Table.from_pandas(part_of_day)"
   ]
  },
  {
   "cell_type": "code",
   "execution_count": 22,
   "id": "519f13d8",
   "metadata": {
    "execution": {
     "iopub.execute_input": "2023-03-19T09:48:49.908066Z",
     "iopub.status.busy": "2023-03-19T09:48:49.907557Z",
     "iopub.status.idle": "2023-03-19T09:49:24.223500Z",
     "shell.execute_reply": "2023-03-19T09:49:24.221990Z"
    },
    "papermill": {
     "duration": 34.344958,
     "end_time": "2023-03-19T09:49:24.237880",
     "exception": false,
     "start_time": "2023-03-19T09:48:49.892922",
     "status": "completed"
    },
    "tags": []
   },
   "outputs": [
    {
     "name": "stdout",
     "output_type": "stream",
     "text": [
      "CPU times: user 32.3 s, sys: 2.14 s, total: 34.5 s\n",
      "Wall time: 34.3 s\n"
     ]
    }
   ],
   "source": [
    "%%time\n",
    "day_agg = part_of_day.group_by(['user_id']).\\\n",
    "        aggregate([('part_of_day_0', 'mean'), ('part_of_day_0', 'approximate_median'), ('part_of_day_0', 'min'), ('part_of_day_0', 'max'), ('part_of_day_0', 'stddev')])"
   ]
  },
  {
   "cell_type": "code",
   "execution_count": 23,
   "id": "5598042d",
   "metadata": {
    "execution": {
     "iopub.execute_input": "2023-03-19T09:49:24.265200Z",
     "iopub.status.busy": "2023-03-19T09:49:24.264762Z",
     "iopub.status.idle": "2023-03-19T09:49:27.181751Z",
     "shell.execute_reply": "2023-03-19T09:49:27.180431Z"
    },
    "papermill": {
     "duration": 2.934356,
     "end_time": "2023-03-19T09:49:27.184932",
     "exception": false,
     "start_time": "2023-03-19T09:49:24.250576",
     "status": "completed"
    },
    "tags": []
   },
   "outputs": [],
   "source": [
    "day_agg.to_pandas().to_csv('/data/cat_encoded/part_of_day_agg_0.csv', index=False)"
   ]
  },
  {
   "cell_type": "code",
   "execution_count": 24,
   "id": "5f120aff",
   "metadata": {
    "execution": {
     "iopub.execute_input": "2023-03-19T09:49:27.215092Z",
     "iopub.status.busy": "2023-03-19T09:49:27.213509Z",
     "iopub.status.idle": "2023-03-19T09:49:27.410055Z",
     "shell.execute_reply": "2023-03-19T09:49:27.408479Z"
    },
    "papermill": {
     "duration": 0.214467,
     "end_time": "2023-03-19T09:49:27.413058",
     "exception": false,
     "start_time": "2023-03-19T09:49:27.198591",
     "status": "completed"
    },
    "tags": []
   },
   "outputs": [
    {
     "data": {
      "text/plain": [
       "84"
      ]
     },
     "execution_count": 24,
     "metadata": {},
     "output_type": "execute_result"
    }
   ],
   "source": [
    "del(part_of_day)\n",
    "del(day_agg)\n",
    "gc.collect()"
   ]
  },
  {
   "cell_type": "code",
   "execution_count": 25,
   "id": "b4dab5bf",
   "metadata": {
    "execution": {
     "iopub.execute_input": "2023-03-19T09:49:27.442441Z",
     "iopub.status.busy": "2023-03-19T09:49:27.441504Z",
     "iopub.status.idle": "2023-03-19T09:49:42.855209Z",
     "shell.execute_reply": "2023-03-19T09:49:42.853733Z"
    },
    "papermill": {
     "duration": 15.431783,
     "end_time": "2023-03-19T09:49:42.858146",
     "exception": false,
     "start_time": "2023-03-19T09:49:27.426363",
     "status": "completed"
    },
    "tags": []
   },
   "outputs": [
    {
     "name": "stdout",
     "output_type": "stream",
     "text": [
      "Loading object from /kaggle/input/cat-encoded/region_name.pkl\n",
      "Object loaded from /kaggle/input/cat-encoded/region_name.pkl\n"
     ]
    }
   ],
   "source": [
    "region_name = load('/data/utils/region_name.pkl')\n",
    "region_name = pa.Table.from_pandas(region_name)"
   ]
  },
  {
   "cell_type": "code",
   "execution_count": 26,
   "id": "1796fbc9",
   "metadata": {
    "execution": {
     "iopub.execute_input": "2023-03-19T09:49:42.888877Z",
     "iopub.status.busy": "2023-03-19T09:49:42.888294Z",
     "iopub.status.idle": "2023-03-19T09:50:12.777290Z",
     "shell.execute_reply": "2023-03-19T09:50:12.775715Z"
    },
    "papermill": {
     "duration": 29.908108,
     "end_time": "2023-03-19T09:50:12.780422",
     "exception": false,
     "start_time": "2023-03-19T09:49:42.872314",
     "status": "completed"
    },
    "tags": []
   },
   "outputs": [
    {
     "name": "stdout",
     "output_type": "stream",
     "text": [
      "CPU times: user 28.6 s, sys: 1.44 s, total: 30 s\n",
      "Wall time: 29.9 s\n"
     ]
    }
   ],
   "source": [
    "%%time\n",
    "region_agg = region_name.group_by(['user_id']).\\\n",
    "        aggregate([('region_name_0', 'mean'), ('region_name_0', 'approximate_median'), ('region_name_0', 'min'), ('region_name_0', 'max'), ('region_name_0', 'stddev')])"
   ]
  },
  {
   "cell_type": "code",
   "execution_count": 27,
   "id": "f86ffe79",
   "metadata": {
    "execution": {
     "iopub.execute_input": "2023-03-19T09:50:12.810633Z",
     "iopub.status.busy": "2023-03-19T09:50:12.809341Z",
     "iopub.status.idle": "2023-03-19T09:50:15.490387Z",
     "shell.execute_reply": "2023-03-19T09:50:15.489229Z"
    },
    "papermill": {
     "duration": 2.699382,
     "end_time": "2023-03-19T09:50:15.493351",
     "exception": false,
     "start_time": "2023-03-19T09:50:12.793969",
     "status": "completed"
    },
    "tags": []
   },
   "outputs": [],
   "source": [
    "region_agg.to_pandas().to_csv('/data/cat_encoded/region_agg_0.csv', index=False)"
   ]
  },
  {
   "cell_type": "code",
   "execution_count": 28,
   "id": "4ef90454",
   "metadata": {
    "execution": {
     "iopub.execute_input": "2023-03-19T09:50:15.524002Z",
     "iopub.status.busy": "2023-03-19T09:50:15.522654Z",
     "iopub.status.idle": "2023-03-19T09:50:15.709439Z",
     "shell.execute_reply": "2023-03-19T09:50:15.708430Z"
    },
    "papermill": {
     "duration": 0.204383,
     "end_time": "2023-03-19T09:50:15.711885",
     "exception": false,
     "start_time": "2023-03-19T09:50:15.507502",
     "status": "completed"
    },
    "tags": []
   },
   "outputs": [
    {
     "data": {
      "text/plain": [
       "84"
      ]
     },
     "execution_count": 28,
     "metadata": {},
     "output_type": "execute_result"
    }
   ],
   "source": [
    "del(region_name)\n",
    "del(region_agg)\n",
    "gc.collect()"
   ]
  },
  {
   "cell_type": "code",
   "execution_count": 29,
   "id": "4775eca1",
   "metadata": {
    "execution": {
     "iopub.execute_input": "2023-03-19T09:50:15.742970Z",
     "iopub.status.busy": "2023-03-19T09:50:15.742153Z",
     "iopub.status.idle": "2023-03-19T09:50:31.039248Z",
     "shell.execute_reply": "2023-03-19T09:50:31.037955Z"
    },
    "papermill": {
     "duration": 15.316164,
     "end_time": "2023-03-19T09:50:31.042277",
     "exception": false,
     "start_time": "2023-03-19T09:50:15.726113",
     "status": "completed"
    },
    "tags": []
   },
   "outputs": [
    {
     "name": "stdout",
     "output_type": "stream",
     "text": [
      "Loading object from /kaggle/input/cat-encoded/cpe_type_cd.pkl\n",
      "Object loaded from /kaggle/input/cat-encoded/cpe_type_cd.pkl\n"
     ]
    }
   ],
   "source": [
    "cpe_type_cd = load('/data/utils/cpe_type_cd.pkl')\n",
    "cpe_type_cd = pa.Table.from_pandas(cpe_type_cd)"
   ]
  },
  {
   "cell_type": "code",
   "execution_count": 30,
   "id": "fae18944",
   "metadata": {
    "execution": {
     "iopub.execute_input": "2023-03-19T09:50:31.073036Z",
     "iopub.status.busy": "2023-03-19T09:50:31.072558Z",
     "iopub.status.idle": "2023-03-19T09:50:59.733259Z",
     "shell.execute_reply": "2023-03-19T09:50:59.731759Z"
    },
    "papermill": {
     "duration": 28.679483,
     "end_time": "2023-03-19T09:50:59.736058",
     "exception": false,
     "start_time": "2023-03-19T09:50:31.056575",
     "status": "completed"
    },
    "tags": []
   },
   "outputs": [
    {
     "name": "stdout",
     "output_type": "stream",
     "text": [
      "CPU times: user 27.6 s, sys: 1.22 s, total: 28.8 s\n",
      "Wall time: 28.7 s\n"
     ]
    }
   ],
   "source": [
    "%%time\n",
    "cpe_agg = cpe_type_cd.group_by(['user_id']).\\\n",
    "        aggregate([('cpe_type_cd_0', 'mean'), ('cpe_type_cd_0', 'approximate_median'), ('cpe_type_cd_0', 'min'), ('cpe_type_cd_0', 'max'), ('cpe_type_cd_0', 'stddev')])"
   ]
  },
  {
   "cell_type": "code",
   "execution_count": 31,
   "id": "0895591b",
   "metadata": {
    "execution": {
     "iopub.execute_input": "2023-03-19T09:50:59.766600Z",
     "iopub.status.busy": "2023-03-19T09:50:59.766118Z",
     "iopub.status.idle": "2023-03-19T09:51:02.057851Z",
     "shell.execute_reply": "2023-03-19T09:51:02.056436Z"
    },
    "papermill": {
     "duration": 2.310632,
     "end_time": "2023-03-19T09:51:02.060937",
     "exception": false,
     "start_time": "2023-03-19T09:50:59.750305",
     "status": "completed"
    },
    "tags": []
   },
   "outputs": [],
   "source": [
    "cpe_agg.to_pandas().to_csv('/data/cat_encoded/cpe_agg_0.csv', index=False)"
   ]
  },
  {
   "cell_type": "code",
   "execution_count": 32,
   "id": "479adbc1",
   "metadata": {
    "execution": {
     "iopub.execute_input": "2023-03-19T09:51:02.090310Z",
     "iopub.status.busy": "2023-03-19T09:51:02.089868Z",
     "iopub.status.idle": "2023-03-19T09:51:02.292437Z",
     "shell.execute_reply": "2023-03-19T09:51:02.291003Z"
    },
    "papermill": {
     "duration": 0.220526,
     "end_time": "2023-03-19T09:51:02.295129",
     "exception": false,
     "start_time": "2023-03-19T09:51:02.074603",
     "status": "completed"
    },
    "tags": []
   },
   "outputs": [
    {
     "data": {
      "text/plain": [
       "84"
      ]
     },
     "execution_count": 32,
     "metadata": {},
     "output_type": "execute_result"
    }
   ],
   "source": [
    "del(cpe_type_cd)\n",
    "del(cpe_agg)\n",
    "gc.collect()"
   ]
  },
  {
   "cell_type": "code",
   "execution_count": null,
   "id": "e7429241",
   "metadata": {},
   "outputs": [],
   "source": [
    "day_name = load('/data/utils/day_name.pkl')\n",
    "day_name = pa.Table.from_pandas(day_name)"
   ]
  },
  {
   "cell_type": "code",
   "execution_count": null,
   "id": "0cc93e8f",
   "metadata": {},
   "outputs": [],
   "source": [
    "%%time\n",
    "day_agg = day_name.group_by(['user_id']).\\\n",
    "        aggregate([('day_name_0', 'mean'), ('day_name_0', 'approximate_median'), ('day_name_0', 'min'), ('day_name_0', 'max'), ('day_name_0', 'stddev')])"
   ]
  },
  {
   "cell_type": "code",
   "execution_count": null,
   "id": "d7cc251e",
   "metadata": {},
   "outputs": [],
   "source": [
    "day_agg.to_pandas().to_csv('/data/cat_encoded/day_agg_0.csv', index=False)"
   ]
  },
  {
   "cell_type": "code",
   "execution_count": null,
   "id": "60475a99",
   "metadata": {},
   "outputs": [],
   "source": [
    "del(day_name)\n",
    "del(day_agg)\n",
    "gc.collect()"
   ]
  },
  {
   "cell_type": "code",
   "execution_count": null,
   "id": "dbbef3d8",
   "metadata": {},
   "outputs": [],
   "source": [
    "day_name_part = load('/data/utils/day_name_part.pkl')\n",
    "day_name_part = pa.Table.from_pandas(day_name_part)"
   ]
  },
  {
   "cell_type": "code",
   "execution_count": null,
   "id": "419ad4d4",
   "metadata": {},
   "outputs": [],
   "source": [
    "%%time\n",
    "day_name_part_agg = day_name_part.group_by(['user_id']).\\\n",
    "        aggregate([('day_name_part_0', 'mean'), ('day_name_part_0', 'approximate_median'), ('day_name_part_0', 'min'), ('day_name_part_0', 'max'), ('day_name_part_0', 'stddev')])"
   ]
  },
  {
   "cell_type": "code",
   "execution_count": null,
   "id": "1670b12b",
   "metadata": {},
   "outputs": [],
   "source": [
    "day_name_part_agg.to_pandas().to_csv('/data/cat_encoded/day_name_part_agg_0.csv', index=False)"
   ]
  },
  {
   "cell_type": "code",
   "execution_count": null,
   "id": "5ba76e8c",
   "metadata": {},
   "outputs": [],
   "source": [
    "del(day_name_part)\n",
    "del(day_name_part_agg)\n",
    "gc.collect()"
   ]
  }
 ],
 "metadata": {
  "kernelspec": {
   "display_name": "Python 3",
   "language": "python",
   "name": "python3"
  },
  "language_info": {
   "codemirror_mode": {
    "name": "ipython",
    "version": 3
   },
   "file_extension": ".py",
   "mimetype": "text/x-python",
   "name": "python",
   "nbconvert_exporter": "python",
   "pygments_lexer": "ipython3",
   "version": "3.11.0"
  },
  "papermill": {
   "default_parameters": {},
   "duration": 421.171003,
   "end_time": "2023-03-19T09:51:04.644103",
   "environment_variables": {},
   "exception": null,
   "input_path": "__notebook__.ipynb",
   "output_path": "__notebook__.ipynb",
   "parameters": {},
   "start_time": "2023-03-19T09:44:03.473100",
   "version": "2.3.4"
  }
 },
 "nbformat": 4,
 "nbformat_minor": 5
}
