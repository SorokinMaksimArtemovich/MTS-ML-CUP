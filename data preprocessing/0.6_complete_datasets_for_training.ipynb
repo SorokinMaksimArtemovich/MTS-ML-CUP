{
  "cells": [
    {
      "cell_type": "markdown",
      "metadata": {
        "id": "view-in-github",
        "colab_type": "text"
      },
      "source": [
        "<a href=\"https://colab.research.google.com/github/SorokinMaksimArtemovich/MTS-ML-CUP/blob/main/data%20preprocessing/0.6_complete_datasets_for_training.ipynb\" target=\"_parent\"><img src=\"https://colab.research.google.com/assets/colab-badge.svg\" alt=\"Open In Colab\"/></a>"
      ]
    },
    {
      "cell_type": "code",
      "execution_count": null,
      "id": "370e7238",
      "metadata": {
        "execution": {
          "iopub.execute_input": "2023-03-21T08:35:00.376987Z",
          "iopub.status.busy": "2023-03-21T08:35:00.376498Z",
          "iopub.status.idle": "2023-03-21T08:35:00.389717Z",
          "shell.execute_reply": "2023-03-21T08:35:00.388596Z"
        },
        "papermill": {
          "duration": 0.032207,
          "end_time": "2023-03-21T08:35:00.392474",
          "exception": false,
          "start_time": "2023-03-21T08:35:00.360267",
          "status": "completed"
        },
        "tags": [],
        "id": "370e7238"
      },
      "outputs": [],
      "source": [
        "import sys\n",
        "import os\n",
        "import warnings\n",
        "os.environ['OPENBLAS_NUM_THREADS'] = '1'\n",
        "warnings.filterwarnings('ignore')"
      ]
    },
    {
      "cell_type": "code",
      "execution_count": null,
      "id": "e5472aa4",
      "metadata": {
        "execution": {
          "iopub.execute_input": "2023-03-21T08:35:00.420884Z",
          "iopub.status.busy": "2023-03-21T08:35:00.420478Z",
          "iopub.status.idle": "2023-03-21T08:35:02.322763Z",
          "shell.execute_reply": "2023-03-21T08:35:02.321329Z"
        },
        "papermill": {
          "duration": 1.920047,
          "end_time": "2023-03-21T08:35:02.325816",
          "exception": false,
          "start_time": "2023-03-21T08:35:00.405769",
          "status": "completed"
        },
        "tags": [],
        "id": "e5472aa4"
      },
      "outputs": [],
      "source": [
        "import pandas as pd\n",
        "import numpy as np\n",
        "import time\n",
        "import gc\n",
        "import pyarrow as pa\n",
        "import pyarrow.parquet as pq\n",
        "import scipy\n",
        "import implicit\n",
        "import bisect\n",
        "import sklearn.metrics as m\n",
        "from catboost import CatBoostClassifier, CatBoostRegressor, Pool\n",
        "from sklearn.calibration import calibration_curve, CalibratedClassifierCV"
      ]
    },
    {
      "cell_type": "code",
      "execution_count": null,
      "id": "b468933b",
      "metadata": {
        "execution": {
          "iopub.execute_input": "2023-03-21T08:35:02.355617Z",
          "iopub.status.busy": "2023-03-21T08:35:02.355198Z",
          "iopub.status.idle": "2023-03-21T08:35:03.694166Z",
          "shell.execute_reply": "2023-03-21T08:35:03.693069Z"
        },
        "papermill": {
          "duration": 1.356398,
          "end_time": "2023-03-21T08:35:03.697199",
          "exception": false,
          "start_time": "2023-03-21T08:35:02.340801",
          "status": "completed"
        },
        "tags": [],
        "id": "b468933b"
      },
      "outputs": [],
      "source": [
        "import seaborn as sns\n",
        "import matplotlib.pyplot as plt\n",
        "import plotly.express as px\n",
        "\n",
        "%matplotlib inline\n",
        "sns.set_style('darkgrid')"
      ]
    },
    {
      "cell_type": "code",
      "execution_count": null,
      "id": "f550cca1",
      "metadata": {
        "execution": {
          "iopub.execute_input": "2023-03-21T08:35:03.726873Z",
          "iopub.status.busy": "2023-03-21T08:35:03.726405Z",
          "iopub.status.idle": "2023-03-21T08:35:29.903365Z",
          "shell.execute_reply": "2023-03-21T08:35:29.901935Z"
        },
        "papermill": {
          "duration": 26.196602,
          "end_time": "2023-03-21T08:35:29.907057",
          "exception": false,
          "start_time": "2023-03-21T08:35:03.710455",
          "status": "completed"
        },
        "tags": [],
        "id": "f550cca1",
        "outputId": "70a256a4-168d-4bf1-f3ae-1ef8afc32979"
      },
      "outputs": [
        {
          "name": "stdout",
          "output_type": "stream",
          "text": [
            "\u001b[33mWARNING: Running pip as the 'root' user can result in broken permissions and conflicting behaviour with the system package manager. It is recommended to use a virtual environment instead: https://pip.pypa.io/warnings/venv\u001b[0m\u001b[33m\r\n",
            "\u001b[0mCollecting faiss-cpu\r\n",
            "  Downloading faiss_cpu-1.7.3-cp37-cp37m-manylinux_2_17_x86_64.manylinux2014_x86_64.whl (17.0 MB)\r\n",
            "\u001b[2K     \u001b[90m━━━━━━━━━━━━━━━━━━━━━━━━━━━━━━━━━━━━━━━\u001b[0m \u001b[32m17.0/17.0 MB\u001b[0m \u001b[31m127.6 MB/s\u001b[0m eta \u001b[36m0:00:00\u001b[0m\r\n",
            "\u001b[?25hInstalling collected packages: faiss-cpu\r\n",
            "Successfully installed faiss-cpu-1.7.3\r\n",
            "\u001b[33mWARNING: Running pip as the 'root' user can result in broken permissions and conflicting behaviour with the system package manager. It is recommended to use a virtual environment instead: https://pip.pypa.io/warnings/venv\u001b[0m\u001b[33m\r\n",
            "\u001b[0m"
          ]
        }
      ],
      "source": [
        "!pip install feather-format >> none\n",
        "!pip install faiss-cpu --no-cache"
      ]
    },
    {
      "cell_type": "code",
      "execution_count": null,
      "id": "aba189ee",
      "metadata": {
        "execution": {
          "iopub.execute_input": "2023-03-21T08:35:29.939324Z",
          "iopub.status.busy": "2023-03-21T08:35:29.938884Z",
          "iopub.status.idle": "2023-03-21T08:35:29.944812Z",
          "shell.execute_reply": "2023-03-21T08:35:29.943619Z"
        },
        "papermill": {
          "duration": 0.024954,
          "end_time": "2023-03-21T08:35:29.947308",
          "exception": false,
          "start_time": "2023-03-21T08:35:29.922354",
          "status": "completed"
        },
        "tags": [],
        "id": "aba189ee"
      },
      "outputs": [],
      "source": [
        "def age_bucket(x):\n",
        "    return bisect.bisect_left([18,25,35,45,55,65], x)"
      ]
    },
    {
      "cell_type": "code",
      "execution_count": null,
      "id": "34cfa5ac",
      "metadata": {
        "execution": {
          "iopub.execute_input": "2023-03-21T08:35:29.978953Z",
          "iopub.status.busy": "2023-03-21T08:35:29.978022Z",
          "iopub.status.idle": "2023-03-21T08:35:30.078392Z",
          "shell.execute_reply": "2023-03-21T08:35:30.077168Z"
        },
        "papermill": {
          "duration": 0.121023,
          "end_time": "2023-03-21T08:35:30.082714",
          "exception": false,
          "start_time": "2023-03-21T08:35:29.961691",
          "status": "completed"
        },
        "tags": [],
        "id": "34cfa5ac"
      },
      "outputs": [],
      "source": [
        "id_to_submit = pd.read_feather('/data/submission.feather')"
      ]
    },
    {
      "cell_type": "code",
      "execution_count": null,
      "id": "59753667",
      "metadata": {
        "execution": {
          "iopub.execute_input": "2023-03-21T08:35:30.117494Z",
          "iopub.status.busy": "2023-03-21T08:35:30.116694Z",
          "iopub.status.idle": "2023-03-21T08:35:30.272191Z",
          "shell.execute_reply": "2023-03-21T08:35:30.270591Z"
        },
        "papermill": {
          "duration": 0.174787,
          "end_time": "2023-03-21T08:35:30.275717",
          "exception": false,
          "start_time": "2023-03-21T08:35:30.100930",
          "status": "completed"
        },
        "tags": [],
        "id": "59753667"
      },
      "outputs": [],
      "source": [
        "targets = pd.read_feather('/data/target_train.feather')"
      ]
    },
    {
      "cell_type": "code",
      "execution_count": null,
      "id": "e5d9e5e3",
      "metadata": {
        "execution": {
          "iopub.execute_input": "2023-03-21T08:35:30.306266Z",
          "iopub.status.busy": "2023-03-21T08:35:30.305216Z",
          "iopub.status.idle": "2023-03-21T08:35:41.069638Z",
          "shell.execute_reply": "2023-03-21T08:35:41.067982Z"
        },
        "papermill": {
          "duration": 10.783238,
          "end_time": "2023-03-21T08:35:41.072996",
          "exception": false,
          "start_time": "2023-03-21T08:35:30.289758",
          "status": "completed"
        },
        "tags": [],
        "id": "e5d9e5e3"
      },
      "outputs": [],
      "source": [
        "df_bace = pd.read_csv('/data/bace_preprocessing/df_bace.csv')"
      ]
    },
    {
      "cell_type": "code",
      "execution_count": null,
      "id": "bb0b7a2e",
      "metadata": {
        "execution": {
          "iopub.execute_input": "2023-03-21T08:36:13.480797Z",
          "iopub.status.busy": "2023-03-21T08:36:13.480083Z",
          "iopub.status.idle": "2023-03-21T08:37:03.236225Z",
          "shell.execute_reply": "2023-03-21T08:37:03.234873Z"
        },
        "papermill": {
          "duration": 49.775052,
          "end_time": "2023-03-21T08:37:03.239009",
          "exception": false,
          "start_time": "2023-03-21T08:36:13.463957",
          "status": "completed"
        },
        "tags": [],
        "id": "bb0b7a2e"
      },
      "outputs": [],
      "source": [
        "city_agg = pd.read_csv('/data/bace_preprocessing/city_agg.csv')\n",
        "city_emb = pd.read_csv('/data/bace_preprocessing/city_emb.csv')\n",
        "cpe_agg = pd.read_csv('/data/bace_preprocessing/cpe_agg.csv')\n",
        "date_agg = pd.read_csv('/data/bace_preprocessing/date_agg.csv')\n",
        "date_emb = pd.read_csv('/data/bace_preprocessing/date_emb.csv')\n",
        "manuf_agg = pd.read_csv('/data/bace_preprocessing/manuf_agg.csv')\n",
        "model_agg = pd.read_csv('/data/bace_preprocessing/model_agg.csv')\n",
        "model_emb = pd.read_csv('/data/bace_preprocessing/model_emb.csv')\n",
        "os_agg = pd.read_csv('/data/bace_preprocessing/os_agg.csv')\n",
        "part_of_day = pd.read_csv('/data/bace_preprocessing/part_of_day.csv')\n",
        "region_agg = pd.read_csv('/data/bace_preprocessing/region_agg.csv')\n",
        "region_emb = pd.read_csv('/data/bace_preprocessing/region_emb.csv')\n",
        "url_agg = pd.read_csv('/data/bace_preprocessing/url_agg.csv')"
      ]
    },
    {
      "cell_type": "code",
      "execution_count": null,
      "id": "005fdf41",
      "metadata": {
        "execution": {
          "iopub.execute_input": "2023-03-21T08:36:05.423173Z",
          "iopub.status.busy": "2023-03-21T08:36:05.422702Z",
          "iopub.status.idle": "2023-03-21T08:36:13.447046Z",
          "shell.execute_reply": "2023-03-21T08:36:13.445864Z"
        },
        "papermill": {
          "duration": 8.042422,
          "end_time": "2023-03-21T08:36:13.449868",
          "exception": false,
          "start_time": "2023-03-21T08:36:05.407446",
          "status": "completed"
        },
        "tags": [],
        "id": "005fdf41"
      },
      "outputs": [],
      "source": [
        "dayofmonth_agg_q = pd.read_csv('/data/price_and_date_preprocessing/dayofmonth_agg.csv')\n",
        "dayofmonth_count_q = pd.read_csv('/data/price_and_date_preprocessing/dayofmonth_count.csv')\n",
        "dayofweek_agg_q = pd.read_csv('/data/price_and_date_preprocessing/dayofweek_agg.csv')\n",
        "dayofweek_sum_q = pd.read_csv('/data/price_and_date_preprocessing/dayofweek_sum.csv')\n",
        "dayofweek_with_part_of_day_agg_q = pd.read_csv('/data/price_and_date_preprocessing/dayofweek_with_part_of_day_agg.csv')\n",
        "month_agg_q = pd.read_csv('/data/price_and_date_preprocessing/month_agg.csv')\n",
        "month_count_q = pd.read_csv('/data/price_and_date_preprocessing/month_count.csv')\n",
        "price_q = pd.read_csv('/data/price_and_date_preprocessing/price.csv')\n",
        "price_agg_q = pd.read_csv('/data/price_and_date_preprocessing/price_agg.csv')"
      ]
    },
    {
      "cell_type": "code",
      "execution_count": null,
      "id": "0489d515",
      "metadata": {
        "execution": {
          "iopub.execute_input": "2023-03-21T08:37:03.268863Z",
          "iopub.status.busy": "2023-03-21T08:37:03.268459Z",
          "iopub.status.idle": "2023-03-21T08:37:47.459867Z",
          "shell.execute_reply": "2023-03-21T08:37:47.458667Z"
        },
        "papermill": {
          "duration": 44.20947,
          "end_time": "2023-03-21T08:37:47.462810",
          "exception": false,
          "start_time": "2023-03-21T08:37:03.253340",
          "status": "completed"
        },
        "tags": [],
        "id": "0489d515"
      },
      "outputs": [],
      "source": [
        "url_factor = pd.read_csv('/data/url_factor/url_factor.csv')"
      ]
    },
    {
      "cell_type": "code",
      "execution_count": null,
      "id": "6e12f8a3",
      "metadata": {
        "execution": {
          "iopub.execute_input": "2023-03-21T08:37:47.493154Z",
          "iopub.status.busy": "2023-03-21T08:37:47.491751Z",
          "iopub.status.idle": "2023-03-21T08:37:54.278054Z",
          "shell.execute_reply": "2023-03-21T08:37:54.276540Z"
        },
        "papermill": {
          "duration": 6.804589,
          "end_time": "2023-03-21T08:37:54.281316",
          "exception": false,
          "start_time": "2023-03-21T08:37:47.476727",
          "status": "completed"
        },
        "tags": [],
        "id": "6e12f8a3"
      },
      "outputs": [],
      "source": [
        "city_agg_0 = pd.read_csv('/data/cat_encoded/city_agg_0.csv')\n",
        "cpe_agg_0 = pd.read_csv('/data/cat_encoded/cpe_agg_0.csv')\n",
        "day_agg_0 = pd.read_csv('/data/cat_encoded/part_of_day_agg_0.csv')\n",
        "manuf_agg_0 = pd.read_csv('/data/cat_encoded/manuf_agg_0.csv')\n",
        "model_agg_0 = pd.read_csv('/data/cat_encoded/model_agg_0.csv')\n",
        "os_agg_0 = pd.read_csv('/data/cat_encoded/os_agg_0.csv')\n",
        "region_agg_0 = pd.read_csv('/data/cat_encoded/region_agg_0.csv')\n",
        "weekday_agg_0 = pd.read_csv('/data/cat_encoded/day_agg_0.csv')\n",
        "day_name_part_agg_0 = pd.read_csv('/data/cat_encoded/day_name_part_agg_0.csv')"
      ]
    },
    {
      "cell_type": "code",
      "execution_count": null,
      "id": "037e36b8",
      "metadata": {
        "execution": {
          "iopub.execute_input": "2023-03-21T08:35:53.740322Z",
          "iopub.status.busy": "2023-03-21T08:35:53.739872Z",
          "iopub.status.idle": "2023-03-21T08:36:05.390067Z",
          "shell.execute_reply": "2023-03-21T08:36:05.388412Z"
        },
        "papermill": {
          "duration": 11.669302,
          "end_time": "2023-03-21T08:36:05.393214",
          "exception": false,
          "start_time": "2023-03-21T08:35:53.723912",
          "status": "completed"
        },
        "tags": [],
        "id": "037e36b8"
      },
      "outputs": [],
      "source": [
        "mean_age_and_sex_ranged = pd.read_csv('/data/target_distribution_by_urls/mean_age_and_sex_ranged.scv')\n",
        "mean_age_and_sex_weighted = pd.read_csv('/data/target_distribution_by_urls/mean_age_and_sex_weighted.scv')\n",
        "mean_age_emb = pd.read_csv('/data/target_distribution_by_urls/mean_age_emb.csv')"
      ]
    },
    {
      "cell_type": "code",
      "execution_count": null,
      "id": "24876e91",
      "metadata": {
        "execution": {
          "iopub.execute_input": "2023-03-21T08:35:41.150089Z",
          "iopub.status.busy": "2023-03-21T08:35:41.149671Z",
          "iopub.status.idle": "2023-03-21T08:35:53.706063Z",
          "shell.execute_reply": "2023-03-21T08:35:53.705051Z"
        },
        "papermill": {
          "duration": 12.574453,
          "end_time": "2023-03-21T08:35:53.708909",
          "exception": false,
          "start_time": "2023-03-21T08:35:41.134456",
          "status": "completed"
        },
        "tags": [],
        "id": "24876e91"
      },
      "outputs": [],
      "source": [
        "activity_per_day_t = pd.read_csv('/data/target_distribution_by_features/activity_per_day.csv')\n",
        "city_agg_t = pd.read_csv('/data/target_distribution_by_features/city_agg.csv')\n",
        "city_emb_t = pd.read_csv('/data/target_distribution_by_features/city_emb.csv')\n",
        "model_agg_t = pd.read_csv('/data/target_distribution_by_features/model_agg.csv').drop('cpe_model_name', axis=1)\n",
        "price_agg_t = pd.read_csv('/data/target_distribution_by_features/price_agg.csv')"
      ]
    },
    {
      "cell_type": "code",
      "execution_count": null,
      "id": "1b9b96e4",
      "metadata": {
        "execution": {
          "iopub.execute_input": "2023-03-21T08:37:54.311554Z",
          "iopub.status.busy": "2023-03-21T08:37:54.311101Z",
          "iopub.status.idle": "2023-03-21T08:38:16.033737Z",
          "shell.execute_reply": "2023-03-21T08:38:16.032652Z"
        },
        "papermill": {
          "duration": 21.741082,
          "end_time": "2023-03-21T08:38:16.036557",
          "exception": false,
          "start_time": "2023-03-21T08:37:54.295475",
          "status": "completed"
        },
        "tags": [],
        "id": "1b9b96e4",
        "outputId": "1404f135-dbf4-4b32-d4f6-77c576090fe3"
      },
      "outputs": [
        {
          "data": {
            "text/plain": [
              "(415317, 564)"
            ]
          },
          "execution_count": 16,
          "metadata": {},
          "output_type": "execute_result"
        }
      ],
      "source": [
        "df_danet = df_bace.merge(city_agg, how = 'inner', on = ['user_id'], suffixes=('', 'city_agg'))\n",
        "df_danet = df_danet.merge(cpe_agg, how = 'inner', on = ['user_id'], suffixes=('', 'cpe_agg'))\n",
        "df_danet = df_danet.merge(date_agg, how = 'inner', on = ['user_id'], suffixes=('', 'date_agg'))\n",
        "df_danet = df_danet.merge(manuf_agg, how = 'inner', on = ['user_id'], suffixes=('', 'manuf_agg'))\n",
        "df_danet = df_danet.merge(model_agg, how = 'inner', on = ['user_id'], suffixes=('', 'model_agg'))\n",
        "df_danet = df_danet.merge(os_agg, how = 'inner', on = ['user_id'], suffixes=('', 'os_agg'))\n",
        "df_danet = df_danet.merge(part_of_day, how = 'inner', on = ['user_id'], suffixes=('', 'part_of_day'))\n",
        "df_danet = df_danet.merge(region_agg, how = 'inner', on = ['user_id'], suffixes=('', 'region_agg'))\n",
        "df_danet = df_danet.merge(url_agg, how = 'inner', on = ['user_id'], suffixes=('', 'url_agg'))\n",
        "df_danet = df_danet.merge(mean_age_emb, how = 'inner', on = ['user_id'], suffixes=('', 'mean_age_emb'))\n",
        "df_danet = df_danet.merge(city_agg_t, how = 'inner', on = ['user_id'], suffixes=('', 'city_agg_t'))\n",
        "df_danet = df_danet.merge(model_agg_t, how = 'inner', on = ['user_id'], suffixes=('', 'model_agg_t'))\n",
        "df_danet = df_danet.merge(url_factor, how = 'inner', on = ['user_id'], suffixes=('', 'url_factor'))\n",
        "df_danet = df_danet.merge(dayofweek_agg_q, how = 'inner', on = ['user_id'], suffixes=('', 'dayofweek_agg_q'))\n",
        "df_danet = df_danet.merge(dayofweek_with_part_of_day_agg_q, how = 'inner', on = ['user_id'], suffixes=('', 'dayofweek_with_part_of_day_agg_q'))\n",
        "df_danet = df_danet.merge(price_q, how = 'inner', on = ['user_id'], suffixes=('', 'price_q'))\n",
        "df_danet = df_danet.merge(city_agg_0, how = 'inner', on = ['user_id'], suffixes=('', 'city_agg_0'))\n",
        "df_danet = df_danet.merge(cpe_agg_0, how = 'inner', on = ['user_id'], suffixes=('', 'cpe_agg_0'))\n",
        "df_danet = df_danet.merge(day_agg_0, how = 'inner', on = ['user_id'], suffixes=('', 'day_agg_0'))\n",
        "df_danet = df_danet.merge(manuf_agg_0, how = 'inner', on = ['user_id'], suffixes=('', 'manuf_agg_0'))\n",
        "df_danet = df_danet.merge(model_agg_0, how = 'inner', on = ['user_id'], suffixes=('', 'model_agg_0'))\n",
        "df_danet = df_danet.merge(os_agg_0, how = 'inner', on = ['user_id'], suffixes=('', 'os_agg_0'))\n",
        "df_danet = df_danet.merge(region_agg_0, how = 'inner', on = ['user_id'], suffixes=('', 'region_agg_0'))\n",
        "df_danet = df_danet.merge(weekday_agg_0, how = 'inner', on = ['user_id'], suffixes=('', 'weekday_agg_0'))\n",
        "df_danet = df_danet.merge(day_name_part_agg_0, how = 'inner', on = ['user_id'], suffixes=('', 'day_name_part_agg_0'))\n",
        "df_danet.shape"
      ]
    },
    {
      "cell_type": "code",
      "execution_count": null,
      "id": "8d461480",
      "metadata": {
        "execution": {
          "iopub.execute_input": "2023-03-21T08:38:16.066005Z",
          "iopub.status.busy": "2023-03-21T08:38:16.065595Z",
          "iopub.status.idle": "2023-03-21T08:42:10.351381Z",
          "shell.execute_reply": "2023-03-21T08:42:10.349717Z"
        },
        "papermill": {
          "duration": 234.304061,
          "end_time": "2023-03-21T08:42:10.354433",
          "exception": false,
          "start_time": "2023-03-21T08:38:16.050372",
          "status": "completed"
        },
        "tags": [],
        "id": "8d461480"
      },
      "outputs": [],
      "source": [
        "df_danet.to_csv('/data/df_danet.csv', index = False)"
      ]
    },
    {
      "cell_type": "code",
      "execution_count": null,
      "id": "c5367d45",
      "metadata": {
        "execution": {
          "iopub.execute_input": "2023-03-21T08:42:10.384348Z",
          "iopub.status.busy": "2023-03-21T08:42:10.383900Z",
          "iopub.status.idle": "2023-03-21T08:42:10.635821Z",
          "shell.execute_reply": "2023-03-21T08:42:10.634255Z"
        },
        "papermill": {
          "duration": 0.269659,
          "end_time": "2023-03-21T08:42:10.638457",
          "exception": false,
          "start_time": "2023-03-21T08:42:10.368798",
          "status": "completed"
        },
        "tags": [],
        "id": "c5367d45",
        "outputId": "88cfd3a4-5bf8-4208-b71f-9abd3394b436"
      },
      "outputs": [
        {
          "data": {
            "text/plain": [
              "85"
            ]
          },
          "execution_count": 18,
          "metadata": {},
          "output_type": "execute_result"
        }
      ],
      "source": [
        "del(df_danet)\n",
        "gc.collect()"
      ]
    },
    {
      "cell_type": "code",
      "execution_count": null,
      "id": "c516beef",
      "metadata": {
        "execution": {
          "iopub.execute_input": "2023-03-21T08:42:10.668943Z",
          "iopub.status.busy": "2023-03-21T08:42:10.668506Z",
          "iopub.status.idle": "2023-03-21T08:42:17.229611Z",
          "shell.execute_reply": "2023-03-21T08:42:17.228202Z"
        },
        "papermill": {
          "duration": 6.580134,
          "end_time": "2023-03-21T08:42:17.232671",
          "exception": false,
          "start_time": "2023-03-21T08:42:10.652537",
          "status": "completed"
        },
        "tags": [],
        "id": "c516beef",
        "outputId": "3ff3d14b-f87e-4194-b604-e6a7a56102db"
      },
      "outputs": [
        {
          "data": {
            "text/plain": [
              "(415317, 251)"
            ]
          },
          "execution_count": 19,
          "metadata": {},
          "output_type": "execute_result"
        }
      ],
      "source": [
        "df_age = df_bace.merge(city_agg, how = 'inner', on = ['user_id'], suffixes=('', '_city_agg'))\n",
        "df_age = df_age.merge(date_agg, how = 'inner', on = ['user_id'], suffixes=('', '_date_agg'))\n",
        "df_age = df_age.merge(part_of_day, how = 'inner', on = ['user_id'], suffixes=('', '_part_of_day'))\n",
        "df_age = df_age.merge(url_agg, how = 'inner', on = ['user_id'], suffixes=('', '_url_agg'))\n",
        "df_age = df_age.merge(date_emb, how = 'inner', on = ['user_id'], suffixes=('', '_date_emb'))\n",
        "df_age = df_age.merge(region_emb, how = 'inner', on = ['user_id'], suffixes=('', '_region_emb'))\n",
        "df_age = df_age.merge(mean_age_and_sex_ranged, how = 'inner', on = ['user_id'], suffixes=('', '_ranged'))\n",
        "df_age = df_age.merge(mean_age_and_sex_weighted, how = 'inner', on = ['user_id'], suffixes=('', '_weighted'))\n",
        "df_age = df_age.merge(mean_age_emb, how = 'inner', on = ['user_id'], suffixes=('', '_mean_age_emb'))\n",
        "df_age = df_age.merge(city_agg_t, how = 'inner', on = ['user_id'], suffixes=('', '_city_agg_t'))\n",
        "df_age = df_age.merge(model_agg_t, how = 'inner', on = ['user_id'], suffixes=('', '_model_agg_t'))\n",
        "df_age = df_age.merge(price_agg_t, how = 'inner', on = ['user_id'], suffixes=('', '_price_agg_t'))\n",
        "df_age.shape"
      ]
    },
    {
      "cell_type": "code",
      "execution_count": null,
      "id": "81a45b80",
      "metadata": {
        "execution": {
          "iopub.execute_input": "2023-03-21T08:42:17.264667Z",
          "iopub.status.busy": "2023-03-21T08:42:17.264194Z",
          "iopub.status.idle": "2023-03-21T08:44:10.453538Z",
          "shell.execute_reply": "2023-03-21T08:44:10.450379Z"
        },
        "papermill": {
          "duration": 113.212395,
          "end_time": "2023-03-21T08:44:10.460057",
          "exception": false,
          "start_time": "2023-03-21T08:42:17.247662",
          "status": "completed"
        },
        "tags": [],
        "id": "81a45b80"
      },
      "outputs": [],
      "source": [
        "df_age.to_csv('/data/df_age.csv', index = False)"
      ]
    },
    {
      "cell_type": "code",
      "execution_count": null,
      "id": "2d31b6a4",
      "metadata": {
        "execution": {
          "iopub.execute_input": "2023-03-21T08:44:10.496020Z",
          "iopub.status.busy": "2023-03-21T08:44:10.495443Z",
          "iopub.status.idle": "2023-03-21T08:44:10.778389Z",
          "shell.execute_reply": "2023-03-21T08:44:10.777145Z"
        },
        "papermill": {
          "duration": 0.302981,
          "end_time": "2023-03-21T08:44:10.781191",
          "exception": false,
          "start_time": "2023-03-21T08:44:10.478210",
          "status": "completed"
        },
        "tags": [],
        "id": "2d31b6a4",
        "outputId": "a2a85b69-d5e2-433a-86d0-b4b152c4eb65"
      },
      "outputs": [
        {
          "data": {
            "text/plain": [
              "21"
            ]
          },
          "execution_count": 21,
          "metadata": {},
          "output_type": "execute_result"
        }
      ],
      "source": [
        "del(df_age)\n",
        "gc.collect()"
      ]
    },
    {
      "cell_type": "code",
      "execution_count": null,
      "id": "4f83a05b",
      "metadata": {
        "execution": {
          "iopub.execute_input": "2023-03-21T08:44:10.812794Z",
          "iopub.status.busy": "2023-03-21T08:44:10.812289Z",
          "iopub.status.idle": "2023-03-21T08:44:23.465439Z",
          "shell.execute_reply": "2023-03-21T08:44:23.464140Z"
        },
        "papermill": {
          "duration": 12.672532,
          "end_time": "2023-03-21T08:44:23.468598",
          "exception": false,
          "start_time": "2023-03-21T08:44:10.796066",
          "status": "completed"
        },
        "tags": [],
        "id": "4f83a05b",
        "outputId": "b8c0eb52-1791-4882-9ee6-a69c75d208ed"
      },
      "outputs": [
        {
          "data": {
            "text/plain": [
              "(415317, 616)"
            ]
          },
          "execution_count": 22,
          "metadata": {},
          "output_type": "execute_result"
        }
      ],
      "source": [
        "df_sex = df_bace.merge(city_agg, how = 'inner', on = ['user_id'], suffixes=('', '_city_agg'))\n",
        "df_sex = df_sex.merge(date_agg, how = 'inner', on = ['user_id'], suffixes=('', '_date_agg'))\n",
        "df_sex = df_sex.merge(part_of_day, how = 'inner', on = ['user_id'], suffixes=('', '_part_of_day'))\n",
        "df_sex = df_sex.merge(url_agg, how = 'inner', on = ['user_id'], suffixes=('', '_url_agg'))\n",
        "df_sex = df_sex.merge(price_q, how = 'inner', on = ['user_id'], suffixes=('', '_price'))\n",
        "df_sex = df_sex.merge(city_emb, how = 'inner', on = ['user_id'], suffixes=('', '_city_emb'))\n",
        "df_sex = df_sex.merge(date_emb, how = 'inner', on = ['user_id'], suffixes=('', '_date_emb'))\n",
        "df_sex = df_sex.merge(region_emb, how = 'inner', on = ['user_id'], suffixes=('', '_region_emb'))\n",
        "df_sex = df_sex.merge(mean_age_and_sex_ranged, how = 'inner', on = ['user_id'], suffixes=('', '_ranged'))\n",
        "df_sex = df_sex.merge(mean_age_emb, how = 'inner', on = ['user_id'], suffixes=('', '_mean_age_emb'))\n",
        "df_sex = df_sex.merge(city_agg_t, how = 'inner', on = ['user_id'], suffixes=('', '_city_agg_t'))\n",
        "df_sex = df_sex.merge(model_agg_t, how = 'inner', on = ['user_id'], suffixes=('', '_model_agg_t'))\n",
        "df_sex = df_sex.merge(url_factor, how = 'inner', on = ['user_id'], suffixes=('', '_url_factor'))\n",
        "df_sex = df_sex.merge(day_agg_0, how = 'inner', on = ['user_id'], suffixes=('', '_day_agg_0'))\n",
        "df_sex = df_sex.merge(region_agg_0, how = 'inner', on = ['user_id'], suffixes=('', '_region_agg_0'))\n",
        "df_sex = df_sex.merge(day_name_part_agg_0, how = 'inner', on = ['user_id'], suffixes=('', '_day_name_part_agg_0'))\n",
        "df_sex.shape"
      ]
    },
    {
      "cell_type": "code",
      "execution_count": null,
      "id": "0f7e29d1",
      "metadata": {
        "execution": {
          "iopub.execute_input": "2023-03-21T08:44:23.500320Z",
          "iopub.status.busy": "2023-03-21T08:44:23.499697Z",
          "iopub.status.idle": "2023-03-21T08:48:58.194590Z",
          "shell.execute_reply": "2023-03-21T08:48:58.193036Z"
        },
        "papermill": {
          "duration": 274.714465,
          "end_time": "2023-03-21T08:48:58.198012",
          "exception": false,
          "start_time": "2023-03-21T08:44:23.483547",
          "status": "completed"
        },
        "tags": [],
        "id": "0f7e29d1"
      },
      "outputs": [],
      "source": [
        "df_sex.to_csv('/data/df_sex.csv', index = False)"
      ]
    },
    {
      "cell_type": "code",
      "execution_count": null,
      "id": "38577b3d",
      "metadata": {
        "execution": {
          "iopub.execute_input": "2023-03-21T08:48:58.230906Z",
          "iopub.status.busy": "2023-03-21T08:48:58.230439Z",
          "iopub.status.idle": "2023-03-21T08:48:58.421694Z",
          "shell.execute_reply": "2023-03-21T08:48:58.420094Z"
        },
        "papermill": {
          "duration": 0.210693,
          "end_time": "2023-03-21T08:48:58.424376",
          "exception": false,
          "start_time": "2023-03-21T08:48:58.213683",
          "status": "completed"
        },
        "tags": [],
        "id": "38577b3d",
        "outputId": "395c3674-233a-4303-896e-e37769f676c1"
      },
      "outputs": [
        {
          "data": {
            "text/plain": [
              "21"
            ]
          },
          "execution_count": 24,
          "metadata": {},
          "output_type": "execute_result"
        }
      ],
      "source": [
        "del(df_sex)\n",
        "gc.collect()"
      ]
    },
    {
      "cell_type": "code",
      "execution_count": null,
      "id": "1331aca8",
      "metadata": {
        "execution": {
          "iopub.execute_input": "2023-03-21T08:48:58.458753Z",
          "iopub.status.busy": "2023-03-21T08:48:58.458337Z",
          "iopub.status.idle": "2023-03-21T08:49:38.591809Z",
          "shell.execute_reply": "2023-03-21T08:49:38.590553Z"
        },
        "papermill": {
          "duration": 40.167286,
          "end_time": "2023-03-21T08:49:38.608897",
          "exception": false,
          "start_time": "2023-03-21T08:48:58.441611",
          "status": "completed"
        },
        "tags": [],
        "id": "1331aca8",
        "outputId": "a105c040-a5c6-4a05-ce42-b173f69aa410"
      },
      "outputs": [
        {
          "data": {
            "text/plain": [
              "(415316, 905)"
            ]
          },
          "execution_count": 25,
          "metadata": {},
          "output_type": "execute_result"
        }
      ],
      "source": [
        "df = df_bace.merge(activity_per_day_t, how = 'inner', on = ['user_id'], suffixes=('', 'activity_per_day_t'))\n",
        "df = df.merge(city_agg_t, how = 'inner', on = ['user_id'], suffixes=('', 'city_agg_t'))\n",
        "df = df.merge(city_emb_t, how = 'inner', on = ['user_id'], suffixes=('', 'city_emb_t'))\n",
        "df = df.merge(model_agg_t, how = 'inner', on = ['user_id'], suffixes=('', 'model_agg_t'))\n",
        "df = df.merge(price_agg_t, how = 'inner', on = ['user_id'], suffixes=('', 'price_agg_t'))\n",
        "df = df.merge(mean_age_and_sex_ranged, how = 'inner', on = ['user_id'], suffixes=('', 'mean_age_and_sex_ranged'))\n",
        "df = df.merge(mean_age_and_sex_weighted, how = 'inner', on = ['user_id'], suffixes=('', 'mean_age_and_sex_weighted'))\n",
        "df = df.merge(mean_age_emb, how = 'inner', on = ['user_id'], suffixes=('', 'mean_age_emb'))\n",
        "df = df.merge(dayofmonth_agg_q, how = 'inner', on = ['user_id'], suffixes=('', 'dayofmonth_agg_q'))\n",
        "df = df.merge(dayofmonth_count_q, how = 'inner', on = ['user_id'], suffixes=('', 'dayofmonth_count_q'))\n",
        "df = df.merge(dayofweek_agg_q, how = 'inner', on = ['user_id'], suffixes=('', 'dayofweek_agg_q'))\n",
        "df = df.merge(dayofweek_sum_q, how = 'inner', on = ['user_id'], suffixes=('', 'dayofweek_sum_q'))\n",
        "df = df.merge(dayofweek_with_part_of_day_agg_q, how = 'inner', on = ['user_id'], suffixes=('', 'dayofweek_with_part_of_day_agg_q'))\n",
        "df = df.merge(month_agg_q, how = 'inner', on = ['user_id'], suffixes=('', 'month_agg_q'))\n",
        "df = df.merge(month_count_q, how = 'inner', on = ['user_id'], suffixes=('', 'month_count_q'))\n",
        "df = df.merge(price_q, how = 'inner', on = ['user_id'], suffixes=('', 'price_q'))\n",
        "df = df.merge(price_agg_q, how = 'inner', on = ['user_id'], suffixes=('', 'price_agg_q'))\n",
        "df = df.merge(city_agg, how = 'inner', on = ['user_id'], suffixes=('', 'city_agg'))\n",
        "df = df.merge(city_emb, how = 'inner', on = ['user_id'], suffixes=('', 'city_emb'))\n",
        "df = df.merge(cpe_agg, how = 'inner', on = ['user_id'], suffixes=('', 'cpe_agg'))\n",
        "df = df.merge(date_agg, how = 'inner', on = ['user_id'], suffixes=('', 'date_agg'))\n",
        "df = df.merge(date_emb, how = 'inner', on = ['user_id'], suffixes=('', 'date_emb'))\n",
        "df = df.merge(manuf_agg, how = 'inner', on = ['user_id'], suffixes=('', 'manuf_agg'))\n",
        "df = df.merge(model_agg, how = 'inner', on = ['user_id'], suffixes=('', 'model_agg'))\n",
        "df = df.merge(model_emb, how = 'inner', on = ['user_id'], suffixes=('', 'model_emb'))\n",
        "df = df.merge(os_agg, how = 'inner', on = ['user_id'], suffixes=('', 'os_agg'))\n",
        "df = df.merge(part_of_day, how = 'inner', on = ['user_id'], suffixes=('', 'part_of_day'))\n",
        "df = df.merge(region_agg, how = 'inner', on = ['user_id'], suffixes=('', 'region_agg'))\n",
        "df = df.merge(region_emb, how = 'inner', on = ['user_id'], suffixes=('', 'region_emb'))\n",
        "df = df.merge(url_agg, how = 'inner', on = ['user_id'], suffixes=('', 'url_agg'))\n",
        "df = df.merge(url_factor, how = 'inner', on = ['user_id'], suffixes=('', 'url_factor'))\n",
        "df = df.merge(city_agg_0, how = 'inner', on = ['user_id'], suffixes=('', 'city_agg_0'))\n",
        "df = df.merge(cpe_agg_0, how = 'inner', on = ['user_id'], suffixes=('', 'cpe_agg_0'))\n",
        "df = df.merge(day_agg_0, how = 'inner', on = ['user_id'], suffixes=('', 'day_agg_0'))\n",
        "df = df.merge(manuf_agg_0, how = 'inner', on = ['user_id'], suffixes=('', 'manuf_agg_0'))\n",
        "df = df.merge(model_agg_0, how = 'inner', on = ['user_id'], suffixes=('', 'model_agg_0'))\n",
        "df = df.merge(os_agg_0, how = 'inner', on = ['user_id'], suffixes=('', 'os_agg_0'))\n",
        "df = df.merge(region_agg_0, how = 'inner', on = ['user_id'], suffixes=('', 'region_agg_0'))\n",
        "df = df.merge(weekday_agg_0, how = 'inner', on = ['user_id'], suffixes=('', 'weekday_agg_0'))\n",
        "df = df.merge(day_name_part_agg_0, how = 'inner', on = ['user_id'], suffixes=('', 'day_name_part_agg_0'))\n",
        "df.shape"
      ]
    },
    {
      "cell_type": "code",
      "execution_count": null,
      "id": "2d7be41e",
      "metadata": {
        "execution": {
          "iopub.execute_input": "2023-03-21T08:49:38.641227Z",
          "iopub.status.busy": "2023-03-21T08:49:38.640748Z",
          "iopub.status.idle": "2023-03-21T08:49:38.891184Z",
          "shell.execute_reply": "2023-03-21T08:49:38.889895Z"
        },
        "papermill": {
          "duration": 0.269973,
          "end_time": "2023-03-21T08:49:38.894009",
          "exception": false,
          "start_time": "2023-03-21T08:49:38.624036",
          "status": "completed"
        },
        "tags": [],
        "id": "2d7be41e",
        "outputId": "cd58604c-b122-4125-8734-d8c3bd6ff4ff"
      },
      "outputs": [
        {
          "data": {
            "text/plain": [
              "21"
            ]
          },
          "execution_count": 26,
          "metadata": {},
          "output_type": "execute_result"
        }
      ],
      "source": [
        "del(df_bace)\n",
        "del(activity_per_day_t)\n",
        "del(city_agg_t)\n",
        "del(city_emb_t)\n",
        "del(model_agg_t)\n",
        "del(price_agg_t)\n",
        "del(mean_age_and_sex_ranged)\n",
        "del(mean_age_and_sex_weighted)\n",
        "del(mean_age_emb)\n",
        "del(dayofmonth_agg_q)\n",
        "del(dayofmonth_count_q)\n",
        "del(dayofweek_agg_q)\n",
        "del(dayofweek_sum_q)\n",
        "del(dayofweek_with_part_of_day_agg_q)\n",
        "del(month_agg_q)\n",
        "del(month_count_q)\n",
        "del(price_q)\n",
        "del(price_agg_q)\n",
        "del(city_agg)\n",
        "del(city_emb)\n",
        "del(cpe_agg)\n",
        "del(date_agg)\n",
        "del(date_emb)\n",
        "del(manuf_agg)\n",
        "del(model_agg)\n",
        "del(model_emb)\n",
        "del(os_agg)\n",
        "del(part_of_day)\n",
        "del(region_agg)\n",
        "del(region_emb)\n",
        "del(url_agg)\n",
        "del(url_factor)\n",
        "del(city_agg_0)\n",
        "del(cpe_agg_0)\n",
        "del(day_agg_0)\n",
        "del(manuf_agg_0)\n",
        "del(model_agg_0)\n",
        "del(os_agg_0)\n",
        "del(region_agg_0)\n",
        "del(weekday_agg_0)\n",
        "del(day_name_part_agg_0)\n",
        "gc.collect()"
      ]
    },
    {
      "cell_type": "code",
      "execution_count": null,
      "id": "a285bf02",
      "metadata": {
        "execution": {
          "iopub.execute_input": "2023-03-21T08:49:39.100276Z",
          "iopub.status.busy": "2023-03-21T08:49:39.099844Z",
          "iopub.status.idle": "2023-03-21T08:49:39.128606Z",
          "shell.execute_reply": "2023-03-21T08:49:39.127153Z"
        },
        "papermill": {
          "duration": 0.048365,
          "end_time": "2023-03-21T08:49:39.131253",
          "exception": false,
          "start_time": "2023-03-21T08:49:39.082888",
          "status": "completed"
        },
        "tags": [],
        "id": "a285bf02"
      },
      "outputs": [],
      "source": [
        "importance_feature_age = pd.read_csv('/data/utils/importance_feature_age.csv')\n",
        "importance_feature_sex = pd.read_csv('/data/utils/importance_feature_sex.csv')"
      ]
    },
    {
      "cell_type": "code",
      "execution_count": null,
      "id": "2bede52e",
      "metadata": {
        "execution": {
          "iopub.execute_input": "2023-03-21T08:49:39.163898Z",
          "iopub.status.busy": "2023-03-21T08:49:39.163441Z",
          "iopub.status.idle": "2023-03-21T08:49:41.790598Z",
          "shell.execute_reply": "2023-03-21T08:49:41.789672Z"
        },
        "papermill": {
          "duration": 2.646767,
          "end_time": "2023-03-21T08:49:41.793408",
          "exception": false,
          "start_time": "2023-03-21T08:49:39.146641",
          "status": "completed"
        },
        "tags": [],
        "id": "2bede52e"
      },
      "outputs": [],
      "source": [
        "df_sex_1 = df[importance_feature_sex['feat'].append(pd.Series('user_id'))]"
      ]
    },
    {
      "cell_type": "code",
      "execution_count": null,
      "id": "b096c97f",
      "metadata": {
        "execution": {
          "iopub.execute_input": "2023-03-21T08:49:41.826388Z",
          "iopub.status.busy": "2023-03-21T08:49:41.825702Z",
          "iopub.status.idle": "2023-03-21T08:53:11.658326Z",
          "shell.execute_reply": "2023-03-21T08:53:11.656475Z"
        },
        "papermill": {
          "duration": 209.853475,
          "end_time": "2023-03-21T08:53:11.662280",
          "exception": false,
          "start_time": "2023-03-21T08:49:41.808805",
          "status": "completed"
        },
        "tags": [],
        "id": "b096c97f"
      },
      "outputs": [],
      "source": [
        "df_sex_1.to_csv('/data/df_sex_1.csv', index = False)"
      ]
    },
    {
      "cell_type": "code",
      "execution_count": null,
      "id": "4cba9df2",
      "metadata": {
        "execution": {
          "iopub.execute_input": "2023-03-21T08:53:11.696950Z",
          "iopub.status.busy": "2023-03-21T08:53:11.696498Z",
          "iopub.status.idle": "2023-03-21T08:53:11.861827Z",
          "shell.execute_reply": "2023-03-21T08:53:11.860105Z"
        },
        "papermill": {
          "duration": 0.185559,
          "end_time": "2023-03-21T08:53:11.864812",
          "exception": false,
          "start_time": "2023-03-21T08:53:11.679253",
          "status": "completed"
        },
        "tags": [],
        "id": "4cba9df2",
        "outputId": "b9f64c13-2845-4811-f23b-5f4f8a6c2f4e"
      },
      "outputs": [
        {
          "data": {
            "text/plain": [
              "21"
            ]
          },
          "execution_count": 34,
          "metadata": {},
          "output_type": "execute_result"
        }
      ],
      "source": [
        "del(df_sex_1)\n",
        "gc.collect()"
      ]
    },
    {
      "cell_type": "code",
      "execution_count": null,
      "id": "c51b0a8b",
      "metadata": {
        "execution": {
          "iopub.execute_input": "2023-03-21T08:53:11.899627Z",
          "iopub.status.busy": "2023-03-21T08:53:11.899174Z",
          "iopub.status.idle": "2023-03-21T08:53:12.538930Z",
          "shell.execute_reply": "2023-03-21T08:53:12.537421Z"
        },
        "papermill": {
          "duration": 0.659937,
          "end_time": "2023-03-21T08:53:12.542011",
          "exception": false,
          "start_time": "2023-03-21T08:53:11.882074",
          "status": "completed"
        },
        "tags": [],
        "id": "c51b0a8b"
      },
      "outputs": [],
      "source": [
        "df_age_1 = df[importance_feature_age['feat'].append(pd.Series('user_id'))]"
      ]
    },
    {
      "cell_type": "code",
      "execution_count": null,
      "id": "f768af7d",
      "metadata": {
        "execution": {
          "iopub.execute_input": "2023-03-21T08:53:12.577019Z",
          "iopub.status.busy": "2023-03-21T08:53:12.576538Z",
          "iopub.status.idle": "2023-03-21T08:56:53.405255Z",
          "shell.execute_reply": "2023-03-21T08:56:53.403854Z"
        },
        "papermill": {
          "duration": 220.850122,
          "end_time": "2023-03-21T08:56:53.408813",
          "exception": false,
          "start_time": "2023-03-21T08:53:12.558691",
          "status": "completed"
        },
        "tags": [],
        "id": "f768af7d"
      },
      "outputs": [],
      "source": [
        "df_age_1.to_csv('/data/df_age_1.csv', index = False)"
      ]
    },
    {
      "cell_type": "code",
      "execution_count": null,
      "id": "e67e579a",
      "metadata": {
        "execution": {
          "iopub.execute_input": "2023-03-21T08:56:53.443529Z",
          "iopub.status.busy": "2023-03-21T08:56:53.443044Z",
          "iopub.status.idle": "2023-03-21T08:56:53.606529Z",
          "shell.execute_reply": "2023-03-21T08:56:53.605214Z"
        },
        "papermill": {
          "duration": 0.183982,
          "end_time": "2023-03-21T08:56:53.609304",
          "exception": false,
          "start_time": "2023-03-21T08:56:53.425322",
          "status": "completed"
        },
        "tags": [],
        "id": "e67e579a",
        "outputId": "dbe5e820-f549-44ee-9786-40f96e7b75b3"
      },
      "outputs": [
        {
          "data": {
            "text/plain": [
              "21"
            ]
          },
          "execution_count": 37,
          "metadata": {},
          "output_type": "execute_result"
        }
      ],
      "source": [
        "del(df_age_1)\n",
        "gc.collect()"
      ]
    }
  ],
  "metadata": {
    "kernelspec": {
      "display_name": "Python 3",
      "language": "python",
      "name": "python3"
    },
    "language_info": {
      "codemirror_mode": {
        "name": "ipython",
        "version": 3
      },
      "file_extension": ".py",
      "mimetype": "text/x-python",
      "name": "python",
      "nbconvert_exporter": "python",
      "pygments_lexer": "ipython3",
      "version": "3.7.12"
    },
    "papermill": {
      "default_parameters": {},
      "duration": 1328.690596,
      "end_time": "2023-03-21T08:56:57.843243",
      "environment_variables": {},
      "exception": null,
      "input_path": "__notebook__.ipynb",
      "output_path": "__notebook__.ipynb",
      "parameters": {},
      "start_time": "2023-03-21T08:34:49.152647",
      "version": "2.3.4"
    },
    "colab": {
      "provenance": [],
      "include_colab_link": true
    }
  },
  "nbformat": 4,
  "nbformat_minor": 5
}