{
 "cells": [
  {
   "cell_type": "code",
   "execution_count": 1,
   "id": "35a970f4",
   "metadata": {
    "execution": {
     "iopub.execute_input": "2023-02-19T09:19:30.433894Z",
     "iopub.status.busy": "2023-02-19T09:19:30.432394Z",
     "iopub.status.idle": "2023-02-19T09:19:30.447912Z",
     "shell.execute_reply": "2023-02-19T09:19:30.446976Z"
    },
    "executionInfo": {
     "elapsed": 462,
     "status": "ok",
     "timestamp": 1676453996604,
     "user": {
      "displayName": "Максим Сорокин",
      "userId": "04730489101077022913"
     },
     "user_tz": -300
    },
    "id": "J5W6kuCc8Ns5",
    "papermill": {
     "duration": 0.03806,
     "end_time": "2023-02-19T09:19:30.450711",
     "exception": false,
     "start_time": "2023-02-19T09:19:30.412651",
     "status": "completed"
    },
    "tags": []
   },
   "outputs": [],
   "source": [
    "import sys\n",
    "import os\n",
    "import warnings\n",
    "os.environ['OPENBLAS_NUM_THREADS'] = '1'\n",
    "warnings.filterwarnings('ignore')"
   ]
  },
  {
   "cell_type": "code",
   "execution_count": 2,
   "id": "c1bde952",
   "metadata": {
    "execution": {
     "iopub.execute_input": "2023-02-19T09:19:30.478655Z",
     "iopub.status.busy": "2023-02-19T09:19:30.477684Z",
     "iopub.status.idle": "2023-02-19T09:19:56.402565Z",
     "shell.execute_reply": "2023-02-19T09:19:56.401009Z"
    },
    "executionInfo": {
     "elapsed": 17130,
     "status": "ok",
     "timestamp": 1676454014218,
     "user": {
      "displayName": "Максим Сорокин",
      "userId": "04730489101077022913"
     },
     "user_tz": -300
    },
    "id": "1JUPubJe8Ns_",
    "outputId": "46f0ff89-164a-4fee-999c-b09b3327534b",
    "papermill": {
     "duration": 25.941878,
     "end_time": "2023-02-19T09:19:56.405509",
     "exception": false,
     "start_time": "2023-02-19T09:19:30.463631",
     "status": "completed"
    },
    "tags": []
   },
   "outputs": [
    {
     "name": "stdout",
     "output_type": "stream",
     "text": [
      "Requirement already satisfied: implicit in /opt/conda/lib/python3.7/site-packages (0.4.4)\r\n",
      "Requirement already satisfied: scipy>=0.16 in /opt/conda/lib/python3.7/site-packages (from implicit) (1.7.3)\r\n",
      "Requirement already satisfied: tqdm>=4.27 in /opt/conda/lib/python3.7/site-packages (from implicit) (4.64.0)\r\n",
      "Requirement already satisfied: numpy in /opt/conda/lib/python3.7/site-packages (from implicit) (1.21.6)\r\n",
      "\u001b[33mWARNING: Running pip as the 'root' user can result in broken permissions and conflicting behaviour with the system package manager. It is recommended to use a virtual environment instead: https://pip.pypa.io/warnings/venv\u001b[0m\u001b[33m\r\n",
      "\u001b[0mRequirement already satisfied: catboost in /opt/conda/lib/python3.7/site-packages (1.1.1)\r\n",
      "Requirement already satisfied: numpy>=1.16.0 in /opt/conda/lib/python3.7/site-packages (from catboost) (1.21.6)\r\n",
      "Requirement already satisfied: matplotlib in /opt/conda/lib/python3.7/site-packages (from catboost) (3.5.2)\r\n",
      "Requirement already satisfied: six in /opt/conda/lib/python3.7/site-packages (from catboost) (1.15.0)\r\n",
      "Requirement already satisfied: pandas>=0.24.0 in /opt/conda/lib/python3.7/site-packages (from catboost) (1.3.5)\r\n",
      "Requirement already satisfied: scipy in /opt/conda/lib/python3.7/site-packages (from catboost) (1.7.3)\r\n",
      "Requirement already satisfied: plotly in /opt/conda/lib/python3.7/site-packages (from catboost) (5.13.0)\r\n",
      "Requirement already satisfied: graphviz in /opt/conda/lib/python3.7/site-packages (from catboost) (0.8.4)\r\n",
      "Requirement already satisfied: python-dateutil>=2.7.3 in /opt/conda/lib/python3.7/site-packages (from pandas>=0.24.0->catboost) (2.8.2)\r\n",
      "Requirement already satisfied: pytz>=2017.3 in /opt/conda/lib/python3.7/site-packages (from pandas>=0.24.0->catboost) (2022.1)\r\n",
      "Requirement already satisfied: pyparsing>=2.2.1 in /opt/conda/lib/python3.7/site-packages (from matplotlib->catboost) (3.0.9)\r\n",
      "Requirement already satisfied: kiwisolver>=1.0.1 in /opt/conda/lib/python3.7/site-packages (from matplotlib->catboost) (1.4.3)\r\n",
      "Requirement already satisfied: pillow>=6.2.0 in /opt/conda/lib/python3.7/site-packages (from matplotlib->catboost) (9.1.1)\r\n",
      "Requirement already satisfied: packaging>=20.0 in /opt/conda/lib/python3.7/site-packages (from matplotlib->catboost) (23.0)\r\n",
      "Requirement already satisfied: cycler>=0.10 in /opt/conda/lib/python3.7/site-packages (from matplotlib->catboost) (0.11.0)\r\n",
      "Requirement already satisfied: fonttools>=4.22.0 in /opt/conda/lib/python3.7/site-packages (from matplotlib->catboost) (4.33.3)\r\n",
      "Requirement already satisfied: tenacity>=6.2.0 in /opt/conda/lib/python3.7/site-packages (from plotly->catboost) (8.0.1)\r\n",
      "Requirement already satisfied: typing-extensions in /opt/conda/lib/python3.7/site-packages (from kiwisolver>=1.0.1->matplotlib->catboost) (4.1.1)\r\n",
      "\u001b[33mWARNING: Running pip as the 'root' user can result in broken permissions and conflicting behaviour with the system package manager. It is recommended to use a virtual environment instead: https://pip.pypa.io/warnings/venv\u001b[0m\u001b[33m\r\n",
      "\u001b[0m"
     ]
    }
   ],
   "source": [
    "import pandas as pd\n",
    "import numpy as np\n",
    "import time\n",
    "import pyarrow as pa\n",
    "import pyarrow.parquet as pq\n",
    "import scipy\n",
    "!pip install implicit\n",
    "import implicit\n",
    "import bisect\n",
    "import sklearn.metrics as m\n",
    "!pip install catboost\n",
    "from catboost import CatBoostClassifier, CatBoostRegressor, Pool\n",
    "from sklearn.calibration import calibration_curve, CalibratedClassifierCV"
   ]
  },
  {
   "cell_type": "code",
   "execution_count": 3,
   "id": "05fda321",
   "metadata": {
    "execution": {
     "iopub.execute_input": "2023-02-19T09:19:56.435574Z",
     "iopub.status.busy": "2023-02-19T09:19:56.435123Z",
     "iopub.status.idle": "2023-02-19T09:19:57.665398Z",
     "shell.execute_reply": "2023-02-19T09:19:57.664078Z"
    },
    "executionInfo": {
     "elapsed": 34,
     "status": "ok",
     "timestamp": 1676454014220,
     "user": {
      "displayName": "Максим Сорокин",
      "userId": "04730489101077022913"
     },
     "user_tz": -300
    },
    "id": "KoKZGFXP8NtB",
    "papermill": {
     "duration": 1.247525,
     "end_time": "2023-02-19T09:19:57.668090",
     "exception": false,
     "start_time": "2023-02-19T09:19:56.420565",
     "status": "completed"
    },
    "tags": []
   },
   "outputs": [],
   "source": [
    "import seaborn as sns\n",
    "import matplotlib.pyplot as plt\n",
    "import plotly.express as px\n",
    "\n",
    "%matplotlib inline\n",
    "sns.set_style('darkgrid')"
   ]
  },
  {
   "cell_type": "code",
   "execution_count": 4,
   "id": "ae576ffa",
   "metadata": {
    "execution": {
     "iopub.execute_input": "2023-02-19T09:19:57.696746Z",
     "iopub.status.busy": "2023-02-19T09:19:57.695380Z",
     "iopub.status.idle": "2023-02-19T09:20:21.727406Z",
     "shell.execute_reply": "2023-02-19T09:20:21.725703Z"
    },
    "executionInfo": {
     "elapsed": 7905,
     "status": "ok",
     "timestamp": 1676454022093,
     "user": {
      "displayName": "Максим Сорокин",
      "userId": "04730489101077022913"
     },
     "user_tz": -300
    },
    "id": "Fonyy-pz8NtC",
    "outputId": "1160db33-ed23-435b-f3a9-0acbdf9b795a",
    "papermill": {
     "duration": 24.049556,
     "end_time": "2023-02-19T09:20:21.730558",
     "exception": false,
     "start_time": "2023-02-19T09:19:57.681002",
     "status": "completed"
    },
    "tags": []
   },
   "outputs": [
    {
     "name": "stdout",
     "output_type": "stream",
     "text": [
      "\u001b[33mWARNING: Running pip as the 'root' user can result in broken permissions and conflicting behaviour with the system package manager. It is recommended to use a virtual environment instead: https://pip.pypa.io/warnings/venv\u001b[0m\u001b[33m\r\n",
      "\u001b[0mCollecting faiss-cpu\r\n",
      "  Downloading faiss_cpu-1.7.3-cp37-cp37m-manylinux_2_17_x86_64.manylinux2014_x86_64.whl (17.0 MB)\r\n",
      "\u001b[2K     \u001b[90m━━━━━━━━━━━━━━━━━━━━━━━━━━━━━━━━━━━━━━━\u001b[0m \u001b[32m17.0/17.0 MB\u001b[0m \u001b[31m173.9 MB/s\u001b[0m eta \u001b[36m0:00:00\u001b[0m\r\n",
      "\u001b[?25hInstalling collected packages: faiss-cpu\r\n",
      "Successfully installed faiss-cpu-1.7.3\r\n",
      "\u001b[33mWARNING: Running pip as the 'root' user can result in broken permissions and conflicting behaviour with the system package manager. It is recommended to use a virtual environment instead: https://pip.pypa.io/warnings/venv\u001b[0m\u001b[33m\r\n",
      "\u001b[0m"
     ]
    }
   ],
   "source": [
    "!pip install feather-format >> none\n",
    "!pip install faiss-cpu --no-cache"
   ]
  },
  {
   "cell_type": "code",
   "execution_count": 5,
   "id": "903474eb",
   "metadata": {
    "execution": {
     "iopub.execute_input": "2023-02-19T09:20:21.760280Z",
     "iopub.status.busy": "2023-02-19T09:20:21.759853Z",
     "iopub.status.idle": "2023-02-19T09:20:21.765616Z",
     "shell.execute_reply": "2023-02-19T09:20:21.764280Z"
    },
    "executionInfo": {
     "elapsed": 34,
     "status": "ok",
     "timestamp": 1676454022095,
     "user": {
      "displayName": "Максим Сорокин",
      "userId": "04730489101077022913"
     },
     "user_tz": -300
    },
    "id": "GAC57kwm8NtD",
    "papermill": {
     "duration": 0.023681,
     "end_time": "2023-02-19T09:20:21.768024",
     "exception": false,
     "start_time": "2023-02-19T09:20:21.744343",
     "status": "completed"
    },
    "tags": []
   },
   "outputs": [],
   "source": [
    "def age_bucket(x):\n",
    "    return bisect.bisect_left([18,25,35,45,55,65], x)"
   ]
  },
  {
   "cell_type": "code",
   "execution_count": 6,
   "id": "5298cfb5",
   "metadata": {
    "execution": {
     "iopub.execute_input": "2023-02-19T09:20:21.797524Z",
     "iopub.status.busy": "2023-02-19T09:20:21.797065Z",
     "iopub.status.idle": "2023-02-19T09:20:22.012063Z",
     "shell.execute_reply": "2023-02-19T09:20:22.010811Z"
    },
    "executionInfo": {
     "elapsed": 1707,
     "status": "ok",
     "timestamp": 1676454058276,
     "user": {
      "displayName": "Максим Сорокин",
      "userId": "04730489101077022913"
     },
     "user_tz": -300
    },
    "id": "htoMV70o8NtE",
    "papermill": {
     "duration": 0.233119,
     "end_time": "2023-02-19T09:20:22.014727",
     "exception": false,
     "start_time": "2023-02-19T09:20:21.781608",
     "status": "completed"
    },
    "tags": []
   },
   "outputs": [
    {
     "data": {
      "text/plain": [
       "age        int16\n",
       "is_male     int8\n",
       "user_id    int64\n",
       "dtype: object"
      ]
     },
     "execution_count": 6,
     "metadata": {},
     "output_type": "execute_result"
    }
   ],
   "source": [
    "targets = pd.read_feather('/data/target_train.feather')\n",
    "targets = targets.dropna()\n",
    "targets['is_male'] = targets['is_male'].astype(np.int8)\n",
    "targets['age'] = targets['age'].astype(np.int16)\n",
    "targets.dtypes"
   ]
  },
  {
   "cell_type": "code",
   "execution_count": 7,
   "id": "feeeaf31",
   "metadata": {
    "execution": {
     "iopub.execute_input": "2023-02-19T09:20:22.043679Z",
     "iopub.status.busy": "2023-02-19T09:20:22.043221Z",
     "iopub.status.idle": "2023-02-19T09:21:07.253198Z",
     "shell.execute_reply": "2023-02-19T09:21:07.252018Z"
    },
    "executionInfo": {
     "elapsed": 31469,
     "status": "ok",
     "timestamp": 1676454089740,
     "user": {
      "displayName": "Максим Сорокин",
      "userId": "04730489101077022913"
     },
     "user_tz": -300
    },
    "id": "xp5Q51Eb8NtG",
    "papermill": {
     "duration": 45.227946,
     "end_time": "2023-02-19T09:21:07.256205",
     "exception": false,
     "start_time": "2023-02-19T09:20:22.028259",
     "status": "completed"
    },
    "tags": []
   },
   "outputs": [],
   "source": [
    "data = pd.read_feather('/data/dataset_full.feather')"
   ]
  },
  {
   "cell_type": "code",
   "execution_count": 8,
   "id": "0ebe69d1",
   "metadata": {
    "execution": {
     "iopub.execute_input": "2023-02-19T09:21:07.297263Z",
     "iopub.status.busy": "2023-02-19T09:21:07.296803Z",
     "iopub.status.idle": "2023-02-19T09:21:37.358523Z",
     "shell.execute_reply": "2023-02-19T09:21:37.356799Z"
    },
    "papermill": {
     "duration": 30.102489,
     "end_time": "2023-02-19T09:21:37.372869",
     "exception": false,
     "start_time": "2023-02-19T09:21:07.270380",
     "status": "completed"
    },
    "tags": []
   },
   "outputs": [
    {
     "data": {
      "text/html": [
       "<div>\n",
       "<style scoped>\n",
       "    .dataframe tbody tr th:only-of-type {\n",
       "        vertical-align: middle;\n",
       "    }\n",
       "\n",
       "    .dataframe tbody tr th {\n",
       "        vertical-align: top;\n",
       "    }\n",
       "\n",
       "    .dataframe thead th {\n",
       "        text-align: right;\n",
       "    }\n",
       "</style>\n",
       "<table border=\"1\" class=\"dataframe\">\n",
       "  <thead>\n",
       "    <tr style=\"text-align: right;\">\n",
       "      <th></th>\n",
       "      <th>user_id</th>\n",
       "      <th>cpe_manufacturer_name</th>\n",
       "      <th>cpe_model_name</th>\n",
       "    </tr>\n",
       "  </thead>\n",
       "  <tbody>\n",
       "    <tr>\n",
       "      <th>0</th>\n",
       "      <td>45098</td>\n",
       "      <td>Apple</td>\n",
       "      <td>iPhone 7</td>\n",
       "    </tr>\n",
       "    <tr>\n",
       "      <th>1550</th>\n",
       "      <td>117132</td>\n",
       "      <td>Xiaomi</td>\n",
       "      <td>Redmi 5 Plus</td>\n",
       "    </tr>\n",
       "    <tr>\n",
       "      <th>2272</th>\n",
       "      <td>79395</td>\n",
       "      <td>Samsung</td>\n",
       "      <td>Galaxy S20+</td>\n",
       "    </tr>\n",
       "    <tr>\n",
       "      <th>3907</th>\n",
       "      <td>91294</td>\n",
       "      <td>Xiaomi</td>\n",
       "      <td>Poco X3 Pro</td>\n",
       "    </tr>\n",
       "    <tr>\n",
       "      <th>5477</th>\n",
       "      <td>161323</td>\n",
       "      <td>Xiaomi</td>\n",
       "      <td>Redmi Note 8 Pro</td>\n",
       "    </tr>\n",
       "    <tr>\n",
       "      <th>...</th>\n",
       "      <td>...</td>\n",
       "      <td>...</td>\n",
       "      <td>...</td>\n",
       "    </tr>\n",
       "    <tr>\n",
       "      <th>322896216</th>\n",
       "      <td>375972</td>\n",
       "      <td>Apple</td>\n",
       "      <td>iPhone X</td>\n",
       "    </tr>\n",
       "    <tr>\n",
       "      <th>322896906</th>\n",
       "      <td>160996</td>\n",
       "      <td>Apple</td>\n",
       "      <td>iPhone 7</td>\n",
       "    </tr>\n",
       "    <tr>\n",
       "      <th>322897366</th>\n",
       "      <td>5505</td>\n",
       "      <td>Huawei</td>\n",
       "      <td>P Smart Z</td>\n",
       "    </tr>\n",
       "    <tr>\n",
       "      <th>322897462</th>\n",
       "      <td>260127</td>\n",
       "      <td>Apple</td>\n",
       "      <td>iPhone SE 2020</td>\n",
       "    </tr>\n",
       "    <tr>\n",
       "      <th>322898322</th>\n",
       "      <td>300964</td>\n",
       "      <td>Samsung</td>\n",
       "      <td>Galaxy A30s Dual</td>\n",
       "    </tr>\n",
       "  </tbody>\n",
       "</table>\n",
       "<p>415317 rows × 3 columns</p>\n",
       "</div>"
      ],
      "text/plain": [
       "           user_id cpe_manufacturer_name    cpe_model_name\n",
       "0            45098                 Apple          iPhone 7\n",
       "1550        117132                Xiaomi      Redmi 5 Plus\n",
       "2272         79395               Samsung       Galaxy S20+\n",
       "3907         91294                Xiaomi       Poco X3 Pro\n",
       "5477        161323                Xiaomi  Redmi Note 8 Pro\n",
       "...            ...                   ...               ...\n",
       "322896216   375972                 Apple          iPhone X\n",
       "322896906   160996                 Apple          iPhone 7\n",
       "322897366     5505                Huawei         P Smart Z\n",
       "322897462   260127                 Apple    iPhone SE 2020\n",
       "322898322   300964               Samsung  Galaxy A30s Dual\n",
       "\n",
       "[415317 rows x 3 columns]"
      ]
     },
     "execution_count": 8,
     "metadata": {},
     "output_type": "execute_result"
    }
   ],
   "source": [
    "data = data[['user_id', 'cpe_manufacturer_name', 'cpe_model_name']].drop_duplicates()\n",
    "data"
   ]
  },
  {
   "cell_type": "code",
   "execution_count": 9,
   "id": "30754b22",
   "metadata": {
    "execution": {
     "iopub.execute_input": "2023-02-19T09:21:37.404669Z",
     "iopub.status.busy": "2023-02-19T09:21:37.404177Z",
     "iopub.status.idle": "2023-02-19T09:21:38.761825Z",
     "shell.execute_reply": "2023-02-19T09:21:38.760534Z"
    },
    "papermill": {
     "duration": 1.377299,
     "end_time": "2023-02-19T09:21:38.764665",
     "exception": false,
     "start_time": "2023-02-19T09:21:37.387366",
     "status": "completed"
    },
    "tags": []
   },
   "outputs": [
    {
     "data": {
      "text/html": [
       "<div>\n",
       "<style scoped>\n",
       "    .dataframe tbody tr th:only-of-type {\n",
       "        vertical-align: middle;\n",
       "    }\n",
       "\n",
       "    .dataframe tbody tr th {\n",
       "        vertical-align: top;\n",
       "    }\n",
       "\n",
       "    .dataframe thead th {\n",
       "        text-align: right;\n",
       "    }\n",
       "</style>\n",
       "<table border=\"1\" class=\"dataframe\">\n",
       "  <thead>\n",
       "    <tr style=\"text-align: right;\">\n",
       "      <th></th>\n",
       "      <th>user_id</th>\n",
       "      <th>cpe_model_name</th>\n",
       "    </tr>\n",
       "  </thead>\n",
       "  <tbody>\n",
       "    <tr>\n",
       "      <th>0</th>\n",
       "      <td>45098</td>\n",
       "      <td>Apple iPhone 7</td>\n",
       "    </tr>\n",
       "    <tr>\n",
       "      <th>1550</th>\n",
       "      <td>117132</td>\n",
       "      <td>Xiaomi Redmi 5 Plus</td>\n",
       "    </tr>\n",
       "    <tr>\n",
       "      <th>2272</th>\n",
       "      <td>79395</td>\n",
       "      <td>Samsung Galaxy S20+</td>\n",
       "    </tr>\n",
       "    <tr>\n",
       "      <th>3907</th>\n",
       "      <td>91294</td>\n",
       "      <td>Xiaomi Poco X3 Pro</td>\n",
       "    </tr>\n",
       "    <tr>\n",
       "      <th>5477</th>\n",
       "      <td>161323</td>\n",
       "      <td>Xiaomi Redmi Note 8 Pro</td>\n",
       "    </tr>\n",
       "    <tr>\n",
       "      <th>...</th>\n",
       "      <td>...</td>\n",
       "      <td>...</td>\n",
       "    </tr>\n",
       "    <tr>\n",
       "      <th>322896216</th>\n",
       "      <td>375972</td>\n",
       "      <td>Apple iPhone X</td>\n",
       "    </tr>\n",
       "    <tr>\n",
       "      <th>322896906</th>\n",
       "      <td>160996</td>\n",
       "      <td>Apple iPhone 7</td>\n",
       "    </tr>\n",
       "    <tr>\n",
       "      <th>322897366</th>\n",
       "      <td>5505</td>\n",
       "      <td>Huawei P Smart Z</td>\n",
       "    </tr>\n",
       "    <tr>\n",
       "      <th>322897462</th>\n",
       "      <td>260127</td>\n",
       "      <td>Apple iPhone SE 2020</td>\n",
       "    </tr>\n",
       "    <tr>\n",
       "      <th>322898322</th>\n",
       "      <td>300964</td>\n",
       "      <td>Samsung Galaxy A30s Dual</td>\n",
       "    </tr>\n",
       "  </tbody>\n",
       "</table>\n",
       "<p>415317 rows × 2 columns</p>\n",
       "</div>"
      ],
      "text/plain": [
       "           user_id            cpe_model_name\n",
       "0            45098            Apple iPhone 7\n",
       "1550        117132       Xiaomi Redmi 5 Plus\n",
       "2272         79395       Samsung Galaxy S20+\n",
       "3907         91294        Xiaomi Poco X3 Pro\n",
       "5477        161323   Xiaomi Redmi Note 8 Pro\n",
       "...            ...                       ...\n",
       "322896216   375972            Apple iPhone X\n",
       "322896906   160996            Apple iPhone 7\n",
       "322897366     5505          Huawei P Smart Z\n",
       "322897462   260127      Apple iPhone SE 2020\n",
       "322898322   300964  Samsung Galaxy A30s Dual\n",
       "\n",
       "[415317 rows x 2 columns]"
      ]
     },
     "execution_count": 9,
     "metadata": {},
     "output_type": "execute_result"
    }
   ],
   "source": [
    "data['cpe_model_name'] = data['cpe_manufacturer_name'].astype('string') + ' ' + data['cpe_model_name'].astype('string')\n",
    "data = data.drop('cpe_manufacturer_name', axis=1)\n",
    "data = data.drop_duplicates()\n",
    "data"
   ]
  },
  {
   "cell_type": "code",
   "execution_count": 10,
   "id": "2d38cd17",
   "metadata": {
    "execution": {
     "iopub.execute_input": "2023-02-19T09:21:38.824031Z",
     "iopub.status.busy": "2023-02-19T09:21:38.823101Z",
     "iopub.status.idle": "2023-02-19T09:21:39.069878Z",
     "shell.execute_reply": "2023-02-19T09:21:39.068233Z"
    },
    "executionInfo": {
     "elapsed": 2946,
     "status": "ok",
     "timestamp": 1676454092643,
     "user": {
      "displayName": "Максим Сорокин",
      "userId": "04730489101077022913"
     },
     "user_tz": -300
    },
    "id": "cXkJYhTf8NtK",
    "outputId": "df18fba9-e642-4833-f4bc-ef38652f93b8",
    "papermill": {
     "duration": 0.265743,
     "end_time": "2023-02-19T09:21:39.072847",
     "exception": false,
     "start_time": "2023-02-19T09:21:38.807104",
     "status": "completed"
    },
    "tags": []
   },
   "outputs": [
    {
     "data": {
      "text/html": [
       "<div>\n",
       "<style scoped>\n",
       "    .dataframe tbody tr th:only-of-type {\n",
       "        vertical-align: middle;\n",
       "    }\n",
       "\n",
       "    .dataframe tbody tr th {\n",
       "        vertical-align: top;\n",
       "    }\n",
       "\n",
       "    .dataframe thead th {\n",
       "        text-align: right;\n",
       "    }\n",
       "</style>\n",
       "<table border=\"1\" class=\"dataframe\">\n",
       "  <thead>\n",
       "    <tr style=\"text-align: right;\">\n",
       "      <th></th>\n",
       "      <th>user_id</th>\n",
       "      <th>cpe_model_name</th>\n",
       "      <th>age</th>\n",
       "      <th>is_male</th>\n",
       "    </tr>\n",
       "  </thead>\n",
       "  <tbody>\n",
       "    <tr>\n",
       "      <th>0</th>\n",
       "      <td>79395</td>\n",
       "      <td>Samsung Galaxy S20+</td>\n",
       "      <td>35</td>\n",
       "      <td>1</td>\n",
       "    </tr>\n",
       "    <tr>\n",
       "      <th>1</th>\n",
       "      <td>91294</td>\n",
       "      <td>Xiaomi Poco X3 Pro</td>\n",
       "      <td>35</td>\n",
       "      <td>1</td>\n",
       "    </tr>\n",
       "    <tr>\n",
       "      <th>2</th>\n",
       "      <td>161323</td>\n",
       "      <td>Xiaomi Redmi Note 8 Pro</td>\n",
       "      <td>39</td>\n",
       "      <td>0</td>\n",
       "    </tr>\n",
       "    <tr>\n",
       "      <th>3</th>\n",
       "      <td>304574</td>\n",
       "      <td>Huawei Honor 10</td>\n",
       "      <td>28</td>\n",
       "      <td>1</td>\n",
       "    </tr>\n",
       "    <tr>\n",
       "      <th>4</th>\n",
       "      <td>16874</td>\n",
       "      <td>Samsung Galaxy A40 Dual</td>\n",
       "      <td>32</td>\n",
       "      <td>0</td>\n",
       "    </tr>\n",
       "    <tr>\n",
       "      <th>...</th>\n",
       "      <td>...</td>\n",
       "      <td>...</td>\n",
       "      <td>...</td>\n",
       "      <td>...</td>\n",
       "    </tr>\n",
       "    <tr>\n",
       "      <th>264291</th>\n",
       "      <td>403319</td>\n",
       "      <td>Apple iPhone 12</td>\n",
       "      <td>28</td>\n",
       "      <td>0</td>\n",
       "    </tr>\n",
       "    <tr>\n",
       "      <th>264292</th>\n",
       "      <td>74976</td>\n",
       "      <td>Huawei Honor 10</td>\n",
       "      <td>39</td>\n",
       "      <td>1</td>\n",
       "    </tr>\n",
       "    <tr>\n",
       "      <th>264293</th>\n",
       "      <td>375972</td>\n",
       "      <td>Apple iPhone X</td>\n",
       "      <td>48</td>\n",
       "      <td>0</td>\n",
       "    </tr>\n",
       "    <tr>\n",
       "      <th>264294</th>\n",
       "      <td>5505</td>\n",
       "      <td>Huawei P Smart Z</td>\n",
       "      <td>26</td>\n",
       "      <td>1</td>\n",
       "    </tr>\n",
       "    <tr>\n",
       "      <th>264295</th>\n",
       "      <td>300964</td>\n",
       "      <td>Samsung Galaxy A30s Dual</td>\n",
       "      <td>57</td>\n",
       "      <td>0</td>\n",
       "    </tr>\n",
       "  </tbody>\n",
       "</table>\n",
       "<p>264296 rows × 4 columns</p>\n",
       "</div>"
      ],
      "text/plain": [
       "        user_id            cpe_model_name  age  is_male\n",
       "0         79395       Samsung Galaxy S20+   35        1\n",
       "1         91294        Xiaomi Poco X3 Pro   35        1\n",
       "2        161323   Xiaomi Redmi Note 8 Pro   39        0\n",
       "3        304574           Huawei Honor 10   28        1\n",
       "4         16874   Samsung Galaxy A40 Dual   32        0\n",
       "...         ...                       ...  ...      ...\n",
       "264291   403319           Apple iPhone 12   28        0\n",
       "264292    74976           Huawei Honor 10   39        1\n",
       "264293   375972            Apple iPhone X   48        0\n",
       "264294     5505          Huawei P Smart Z   26        1\n",
       "264295   300964  Samsung Galaxy A30s Dual   57        0\n",
       "\n",
       "[264296 rows x 4 columns]"
      ]
     },
     "execution_count": 10,
     "metadata": {},
     "output_type": "execute_result"
    }
   ],
   "source": [
    "data_mearge = data.merge(targets, how = 'inner', on = ['user_id'])\n",
    "data_mearge"
   ]
  },
  {
   "cell_type": "code",
   "execution_count": 11,
   "id": "4932278d",
   "metadata": {
    "execution": {
     "iopub.execute_input": "2023-02-19T09:21:39.105787Z",
     "iopub.status.busy": "2023-02-19T09:21:39.105301Z",
     "iopub.status.idle": "2023-02-19T09:21:39.171317Z",
     "shell.execute_reply": "2023-02-19T09:21:39.170136Z"
    },
    "papermill": {
     "duration": 0.086494,
     "end_time": "2023-02-19T09:21:39.174314",
     "exception": false,
     "start_time": "2023-02-19T09:21:39.087820",
     "status": "completed"
    },
    "tags": []
   },
   "outputs": [],
   "source": [
    "data_mearge = pa.Table.from_pandas(data_mearge)"
   ]
  },
  {
   "cell_type": "code",
   "execution_count": 12,
   "id": "f4fa1145",
   "metadata": {
    "execution": {
     "iopub.execute_input": "2023-02-19T09:21:39.208198Z",
     "iopub.status.busy": "2023-02-19T09:21:39.206511Z",
     "iopub.status.idle": "2023-02-19T09:21:39.285295Z",
     "shell.execute_reply": "2023-02-19T09:21:39.283626Z"
    },
    "papermill": {
     "duration": 0.099062,
     "end_time": "2023-02-19T09:21:39.288398",
     "exception": false,
     "start_time": "2023-02-19T09:21:39.189336",
     "status": "completed"
    },
    "tags": []
   },
   "outputs": [
    {
     "name": "stdout",
     "output_type": "stream",
     "text": [
      "CPU times: user 27.8 ms, sys: 5.72 ms, total: 33.5 ms\n",
      "Wall time: 68.7 ms\n"
     ]
    }
   ],
   "source": [
    "%%time\n",
    "data_agg = data_mearge.select(['cpe_model_name', 'age', 'is_male']).\\\n",
    "    group_by(['cpe_model_name']).aggregate([('age', 'mean'), ('is_male', 'mean')])"
   ]
  },
  {
   "cell_type": "code",
   "execution_count": 13,
   "id": "0c91917e",
   "metadata": {
    "execution": {
     "iopub.execute_input": "2023-02-19T09:21:39.319864Z",
     "iopub.status.busy": "2023-02-19T09:21:39.319436Z",
     "iopub.status.idle": "2023-02-19T09:21:39.326900Z",
     "shell.execute_reply": "2023-02-19T09:21:39.325911Z"
    },
    "papermill": {
     "duration": 0.025823,
     "end_time": "2023-02-19T09:21:39.329133",
     "exception": false,
     "start_time": "2023-02-19T09:21:39.303310",
     "status": "completed"
    },
    "tags": []
   },
   "outputs": [
    {
     "data": {
      "text/plain": [
       "pyarrow.Table\n",
       "age_mean: double\n",
       "is_male_mean: double\n",
       "cpe_model_name: string\n",
       "----\n",
       "age_mean: [[37.13590844062947,36.387291981845685,37.84362505553087,37.21165354330709,42.525154457193295,...,33,44,45.5,38,42]]\n",
       "is_male_mean: [[0.6065808297567954,0.7201210287443268,0.5870724122612172,0.5650393700787402,0.501323918799647,...,1,0.5,0,1,0.4]]\n",
       "cpe_model_name: [[\"Samsung Galaxy S20+\",\"Xiaomi Poco X3 Pro\",\"Xiaomi Redmi Note 8 Pro\",\"Huawei Honor 10\",\"Samsung Galaxy A40 Dual\",...,\"Nokia 3.1 Plus\",\"Meizu 16\",\"Sony Xperia XA\",\"Xiaomi Redmi Note 5A Lite\",\"Highscreen Power Five Max\"]]"
      ]
     },
     "execution_count": 13,
     "metadata": {},
     "output_type": "execute_result"
    }
   ],
   "source": [
    "data_agg"
   ]
  },
  {
   "cell_type": "code",
   "execution_count": 14,
   "id": "1c5a7cfd",
   "metadata": {
    "execution": {
     "iopub.execute_input": "2023-02-19T09:21:39.361261Z",
     "iopub.status.busy": "2023-02-19T09:21:39.360567Z",
     "iopub.status.idle": "2023-02-19T09:21:39.582960Z",
     "shell.execute_reply": "2023-02-19T09:21:39.581600Z"
    },
    "papermill": {
     "duration": 0.241587,
     "end_time": "2023-02-19T09:21:39.585823",
     "exception": false,
     "start_time": "2023-02-19T09:21:39.344236",
     "status": "completed"
    },
    "tags": []
   },
   "outputs": [
    {
     "data": {
      "text/html": [
       "<div>\n",
       "<style scoped>\n",
       "    .dataframe tbody tr th:only-of-type {\n",
       "        vertical-align: middle;\n",
       "    }\n",
       "\n",
       "    .dataframe tbody tr th {\n",
       "        vertical-align: top;\n",
       "    }\n",
       "\n",
       "    .dataframe thead th {\n",
       "        text-align: right;\n",
       "    }\n",
       "</style>\n",
       "<table border=\"1\" class=\"dataframe\">\n",
       "  <thead>\n",
       "    <tr style=\"text-align: right;\">\n",
       "      <th></th>\n",
       "      <th>user_id</th>\n",
       "      <th>cpe_model_name</th>\n",
       "      <th>age_mean</th>\n",
       "      <th>is_male_mean</th>\n",
       "    </tr>\n",
       "  </thead>\n",
       "  <tbody>\n",
       "    <tr>\n",
       "      <th>0</th>\n",
       "      <td>45098</td>\n",
       "      <td>Apple iPhone 7</td>\n",
       "      <td>36.055685</td>\n",
       "      <td>0.529805</td>\n",
       "    </tr>\n",
       "    <tr>\n",
       "      <th>1</th>\n",
       "      <td>117132</td>\n",
       "      <td>Xiaomi Redmi 5 Plus</td>\n",
       "      <td>43.219931</td>\n",
       "      <td>0.553265</td>\n",
       "    </tr>\n",
       "    <tr>\n",
       "      <th>2</th>\n",
       "      <td>79395</td>\n",
       "      <td>Samsung Galaxy S20+</td>\n",
       "      <td>37.135908</td>\n",
       "      <td>0.606581</td>\n",
       "    </tr>\n",
       "    <tr>\n",
       "      <th>3</th>\n",
       "      <td>91294</td>\n",
       "      <td>Xiaomi Poco X3 Pro</td>\n",
       "      <td>36.387292</td>\n",
       "      <td>0.720121</td>\n",
       "    </tr>\n",
       "    <tr>\n",
       "      <th>4</th>\n",
       "      <td>161323</td>\n",
       "      <td>Xiaomi Redmi Note 8 Pro</td>\n",
       "      <td>37.843625</td>\n",
       "      <td>0.587072</td>\n",
       "    </tr>\n",
       "    <tr>\n",
       "      <th>...</th>\n",
       "      <td>...</td>\n",
       "      <td>...</td>\n",
       "      <td>...</td>\n",
       "      <td>...</td>\n",
       "    </tr>\n",
       "    <tr>\n",
       "      <th>415312</th>\n",
       "      <td>375972</td>\n",
       "      <td>Apple iPhone X</td>\n",
       "      <td>34.749203</td>\n",
       "      <td>0.550114</td>\n",
       "    </tr>\n",
       "    <tr>\n",
       "      <th>415313</th>\n",
       "      <td>160996</td>\n",
       "      <td>Apple iPhone 7</td>\n",
       "      <td>36.055685</td>\n",
       "      <td>0.529805</td>\n",
       "    </tr>\n",
       "    <tr>\n",
       "      <th>415314</th>\n",
       "      <td>5505</td>\n",
       "      <td>Huawei P Smart Z</td>\n",
       "      <td>38.490972</td>\n",
       "      <td>0.544150</td>\n",
       "    </tr>\n",
       "    <tr>\n",
       "      <th>415315</th>\n",
       "      <td>260127</td>\n",
       "      <td>Apple iPhone SE 2020</td>\n",
       "      <td>35.982153</td>\n",
       "      <td>0.590590</td>\n",
       "    </tr>\n",
       "    <tr>\n",
       "      <th>415316</th>\n",
       "      <td>300964</td>\n",
       "      <td>Samsung Galaxy A30s Dual</td>\n",
       "      <td>41.978501</td>\n",
       "      <td>0.426130</td>\n",
       "    </tr>\n",
       "  </tbody>\n",
       "</table>\n",
       "<p>415317 rows × 4 columns</p>\n",
       "</div>"
      ],
      "text/plain": [
       "        user_id            cpe_model_name   age_mean  is_male_mean\n",
       "0         45098            Apple iPhone 7  36.055685      0.529805\n",
       "1        117132       Xiaomi Redmi 5 Plus  43.219931      0.553265\n",
       "2         79395       Samsung Galaxy S20+  37.135908      0.606581\n",
       "3         91294        Xiaomi Poco X3 Pro  36.387292      0.720121\n",
       "4        161323   Xiaomi Redmi Note 8 Pro  37.843625      0.587072\n",
       "...         ...                       ...        ...           ...\n",
       "415312   375972            Apple iPhone X  34.749203      0.550114\n",
       "415313   160996            Apple iPhone 7  36.055685      0.529805\n",
       "415314     5505          Huawei P Smart Z  38.490972      0.544150\n",
       "415315   260127      Apple iPhone SE 2020  35.982153      0.590590\n",
       "415316   300964  Samsung Galaxy A30s Dual  41.978501      0.426130\n",
       "\n",
       "[415317 rows x 4 columns]"
      ]
     },
     "execution_count": 14,
     "metadata": {},
     "output_type": "execute_result"
    }
   ],
   "source": [
    "data_mearge = data.merge(data_agg.to_pandas(), how = 'left', on = ['cpe_model_name'])\n",
    "data_mearge"
   ]
  },
  {
   "cell_type": "code",
   "execution_count": 15,
   "id": "f3df2be6",
   "metadata": {
    "execution": {
     "iopub.execute_input": "2023-02-19T09:21:39.619346Z",
     "iopub.status.busy": "2023-02-19T09:21:39.618774Z",
     "iopub.status.idle": "2023-02-19T09:21:41.446742Z",
     "shell.execute_reply": "2023-02-19T09:21:41.445339Z"
    },
    "papermill": {
     "duration": 1.848747,
     "end_time": "2023-02-19T09:21:41.449893",
     "exception": false,
     "start_time": "2023-02-19T09:21:39.601146",
     "status": "completed"
    },
    "tags": []
   },
   "outputs": [],
   "source": [
    "data_mearge.to_csv('/data/target_distribution_by_features/model_agg.csv', index=False)"
   ]
  },
  {
   "cell_type": "code",
   "execution_count": 16,
   "id": "ac1f8f93",
   "metadata": {
    "execution": {
     "iopub.execute_input": "2023-02-19T09:21:41.481982Z",
     "iopub.status.busy": "2023-02-19T09:21:41.481551Z",
     "iopub.status.idle": "2023-02-19T09:22:01.251294Z",
     "shell.execute_reply": "2023-02-19T09:22:01.249582Z"
    },
    "papermill": {
     "duration": 19.790196,
     "end_time": "2023-02-19T09:22:01.255145",
     "exception": false,
     "start_time": "2023-02-19T09:21:41.464949",
     "status": "completed"
    },
    "tags": []
   },
   "outputs": [],
   "source": [
    "data = pd.read_feather('/data/dataset_full.feather')"
   ]
  },
  {
   "cell_type": "code",
   "execution_count": 17,
   "id": "676d2ccc",
   "metadata": {
    "execution": {
     "iopub.execute_input": "2023-02-19T09:22:01.287959Z",
     "iopub.status.busy": "2023-02-19T09:22:01.286389Z",
     "iopub.status.idle": "2023-02-19T09:22:29.092711Z",
     "shell.execute_reply": "2023-02-19T09:22:29.091257Z"
    },
    "papermill": {
     "duration": 27.82508,
     "end_time": "2023-02-19T09:22:29.095246",
     "exception": false,
     "start_time": "2023-02-19T09:22:01.270166",
     "status": "completed"
    },
    "tags": []
   },
   "outputs": [
    {
     "data": {
      "text/html": [
       "<div>\n",
       "<style scoped>\n",
       "    .dataframe tbody tr th:only-of-type {\n",
       "        vertical-align: middle;\n",
       "    }\n",
       "\n",
       "    .dataframe tbody tr th {\n",
       "        vertical-align: top;\n",
       "    }\n",
       "\n",
       "    .dataframe thead th {\n",
       "        text-align: right;\n",
       "    }\n",
       "</style>\n",
       "<table border=\"1\" class=\"dataframe\">\n",
       "  <thead>\n",
       "    <tr style=\"text-align: right;\">\n",
       "      <th></th>\n",
       "      <th>user_id</th>\n",
       "      <th>region_name</th>\n",
       "      <th>city_name</th>\n",
       "    </tr>\n",
       "  </thead>\n",
       "  <tbody>\n",
       "    <tr>\n",
       "      <th>0</th>\n",
       "      <td>45098</td>\n",
       "      <td>Краснодарский край</td>\n",
       "      <td>Краснодар</td>\n",
       "    </tr>\n",
       "    <tr>\n",
       "      <th>428</th>\n",
       "      <td>45098</td>\n",
       "      <td>Ставропольский край</td>\n",
       "      <td>Ставрополь</td>\n",
       "    </tr>\n",
       "    <tr>\n",
       "      <th>445</th>\n",
       "      <td>45098</td>\n",
       "      <td>Республика Адыгея</td>\n",
       "      <td>Адыгейск</td>\n",
       "    </tr>\n",
       "    <tr>\n",
       "      <th>1124</th>\n",
       "      <td>45098</td>\n",
       "      <td>Ставропольский край</td>\n",
       "      <td>Изобильный</td>\n",
       "    </tr>\n",
       "    <tr>\n",
       "      <th>1355</th>\n",
       "      <td>45098</td>\n",
       "      <td>Ставропольский край</td>\n",
       "      <td>Новоалександровск</td>\n",
       "    </tr>\n",
       "    <tr>\n",
       "      <th>...</th>\n",
       "      <td>...</td>\n",
       "      <td>...</td>\n",
       "      <td>...</td>\n",
       "    </tr>\n",
       "    <tr>\n",
       "      <th>322897462</th>\n",
       "      <td>260127</td>\n",
       "      <td>Курская область</td>\n",
       "      <td>Курск</td>\n",
       "    </tr>\n",
       "    <tr>\n",
       "      <th>322897463</th>\n",
       "      <td>260127</td>\n",
       "      <td>Белгородская область</td>\n",
       "      <td>Белгород</td>\n",
       "    </tr>\n",
       "    <tr>\n",
       "      <th>322897962</th>\n",
       "      <td>260127</td>\n",
       "      <td>Белгородская область</td>\n",
       "      <td>Строитель</td>\n",
       "    </tr>\n",
       "    <tr>\n",
       "      <th>322898322</th>\n",
       "      <td>300964</td>\n",
       "      <td>Калужская область</td>\n",
       "      <td>Обнинск</td>\n",
       "    </tr>\n",
       "    <tr>\n",
       "      <th>322898882</th>\n",
       "      <td>300964</td>\n",
       "      <td>Москва</td>\n",
       "      <td>Москва</td>\n",
       "    </tr>\n",
       "  </tbody>\n",
       "</table>\n",
       "<p>1288659 rows × 3 columns</p>\n",
       "</div>"
      ],
      "text/plain": [
       "           user_id           region_name          city_name\n",
       "0            45098    Краснодарский край          Краснодар\n",
       "428          45098   Ставропольский край         Ставрополь\n",
       "445          45098     Республика Адыгея           Адыгейск\n",
       "1124         45098   Ставропольский край         Изобильный\n",
       "1355         45098   Ставропольский край  Новоалександровск\n",
       "...            ...                   ...                ...\n",
       "322897462   260127       Курская область              Курск\n",
       "322897463   260127  Белгородская область           Белгород\n",
       "322897962   260127  Белгородская область          Строитель\n",
       "322898322   300964     Калужская область            Обнинск\n",
       "322898882   300964                Москва             Москва\n",
       "\n",
       "[1288659 rows x 3 columns]"
      ]
     },
     "execution_count": 17,
     "metadata": {},
     "output_type": "execute_result"
    }
   ],
   "source": [
    "data = data[['user_id', 'region_name', 'city_name']].drop_duplicates()\n",
    "data"
   ]
  },
  {
   "cell_type": "code",
   "execution_count": 18,
   "id": "933e70a7",
   "metadata": {
    "execution": {
     "iopub.execute_input": "2023-02-19T09:22:29.128505Z",
     "iopub.status.busy": "2023-02-19T09:22:29.128029Z",
     "iopub.status.idle": "2023-02-19T09:22:31.985713Z",
     "shell.execute_reply": "2023-02-19T09:22:31.984455Z"
    },
    "papermill": {
     "duration": 2.877456,
     "end_time": "2023-02-19T09:22:31.988324",
     "exception": false,
     "start_time": "2023-02-19T09:22:29.110868",
     "status": "completed"
    },
    "tags": []
   },
   "outputs": [
    {
     "data": {
      "text/html": [
       "<div>\n",
       "<style scoped>\n",
       "    .dataframe tbody tr th:only-of-type {\n",
       "        vertical-align: middle;\n",
       "    }\n",
       "\n",
       "    .dataframe tbody tr th {\n",
       "        vertical-align: top;\n",
       "    }\n",
       "\n",
       "    .dataframe thead th {\n",
       "        text-align: right;\n",
       "    }\n",
       "</style>\n",
       "<table border=\"1\" class=\"dataframe\">\n",
       "  <thead>\n",
       "    <tr style=\"text-align: right;\">\n",
       "      <th></th>\n",
       "      <th>user_id</th>\n",
       "      <th>city_name</th>\n",
       "    </tr>\n",
       "  </thead>\n",
       "  <tbody>\n",
       "    <tr>\n",
       "      <th>0</th>\n",
       "      <td>45098</td>\n",
       "      <td>Краснодарский край Краснодар</td>\n",
       "    </tr>\n",
       "    <tr>\n",
       "      <th>428</th>\n",
       "      <td>45098</td>\n",
       "      <td>Ставропольский край Ставрополь</td>\n",
       "    </tr>\n",
       "    <tr>\n",
       "      <th>445</th>\n",
       "      <td>45098</td>\n",
       "      <td>Республика Адыгея Адыгейск</td>\n",
       "    </tr>\n",
       "    <tr>\n",
       "      <th>1124</th>\n",
       "      <td>45098</td>\n",
       "      <td>Ставропольский край Изобильный</td>\n",
       "    </tr>\n",
       "    <tr>\n",
       "      <th>1355</th>\n",
       "      <td>45098</td>\n",
       "      <td>Ставропольский край Новоалександровск</td>\n",
       "    </tr>\n",
       "    <tr>\n",
       "      <th>...</th>\n",
       "      <td>...</td>\n",
       "      <td>...</td>\n",
       "    </tr>\n",
       "    <tr>\n",
       "      <th>322897462</th>\n",
       "      <td>260127</td>\n",
       "      <td>Курская область Курск</td>\n",
       "    </tr>\n",
       "    <tr>\n",
       "      <th>322897463</th>\n",
       "      <td>260127</td>\n",
       "      <td>Белгородская область Белгород</td>\n",
       "    </tr>\n",
       "    <tr>\n",
       "      <th>322897962</th>\n",
       "      <td>260127</td>\n",
       "      <td>Белгородская область Строитель</td>\n",
       "    </tr>\n",
       "    <tr>\n",
       "      <th>322898322</th>\n",
       "      <td>300964</td>\n",
       "      <td>Калужская область Обнинск</td>\n",
       "    </tr>\n",
       "    <tr>\n",
       "      <th>322898882</th>\n",
       "      <td>300964</td>\n",
       "      <td>Москва Москва</td>\n",
       "    </tr>\n",
       "  </tbody>\n",
       "</table>\n",
       "<p>1288659 rows × 2 columns</p>\n",
       "</div>"
      ],
      "text/plain": [
       "           user_id                              city_name\n",
       "0            45098           Краснодарский край Краснодар\n",
       "428          45098         Ставропольский край Ставрополь\n",
       "445          45098             Республика Адыгея Адыгейск\n",
       "1124         45098         Ставропольский край Изобильный\n",
       "1355         45098  Ставропольский край Новоалександровск\n",
       "...            ...                                    ...\n",
       "322897462   260127                  Курская область Курск\n",
       "322897463   260127          Белгородская область Белгород\n",
       "322897962   260127         Белгородская область Строитель\n",
       "322898322   300964              Калужская область Обнинск\n",
       "322898882   300964                          Москва Москва\n",
       "\n",
       "[1288659 rows x 2 columns]"
      ]
     },
     "execution_count": 18,
     "metadata": {},
     "output_type": "execute_result"
    }
   ],
   "source": [
    "data['city_name'] = data['region_name'].astype('string') + ' ' + data['city_name'].astype('string')\n",
    "data = data.drop('region_name', axis=1)\n",
    "data = data.drop_duplicates()\n",
    "data"
   ]
  },
  {
   "cell_type": "code",
   "execution_count": 19,
   "id": "3fe0958d",
   "metadata": {
    "execution": {
     "iopub.execute_input": "2023-02-19T09:22:32.022802Z",
     "iopub.status.busy": "2023-02-19T09:22:32.022295Z",
     "iopub.status.idle": "2023-02-19T09:22:32.444738Z",
     "shell.execute_reply": "2023-02-19T09:22:32.443499Z"
    },
    "papermill": {
     "duration": 0.443647,
     "end_time": "2023-02-19T09:22:32.447763",
     "exception": false,
     "start_time": "2023-02-19T09:22:32.004116",
     "status": "completed"
    },
    "tags": []
   },
   "outputs": [
    {
     "data": {
      "text/html": [
       "<div>\n",
       "<style scoped>\n",
       "    .dataframe tbody tr th:only-of-type {\n",
       "        vertical-align: middle;\n",
       "    }\n",
       "\n",
       "    .dataframe tbody tr th {\n",
       "        vertical-align: top;\n",
       "    }\n",
       "\n",
       "    .dataframe thead th {\n",
       "        text-align: right;\n",
       "    }\n",
       "</style>\n",
       "<table border=\"1\" class=\"dataframe\">\n",
       "  <thead>\n",
       "    <tr style=\"text-align: right;\">\n",
       "      <th></th>\n",
       "      <th>user_id</th>\n",
       "      <th>city_name</th>\n",
       "      <th>age</th>\n",
       "      <th>is_male</th>\n",
       "    </tr>\n",
       "  </thead>\n",
       "  <tbody>\n",
       "    <tr>\n",
       "      <th>0</th>\n",
       "      <td>79395</td>\n",
       "      <td>Санкт-Петербург Санкт-Петербург</td>\n",
       "      <td>35</td>\n",
       "      <td>1</td>\n",
       "    </tr>\n",
       "    <tr>\n",
       "      <th>1</th>\n",
       "      <td>79395</td>\n",
       "      <td>Калининградская область Калининград</td>\n",
       "      <td>35</td>\n",
       "      <td>1</td>\n",
       "    </tr>\n",
       "    <tr>\n",
       "      <th>2</th>\n",
       "      <td>91294</td>\n",
       "      <td>Краснодарский край Новороссийск</td>\n",
       "      <td>35</td>\n",
       "      <td>1</td>\n",
       "    </tr>\n",
       "    <tr>\n",
       "      <th>3</th>\n",
       "      <td>161323</td>\n",
       "      <td>Тюменская область Тюмень</td>\n",
       "      <td>39</td>\n",
       "      <td>0</td>\n",
       "    </tr>\n",
       "    <tr>\n",
       "      <th>4</th>\n",
       "      <td>161323</td>\n",
       "      <td>Свердловская область Екатеринбург</td>\n",
       "      <td>39</td>\n",
       "      <td>0</td>\n",
       "    </tr>\n",
       "    <tr>\n",
       "      <th>...</th>\n",
       "      <td>...</td>\n",
       "      <td>...</td>\n",
       "      <td>...</td>\n",
       "      <td>...</td>\n",
       "    </tr>\n",
       "    <tr>\n",
       "      <th>823023</th>\n",
       "      <td>5505</td>\n",
       "      <td>Ярославская область Ярославль</td>\n",
       "      <td>26</td>\n",
       "      <td>1</td>\n",
       "    </tr>\n",
       "    <tr>\n",
       "      <th>823024</th>\n",
       "      <td>5505</td>\n",
       "      <td>Ярославская область Рыбинск</td>\n",
       "      <td>26</td>\n",
       "      <td>1</td>\n",
       "    </tr>\n",
       "    <tr>\n",
       "      <th>823025</th>\n",
       "      <td>5505</td>\n",
       "      <td>Ярославская область Тутаев</td>\n",
       "      <td>26</td>\n",
       "      <td>1</td>\n",
       "    </tr>\n",
       "    <tr>\n",
       "      <th>823026</th>\n",
       "      <td>300964</td>\n",
       "      <td>Калужская область Обнинск</td>\n",
       "      <td>57</td>\n",
       "      <td>0</td>\n",
       "    </tr>\n",
       "    <tr>\n",
       "      <th>823027</th>\n",
       "      <td>300964</td>\n",
       "      <td>Москва Москва</td>\n",
       "      <td>57</td>\n",
       "      <td>0</td>\n",
       "    </tr>\n",
       "  </tbody>\n",
       "</table>\n",
       "<p>823028 rows × 4 columns</p>\n",
       "</div>"
      ],
      "text/plain": [
       "        user_id                            city_name  age  is_male\n",
       "0         79395      Санкт-Петербург Санкт-Петербург   35        1\n",
       "1         79395  Калининградская область Калининград   35        1\n",
       "2         91294      Краснодарский край Новороссийск   35        1\n",
       "3        161323             Тюменская область Тюмень   39        0\n",
       "4        161323    Свердловская область Екатеринбург   39        0\n",
       "...         ...                                  ...  ...      ...\n",
       "823023     5505        Ярославская область Ярославль   26        1\n",
       "823024     5505          Ярославская область Рыбинск   26        1\n",
       "823025     5505           Ярославская область Тутаев   26        1\n",
       "823026   300964            Калужская область Обнинск   57        0\n",
       "823027   300964                        Москва Москва   57        0\n",
       "\n",
       "[823028 rows x 4 columns]"
      ]
     },
     "execution_count": 19,
     "metadata": {},
     "output_type": "execute_result"
    }
   ],
   "source": [
    "data_mearge = data.merge(targets, how = 'inner', on = ['user_id'])\n",
    "data_mearge"
   ]
  },
  {
   "cell_type": "code",
   "execution_count": 20,
   "id": "8b803a72",
   "metadata": {
    "execution": {
     "iopub.execute_input": "2023-02-19T09:22:32.481800Z",
     "iopub.status.busy": "2023-02-19T09:22:32.481009Z",
     "iopub.status.idle": "2023-02-19T09:22:32.729547Z",
     "shell.execute_reply": "2023-02-19T09:22:32.728584Z"
    },
    "papermill": {
     "duration": 0.269025,
     "end_time": "2023-02-19T09:22:32.732705",
     "exception": false,
     "start_time": "2023-02-19T09:22:32.463680",
     "status": "completed"
    },
    "tags": []
   },
   "outputs": [],
   "source": [
    "data_mearge = pa.Table.from_pandas(data_mearge)"
   ]
  },
  {
   "cell_type": "code",
   "execution_count": 21,
   "id": "9ce63003",
   "metadata": {
    "execution": {
     "iopub.execute_input": "2023-02-19T09:22:32.767151Z",
     "iopub.status.busy": "2023-02-19T09:22:32.766669Z",
     "iopub.status.idle": "2023-02-19T09:22:32.830098Z",
     "shell.execute_reply": "2023-02-19T09:22:32.828512Z"
    },
    "papermill": {
     "duration": 0.083599,
     "end_time": "2023-02-19T09:22:32.832899",
     "exception": false,
     "start_time": "2023-02-19T09:22:32.749300",
     "status": "completed"
    },
    "tags": []
   },
   "outputs": [
    {
     "name": "stdout",
     "output_type": "stream",
     "text": [
      "CPU times: user 56.3 ms, sys: 1.15 ms, total: 57.4 ms\n",
      "Wall time: 56.2 ms\n"
     ]
    }
   ],
   "source": [
    "%%time\n",
    "data_agg = data_mearge.select(['city_name', 'age', 'is_male']).\\\n",
    "    group_by(['city_name']).aggregate([('age', 'mean'), ('is_male', 'mean')])"
   ]
  },
  {
   "cell_type": "code",
   "execution_count": 22,
   "id": "c18aa202",
   "metadata": {
    "execution": {
     "iopub.execute_input": "2023-02-19T09:22:32.866668Z",
     "iopub.status.busy": "2023-02-19T09:22:32.866195Z",
     "iopub.status.idle": "2023-02-19T09:22:33.545407Z",
     "shell.execute_reply": "2023-02-19T09:22:33.544437Z"
    },
    "papermill": {
     "duration": 0.698914,
     "end_time": "2023-02-19T09:22:33.547748",
     "exception": false,
     "start_time": "2023-02-19T09:22:32.848834",
     "status": "completed"
    },
    "tags": []
   },
   "outputs": [
    {
     "data": {
      "text/html": [
       "<div>\n",
       "<style scoped>\n",
       "    .dataframe tbody tr th:only-of-type {\n",
       "        vertical-align: middle;\n",
       "    }\n",
       "\n",
       "    .dataframe tbody tr th {\n",
       "        vertical-align: top;\n",
       "    }\n",
       "\n",
       "    .dataframe thead th {\n",
       "        text-align: right;\n",
       "    }\n",
       "</style>\n",
       "<table border=\"1\" class=\"dataframe\">\n",
       "  <thead>\n",
       "    <tr style=\"text-align: right;\">\n",
       "      <th></th>\n",
       "      <th>user_id</th>\n",
       "      <th>city_name</th>\n",
       "      <th>age_mean</th>\n",
       "      <th>is_male_mean</th>\n",
       "    </tr>\n",
       "  </thead>\n",
       "  <tbody>\n",
       "    <tr>\n",
       "      <th>0</th>\n",
       "      <td>45098</td>\n",
       "      <td>Краснодарский край Краснодар</td>\n",
       "      <td>38.329572</td>\n",
       "      <td>0.516624</td>\n",
       "    </tr>\n",
       "    <tr>\n",
       "      <th>1</th>\n",
       "      <td>45098</td>\n",
       "      <td>Ставропольский край Ставрополь</td>\n",
       "      <td>36.742826</td>\n",
       "      <td>0.567697</td>\n",
       "    </tr>\n",
       "    <tr>\n",
       "      <th>2</th>\n",
       "      <td>45098</td>\n",
       "      <td>Республика Адыгея Адыгейск</td>\n",
       "      <td>36.605013</td>\n",
       "      <td>0.561366</td>\n",
       "    </tr>\n",
       "    <tr>\n",
       "      <th>3</th>\n",
       "      <td>45098</td>\n",
       "      <td>Ставропольский край Изобильный</td>\n",
       "      <td>34.079545</td>\n",
       "      <td>0.588068</td>\n",
       "    </tr>\n",
       "    <tr>\n",
       "      <th>4</th>\n",
       "      <td>45098</td>\n",
       "      <td>Ставропольский край Новоалександровск</td>\n",
       "      <td>34.801120</td>\n",
       "      <td>0.649860</td>\n",
       "    </tr>\n",
       "    <tr>\n",
       "      <th>...</th>\n",
       "      <td>...</td>\n",
       "      <td>...</td>\n",
       "      <td>...</td>\n",
       "      <td>...</td>\n",
       "    </tr>\n",
       "    <tr>\n",
       "      <th>1288654</th>\n",
       "      <td>260127</td>\n",
       "      <td>Курская область Курск</td>\n",
       "      <td>37.574174</td>\n",
       "      <td>0.566967</td>\n",
       "    </tr>\n",
       "    <tr>\n",
       "      <th>1288655</th>\n",
       "      <td>260127</td>\n",
       "      <td>Белгородская область Белгород</td>\n",
       "      <td>37.637193</td>\n",
       "      <td>0.558471</td>\n",
       "    </tr>\n",
       "    <tr>\n",
       "      <th>1288656</th>\n",
       "      <td>260127</td>\n",
       "      <td>Белгородская область Строитель</td>\n",
       "      <td>36.448980</td>\n",
       "      <td>0.584184</td>\n",
       "    </tr>\n",
       "    <tr>\n",
       "      <th>1288657</th>\n",
       "      <td>300964</td>\n",
       "      <td>Калужская область Обнинск</td>\n",
       "      <td>38.408385</td>\n",
       "      <td>0.573758</td>\n",
       "    </tr>\n",
       "    <tr>\n",
       "      <th>1288658</th>\n",
       "      <td>300964</td>\n",
       "      <td>Москва Москва</td>\n",
       "      <td>39.616756</td>\n",
       "      <td>0.564875</td>\n",
       "    </tr>\n",
       "  </tbody>\n",
       "</table>\n",
       "<p>1288659 rows × 4 columns</p>\n",
       "</div>"
      ],
      "text/plain": [
       "         user_id                              city_name   age_mean  \\\n",
       "0          45098           Краснодарский край Краснодар  38.329572   \n",
       "1          45098         Ставропольский край Ставрополь  36.742826   \n",
       "2          45098             Республика Адыгея Адыгейск  36.605013   \n",
       "3          45098         Ставропольский край Изобильный  34.079545   \n",
       "4          45098  Ставропольский край Новоалександровск  34.801120   \n",
       "...          ...                                    ...        ...   \n",
       "1288654   260127                  Курская область Курск  37.574174   \n",
       "1288655   260127          Белгородская область Белгород  37.637193   \n",
       "1288656   260127         Белгородская область Строитель  36.448980   \n",
       "1288657   300964              Калужская область Обнинск  38.408385   \n",
       "1288658   300964                          Москва Москва  39.616756   \n",
       "\n",
       "         is_male_mean  \n",
       "0            0.516624  \n",
       "1            0.567697  \n",
       "2            0.561366  \n",
       "3            0.588068  \n",
       "4            0.649860  \n",
       "...               ...  \n",
       "1288654      0.566967  \n",
       "1288655      0.558471  \n",
       "1288656      0.584184  \n",
       "1288657      0.573758  \n",
       "1288658      0.564875  \n",
       "\n",
       "[1288659 rows x 4 columns]"
      ]
     },
     "execution_count": 22,
     "metadata": {},
     "output_type": "execute_result"
    }
   ],
   "source": [
    "data_mearge = data.merge(data_agg.to_pandas(), how = 'left', on = ['city_name'])\n",
    "data_mearge"
   ]
  },
  {
   "cell_type": "code",
   "execution_count": 23,
   "id": "5ac5e533",
   "metadata": {
    "execution": {
     "iopub.execute_input": "2023-02-19T09:22:33.583251Z",
     "iopub.status.busy": "2023-02-19T09:22:33.582837Z",
     "iopub.status.idle": "2023-02-19T09:22:35.512027Z",
     "shell.execute_reply": "2023-02-19T09:22:35.510745Z"
    },
    "papermill": {
     "duration": 1.950352,
     "end_time": "2023-02-19T09:22:35.514998",
     "exception": false,
     "start_time": "2023-02-19T09:22:33.564646",
     "status": "completed"
    },
    "tags": []
   },
   "outputs": [],
   "source": [
    "data_mearge[['user_id', 'age_mean', 'is_male_mean']].groupby('user_id').mean().to_csv('city_agg.csv')"
   ]
  },
  {
   "cell_type": "code",
   "execution_count": 24,
   "id": "b548a6cd",
   "metadata": {
    "execution": {
     "iopub.execute_input": "2023-02-19T09:22:35.550304Z",
     "iopub.status.busy": "2023-02-19T09:22:35.549770Z",
     "iopub.status.idle": "2023-02-19T09:22:36.554896Z",
     "shell.execute_reply": "2023-02-19T09:22:36.553791Z"
    },
    "papermill": {
     "duration": 1.02584,
     "end_time": "2023-02-19T09:22:36.557708",
     "exception": false,
     "start_time": "2023-02-19T09:22:35.531868",
     "status": "completed"
    },
    "tags": []
   },
   "outputs": [],
   "source": [
    "age_agg = pa.Table.from_pandas(data_mearge).select(['city_name', 'age_mean', 'user_id']).\\\n",
    "    group_by(['city_name', 'user_id']).aggregate([('age_mean', 'mean')])"
   ]
  },
  {
   "cell_type": "code",
   "execution_count": 25,
   "id": "2de46937",
   "metadata": {
    "execution": {
     "iopub.execute_input": "2023-02-19T09:22:36.593745Z",
     "iopub.status.busy": "2023-02-19T09:22:36.592256Z",
     "iopub.status.idle": "2023-02-19T09:22:37.235515Z",
     "shell.execute_reply": "2023-02-19T09:22:37.233920Z"
    },
    "papermill": {
     "duration": 0.66361,
     "end_time": "2023-02-19T09:22:37.238261",
     "exception": false,
     "start_time": "2023-02-19T09:22:36.574651",
     "status": "completed"
    },
    "tags": []
   },
   "outputs": [
    {
     "name": "stdout",
     "output_type": "stream",
     "text": [
      "1000 cities\n",
      "415317 users\n"
     ]
    }
   ],
   "source": [
    "city_set = set(age_agg.select(['city_name']).to_pandas()['city_name'])\n",
    "print(f'{len(city_set)} cities')\n",
    "city_dict = {url: idurl for url, idurl in zip(city_set, range(len(city_set)))}\n",
    "usr_set = set(age_agg.select(['user_id']).to_pandas()['user_id'])\n",
    "print(f'{len(usr_set)} users')\n",
    "usr_dict = {usr: user_id for usr, user_id in zip(usr_set, range(len(usr_set)))}"
   ]
  },
  {
   "cell_type": "code",
   "execution_count": 26,
   "id": "f40fedf4",
   "metadata": {
    "execution": {
     "iopub.execute_input": "2023-02-19T09:22:37.275022Z",
     "iopub.status.busy": "2023-02-19T09:22:37.274564Z",
     "iopub.status.idle": "2023-02-19T09:22:37.282957Z",
     "shell.execute_reply": "2023-02-19T09:22:37.281587Z"
    },
    "papermill": {
     "duration": 0.029361,
     "end_time": "2023-02-19T09:22:37.285906",
     "exception": false,
     "start_time": "2023-02-19T09:22:37.256545",
     "status": "completed"
    },
    "tags": []
   },
   "outputs": [
    {
     "data": {
      "text/plain": [
       "pyarrow.Table\n",
       "age_mean_mean: double\n",
       "city_name: string\n",
       "user_id: int32\n",
       "----\n",
       "age_mean_mean: [[38.32957172740284,36.74282560706402,36.60501296456353,34.07954545454545,34.80112044817927,...,37.574174174174175,37.63719338277239,36.44897959183673,38.4083850931677,39.61675575857712]]\n",
       "city_name: [[\"Краснодарский край Краснодар\",\"Ставропольский край Ставрополь\",\"Республика Адыгея Адыгейск\",\"Ставропольский край Изобильный\",\"Ставропольский край Новоалександровск\",...,\"Курская область Курск\",\"Белгородская область Белгород\",\"Белгородская область Строитель\",\"Калужская область Обнинск\",\"Москва Москва\"]]\n",
       "user_id: [[45098,45098,45098,45098,45098,...,260127,260127,260127,300964,300964]]"
      ]
     },
     "execution_count": 26,
     "metadata": {},
     "output_type": "execute_result"
    }
   ],
   "source": [
    "age_agg"
   ]
  },
  {
   "cell_type": "code",
   "execution_count": 27,
   "id": "c414c005",
   "metadata": {
    "execution": {
     "iopub.execute_input": "2023-02-19T09:22:37.322793Z",
     "iopub.status.busy": "2023-02-19T09:22:37.322142Z",
     "iopub.status.idle": "2023-02-19T09:22:38.028057Z",
     "shell.execute_reply": "2023-02-19T09:22:38.026599Z"
    },
    "papermill": {
     "duration": 0.727538,
     "end_time": "2023-02-19T09:22:38.030857",
     "exception": false,
     "start_time": "2023-02-19T09:22:37.303319",
     "status": "completed"
    },
    "tags": []
   },
   "outputs": [
    {
     "name": "stdout",
     "output_type": "stream",
     "text": [
      "CPU times: user 645 ms, sys: 68.8 ms, total: 714 ms\n",
      "Wall time: 693 ms\n"
     ]
    }
   ],
   "source": [
    "%%time\n",
    "values = np.array(age_agg.select(['age_mean_mean']).to_pandas()['age_mean_mean'])\n",
    "rows = np.array(age_agg.select(['user_id']).to_pandas()['user_id'].map(usr_dict))\n",
    "cols = np.array(age_agg.select(['city_name']).to_pandas()['city_name'].map(city_dict))\n",
    "mat = scipy.sparse.coo_matrix((values, (rows, cols)), shape=(rows.max() + 1, cols.max() + 1))\n",
    "als = implicit.approximate_als.FaissAlternatingLeastSquares(factors = 50, iterations = 30, use_gpu = False, \\\n",
    "       calculate_training_loss = False, regularization = 0.1)"
   ]
  },
  {
   "cell_type": "code",
   "execution_count": 28,
   "id": "83b93130",
   "metadata": {
    "execution": {
     "iopub.execute_input": "2023-02-19T09:22:38.065834Z",
     "iopub.status.busy": "2023-02-19T09:22:38.065339Z",
     "iopub.status.idle": "2023-02-19T09:23:52.888927Z",
     "shell.execute_reply": "2023-02-19T09:23:52.887518Z"
    },
    "papermill": {
     "duration": 74.845011,
     "end_time": "2023-02-19T09:23:52.892392",
     "exception": false,
     "start_time": "2023-02-19T09:22:38.047381",
     "status": "completed"
    },
    "tags": []
   },
   "outputs": [
    {
     "data": {
      "application/vnd.jupyter.widget-view+json": {
       "model_id": "280b1c3b480442878fbbb3b23533840e",
       "version_major": 2,
       "version_minor": 0
      },
      "text/plain": [
       "  0%|          | 0/30 [00:00<?, ?it/s]"
      ]
     },
     "metadata": {},
     "output_type": "display_data"
    },
    {
     "name": "stdout",
     "output_type": "stream",
     "text": [
      "CPU times: user 3min 56s, sys: 47.9 s, total: 4min 43s\n",
      "Wall time: 1min 14s\n"
     ]
    }
   ],
   "source": [
    "%%time\n",
    "als.fit(mat)"
   ]
  },
  {
   "cell_type": "code",
   "execution_count": 29,
   "id": "96676def",
   "metadata": {
    "execution": {
     "iopub.execute_input": "2023-02-19T09:23:52.942238Z",
     "iopub.status.busy": "2023-02-19T09:23:52.941549Z",
     "iopub.status.idle": "2023-02-19T09:23:52.953693Z",
     "shell.execute_reply": "2023-02-19T09:23:52.949380Z"
    },
    "papermill": {
     "duration": 0.04056,
     "end_time": "2023-02-19T09:23:52.959398",
     "exception": false,
     "start_time": "2023-02-19T09:23:52.918838",
     "status": "completed"
    },
    "tags": []
   },
   "outputs": [],
   "source": [
    "u_factors = als.user_factors \n",
    "d_factors = als.item_factors"
   ]
  },
  {
   "cell_type": "code",
   "execution_count": 30,
   "id": "52c633e7",
   "metadata": {
    "execution": {
     "iopub.execute_input": "2023-02-19T09:23:53.008994Z",
     "iopub.status.busy": "2023-02-19T09:23:53.007754Z",
     "iopub.status.idle": "2023-02-19T09:23:53.574057Z",
     "shell.execute_reply": "2023-02-19T09:23:53.573006Z"
    },
    "papermill": {
     "duration": 0.595606,
     "end_time": "2023-02-19T09:23:53.576803",
     "exception": false,
     "start_time": "2023-02-19T09:23:52.981197",
     "status": "completed"
    },
    "tags": []
   },
   "outputs": [
    {
     "name": "stdout",
     "output_type": "stream",
     "text": [
      "CPU times: user 525 ms, sys: 32.7 ms, total: 558 ms\n",
      "Wall time: 558 ms\n"
     ]
    }
   ],
   "source": [
    "%%time\n",
    "inv_usr_map = {v: k for k, v in usr_dict.items()}\n",
    "city_emb = pd.DataFrame(d_factors)\n",
    "city_emb['user_id'] = city_emb.index.map(inv_usr_map)"
   ]
  },
  {
   "cell_type": "code",
   "execution_count": 31,
   "id": "78c48c77",
   "metadata": {
    "execution": {
     "iopub.execute_input": "2023-02-19T09:23:53.614287Z",
     "iopub.status.busy": "2023-02-19T09:23:53.612622Z",
     "iopub.status.idle": "2023-02-19T09:24:15.976662Z",
     "shell.execute_reply": "2023-02-19T09:24:15.974964Z"
    },
    "papermill": {
     "duration": 22.385834,
     "end_time": "2023-02-19T09:24:15.979739",
     "exception": false,
     "start_time": "2023-02-19T09:23:53.593905",
     "status": "completed"
    },
    "tags": []
   },
   "outputs": [],
   "source": [
    "city_emb.to_csv('/data/target_distribution_by_features/city_emb.csv', index=False)"
   ]
  },
  {
   "cell_type": "code",
   "execution_count": 32,
   "id": "f8b52d2e",
   "metadata": {
    "execution": {
     "iopub.execute_input": "2023-02-19T09:24:16.016996Z",
     "iopub.status.busy": "2023-02-19T09:24:16.016542Z",
     "iopub.status.idle": "2023-02-19T09:24:35.728557Z",
     "shell.execute_reply": "2023-02-19T09:24:35.727138Z"
    },
    "papermill": {
     "duration": 19.73459,
     "end_time": "2023-02-19T09:24:35.731722",
     "exception": false,
     "start_time": "2023-02-19T09:24:15.997132",
     "status": "completed"
    },
    "tags": []
   },
   "outputs": [],
   "source": [
    "data = pd.read_feather('/data/dataset_full.feather')"
   ]
  },
  {
   "cell_type": "code",
   "execution_count": 33,
   "id": "4e5860ae",
   "metadata": {
    "execution": {
     "iopub.execute_input": "2023-02-19T09:24:35.772169Z",
     "iopub.status.busy": "2023-02-19T09:24:35.771707Z",
     "iopub.status.idle": "2023-02-19T09:25:02.504450Z",
     "shell.execute_reply": "2023-02-19T09:25:02.503164Z"
    },
    "papermill": {
     "duration": 26.753396,
     "end_time": "2023-02-19T09:25:02.507056",
     "exception": false,
     "start_time": "2023-02-19T09:24:35.753660",
     "status": "completed"
    },
    "tags": []
   },
   "outputs": [
    {
     "data": {
      "text/html": [
       "<div>\n",
       "<style scoped>\n",
       "    .dataframe tbody tr th:only-of-type {\n",
       "        vertical-align: middle;\n",
       "    }\n",
       "\n",
       "    .dataframe tbody tr th {\n",
       "        vertical-align: top;\n",
       "    }\n",
       "\n",
       "    .dataframe thead th {\n",
       "        text-align: right;\n",
       "    }\n",
       "</style>\n",
       "<table border=\"1\" class=\"dataframe\">\n",
       "  <thead>\n",
       "    <tr style=\"text-align: right;\">\n",
       "      <th></th>\n",
       "      <th>user_id</th>\n",
       "      <th>price</th>\n",
       "    </tr>\n",
       "  </thead>\n",
       "  <tbody>\n",
       "    <tr>\n",
       "      <th>0</th>\n",
       "      <td>45098</td>\n",
       "      <td>20368.0</td>\n",
       "    </tr>\n",
       "    <tr>\n",
       "      <th>1550</th>\n",
       "      <td>117132</td>\n",
       "      <td>4990.0</td>\n",
       "    </tr>\n",
       "    <tr>\n",
       "      <th>2272</th>\n",
       "      <td>79395</td>\n",
       "      <td>74259.0</td>\n",
       "    </tr>\n",
       "    <tr>\n",
       "      <th>3907</th>\n",
       "      <td>91294</td>\n",
       "      <td>23876.0</td>\n",
       "    </tr>\n",
       "    <tr>\n",
       "      <th>5477</th>\n",
       "      <td>161323</td>\n",
       "      <td>20465.0</td>\n",
       "    </tr>\n",
       "    <tr>\n",
       "      <th>...</th>\n",
       "      <td>...</td>\n",
       "      <td>...</td>\n",
       "    </tr>\n",
       "    <tr>\n",
       "      <th>322896216</th>\n",
       "      <td>375972</td>\n",
       "      <td>56357.0</td>\n",
       "    </tr>\n",
       "    <tr>\n",
       "      <th>322896906</th>\n",
       "      <td>160996</td>\n",
       "      <td>26154.0</td>\n",
       "    </tr>\n",
       "    <tr>\n",
       "      <th>322897366</th>\n",
       "      <td>5505</td>\n",
       "      <td>15490.0</td>\n",
       "    </tr>\n",
       "    <tr>\n",
       "      <th>322897462</th>\n",
       "      <td>260127</td>\n",
       "      <td>40612.0</td>\n",
       "    </tr>\n",
       "    <tr>\n",
       "      <th>322898322</th>\n",
       "      <td>300964</td>\n",
       "      <td>16376.0</td>\n",
       "    </tr>\n",
       "  </tbody>\n",
       "</table>\n",
       "<p>426396 rows × 2 columns</p>\n",
       "</div>"
      ],
      "text/plain": [
       "           user_id    price\n",
       "0            45098  20368.0\n",
       "1550        117132   4990.0\n",
       "2272         79395  74259.0\n",
       "3907         91294  23876.0\n",
       "5477        161323  20465.0\n",
       "...            ...      ...\n",
       "322896216   375972  56357.0\n",
       "322896906   160996  26154.0\n",
       "322897366     5505  15490.0\n",
       "322897462   260127  40612.0\n",
       "322898322   300964  16376.0\n",
       "\n",
       "[426396 rows x 2 columns]"
      ]
     },
     "execution_count": 33,
     "metadata": {},
     "output_type": "execute_result"
    }
   ],
   "source": [
    "data = data[['user_id', 'price']].drop_duplicates()\n",
    "data"
   ]
  },
  {
   "cell_type": "code",
   "execution_count": 34,
   "id": "cbc2a7cf",
   "metadata": {
    "execution": {
     "iopub.execute_input": "2023-02-19T09:25:02.545063Z",
     "iopub.status.busy": "2023-02-19T09:25:02.544183Z",
     "iopub.status.idle": "2023-02-19T09:25:02.549976Z",
     "shell.execute_reply": "2023-02-19T09:25:02.548816Z"
    },
    "papermill": {
     "duration": 0.027699,
     "end_time": "2023-02-19T09:25:02.552312",
     "exception": false,
     "start_time": "2023-02-19T09:25:02.524613",
     "status": "completed"
    },
    "tags": []
   },
   "outputs": [],
   "source": [
    "def price_bucket(x):\n",
    "    return bisect.bisect_left(range(5000, 100001, 5000), x)"
   ]
  },
  {
   "cell_type": "code",
   "execution_count": 35,
   "id": "7b066db6",
   "metadata": {
    "execution": {
     "iopub.execute_input": "2023-02-19T09:25:02.615276Z",
     "iopub.status.busy": "2023-02-19T09:25:02.614311Z",
     "iopub.status.idle": "2023-02-19T09:25:03.735058Z",
     "shell.execute_reply": "2023-02-19T09:25:03.733685Z"
    },
    "papermill": {
     "duration": 1.168593,
     "end_time": "2023-02-19T09:25:03.737894",
     "exception": false,
     "start_time": "2023-02-19T09:25:02.569301",
     "status": "completed"
    },
    "tags": []
   },
   "outputs": [
    {
     "data": {
      "text/html": [
       "<div>\n",
       "<style scoped>\n",
       "    .dataframe tbody tr th:only-of-type {\n",
       "        vertical-align: middle;\n",
       "    }\n",
       "\n",
       "    .dataframe tbody tr th {\n",
       "        vertical-align: top;\n",
       "    }\n",
       "\n",
       "    .dataframe thead th {\n",
       "        text-align: right;\n",
       "    }\n",
       "</style>\n",
       "<table border=\"1\" class=\"dataframe\">\n",
       "  <thead>\n",
       "    <tr style=\"text-align: right;\">\n",
       "      <th></th>\n",
       "      <th>user_id</th>\n",
       "      <th>price</th>\n",
       "    </tr>\n",
       "  </thead>\n",
       "  <tbody>\n",
       "    <tr>\n",
       "      <th>0</th>\n",
       "      <td>45098</td>\n",
       "      <td>4</td>\n",
       "    </tr>\n",
       "    <tr>\n",
       "      <th>1550</th>\n",
       "      <td>117132</td>\n",
       "      <td>0</td>\n",
       "    </tr>\n",
       "    <tr>\n",
       "      <th>2272</th>\n",
       "      <td>79395</td>\n",
       "      <td>14</td>\n",
       "    </tr>\n",
       "    <tr>\n",
       "      <th>3907</th>\n",
       "      <td>91294</td>\n",
       "      <td>4</td>\n",
       "    </tr>\n",
       "    <tr>\n",
       "      <th>5477</th>\n",
       "      <td>161323</td>\n",
       "      <td>4</td>\n",
       "    </tr>\n",
       "    <tr>\n",
       "      <th>...</th>\n",
       "      <td>...</td>\n",
       "      <td>...</td>\n",
       "    </tr>\n",
       "    <tr>\n",
       "      <th>322896216</th>\n",
       "      <td>375972</td>\n",
       "      <td>11</td>\n",
       "    </tr>\n",
       "    <tr>\n",
       "      <th>322896906</th>\n",
       "      <td>160996</td>\n",
       "      <td>5</td>\n",
       "    </tr>\n",
       "    <tr>\n",
       "      <th>322897366</th>\n",
       "      <td>5505</td>\n",
       "      <td>3</td>\n",
       "    </tr>\n",
       "    <tr>\n",
       "      <th>322897462</th>\n",
       "      <td>260127</td>\n",
       "      <td>8</td>\n",
       "    </tr>\n",
       "    <tr>\n",
       "      <th>322898322</th>\n",
       "      <td>300964</td>\n",
       "      <td>3</td>\n",
       "    </tr>\n",
       "  </tbody>\n",
       "</table>\n",
       "<p>419609 rows × 2 columns</p>\n",
       "</div>"
      ],
      "text/plain": [
       "           user_id  price\n",
       "0            45098      4\n",
       "1550        117132      0\n",
       "2272         79395     14\n",
       "3907         91294      4\n",
       "5477        161323      4\n",
       "...            ...    ...\n",
       "322896216   375972     11\n",
       "322896906   160996      5\n",
       "322897366     5505      3\n",
       "322897462   260127      8\n",
       "322898322   300964      3\n",
       "\n",
       "[419609 rows x 2 columns]"
      ]
     },
     "execution_count": 35,
     "metadata": {},
     "output_type": "execute_result"
    }
   ],
   "source": [
    "data['price'] = data['price'].map(price_bucket)\n",
    "data = data.drop_duplicates()\n",
    "data"
   ]
  },
  {
   "cell_type": "code",
   "execution_count": 36,
   "id": "1f96c2f2",
   "metadata": {
    "execution": {
     "iopub.execute_input": "2023-02-19T09:25:03.774100Z",
     "iopub.status.busy": "2023-02-19T09:25:03.773632Z",
     "iopub.status.idle": "2023-02-19T09:25:03.971093Z",
     "shell.execute_reply": "2023-02-19T09:25:03.969898Z"
    },
    "papermill": {
     "duration": 0.218648,
     "end_time": "2023-02-19T09:25:03.973821",
     "exception": false,
     "start_time": "2023-02-19T09:25:03.755173",
     "status": "completed"
    },
    "tags": []
   },
   "outputs": [
    {
     "data": {
      "text/html": [
       "<div>\n",
       "<style scoped>\n",
       "    .dataframe tbody tr th:only-of-type {\n",
       "        vertical-align: middle;\n",
       "    }\n",
       "\n",
       "    .dataframe tbody tr th {\n",
       "        vertical-align: top;\n",
       "    }\n",
       "\n",
       "    .dataframe thead th {\n",
       "        text-align: right;\n",
       "    }\n",
       "</style>\n",
       "<table border=\"1\" class=\"dataframe\">\n",
       "  <thead>\n",
       "    <tr style=\"text-align: right;\">\n",
       "      <th></th>\n",
       "      <th>user_id</th>\n",
       "      <th>price</th>\n",
       "      <th>age</th>\n",
       "      <th>is_male</th>\n",
       "    </tr>\n",
       "  </thead>\n",
       "  <tbody>\n",
       "    <tr>\n",
       "      <th>0</th>\n",
       "      <td>79395</td>\n",
       "      <td>14</td>\n",
       "      <td>35</td>\n",
       "      <td>1</td>\n",
       "    </tr>\n",
       "    <tr>\n",
       "      <th>1</th>\n",
       "      <td>91294</td>\n",
       "      <td>4</td>\n",
       "      <td>35</td>\n",
       "      <td>1</td>\n",
       "    </tr>\n",
       "    <tr>\n",
       "      <th>2</th>\n",
       "      <td>161323</td>\n",
       "      <td>4</td>\n",
       "      <td>39</td>\n",
       "      <td>0</td>\n",
       "    </tr>\n",
       "    <tr>\n",
       "      <th>3</th>\n",
       "      <td>304574</td>\n",
       "      <td>5</td>\n",
       "      <td>28</td>\n",
       "      <td>1</td>\n",
       "    </tr>\n",
       "    <tr>\n",
       "      <th>4</th>\n",
       "      <td>16874</td>\n",
       "      <td>2</td>\n",
       "      <td>32</td>\n",
       "      <td>0</td>\n",
       "    </tr>\n",
       "    <tr>\n",
       "      <th>...</th>\n",
       "      <td>...</td>\n",
       "      <td>...</td>\n",
       "      <td>...</td>\n",
       "      <td>...</td>\n",
       "    </tr>\n",
       "    <tr>\n",
       "      <th>267035</th>\n",
       "      <td>403319</td>\n",
       "      <td>16</td>\n",
       "      <td>28</td>\n",
       "      <td>0</td>\n",
       "    </tr>\n",
       "    <tr>\n",
       "      <th>267036</th>\n",
       "      <td>74976</td>\n",
       "      <td>3</td>\n",
       "      <td>39</td>\n",
       "      <td>1</td>\n",
       "    </tr>\n",
       "    <tr>\n",
       "      <th>267037</th>\n",
       "      <td>375972</td>\n",
       "      <td>11</td>\n",
       "      <td>48</td>\n",
       "      <td>0</td>\n",
       "    </tr>\n",
       "    <tr>\n",
       "      <th>267038</th>\n",
       "      <td>5505</td>\n",
       "      <td>3</td>\n",
       "      <td>26</td>\n",
       "      <td>1</td>\n",
       "    </tr>\n",
       "    <tr>\n",
       "      <th>267039</th>\n",
       "      <td>300964</td>\n",
       "      <td>3</td>\n",
       "      <td>57</td>\n",
       "      <td>0</td>\n",
       "    </tr>\n",
       "  </tbody>\n",
       "</table>\n",
       "<p>267040 rows × 4 columns</p>\n",
       "</div>"
      ],
      "text/plain": [
       "        user_id  price  age  is_male\n",
       "0         79395     14   35        1\n",
       "1         91294      4   35        1\n",
       "2        161323      4   39        0\n",
       "3        304574      5   28        1\n",
       "4         16874      2   32        0\n",
       "...         ...    ...  ...      ...\n",
       "267035   403319     16   28        0\n",
       "267036    74976      3   39        1\n",
       "267037   375972     11   48        0\n",
       "267038     5505      3   26        1\n",
       "267039   300964      3   57        0\n",
       "\n",
       "[267040 rows x 4 columns]"
      ]
     },
     "execution_count": 36,
     "metadata": {},
     "output_type": "execute_result"
    }
   ],
   "source": [
    "data_mearge = data.merge(targets, how = 'inner', on = ['user_id'])\n",
    "data_mearge"
   ]
  },
  {
   "cell_type": "code",
   "execution_count": 37,
   "id": "06eb1e48",
   "metadata": {
    "execution": {
     "iopub.execute_input": "2023-02-19T09:25:04.010559Z",
     "iopub.status.busy": "2023-02-19T09:25:04.010089Z",
     "iopub.status.idle": "2023-02-19T09:25:04.017847Z",
     "shell.execute_reply": "2023-02-19T09:25:04.016827Z"
    },
    "papermill": {
     "duration": 0.028988,
     "end_time": "2023-02-19T09:25:04.020188",
     "exception": false,
     "start_time": "2023-02-19T09:25:03.991200",
     "status": "completed"
    },
    "tags": []
   },
   "outputs": [],
   "source": [
    "data_mearge = pa.Table.from_pandas(data_mearge)"
   ]
  },
  {
   "cell_type": "code",
   "execution_count": 38,
   "id": "21571a1b",
   "metadata": {
    "execution": {
     "iopub.execute_input": "2023-02-19T09:25:04.056785Z",
     "iopub.status.busy": "2023-02-19T09:25:04.056005Z",
     "iopub.status.idle": "2023-02-19T09:25:04.068703Z",
     "shell.execute_reply": "2023-02-19T09:25:04.067820Z"
    },
    "papermill": {
     "duration": 0.03379,
     "end_time": "2023-02-19T09:25:04.071234",
     "exception": false,
     "start_time": "2023-02-19T09:25:04.037444",
     "status": "completed"
    },
    "tags": []
   },
   "outputs": [
    {
     "name": "stdout",
     "output_type": "stream",
     "text": [
      "CPU times: user 6.23 ms, sys: 1.09 ms, total: 7.32 ms\n",
      "Wall time: 6.35 ms\n"
     ]
    }
   ],
   "source": [
    "%%time\n",
    "data_agg = data_mearge.select(['price', 'age', 'is_male']).\\\n",
    "    group_by(['price']).aggregate([('age', 'mean'), ('is_male', 'mean')])"
   ]
  },
  {
   "cell_type": "code",
   "execution_count": 39,
   "id": "2a402f38",
   "metadata": {
    "execution": {
     "iopub.execute_input": "2023-02-19T09:25:04.107988Z",
     "iopub.status.busy": "2023-02-19T09:25:04.107557Z",
     "iopub.status.idle": "2023-02-19T09:25:04.170178Z",
     "shell.execute_reply": "2023-02-19T09:25:04.168843Z"
    },
    "papermill": {
     "duration": 0.084354,
     "end_time": "2023-02-19T09:25:04.172937",
     "exception": false,
     "start_time": "2023-02-19T09:25:04.088583",
     "status": "completed"
    },
    "tags": []
   },
   "outputs": [
    {
     "data": {
      "text/html": [
       "<div>\n",
       "<style scoped>\n",
       "    .dataframe tbody tr th:only-of-type {\n",
       "        vertical-align: middle;\n",
       "    }\n",
       "\n",
       "    .dataframe tbody tr th {\n",
       "        vertical-align: top;\n",
       "    }\n",
       "\n",
       "    .dataframe thead th {\n",
       "        text-align: right;\n",
       "    }\n",
       "</style>\n",
       "<table border=\"1\" class=\"dataframe\">\n",
       "  <thead>\n",
       "    <tr style=\"text-align: right;\">\n",
       "      <th></th>\n",
       "      <th>user_id</th>\n",
       "      <th>price</th>\n",
       "      <th>age_mean</th>\n",
       "      <th>is_male_mean</th>\n",
       "    </tr>\n",
       "  </thead>\n",
       "  <tbody>\n",
       "    <tr>\n",
       "      <th>0</th>\n",
       "      <td>45098</td>\n",
       "      <td>4</td>\n",
       "      <td>38.931642</td>\n",
       "      <td>0.511604</td>\n",
       "    </tr>\n",
       "    <tr>\n",
       "      <th>1</th>\n",
       "      <td>117132</td>\n",
       "      <td>0</td>\n",
       "      <td>41.498401</td>\n",
       "      <td>0.576446</td>\n",
       "    </tr>\n",
       "    <tr>\n",
       "      <th>2</th>\n",
       "      <td>79395</td>\n",
       "      <td>14</td>\n",
       "      <td>35.358038</td>\n",
       "      <td>0.568894</td>\n",
       "    </tr>\n",
       "    <tr>\n",
       "      <th>3</th>\n",
       "      <td>91294</td>\n",
       "      <td>4</td>\n",
       "      <td>38.931642</td>\n",
       "      <td>0.511604</td>\n",
       "    </tr>\n",
       "    <tr>\n",
       "      <th>4</th>\n",
       "      <td>161323</td>\n",
       "      <td>4</td>\n",
       "      <td>38.931642</td>\n",
       "      <td>0.511604</td>\n",
       "    </tr>\n",
       "    <tr>\n",
       "      <th>...</th>\n",
       "      <td>...</td>\n",
       "      <td>...</td>\n",
       "      <td>...</td>\n",
       "      <td>...</td>\n",
       "    </tr>\n",
       "    <tr>\n",
       "      <th>419604</th>\n",
       "      <td>375972</td>\n",
       "      <td>11</td>\n",
       "      <td>33.055539</td>\n",
       "      <td>0.444242</td>\n",
       "    </tr>\n",
       "    <tr>\n",
       "      <th>419605</th>\n",
       "      <td>160996</td>\n",
       "      <td>5</td>\n",
       "      <td>37.433300</td>\n",
       "      <td>0.538750</td>\n",
       "    </tr>\n",
       "    <tr>\n",
       "      <th>419606</th>\n",
       "      <td>5505</td>\n",
       "      <td>3</td>\n",
       "      <td>39.771103</td>\n",
       "      <td>0.512968</td>\n",
       "    </tr>\n",
       "    <tr>\n",
       "      <th>419607</th>\n",
       "      <td>260127</td>\n",
       "      <td>8</td>\n",
       "      <td>35.822194</td>\n",
       "      <td>0.523869</td>\n",
       "    </tr>\n",
       "    <tr>\n",
       "      <th>419608</th>\n",
       "      <td>300964</td>\n",
       "      <td>3</td>\n",
       "      <td>39.771103</td>\n",
       "      <td>0.512968</td>\n",
       "    </tr>\n",
       "  </tbody>\n",
       "</table>\n",
       "<p>419609 rows × 4 columns</p>\n",
       "</div>"
      ],
      "text/plain": [
       "        user_id  price   age_mean  is_male_mean\n",
       "0         45098      4  38.931642      0.511604\n",
       "1        117132      0  41.498401      0.576446\n",
       "2         79395     14  35.358038      0.568894\n",
       "3         91294      4  38.931642      0.511604\n",
       "4        161323      4  38.931642      0.511604\n",
       "...         ...    ...        ...           ...\n",
       "419604   375972     11  33.055539      0.444242\n",
       "419605   160996      5  37.433300      0.538750\n",
       "419606     5505      3  39.771103      0.512968\n",
       "419607   260127      8  35.822194      0.523869\n",
       "419608   300964      3  39.771103      0.512968\n",
       "\n",
       "[419609 rows x 4 columns]"
      ]
     },
     "execution_count": 39,
     "metadata": {},
     "output_type": "execute_result"
    }
   ],
   "source": [
    "data_mearge = data.merge(data_agg.to_pandas(), how = 'left', on = ['price'])\n",
    "data_mearge"
   ]
  },
  {
   "cell_type": "code",
   "execution_count": 40,
   "id": "68c38c88",
   "metadata": {
    "execution": {
     "iopub.execute_input": "2023-02-19T09:25:04.210579Z",
     "iopub.status.busy": "2023-02-19T09:25:04.210103Z",
     "iopub.status.idle": "2023-02-19T09:25:04.494884Z",
     "shell.execute_reply": "2023-02-19T09:25:04.493513Z"
    },
    "papermill": {
     "duration": 0.306764,
     "end_time": "2023-02-19T09:25:04.497817",
     "exception": false,
     "start_time": "2023-02-19T09:25:04.191053",
     "status": "completed"
    },
    "tags": []
   },
   "outputs": [
    {
     "data": {
      "text/html": [
       "<div>\n",
       "<style scoped>\n",
       "    .dataframe tbody tr th:only-of-type {\n",
       "        vertical-align: middle;\n",
       "    }\n",
       "\n",
       "    .dataframe tbody tr th {\n",
       "        vertical-align: top;\n",
       "    }\n",
       "\n",
       "    .dataframe thead th {\n",
       "        text-align: right;\n",
       "    }\n",
       "</style>\n",
       "<table border=\"1\" class=\"dataframe\">\n",
       "  <thead>\n",
       "    <tr style=\"text-align: right;\">\n",
       "      <th></th>\n",
       "      <th>price</th>\n",
       "      <th>age_mean</th>\n",
       "      <th>is_male_mean</th>\n",
       "    </tr>\n",
       "    <tr>\n",
       "      <th>user_id</th>\n",
       "      <th></th>\n",
       "      <th></th>\n",
       "      <th></th>\n",
       "    </tr>\n",
       "  </thead>\n",
       "  <tbody>\n",
       "    <tr>\n",
       "      <th>0</th>\n",
       "      <td>0.0</td>\n",
       "      <td>41.498401</td>\n",
       "      <td>0.576446</td>\n",
       "    </tr>\n",
       "    <tr>\n",
       "      <th>1</th>\n",
       "      <td>0.0</td>\n",
       "      <td>41.498401</td>\n",
       "      <td>0.576446</td>\n",
       "    </tr>\n",
       "    <tr>\n",
       "      <th>2</th>\n",
       "      <td>1.0</td>\n",
       "      <td>43.246011</td>\n",
       "      <td>0.513338</td>\n",
       "    </tr>\n",
       "    <tr>\n",
       "      <th>3</th>\n",
       "      <td>2.0</td>\n",
       "      <td>40.890760</td>\n",
       "      <td>0.519966</td>\n",
       "    </tr>\n",
       "    <tr>\n",
       "      <th>4</th>\n",
       "      <td>2.0</td>\n",
       "      <td>40.890760</td>\n",
       "      <td>0.519966</td>\n",
       "    </tr>\n",
       "    <tr>\n",
       "      <th>...</th>\n",
       "      <td>...</td>\n",
       "      <td>...</td>\n",
       "      <td>...</td>\n",
       "    </tr>\n",
       "    <tr>\n",
       "      <th>415312</th>\n",
       "      <td>1.0</td>\n",
       "      <td>43.246011</td>\n",
       "      <td>0.513338</td>\n",
       "    </tr>\n",
       "    <tr>\n",
       "      <th>415313</th>\n",
       "      <td>0.0</td>\n",
       "      <td>41.498401</td>\n",
       "      <td>0.576446</td>\n",
       "    </tr>\n",
       "    <tr>\n",
       "      <th>415314</th>\n",
       "      <td>3.0</td>\n",
       "      <td>39.771103</td>\n",
       "      <td>0.512968</td>\n",
       "    </tr>\n",
       "    <tr>\n",
       "      <th>415315</th>\n",
       "      <td>1.0</td>\n",
       "      <td>43.246011</td>\n",
       "      <td>0.513338</td>\n",
       "    </tr>\n",
       "    <tr>\n",
       "      <th>415316</th>\n",
       "      <td>2.0</td>\n",
       "      <td>40.890760</td>\n",
       "      <td>0.519966</td>\n",
       "    </tr>\n",
       "  </tbody>\n",
       "</table>\n",
       "<p>415317 rows × 3 columns</p>\n",
       "</div>"
      ],
      "text/plain": [
       "         price   age_mean  is_male_mean\n",
       "user_id                                \n",
       "0          0.0  41.498401      0.576446\n",
       "1          0.0  41.498401      0.576446\n",
       "2          1.0  43.246011      0.513338\n",
       "3          2.0  40.890760      0.519966\n",
       "4          2.0  40.890760      0.519966\n",
       "...        ...        ...           ...\n",
       "415312     1.0  43.246011      0.513338\n",
       "415313     0.0  41.498401      0.576446\n",
       "415314     3.0  39.771103      0.512968\n",
       "415315     1.0  43.246011      0.513338\n",
       "415316     2.0  40.890760      0.519966\n",
       "\n",
       "[415317 rows x 3 columns]"
      ]
     },
     "execution_count": 40,
     "metadata": {},
     "output_type": "execute_result"
    }
   ],
   "source": [
    "data_mearge = data_mearge.groupby('user_id').mean()\n",
    "data_mearge"
   ]
  },
  {
   "cell_type": "code",
   "execution_count": 41,
   "id": "7057a235",
   "metadata": {
    "execution": {
     "iopub.execute_input": "2023-02-19T09:25:04.536219Z",
     "iopub.status.busy": "2023-02-19T09:25:04.535773Z",
     "iopub.status.idle": "2023-02-19T09:25:06.351475Z",
     "shell.execute_reply": "2023-02-19T09:25:06.350056Z"
    },
    "papermill": {
     "duration": 1.838412,
     "end_time": "2023-02-19T09:25:06.354600",
     "exception": false,
     "start_time": "2023-02-19T09:25:04.516188",
     "status": "completed"
    },
    "tags": []
   },
   "outputs": [],
   "source": [
    "data_mearge.to_csv('/data/target_distribution_by_features/price_agg.csv', index=True)"
   ]
  },
  {
   "cell_type": "code",
   "execution_count": 42,
   "id": "7efd27bd",
   "metadata": {
    "execution": {
     "iopub.execute_input": "2023-02-19T09:25:06.393632Z",
     "iopub.status.busy": "2023-02-19T09:25:06.393098Z",
     "iopub.status.idle": "2023-02-19T09:25:45.657472Z",
     "shell.execute_reply": "2023-02-19T09:25:45.655921Z"
    },
    "papermill": {
     "duration": 39.287528,
     "end_time": "2023-02-19T09:25:45.660728",
     "exception": false,
     "start_time": "2023-02-19T09:25:06.373200",
     "status": "completed"
    },
    "tags": []
   },
   "outputs": [],
   "source": [
    "data = pd.read_feather('/data/dataset_full.feather')"
   ]
  },
  {
   "cell_type": "code",
   "execution_count": 43,
   "id": "08e6516b",
   "metadata": {
    "execution": {
     "iopub.execute_input": "2023-02-19T09:25:45.714064Z",
     "iopub.status.busy": "2023-02-19T09:25:45.713614Z",
     "iopub.status.idle": "2023-02-19T09:25:50.697153Z",
     "shell.execute_reply": "2023-02-19T09:25:50.695750Z"
    },
    "papermill": {
     "duration": 5.007805,
     "end_time": "2023-02-19T09:25:50.699773",
     "exception": false,
     "start_time": "2023-02-19T09:25:45.691968",
     "status": "completed"
    },
    "tags": []
   },
   "outputs": [
    {
     "data": {
      "text/html": [
       "<div>\n",
       "<style scoped>\n",
       "    .dataframe tbody tr th:only-of-type {\n",
       "        vertical-align: middle;\n",
       "    }\n",
       "\n",
       "    .dataframe tbody tr th {\n",
       "        vertical-align: top;\n",
       "    }\n",
       "\n",
       "    .dataframe thead th {\n",
       "        text-align: right;\n",
       "    }\n",
       "</style>\n",
       "<table border=\"1\" class=\"dataframe\">\n",
       "  <thead>\n",
       "    <tr style=\"text-align: right;\">\n",
       "      <th></th>\n",
       "      <th>user_id</th>\n",
       "      <th>date</th>\n",
       "      <th>request_cnt</th>\n",
       "    </tr>\n",
       "  </thead>\n",
       "  <tbody>\n",
       "    <tr>\n",
       "      <th>0</th>\n",
       "      <td>45098</td>\n",
       "      <td>2022-06-15</td>\n",
       "      <td>1</td>\n",
       "    </tr>\n",
       "    <tr>\n",
       "      <th>1</th>\n",
       "      <td>45098</td>\n",
       "      <td>2022-06-19</td>\n",
       "      <td>1</td>\n",
       "    </tr>\n",
       "    <tr>\n",
       "      <th>2</th>\n",
       "      <td>45098</td>\n",
       "      <td>2022-06-12</td>\n",
       "      <td>1</td>\n",
       "    </tr>\n",
       "    <tr>\n",
       "      <th>3</th>\n",
       "      <td>45098</td>\n",
       "      <td>2022-05-16</td>\n",
       "      <td>1</td>\n",
       "    </tr>\n",
       "    <tr>\n",
       "      <th>4</th>\n",
       "      <td>45098</td>\n",
       "      <td>2022-05-30</td>\n",
       "      <td>1</td>\n",
       "    </tr>\n",
       "    <tr>\n",
       "      <th>...</th>\n",
       "      <td>...</td>\n",
       "      <td>...</td>\n",
       "      <td>...</td>\n",
       "    </tr>\n",
       "    <tr>\n",
       "      <th>322899430</th>\n",
       "      <td>300964</td>\n",
       "      <td>2021-07-12</td>\n",
       "      <td>1</td>\n",
       "    </tr>\n",
       "    <tr>\n",
       "      <th>322899431</th>\n",
       "      <td>300964</td>\n",
       "      <td>2021-06-20</td>\n",
       "      <td>1</td>\n",
       "    </tr>\n",
       "    <tr>\n",
       "      <th>322899432</th>\n",
       "      <td>300964</td>\n",
       "      <td>2021-08-05</td>\n",
       "      <td>1</td>\n",
       "    </tr>\n",
       "    <tr>\n",
       "      <th>322899433</th>\n",
       "      <td>300964</td>\n",
       "      <td>2021-07-19</td>\n",
       "      <td>1</td>\n",
       "    </tr>\n",
       "    <tr>\n",
       "      <th>322899434</th>\n",
       "      <td>300964</td>\n",
       "      <td>2021-08-09</td>\n",
       "      <td>1</td>\n",
       "    </tr>\n",
       "  </tbody>\n",
       "</table>\n",
       "<p>322899435 rows × 3 columns</p>\n",
       "</div>"
      ],
      "text/plain": [
       "           user_id       date  request_cnt\n",
       "0            45098 2022-06-15            1\n",
       "1            45098 2022-06-19            1\n",
       "2            45098 2022-06-12            1\n",
       "3            45098 2022-05-16            1\n",
       "4            45098 2022-05-30            1\n",
       "...            ...        ...          ...\n",
       "322899430   300964 2021-07-12            1\n",
       "322899431   300964 2021-06-20            1\n",
       "322899432   300964 2021-08-05            1\n",
       "322899433   300964 2021-07-19            1\n",
       "322899434   300964 2021-08-09            1\n",
       "\n",
       "[322899435 rows x 3 columns]"
      ]
     },
     "execution_count": 43,
     "metadata": {},
     "output_type": "execute_result"
    }
   ],
   "source": [
    "data = data[['user_id', 'date', 'request_cnt']]\n",
    "data"
   ]
  },
  {
   "cell_type": "code",
   "execution_count": 44,
   "id": "c9bc6802",
   "metadata": {
    "execution": {
     "iopub.execute_input": "2023-02-19T09:25:50.740277Z",
     "iopub.status.busy": "2023-02-19T09:25:50.739517Z",
     "iopub.status.idle": "2023-02-19T09:25:52.988075Z",
     "shell.execute_reply": "2023-02-19T09:25:52.983854Z"
    },
    "papermill": {
     "duration": 2.276934,
     "end_time": "2023-02-19T09:25:52.995058",
     "exception": false,
     "start_time": "2023-02-19T09:25:50.718124",
     "status": "completed"
    },
    "tags": []
   },
   "outputs": [],
   "source": [
    "data = pa.Table.from_pandas(data)"
   ]
  },
  {
   "cell_type": "code",
   "execution_count": 45,
   "id": "7803dc94",
   "metadata": {
    "execution": {
     "iopub.execute_input": "2023-02-19T09:25:53.055432Z",
     "iopub.status.busy": "2023-02-19T09:25:53.053321Z",
     "iopub.status.idle": "2023-02-19T09:26:07.359739Z",
     "shell.execute_reply": "2023-02-19T09:26:07.358273Z"
    },
    "papermill": {
     "duration": 14.335415,
     "end_time": "2023-02-19T09:26:07.362735",
     "exception": false,
     "start_time": "2023-02-19T09:25:53.027320",
     "status": "completed"
    },
    "tags": []
   },
   "outputs": [
    {
     "name": "stdout",
     "output_type": "stream",
     "text": [
      "CPU times: user 11.6 s, sys: 2.71 s, total: 14.3 s\n",
      "Wall time: 14.3 s\n"
     ]
    }
   ],
   "source": [
    "%%time\n",
    "data_agg = data.group_by(['user_id']).aggregate([('date', 'count'), ('request_cnt', 'sum')])"
   ]
  },
  {
   "cell_type": "code",
   "execution_count": 46,
   "id": "9c60e70b",
   "metadata": {
    "execution": {
     "iopub.execute_input": "2023-02-19T09:26:07.403247Z",
     "iopub.status.busy": "2023-02-19T09:26:07.402744Z",
     "iopub.status.idle": "2023-02-19T09:26:07.464078Z",
     "shell.execute_reply": "2023-02-19T09:26:07.462518Z"
    },
    "papermill": {
     "duration": 0.084912,
     "end_time": "2023-02-19T09:26:07.466890",
     "exception": false,
     "start_time": "2023-02-19T09:26:07.381978",
     "status": "completed"
    },
    "tags": []
   },
   "outputs": [
    {
     "data": {
      "text/html": [
       "<div>\n",
       "<style scoped>\n",
       "    .dataframe tbody tr th:only-of-type {\n",
       "        vertical-align: middle;\n",
       "    }\n",
       "\n",
       "    .dataframe tbody tr th {\n",
       "        vertical-align: top;\n",
       "    }\n",
       "\n",
       "    .dataframe thead th {\n",
       "        text-align: right;\n",
       "    }\n",
       "</style>\n",
       "<table border=\"1\" class=\"dataframe\">\n",
       "  <thead>\n",
       "    <tr style=\"text-align: right;\">\n",
       "      <th></th>\n",
       "      <th>user_id</th>\n",
       "      <th>activity_per_day</th>\n",
       "    </tr>\n",
       "  </thead>\n",
       "  <tbody>\n",
       "    <tr>\n",
       "      <th>0</th>\n",
       "      <td>45098</td>\n",
       "      <td>1.458710</td>\n",
       "    </tr>\n",
       "    <tr>\n",
       "      <th>1</th>\n",
       "      <td>117132</td>\n",
       "      <td>1.781163</td>\n",
       "    </tr>\n",
       "    <tr>\n",
       "      <th>2</th>\n",
       "      <td>79395</td>\n",
       "      <td>2.022018</td>\n",
       "    </tr>\n",
       "    <tr>\n",
       "      <th>3</th>\n",
       "      <td>91294</td>\n",
       "      <td>1.552229</td>\n",
       "    </tr>\n",
       "    <tr>\n",
       "      <th>4</th>\n",
       "      <td>161323</td>\n",
       "      <td>1.408946</td>\n",
       "    </tr>\n",
       "    <tr>\n",
       "      <th>...</th>\n",
       "      <td>...</td>\n",
       "      <td>...</td>\n",
       "    </tr>\n",
       "    <tr>\n",
       "      <th>415312</th>\n",
       "      <td>375972</td>\n",
       "      <td>1.211594</td>\n",
       "    </tr>\n",
       "    <tr>\n",
       "      <th>415313</th>\n",
       "      <td>160996</td>\n",
       "      <td>1.726087</td>\n",
       "    </tr>\n",
       "    <tr>\n",
       "      <th>415314</th>\n",
       "      <td>5505</td>\n",
       "      <td>1.291667</td>\n",
       "    </tr>\n",
       "    <tr>\n",
       "      <th>415315</th>\n",
       "      <td>260127</td>\n",
       "      <td>1.517442</td>\n",
       "    </tr>\n",
       "    <tr>\n",
       "      <th>415316</th>\n",
       "      <td>300964</td>\n",
       "      <td>1.570530</td>\n",
       "    </tr>\n",
       "  </tbody>\n",
       "</table>\n",
       "<p>415317 rows × 2 columns</p>\n",
       "</div>"
      ],
      "text/plain": [
       "        user_id  activity_per_day\n",
       "0         45098          1.458710\n",
       "1        117132          1.781163\n",
       "2         79395          2.022018\n",
       "3         91294          1.552229\n",
       "4        161323          1.408946\n",
       "...         ...               ...\n",
       "415312   375972          1.211594\n",
       "415313   160996          1.726087\n",
       "415314     5505          1.291667\n",
       "415315   260127          1.517442\n",
       "415316   300964          1.570530\n",
       "\n",
       "[415317 rows x 2 columns]"
      ]
     },
     "execution_count": 46,
     "metadata": {},
     "output_type": "execute_result"
    }
   ],
   "source": [
    "activity = data_agg.to_pandas()\n",
    "activity['activity_per_day'] = activity['request_cnt_sum']/activity['date_count']\n",
    "activity = activity.drop(['request_cnt_sum', 'date_count'], axis=1)\n",
    "activity"
   ]
  },
  {
   "cell_type": "code",
   "execution_count": 47,
   "id": "ac882010",
   "metadata": {
    "execution": {
     "iopub.execute_input": "2023-02-19T09:26:07.509233Z",
     "iopub.status.busy": "2023-02-19T09:26:07.508092Z",
     "iopub.status.idle": "2023-02-19T09:26:07.515785Z",
     "shell.execute_reply": "2023-02-19T09:26:07.514265Z"
    },
    "papermill": {
     "duration": 0.031368,
     "end_time": "2023-02-19T09:26:07.518281",
     "exception": false,
     "start_time": "2023-02-19T09:26:07.486913",
     "status": "completed"
    },
    "tags": []
   },
   "outputs": [],
   "source": [
    "def activity_bucket(x):\n",
    "    return bisect.bisect_left(np.arange(1, 7, 0.25), x)"
   ]
  },
  {
   "cell_type": "code",
   "execution_count": 48,
   "id": "baf04f3a",
   "metadata": {
    "execution": {
     "iopub.execute_input": "2023-02-19T09:26:07.560066Z",
     "iopub.status.busy": "2023-02-19T09:26:07.559612Z",
     "iopub.status.idle": "2023-02-19T09:26:08.472904Z",
     "shell.execute_reply": "2023-02-19T09:26:08.471247Z"
    },
    "papermill": {
     "duration": 0.938104,
     "end_time": "2023-02-19T09:26:08.476288",
     "exception": false,
     "start_time": "2023-02-19T09:26:07.538184",
     "status": "completed"
    },
    "tags": []
   },
   "outputs": [
    {
     "data": {
      "text/html": [
       "<div>\n",
       "<style scoped>\n",
       "    .dataframe tbody tr th:only-of-type {\n",
       "        vertical-align: middle;\n",
       "    }\n",
       "\n",
       "    .dataframe tbody tr th {\n",
       "        vertical-align: top;\n",
       "    }\n",
       "\n",
       "    .dataframe thead th {\n",
       "        text-align: right;\n",
       "    }\n",
       "</style>\n",
       "<table border=\"1\" class=\"dataframe\">\n",
       "  <thead>\n",
       "    <tr style=\"text-align: right;\">\n",
       "      <th></th>\n",
       "      <th>user_id</th>\n",
       "      <th>activity_per_day</th>\n",
       "      <th>activity</th>\n",
       "    </tr>\n",
       "  </thead>\n",
       "  <tbody>\n",
       "    <tr>\n",
       "      <th>0</th>\n",
       "      <td>45098</td>\n",
       "      <td>1.458710</td>\n",
       "      <td>2</td>\n",
       "    </tr>\n",
       "    <tr>\n",
       "      <th>1</th>\n",
       "      <td>117132</td>\n",
       "      <td>1.781163</td>\n",
       "      <td>4</td>\n",
       "    </tr>\n",
       "    <tr>\n",
       "      <th>2</th>\n",
       "      <td>79395</td>\n",
       "      <td>2.022018</td>\n",
       "      <td>5</td>\n",
       "    </tr>\n",
       "    <tr>\n",
       "      <th>3</th>\n",
       "      <td>91294</td>\n",
       "      <td>1.552229</td>\n",
       "      <td>3</td>\n",
       "    </tr>\n",
       "    <tr>\n",
       "      <th>4</th>\n",
       "      <td>161323</td>\n",
       "      <td>1.408946</td>\n",
       "      <td>2</td>\n",
       "    </tr>\n",
       "    <tr>\n",
       "      <th>...</th>\n",
       "      <td>...</td>\n",
       "      <td>...</td>\n",
       "      <td>...</td>\n",
       "    </tr>\n",
       "    <tr>\n",
       "      <th>415312</th>\n",
       "      <td>375972</td>\n",
       "      <td>1.211594</td>\n",
       "      <td>1</td>\n",
       "    </tr>\n",
       "    <tr>\n",
       "      <th>415313</th>\n",
       "      <td>160996</td>\n",
       "      <td>1.726087</td>\n",
       "      <td>3</td>\n",
       "    </tr>\n",
       "    <tr>\n",
       "      <th>415314</th>\n",
       "      <td>5505</td>\n",
       "      <td>1.291667</td>\n",
       "      <td>2</td>\n",
       "    </tr>\n",
       "    <tr>\n",
       "      <th>415315</th>\n",
       "      <td>260127</td>\n",
       "      <td>1.517442</td>\n",
       "      <td>3</td>\n",
       "    </tr>\n",
       "    <tr>\n",
       "      <th>415316</th>\n",
       "      <td>300964</td>\n",
       "      <td>1.570530</td>\n",
       "      <td>3</td>\n",
       "    </tr>\n",
       "  </tbody>\n",
       "</table>\n",
       "<p>415317 rows × 3 columns</p>\n",
       "</div>"
      ],
      "text/plain": [
       "        user_id  activity_per_day  activity\n",
       "0         45098          1.458710         2\n",
       "1        117132          1.781163         4\n",
       "2         79395          2.022018         5\n",
       "3         91294          1.552229         3\n",
       "4        161323          1.408946         2\n",
       "...         ...               ...       ...\n",
       "415312   375972          1.211594         1\n",
       "415313   160996          1.726087         3\n",
       "415314     5505          1.291667         2\n",
       "415315   260127          1.517442         3\n",
       "415316   300964          1.570530         3\n",
       "\n",
       "[415317 rows x 3 columns]"
      ]
     },
     "execution_count": 48,
     "metadata": {},
     "output_type": "execute_result"
    }
   ],
   "source": [
    "activity['activity'] = activity['activity_per_day'].map(activity_bucket)\n",
    "activity"
   ]
  },
  {
   "cell_type": "code",
   "execution_count": 49,
   "id": "103a3fbc",
   "metadata": {
    "execution": {
     "iopub.execute_input": "2023-02-19T09:26:08.518147Z",
     "iopub.status.busy": "2023-02-19T09:26:08.517643Z",
     "iopub.status.idle": "2023-02-19T09:26:08.764548Z",
     "shell.execute_reply": "2023-02-19T09:26:08.763197Z"
    },
    "papermill": {
     "duration": 0.271313,
     "end_time": "2023-02-19T09:26:08.767376",
     "exception": false,
     "start_time": "2023-02-19T09:26:08.496063",
     "status": "completed"
    },
    "tags": []
   },
   "outputs": [
    {
     "data": {
      "text/html": [
       "<div>\n",
       "<style scoped>\n",
       "    .dataframe tbody tr th:only-of-type {\n",
       "        vertical-align: middle;\n",
       "    }\n",
       "\n",
       "    .dataframe tbody tr th {\n",
       "        vertical-align: top;\n",
       "    }\n",
       "\n",
       "    .dataframe thead th {\n",
       "        text-align: right;\n",
       "    }\n",
       "</style>\n",
       "<table border=\"1\" class=\"dataframe\">\n",
       "  <thead>\n",
       "    <tr style=\"text-align: right;\">\n",
       "      <th></th>\n",
       "      <th>age</th>\n",
       "      <th>is_male</th>\n",
       "      <th>user_id</th>\n",
       "      <th>activity_per_day</th>\n",
       "      <th>activity</th>\n",
       "    </tr>\n",
       "  </thead>\n",
       "  <tbody>\n",
       "    <tr>\n",
       "      <th>0</th>\n",
       "      <td>31</td>\n",
       "      <td>1</td>\n",
       "      <td>350459</td>\n",
       "      <td>1.348315</td>\n",
       "      <td>2</td>\n",
       "    </tr>\n",
       "    <tr>\n",
       "      <th>1</th>\n",
       "      <td>35</td>\n",
       "      <td>1</td>\n",
       "      <td>188276</td>\n",
       "      <td>1.414414</td>\n",
       "      <td>2</td>\n",
       "    </tr>\n",
       "    <tr>\n",
       "      <th>2</th>\n",
       "      <td>41</td>\n",
       "      <td>0</td>\n",
       "      <td>99002</td>\n",
       "      <td>1.339593</td>\n",
       "      <td>2</td>\n",
       "    </tr>\n",
       "    <tr>\n",
       "      <th>3</th>\n",
       "      <td>33</td>\n",
       "      <td>0</td>\n",
       "      <td>155506</td>\n",
       "      <td>1.727273</td>\n",
       "      <td>3</td>\n",
       "    </tr>\n",
       "    <tr>\n",
       "      <th>4</th>\n",
       "      <td>54</td>\n",
       "      <td>0</td>\n",
       "      <td>213873</td>\n",
       "      <td>1.000000</td>\n",
       "      <td>0</td>\n",
       "    </tr>\n",
       "    <tr>\n",
       "      <th>...</th>\n",
       "      <td>...</td>\n",
       "      <td>...</td>\n",
       "      <td>...</td>\n",
       "      <td>...</td>\n",
       "      <td>...</td>\n",
       "    </tr>\n",
       "    <tr>\n",
       "      <th>264291</th>\n",
       "      <td>49</td>\n",
       "      <td>1</td>\n",
       "      <td>225374</td>\n",
       "      <td>1.601331</td>\n",
       "      <td>3</td>\n",
       "    </tr>\n",
       "    <tr>\n",
       "      <th>264292</th>\n",
       "      <td>22</td>\n",
       "      <td>1</td>\n",
       "      <td>25776</td>\n",
       "      <td>1.266667</td>\n",
       "      <td>2</td>\n",
       "    </tr>\n",
       "    <tr>\n",
       "      <th>264293</th>\n",
       "      <td>28</td>\n",
       "      <td>0</td>\n",
       "      <td>148131</td>\n",
       "      <td>1.448276</td>\n",
       "      <td>2</td>\n",
       "    </tr>\n",
       "    <tr>\n",
       "      <th>264294</th>\n",
       "      <td>28</td>\n",
       "      <td>1</td>\n",
       "      <td>205570</td>\n",
       "      <td>1.698603</td>\n",
       "      <td>3</td>\n",
       "    </tr>\n",
       "    <tr>\n",
       "      <th>264295</th>\n",
       "      <td>68</td>\n",
       "      <td>1</td>\n",
       "      <td>103148</td>\n",
       "      <td>1.516317</td>\n",
       "      <td>3</td>\n",
       "    </tr>\n",
       "  </tbody>\n",
       "</table>\n",
       "<p>264296 rows × 5 columns</p>\n",
       "</div>"
      ],
      "text/plain": [
       "        age  is_male  user_id  activity_per_day  activity\n",
       "0        31        1   350459          1.348315         2\n",
       "1        35        1   188276          1.414414         2\n",
       "2        41        0    99002          1.339593         2\n",
       "3        33        0   155506          1.727273         3\n",
       "4        54        0   213873          1.000000         0\n",
       "...     ...      ...      ...               ...       ...\n",
       "264291   49        1   225374          1.601331         3\n",
       "264292   22        1    25776          1.266667         2\n",
       "264293   28        0   148131          1.448276         2\n",
       "264294   28        1   205570          1.698603         3\n",
       "264295   68        1   103148          1.516317         3\n",
       "\n",
       "[264296 rows x 5 columns]"
      ]
     },
     "execution_count": 49,
     "metadata": {},
     "output_type": "execute_result"
    }
   ],
   "source": [
    "data_mearge = targets.merge(activity, how = 'inner', on = ['user_id'])\n",
    "data_mearge"
   ]
  },
  {
   "cell_type": "code",
   "execution_count": 50,
   "id": "fe09f80c",
   "metadata": {
    "execution": {
     "iopub.execute_input": "2023-02-19T09:26:08.809117Z",
     "iopub.status.busy": "2023-02-19T09:26:08.808657Z",
     "iopub.status.idle": "2023-02-19T09:26:08.817967Z",
     "shell.execute_reply": "2023-02-19T09:26:08.816663Z"
    },
    "papermill": {
     "duration": 0.033446,
     "end_time": "2023-02-19T09:26:08.820898",
     "exception": false,
     "start_time": "2023-02-19T09:26:08.787452",
     "status": "completed"
    },
    "tags": []
   },
   "outputs": [],
   "source": [
    "data_mearge = pa.Table.from_pandas(data_mearge)"
   ]
  },
  {
   "cell_type": "code",
   "execution_count": 51,
   "id": "013dc302",
   "metadata": {
    "execution": {
     "iopub.execute_input": "2023-02-19T09:26:08.865065Z",
     "iopub.status.busy": "2023-02-19T09:26:08.864617Z",
     "iopub.status.idle": "2023-02-19T09:26:08.879168Z",
     "shell.execute_reply": "2023-02-19T09:26:08.877619Z"
    },
    "papermill": {
     "duration": 0.040746,
     "end_time": "2023-02-19T09:26:08.882033",
     "exception": false,
     "start_time": "2023-02-19T09:26:08.841287",
     "status": "completed"
    },
    "tags": []
   },
   "outputs": [
    {
     "name": "stdout",
     "output_type": "stream",
     "text": [
      "CPU times: user 7.81 ms, sys: 0 ns, total: 7.81 ms\n",
      "Wall time: 7.29 ms\n"
     ]
    }
   ],
   "source": [
    "%%time\n",
    "activity_agg = data_mearge.select(['activity', 'age', 'is_male']).\\\n",
    "    group_by(['activity']).aggregate([('age', 'mean'), ('is_male', 'mean')])"
   ]
  },
  {
   "cell_type": "code",
   "execution_count": 52,
   "id": "074e13f1",
   "metadata": {
    "execution": {
     "iopub.execute_input": "2023-02-19T09:26:08.925546Z",
     "iopub.status.busy": "2023-02-19T09:26:08.924769Z",
     "iopub.status.idle": "2023-02-19T09:26:08.982106Z",
     "shell.execute_reply": "2023-02-19T09:26:08.980534Z"
    },
    "papermill": {
     "duration": 0.082767,
     "end_time": "2023-02-19T09:26:08.984912",
     "exception": false,
     "start_time": "2023-02-19T09:26:08.902145",
     "status": "completed"
    },
    "tags": []
   },
   "outputs": [
    {
     "data": {
      "text/html": [
       "<div>\n",
       "<style scoped>\n",
       "    .dataframe tbody tr th:only-of-type {\n",
       "        vertical-align: middle;\n",
       "    }\n",
       "\n",
       "    .dataframe tbody tr th {\n",
       "        vertical-align: top;\n",
       "    }\n",
       "\n",
       "    .dataframe thead th {\n",
       "        text-align: right;\n",
       "    }\n",
       "</style>\n",
       "<table border=\"1\" class=\"dataframe\">\n",
       "  <thead>\n",
       "    <tr style=\"text-align: right;\">\n",
       "      <th></th>\n",
       "      <th>user_id</th>\n",
       "      <th>activity_per_day</th>\n",
       "      <th>activity</th>\n",
       "      <th>age_mean</th>\n",
       "      <th>is_male_mean</th>\n",
       "    </tr>\n",
       "  </thead>\n",
       "  <tbody>\n",
       "    <tr>\n",
       "      <th>0</th>\n",
       "      <td>45098</td>\n",
       "      <td>1.458710</td>\n",
       "      <td>2</td>\n",
       "      <td>39.38022</td>\n",
       "      <td>0.508531</td>\n",
       "    </tr>\n",
       "    <tr>\n",
       "      <th>1</th>\n",
       "      <td>161323</td>\n",
       "      <td>1.408946</td>\n",
       "      <td>2</td>\n",
       "      <td>39.38022</td>\n",
       "      <td>0.508531</td>\n",
       "    </tr>\n",
       "    <tr>\n",
       "      <th>2</th>\n",
       "      <td>69797</td>\n",
       "      <td>1.416466</td>\n",
       "      <td>2</td>\n",
       "      <td>39.38022</td>\n",
       "      <td>0.508531</td>\n",
       "    </tr>\n",
       "    <tr>\n",
       "      <th>3</th>\n",
       "      <td>401442</td>\n",
       "      <td>1.403941</td>\n",
       "      <td>2</td>\n",
       "      <td>39.38022</td>\n",
       "      <td>0.508531</td>\n",
       "    </tr>\n",
       "    <tr>\n",
       "      <th>4</th>\n",
       "      <td>205391</td>\n",
       "      <td>1.261538</td>\n",
       "      <td>2</td>\n",
       "      <td>39.38022</td>\n",
       "      <td>0.508531</td>\n",
       "    </tr>\n",
       "    <tr>\n",
       "      <th>...</th>\n",
       "      <td>...</td>\n",
       "      <td>...</td>\n",
       "      <td>...</td>\n",
       "      <td>...</td>\n",
       "      <td>...</td>\n",
       "    </tr>\n",
       "    <tr>\n",
       "      <th>415311</th>\n",
       "      <td>182543</td>\n",
       "      <td>5.500000</td>\n",
       "      <td>18</td>\n",
       "      <td>44.10000</td>\n",
       "      <td>0.400000</td>\n",
       "    </tr>\n",
       "    <tr>\n",
       "      <th>415312</th>\n",
       "      <td>72276</td>\n",
       "      <td>5.428571</td>\n",
       "      <td>18</td>\n",
       "      <td>44.10000</td>\n",
       "      <td>0.400000</td>\n",
       "    </tr>\n",
       "    <tr>\n",
       "      <th>415313</th>\n",
       "      <td>130544</td>\n",
       "      <td>5.333333</td>\n",
       "      <td>18</td>\n",
       "      <td>44.10000</td>\n",
       "      <td>0.400000</td>\n",
       "    </tr>\n",
       "    <tr>\n",
       "      <th>415314</th>\n",
       "      <td>34713</td>\n",
       "      <td>7.111111</td>\n",
       "      <td>24</td>\n",
       "      <td>39.00000</td>\n",
       "      <td>0.500000</td>\n",
       "    </tr>\n",
       "    <tr>\n",
       "      <th>415315</th>\n",
       "      <td>404830</td>\n",
       "      <td>7.000000</td>\n",
       "      <td>24</td>\n",
       "      <td>39.00000</td>\n",
       "      <td>0.500000</td>\n",
       "    </tr>\n",
       "  </tbody>\n",
       "</table>\n",
       "<p>415316 rows × 5 columns</p>\n",
       "</div>"
      ],
      "text/plain": [
       "        user_id  activity_per_day  activity  age_mean  is_male_mean\n",
       "0         45098          1.458710         2  39.38022      0.508531\n",
       "1        161323          1.408946         2  39.38022      0.508531\n",
       "2         69797          1.416466         2  39.38022      0.508531\n",
       "3        401442          1.403941         2  39.38022      0.508531\n",
       "4        205391          1.261538         2  39.38022      0.508531\n",
       "...         ...               ...       ...       ...           ...\n",
       "415311   182543          5.500000        18  44.10000      0.400000\n",
       "415312    72276          5.428571        18  44.10000      0.400000\n",
       "415313   130544          5.333333        18  44.10000      0.400000\n",
       "415314    34713          7.111111        24  39.00000      0.500000\n",
       "415315   404830          7.000000        24  39.00000      0.500000\n",
       "\n",
       "[415316 rows x 5 columns]"
      ]
     },
     "execution_count": 52,
     "metadata": {},
     "output_type": "execute_result"
    }
   ],
   "source": [
    "activity_mearge = activity.merge(activity_agg.to_pandas(), how = 'inner', on = ['activity'])\n",
    "activity_mearge"
   ]
  },
  {
   "cell_type": "code",
   "execution_count": 53,
   "id": "147b23cf",
   "metadata": {
    "execution": {
     "iopub.execute_input": "2023-02-19T09:26:09.027341Z",
     "iopub.status.busy": "2023-02-19T09:26:09.026861Z",
     "iopub.status.idle": "2023-02-19T09:26:09.066773Z",
     "shell.execute_reply": "2023-02-19T09:26:09.065510Z"
    },
    "papermill": {
     "duration": 0.064195,
     "end_time": "2023-02-19T09:26:09.069256",
     "exception": false,
     "start_time": "2023-02-19T09:26:09.005061",
     "status": "completed"
    },
    "tags": []
   },
   "outputs": [
    {
     "data": {
      "text/html": [
       "<div>\n",
       "<style scoped>\n",
       "    .dataframe tbody tr th:only-of-type {\n",
       "        vertical-align: middle;\n",
       "    }\n",
       "\n",
       "    .dataframe tbody tr th {\n",
       "        vertical-align: top;\n",
       "    }\n",
       "\n",
       "    .dataframe thead th {\n",
       "        text-align: right;\n",
       "    }\n",
       "</style>\n",
       "<table border=\"1\" class=\"dataframe\">\n",
       "  <thead>\n",
       "    <tr style=\"text-align: right;\">\n",
       "      <th></th>\n",
       "      <th>user_id</th>\n",
       "      <th>activity_per_day</th>\n",
       "      <th>age_mean</th>\n",
       "      <th>is_male_mean</th>\n",
       "    </tr>\n",
       "  </thead>\n",
       "  <tbody>\n",
       "    <tr>\n",
       "      <th>0</th>\n",
       "      <td>45098</td>\n",
       "      <td>1.458710</td>\n",
       "      <td>39.38022</td>\n",
       "      <td>0.508531</td>\n",
       "    </tr>\n",
       "    <tr>\n",
       "      <th>1</th>\n",
       "      <td>161323</td>\n",
       "      <td>1.408946</td>\n",
       "      <td>39.38022</td>\n",
       "      <td>0.508531</td>\n",
       "    </tr>\n",
       "    <tr>\n",
       "      <th>2</th>\n",
       "      <td>69797</td>\n",
       "      <td>1.416466</td>\n",
       "      <td>39.38022</td>\n",
       "      <td>0.508531</td>\n",
       "    </tr>\n",
       "    <tr>\n",
       "      <th>3</th>\n",
       "      <td>401442</td>\n",
       "      <td>1.403941</td>\n",
       "      <td>39.38022</td>\n",
       "      <td>0.508531</td>\n",
       "    </tr>\n",
       "    <tr>\n",
       "      <th>4</th>\n",
       "      <td>205391</td>\n",
       "      <td>1.261538</td>\n",
       "      <td>39.38022</td>\n",
       "      <td>0.508531</td>\n",
       "    </tr>\n",
       "    <tr>\n",
       "      <th>...</th>\n",
       "      <td>...</td>\n",
       "      <td>...</td>\n",
       "      <td>...</td>\n",
       "      <td>...</td>\n",
       "    </tr>\n",
       "    <tr>\n",
       "      <th>415311</th>\n",
       "      <td>182543</td>\n",
       "      <td>5.500000</td>\n",
       "      <td>44.10000</td>\n",
       "      <td>0.400000</td>\n",
       "    </tr>\n",
       "    <tr>\n",
       "      <th>415312</th>\n",
       "      <td>72276</td>\n",
       "      <td>5.428571</td>\n",
       "      <td>44.10000</td>\n",
       "      <td>0.400000</td>\n",
       "    </tr>\n",
       "    <tr>\n",
       "      <th>415313</th>\n",
       "      <td>130544</td>\n",
       "      <td>5.333333</td>\n",
       "      <td>44.10000</td>\n",
       "      <td>0.400000</td>\n",
       "    </tr>\n",
       "    <tr>\n",
       "      <th>415314</th>\n",
       "      <td>34713</td>\n",
       "      <td>7.111111</td>\n",
       "      <td>39.00000</td>\n",
       "      <td>0.500000</td>\n",
       "    </tr>\n",
       "    <tr>\n",
       "      <th>415315</th>\n",
       "      <td>404830</td>\n",
       "      <td>7.000000</td>\n",
       "      <td>39.00000</td>\n",
       "      <td>0.500000</td>\n",
       "    </tr>\n",
       "  </tbody>\n",
       "</table>\n",
       "<p>415316 rows × 4 columns</p>\n",
       "</div>"
      ],
      "text/plain": [
       "        user_id  activity_per_day  age_mean  is_male_mean\n",
       "0         45098          1.458710  39.38022      0.508531\n",
       "1        161323          1.408946  39.38022      0.508531\n",
       "2         69797          1.416466  39.38022      0.508531\n",
       "3        401442          1.403941  39.38022      0.508531\n",
       "4        205391          1.261538  39.38022      0.508531\n",
       "...         ...               ...       ...           ...\n",
       "415311   182543          5.500000  44.10000      0.400000\n",
       "415312    72276          5.428571  44.10000      0.400000\n",
       "415313   130544          5.333333  44.10000      0.400000\n",
       "415314    34713          7.111111  39.00000      0.500000\n",
       "415315   404830          7.000000  39.00000      0.500000\n",
       "\n",
       "[415316 rows x 4 columns]"
      ]
     },
     "execution_count": 53,
     "metadata": {},
     "output_type": "execute_result"
    }
   ],
   "source": [
    "activity_mearge = activity_mearge.drop('activity', axis=1)\n",
    "activity_mearge"
   ]
  },
  {
   "cell_type": "code",
   "execution_count": 54,
   "id": "7c563bbf",
   "metadata": {
    "execution": {
     "iopub.execute_input": "2023-02-19T09:26:09.113041Z",
     "iopub.status.busy": "2023-02-19T09:26:09.112551Z",
     "iopub.status.idle": "2023-02-19T09:26:11.292745Z",
     "shell.execute_reply": "2023-02-19T09:26:11.291443Z"
    },
    "papermill": {
     "duration": 2.20611,
     "end_time": "2023-02-19T09:26:11.295962",
     "exception": false,
     "start_time": "2023-02-19T09:26:09.089852",
     "status": "completed"
    },
    "tags": []
   },
   "outputs": [],
   "source": [
    "activity_mearge.to_csv('/data/target_distribution_by_features/activity_per_day.csv', index=True)"
   ]
  }
 ],
 "metadata": {
  "kernelspec": {
   "display_name": "Python 3",
   "language": "python",
   "name": "python3"
  },
  "language_info": {
   "codemirror_mode": {
    "name": "ipython",
    "version": 3
   },
   "file_extension": ".py",
   "mimetype": "text/x-python",
   "name": "python",
   "nbconvert_exporter": "python",
   "pygments_lexer": "ipython3",
   "version": "3.7.12"
  },
  "papermill": {
   "default_parameters": {},
   "duration": 413.963089,
   "end_time": "2023-02-19T09:26:14.386520",
   "environment_variables": {},
   "exception": null,
   "input_path": "__notebook__.ipynb",
   "output_path": "__notebook__.ipynb",
   "parameters": {},
   "start_time": "2023-02-19T09:19:20.423431",
   "version": "2.3.4"
  },
  "widgets": {
   "application/vnd.jupyter.widget-state+json": {
    "state": {
     "14a72e2eb07a4df998887f75885fa2ca": {
      "model_module": "@jupyter-widgets/controls",
      "model_module_version": "1.5.0",
      "model_name": "ProgressStyleModel",
      "state": {
       "_model_module": "@jupyter-widgets/controls",
       "_model_module_version": "1.5.0",
       "_model_name": "ProgressStyleModel",
       "_view_count": null,
       "_view_module": "@jupyter-widgets/base",
       "_view_module_version": "1.2.0",
       "_view_name": "StyleView",
       "bar_color": null,
       "description_width": ""
      }
     },
     "280b1c3b480442878fbbb3b23533840e": {
      "model_module": "@jupyter-widgets/controls",
      "model_module_version": "1.5.0",
      "model_name": "HBoxModel",
      "state": {
       "_dom_classes": [],
       "_model_module": "@jupyter-widgets/controls",
       "_model_module_version": "1.5.0",
       "_model_name": "HBoxModel",
       "_view_count": null,
       "_view_module": "@jupyter-widgets/controls",
       "_view_module_version": "1.5.0",
       "_view_name": "HBoxView",
       "box_style": "",
       "children": [
        "IPY_MODEL_a18d8d65b09d424dac6a1c91815771d0",
        "IPY_MODEL_5d904046aab44e12a282f59bde362ca2",
        "IPY_MODEL_9c88629132a4410fab71d3ec27c7c5e8"
       ],
       "layout": "IPY_MODEL_3350b8da4e7249e68b6a6e82c4e6e519"
      }
     },
     "2f434e000d2a4b518c063e2110622e6b": {
      "model_module": "@jupyter-widgets/base",
      "model_module_version": "1.2.0",
      "model_name": "LayoutModel",
      "state": {
       "_model_module": "@jupyter-widgets/base",
       "_model_module_version": "1.2.0",
       "_model_name": "LayoutModel",
       "_view_count": null,
       "_view_module": "@jupyter-widgets/base",
       "_view_module_version": "1.2.0",
       "_view_name": "LayoutView",
       "align_content": null,
       "align_items": null,
       "align_self": null,
       "border": null,
       "bottom": null,
       "display": null,
       "flex": null,
       "flex_flow": null,
       "grid_area": null,
       "grid_auto_columns": null,
       "grid_auto_flow": null,
       "grid_auto_rows": null,
       "grid_column": null,
       "grid_gap": null,
       "grid_row": null,
       "grid_template_areas": null,
       "grid_template_columns": null,
       "grid_template_rows": null,
       "height": null,
       "justify_content": null,
       "justify_items": null,
       "left": null,
       "margin": null,
       "max_height": null,
       "max_width": null,
       "min_height": null,
       "min_width": null,
       "object_fit": null,
       "object_position": null,
       "order": null,
       "overflow": null,
       "overflow_x": null,
       "overflow_y": null,
       "padding": null,
       "right": null,
       "top": null,
       "visibility": null,
       "width": null
      }
     },
     "3350b8da4e7249e68b6a6e82c4e6e519": {
      "model_module": "@jupyter-widgets/base",
      "model_module_version": "1.2.0",
      "model_name": "LayoutModel",
      "state": {
       "_model_module": "@jupyter-widgets/base",
       "_model_module_version": "1.2.0",
       "_model_name": "LayoutModel",
       "_view_count": null,
       "_view_module": "@jupyter-widgets/base",
       "_view_module_version": "1.2.0",
       "_view_name": "LayoutView",
       "align_content": null,
       "align_items": null,
       "align_self": null,
       "border": null,
       "bottom": null,
       "display": null,
       "flex": null,
       "flex_flow": null,
       "grid_area": null,
       "grid_auto_columns": null,
       "grid_auto_flow": null,
       "grid_auto_rows": null,
       "grid_column": null,
       "grid_gap": null,
       "grid_row": null,
       "grid_template_areas": null,
       "grid_template_columns": null,
       "grid_template_rows": null,
       "height": null,
       "justify_content": null,
       "justify_items": null,
       "left": null,
       "margin": null,
       "max_height": null,
       "max_width": null,
       "min_height": null,
       "min_width": null,
       "object_fit": null,
       "object_position": null,
       "order": null,
       "overflow": null,
       "overflow_x": null,
       "overflow_y": null,
       "padding": null,
       "right": null,
       "top": null,
       "visibility": null,
       "width": null
      }
     },
     "50f3be9a794a49ed98116d7f12e91edd": {
      "model_module": "@jupyter-widgets/controls",
      "model_module_version": "1.5.0",
      "model_name": "DescriptionStyleModel",
      "state": {
       "_model_module": "@jupyter-widgets/controls",
       "_model_module_version": "1.5.0",
       "_model_name": "DescriptionStyleModel",
       "_view_count": null,
       "_view_module": "@jupyter-widgets/base",
       "_view_module_version": "1.2.0",
       "_view_name": "StyleView",
       "description_width": ""
      }
     },
     "5262fc4237854e12bf038b6c12598106": {
      "model_module": "@jupyter-widgets/base",
      "model_module_version": "1.2.0",
      "model_name": "LayoutModel",
      "state": {
       "_model_module": "@jupyter-widgets/base",
       "_model_module_version": "1.2.0",
       "_model_name": "LayoutModel",
       "_view_count": null,
       "_view_module": "@jupyter-widgets/base",
       "_view_module_version": "1.2.0",
       "_view_name": "LayoutView",
       "align_content": null,
       "align_items": null,
       "align_self": null,
       "border": null,
       "bottom": null,
       "display": null,
       "flex": null,
       "flex_flow": null,
       "grid_area": null,
       "grid_auto_columns": null,
       "grid_auto_flow": null,
       "grid_auto_rows": null,
       "grid_column": null,
       "grid_gap": null,
       "grid_row": null,
       "grid_template_areas": null,
       "grid_template_columns": null,
       "grid_template_rows": null,
       "height": null,
       "justify_content": null,
       "justify_items": null,
       "left": null,
       "margin": null,
       "max_height": null,
       "max_width": null,
       "min_height": null,
       "min_width": null,
       "object_fit": null,
       "object_position": null,
       "order": null,
       "overflow": null,
       "overflow_x": null,
       "overflow_y": null,
       "padding": null,
       "right": null,
       "top": null,
       "visibility": null,
       "width": null
      }
     },
     "5d904046aab44e12a282f59bde362ca2": {
      "model_module": "@jupyter-widgets/controls",
      "model_module_version": "1.5.0",
      "model_name": "FloatProgressModel",
      "state": {
       "_dom_classes": [],
       "_model_module": "@jupyter-widgets/controls",
       "_model_module_version": "1.5.0",
       "_model_name": "FloatProgressModel",
       "_view_count": null,
       "_view_module": "@jupyter-widgets/controls",
       "_view_module_version": "1.5.0",
       "_view_name": "ProgressView",
       "bar_style": "success",
       "description": "",
       "description_tooltip": null,
       "layout": "IPY_MODEL_2f434e000d2a4b518c063e2110622e6b",
       "max": 30,
       "min": 0,
       "orientation": "horizontal",
       "style": "IPY_MODEL_14a72e2eb07a4df998887f75885fa2ca",
       "value": 30
      }
     },
     "6c08140778a74c4fb4db2f2b4f0d5527": {
      "model_module": "@jupyter-widgets/controls",
      "model_module_version": "1.5.0",
      "model_name": "DescriptionStyleModel",
      "state": {
       "_model_module": "@jupyter-widgets/controls",
       "_model_module_version": "1.5.0",
       "_model_name": "DescriptionStyleModel",
       "_view_count": null,
       "_view_module": "@jupyter-widgets/base",
       "_view_module_version": "1.2.0",
       "_view_name": "StyleView",
       "description_width": ""
      }
     },
     "71f9b5a500244e279db3d29724d9dfbe": {
      "model_module": "@jupyter-widgets/base",
      "model_module_version": "1.2.0",
      "model_name": "LayoutModel",
      "state": {
       "_model_module": "@jupyter-widgets/base",
       "_model_module_version": "1.2.0",
       "_model_name": "LayoutModel",
       "_view_count": null,
       "_view_module": "@jupyter-widgets/base",
       "_view_module_version": "1.2.0",
       "_view_name": "LayoutView",
       "align_content": null,
       "align_items": null,
       "align_self": null,
       "border": null,
       "bottom": null,
       "display": null,
       "flex": null,
       "flex_flow": null,
       "grid_area": null,
       "grid_auto_columns": null,
       "grid_auto_flow": null,
       "grid_auto_rows": null,
       "grid_column": null,
       "grid_gap": null,
       "grid_row": null,
       "grid_template_areas": null,
       "grid_template_columns": null,
       "grid_template_rows": null,
       "height": null,
       "justify_content": null,
       "justify_items": null,
       "left": null,
       "margin": null,
       "max_height": null,
       "max_width": null,
       "min_height": null,
       "min_width": null,
       "object_fit": null,
       "object_position": null,
       "order": null,
       "overflow": null,
       "overflow_x": null,
       "overflow_y": null,
       "padding": null,
       "right": null,
       "top": null,
       "visibility": null,
       "width": null
      }
     },
     "9c88629132a4410fab71d3ec27c7c5e8": {
      "model_module": "@jupyter-widgets/controls",
      "model_module_version": "1.5.0",
      "model_name": "HTMLModel",
      "state": {
       "_dom_classes": [],
       "_model_module": "@jupyter-widgets/controls",
       "_model_module_version": "1.5.0",
       "_model_name": "HTMLModel",
       "_view_count": null,
       "_view_module": "@jupyter-widgets/controls",
       "_view_module_version": "1.5.0",
       "_view_name": "HTMLView",
       "description": "",
       "description_tooltip": null,
       "layout": "IPY_MODEL_71f9b5a500244e279db3d29724d9dfbe",
       "placeholder": "​",
       "style": "IPY_MODEL_6c08140778a74c4fb4db2f2b4f0d5527",
       "value": " 30/30 [01:11&lt;00:00,  2.39s/it]"
      }
     },
     "a18d8d65b09d424dac6a1c91815771d0": {
      "model_module": "@jupyter-widgets/controls",
      "model_module_version": "1.5.0",
      "model_name": "HTMLModel",
      "state": {
       "_dom_classes": [],
       "_model_module": "@jupyter-widgets/controls",
       "_model_module_version": "1.5.0",
       "_model_name": "HTMLModel",
       "_view_count": null,
       "_view_module": "@jupyter-widgets/controls",
       "_view_module_version": "1.5.0",
       "_view_name": "HTMLView",
       "description": "",
       "description_tooltip": null,
       "layout": "IPY_MODEL_5262fc4237854e12bf038b6c12598106",
       "placeholder": "​",
       "style": "IPY_MODEL_50f3be9a794a49ed98116d7f12e91edd",
       "value": "100%"
      }
     }
    },
    "version_major": 2,
    "version_minor": 0
   }
  }
 },
 "nbformat": 4,
 "nbformat_minor": 5
}
