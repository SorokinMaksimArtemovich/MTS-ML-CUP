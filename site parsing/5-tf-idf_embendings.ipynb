{
 "cells": [
  {
   "cell_type": "code",
   "execution_count": 1,
   "id": "1cd1b49e",
   "metadata": {
    "execution": {
     "iopub.execute_input": "2023-03-05T09:49:18.200840Z",
     "iopub.status.busy": "2023-03-05T09:49:18.199648Z",
     "iopub.status.idle": "2023-03-05T09:49:18.212377Z",
     "shell.execute_reply": "2023-03-05T09:49:18.211000Z"
    },
    "executionInfo": {
     "elapsed": 462,
     "status": "ok",
     "timestamp": 1676453996604,
     "user": {
      "displayName": "Максим Сорокин",
      "userId": "04730489101077022913"
     },
     "user_tz": -300
    },
    "id": "J5W6kuCc8Ns5",
    "papermill": {
     "duration": 0.03176,
     "end_time": "2023-03-05T09:49:18.215301",
     "exception": false,
     "start_time": "2023-03-05T09:49:18.183541",
     "status": "completed"
    },
    "tags": []
   },
   "outputs": [],
   "source": [
    "import sys\n",
    "import os\n",
    "import warnings\n",
    "os.environ['OPENBLAS_NUM_THREADS'] = '1'\n",
    "warnings.filterwarnings('ignore')"
   ]
  },
  {
   "cell_type": "code",
   "execution_count": 2,
   "id": "1641c0c5",
   "metadata": {
    "execution": {
     "iopub.execute_input": "2023-03-05T09:49:18.238680Z",
     "iopub.status.busy": "2023-03-05T09:49:18.237435Z",
     "iopub.status.idle": "2023-03-05T09:49:39.290739Z",
     "shell.execute_reply": "2023-03-05T09:49:39.289181Z"
    },
    "papermill": {
     "duration": 21.067858,
     "end_time": "2023-03-05T09:49:39.293715",
     "exception": false,
     "start_time": "2023-03-05T09:49:18.225857",
     "status": "completed"
    },
    "tags": []
   },
   "outputs": [
    {
     "name": "stdout",
     "output_type": "stream",
     "text": [
      "Collecting pymorphy2\r\n",
      "  Downloading pymorphy2-0.9.1-py3-none-any.whl (55 kB)\r\n",
      "\u001b[2K     \u001b[90m━━━━━━━━━━━━━━━━━━━━━━━━━━━━━━━━━━━━━━━\u001b[0m \u001b[32m55.5/55.5 kB\u001b[0m \u001b[31m215.6 kB/s\u001b[0m eta \u001b[36m0:00:00\u001b[0m\r\n",
      "\u001b[?25hCollecting dawg-python>=0.7.1\r\n",
      "  Downloading DAWG_Python-0.7.2-py2.py3-none-any.whl (11 kB)\r\n",
      "Requirement already satisfied: docopt>=0.6 in /opt/conda/lib/python3.7/site-packages (from pymorphy2) (0.6.2)\r\n",
      "Collecting pymorphy2-dicts-ru<3.0,>=2.4\r\n",
      "  Downloading pymorphy2_dicts_ru-2.4.417127.4579844-py2.py3-none-any.whl (8.2 MB)\r\n",
      "\u001b[2K     \u001b[90m━━━━━━━━━━━━━━━━━━━━━━━━━━━━━━━━━━━━━━━━\u001b[0m \u001b[32m8.2/8.2 MB\u001b[0m \u001b[31m6.5 MB/s\u001b[0m eta \u001b[36m0:00:00\u001b[0m\r\n",
      "\u001b[?25hInstalling collected packages: pymorphy2-dicts-ru, dawg-python, pymorphy2\r\n",
      "Successfully installed dawg-python-0.7.2 pymorphy2-0.9.1 pymorphy2-dicts-ru-2.4.417127.4579844\r\n",
      "\u001b[33mWARNING: Running pip as the 'root' user can result in broken permissions and conflicting behaviour with the system package manager. It is recommended to use a virtual environment instead: https://pip.pypa.io/warnings/venv\u001b[0m\u001b[33m\r\n",
      "\u001b[0m"
     ]
    },
    {
     "name": "stderr",
     "output_type": "stream",
     "text": [
      "[nltk_data] Downloading package punkt to /usr/share/nltk_data...\n",
      "[nltk_data]   Package punkt is already up-to-date!\n",
      "[nltk_data] Downloading package averaged_perceptron_tagger to\n",
      "[nltk_data]     /usr/share/nltk_data...\n",
      "[nltk_data]   Package averaged_perceptron_tagger is already up-to-\n",
      "[nltk_data]       date!\n",
      "[nltk_data] Downloading package wordnet to /usr/share/nltk_data...\n",
      "[nltk_data]   Package wordnet is already up-to-date!\n",
      "[nltk_data] Downloading package averaged_perceptron_tagger_ru to\n",
      "[nltk_data]     /usr/share/nltk_data...\n",
      "[nltk_data]   Unzipping taggers/averaged_perceptron_tagger_ru.zip.\n"
     ]
    }
   ],
   "source": [
    "import pandas as pd\n",
    "import numpy as np\n",
    "#for text pre-processing\n",
    "import re, string\n",
    "import nltk\n",
    "from nltk.tokenize import word_tokenize\n",
    "from nltk.corpus import stopwords\n",
    "from nltk.tokenize import word_tokenize\n",
    "from nltk.stem import SnowballStemmer\n",
    "from nltk.corpus import wordnet\n",
    "from nltk.stem import WordNetLemmatizer\n",
    "!pip install pymorphy2\n",
    "import pymorphy2\n",
    "nltk.download('punkt')\n",
    "nltk.download('averaged_perceptron_tagger')\n",
    "nltk.download('wordnet')\n",
    "nltk.download('averaged_perceptron_tagger_ru')\n",
    "#for model-building\n",
    "from sklearn.model_selection import train_test_split\n",
    "from sklearn.linear_model import LogisticRegression\n",
    "from sklearn.naive_bayes import MultinomialNB\n",
    "from sklearn.metrics import classification_report, f1_score, accuracy_score, confusion_matrix\n",
    "from sklearn.metrics import roc_curve, auc, roc_auc_score\n",
    "# bag of words\n",
    "from sklearn.feature_extraction.text import TfidfVectorizer\n",
    "from sklearn.feature_extraction.text import CountVectorizer"
   ]
  },
  {
   "cell_type": "code",
   "execution_count": 3,
   "id": "28da4f86",
   "metadata": {
    "execution": {
     "iopub.execute_input": "2023-03-05T09:49:39.321923Z",
     "iopub.status.busy": "2023-03-05T09:49:39.321457Z",
     "iopub.status.idle": "2023-03-05T09:50:02.598757Z",
     "shell.execute_reply": "2023-03-05T09:50:02.597246Z"
    },
    "executionInfo": {
     "elapsed": 17130,
     "status": "ok",
     "timestamp": 1676454014218,
     "user": {
      "displayName": "Максим Сорокин",
      "userId": "04730489101077022913"
     },
     "user_tz": -300
    },
    "id": "1JUPubJe8Ns_",
    "outputId": "46f0ff89-164a-4fee-999c-b09b3327534b",
    "papermill": {
     "duration": 23.294863,
     "end_time": "2023-03-05T09:50:02.601749",
     "exception": false,
     "start_time": "2023-03-05T09:49:39.306886",
     "status": "completed"
    },
    "tags": []
   },
   "outputs": [
    {
     "name": "stdout",
     "output_type": "stream",
     "text": [
      "Requirement already satisfied: implicit in /opt/conda/lib/python3.7/site-packages (0.4.4)\r\n",
      "Requirement already satisfied: numpy in /opt/conda/lib/python3.7/site-packages (from implicit) (1.21.6)\r\n",
      "Requirement already satisfied: scipy>=0.16 in /opt/conda/lib/python3.7/site-packages (from implicit) (1.7.3)\r\n",
      "Requirement already satisfied: tqdm>=4.27 in /opt/conda/lib/python3.7/site-packages (from implicit) (4.64.0)\r\n",
      "\u001b[33mWARNING: Running pip as the 'root' user can result in broken permissions and conflicting behaviour with the system package manager. It is recommended to use a virtual environment instead: https://pip.pypa.io/warnings/venv\u001b[0m\u001b[33m\r\n",
      "\u001b[0mRequirement already satisfied: catboost in /opt/conda/lib/python3.7/site-packages (1.1.1)\r\n",
      "Requirement already satisfied: pandas>=0.24.0 in /opt/conda/lib/python3.7/site-packages (from catboost) (1.3.5)\r\n",
      "Requirement already satisfied: matplotlib in /opt/conda/lib/python3.7/site-packages (from catboost) (3.5.2)\r\n",
      "Requirement already satisfied: plotly in /opt/conda/lib/python3.7/site-packages (from catboost) (5.13.0)\r\n",
      "Requirement already satisfied: six in /opt/conda/lib/python3.7/site-packages (from catboost) (1.15.0)\r\n",
      "Requirement already satisfied: scipy in /opt/conda/lib/python3.7/site-packages (from catboost) (1.7.3)\r\n",
      "Requirement already satisfied: numpy>=1.16.0 in /opt/conda/lib/python3.7/site-packages (from catboost) (1.21.6)\r\n",
      "Requirement already satisfied: graphviz in /opt/conda/lib/python3.7/site-packages (from catboost) (0.8.4)\r\n",
      "Requirement already satisfied: python-dateutil>=2.7.3 in /opt/conda/lib/python3.7/site-packages (from pandas>=0.24.0->catboost) (2.8.2)\r\n",
      "Requirement already satisfied: pytz>=2017.3 in /opt/conda/lib/python3.7/site-packages (from pandas>=0.24.0->catboost) (2022.1)\r\n",
      "Requirement already satisfied: pyparsing>=2.2.1 in /opt/conda/lib/python3.7/site-packages (from matplotlib->catboost) (3.0.9)\r\n",
      "Requirement already satisfied: pillow>=6.2.0 in /opt/conda/lib/python3.7/site-packages (from matplotlib->catboost) (9.1.1)\r\n",
      "Requirement already satisfied: kiwisolver>=1.0.1 in /opt/conda/lib/python3.7/site-packages (from matplotlib->catboost) (1.4.3)\r\n",
      "Requirement already satisfied: packaging>=20.0 in /opt/conda/lib/python3.7/site-packages (from matplotlib->catboost) (23.0)\r\n",
      "Requirement already satisfied: cycler>=0.10 in /opt/conda/lib/python3.7/site-packages (from matplotlib->catboost) (0.11.0)\r\n",
      "Requirement already satisfied: fonttools>=4.22.0 in /opt/conda/lib/python3.7/site-packages (from matplotlib->catboost) (4.33.3)\r\n",
      "Requirement already satisfied: tenacity>=6.2.0 in /opt/conda/lib/python3.7/site-packages (from plotly->catboost) (8.0.1)\r\n",
      "Requirement already satisfied: typing-extensions in /opt/conda/lib/python3.7/site-packages (from kiwisolver>=1.0.1->matplotlib->catboost) (4.1.1)\r\n",
      "\u001b[33mWARNING: Running pip as the 'root' user can result in broken permissions and conflicting behaviour with the system package manager. It is recommended to use a virtual environment instead: https://pip.pypa.io/warnings/venv\u001b[0m\u001b[33m\r\n",
      "\u001b[0m"
     ]
    }
   ],
   "source": [
    "import pandas as pd\n",
    "import numpy as np\n",
    "import time\n",
    "import pyarrow as pa\n",
    "import pyarrow.parquet as pq\n",
    "import scipy\n",
    "!pip install implicit\n",
    "import implicit\n",
    "import bisect\n",
    "import sklearn.metrics as m\n",
    "!pip install catboost\n",
    "from catboost import CatBoostClassifier, CatBoostRegressor, Pool\n",
    "from sklearn.calibration import calibration_curve, CalibratedClassifierCV"
   ]
  },
  {
   "cell_type": "code",
   "execution_count": 4,
   "id": "12a40cf5",
   "metadata": {
    "execution": {
     "iopub.execute_input": "2023-03-05T09:50:02.633594Z",
     "iopub.status.busy": "2023-03-05T09:50:02.632318Z",
     "iopub.status.idle": "2023-03-05T09:50:03.970766Z",
     "shell.execute_reply": "2023-03-05T09:50:03.969287Z"
    },
    "executionInfo": {
     "elapsed": 34,
     "status": "ok",
     "timestamp": 1676454014220,
     "user": {
      "displayName": "Максим Сорокин",
      "userId": "04730489101077022913"
     },
     "user_tz": -300
    },
    "id": "KoKZGFXP8NtB",
    "papermill": {
     "duration": 1.356541,
     "end_time": "2023-03-05T09:50:03.974128",
     "exception": false,
     "start_time": "2023-03-05T09:50:02.617587",
     "status": "completed"
    },
    "tags": []
   },
   "outputs": [],
   "source": [
    "import seaborn as sns\n",
    "import matplotlib.pyplot as plt\n",
    "import plotly.express as px\n",
    "\n",
    "%matplotlib inline\n",
    "sns.set_style('darkgrid')"
   ]
  },
  {
   "cell_type": "code",
   "execution_count": 5,
   "id": "9cb7a65a",
   "metadata": {
    "execution": {
     "iopub.execute_input": "2023-03-05T09:50:04.003702Z",
     "iopub.status.busy": "2023-03-05T09:50:04.003210Z",
     "iopub.status.idle": "2023-03-05T09:50:31.506020Z",
     "shell.execute_reply": "2023-03-05T09:50:31.504864Z"
    },
    "executionInfo": {
     "elapsed": 7905,
     "status": "ok",
     "timestamp": 1676454022093,
     "user": {
      "displayName": "Максим Сорокин",
      "userId": "04730489101077022913"
     },
     "user_tz": -300
    },
    "id": "Fonyy-pz8NtC",
    "outputId": "1160db33-ed23-435b-f3a9-0acbdf9b795a",
    "papermill": {
     "duration": 27.521445,
     "end_time": "2023-03-05T09:50:31.509207",
     "exception": false,
     "start_time": "2023-03-05T09:50:03.987762",
     "status": "completed"
    },
    "tags": []
   },
   "outputs": [
    {
     "name": "stdout",
     "output_type": "stream",
     "text": [
      "\u001b[33mWARNING: Running pip as the 'root' user can result in broken permissions and conflicting behaviour with the system package manager. It is recommended to use a virtual environment instead: https://pip.pypa.io/warnings/venv\u001b[0m\u001b[33m\r\n",
      "\u001b[0mCollecting faiss-cpu\r\n",
      "  Downloading faiss_cpu-1.7.3-cp37-cp37m-manylinux_2_17_x86_64.manylinux2014_x86_64.whl (17.0 MB)\r\n",
      "\u001b[2K     \u001b[90m━━━━━━━━━━━━━━━━━━━━━━━━━━━━━━━━━━━━━━━━\u001b[0m \u001b[32m17.0/17.0 MB\u001b[0m \u001b[31m17.2 MB/s\u001b[0m eta \u001b[36m0:00:00\u001b[0m\r\n",
      "\u001b[?25hInstalling collected packages: faiss-cpu\r\n",
      "Successfully installed faiss-cpu-1.7.3\r\n",
      "\u001b[33mWARNING: Running pip as the 'root' user can result in broken permissions and conflicting behaviour with the system package manager. It is recommended to use a virtual environment instead: https://pip.pypa.io/warnings/venv\u001b[0m\u001b[33m\r\n",
      "\u001b[0m"
     ]
    }
   ],
   "source": [
    "!pip install feather-format >> none\n",
    "!pip install faiss-cpu --no-cache"
   ]
  },
  {
   "cell_type": "code",
   "execution_count": null,
   "id": "47430070",
   "metadata": {
    "execution": {
     "iopub.execute_input": "2023-03-05T09:50:31.544397Z",
     "iopub.status.busy": "2023-03-05T09:50:31.543411Z",
     "iopub.status.idle": "2023-03-05T09:50:37.512444Z",
     "shell.execute_reply": "2023-03-05T09:50:37.510900Z"
    },
    "papermill": {
     "duration": 5.989269,
     "end_time": "2023-03-05T09:50:37.515143",
     "exception": false,
     "start_time": "2023-03-05T09:50:31.525874",
     "status": "completed"
    },
    "tags": []
   },
   "outputs": [],
   "source": [
    "site_data = pd.read_csv('/data/site_data.csv')"
   ]
  },
  {
   "cell_type": "code",
   "execution_count": 7,
   "id": "7601f244",
   "metadata": {
    "execution": {
     "iopub.execute_input": "2023-03-05T09:50:37.553809Z",
     "iopub.status.busy": "2023-03-05T09:50:37.553351Z",
     "iopub.status.idle": "2023-03-05T09:50:39.291599Z",
     "shell.execute_reply": "2023-03-05T09:50:39.290379Z"
    },
    "papermill": {
     "duration": 1.761662,
     "end_time": "2023-03-05T09:50:39.294239",
     "exception": false,
     "start_time": "2023-03-05T09:50:37.532577",
     "status": "completed"
    },
    "tags": []
   },
   "outputs": [
    {
     "data": {
      "text/plain": [
       "<144371x81916 sparse matrix of type '<class 'numpy.float64'>'\n",
       "\twith 774743 stored elements in Compressed Sparse Row format>"
      ]
     },
     "execution_count": 7,
     "metadata": {},
     "output_type": "execute_result"
    }
   ],
   "source": [
    "tfidf_vectorizer = TfidfVectorizer(use_idf=True)\n",
    "title_tfidf = tfidf_vectorizer.fit_transform(site_data['title'].fillna(''))\n",
    "title_tfidf"
   ]
  },
  {
   "cell_type": "code",
   "execution_count": 8,
   "id": "a1dd85e4",
   "metadata": {
    "execution": {
     "iopub.execute_input": "2023-03-05T09:50:39.330764Z",
     "iopub.status.busy": "2023-03-05T09:50:39.330018Z",
     "iopub.status.idle": "2023-03-05T09:50:39.336066Z",
     "shell.execute_reply": "2023-03-05T09:50:39.334866Z"
    },
    "papermill": {
     "duration": 0.027656,
     "end_time": "2023-03-05T09:50:39.338836",
     "exception": false,
     "start_time": "2023-03-05T09:50:39.311180",
     "status": "completed"
    },
    "tags": []
   },
   "outputs": [],
   "source": [
    "als = implicit.approximate_als.FaissAlternatingLeastSquares(factors = 50, iterations = 30, use_gpu = False, \\\n",
    "       calculate_training_loss = False, regularization = 0.1)"
   ]
  },
  {
   "cell_type": "code",
   "execution_count": 9,
   "id": "00ea31c2",
   "metadata": {
    "execution": {
     "iopub.execute_input": "2023-03-05T09:50:39.374722Z",
     "iopub.status.busy": "2023-03-05T09:50:39.374234Z",
     "iopub.status.idle": "2023-03-05T09:51:19.073782Z",
     "shell.execute_reply": "2023-03-05T09:51:19.072599Z"
    },
    "papermill": {
     "duration": 39.720472,
     "end_time": "2023-03-05T09:51:19.076353",
     "exception": false,
     "start_time": "2023-03-05T09:50:39.355881",
     "status": "completed"
    },
    "tags": []
   },
   "outputs": [
    {
     "data": {
      "application/vnd.jupyter.widget-view+json": {
       "model_id": "f30e82517ff54420ab23fad469d407ff",
       "version_major": 2,
       "version_minor": 0
      },
      "text/plain": [
       "  0%|          | 0/30 [00:00<?, ?it/s]"
      ]
     },
     "metadata": {},
     "output_type": "display_data"
    },
    {
     "name": "stdout",
     "output_type": "stream",
     "text": [
      "CPU times: user 2min 8s, sys: 22.6 s, total: 2min 30s\n",
      "Wall time: 39.7 s\n"
     ]
    }
   ],
   "source": [
    "%%time\n",
    "als.fit(title_tfidf)"
   ]
  },
  {
   "cell_type": "code",
   "execution_count": 10,
   "id": "86e54bc0",
   "metadata": {
    "execution": {
     "iopub.execute_input": "2023-03-05T09:51:19.114239Z",
     "iopub.status.busy": "2023-03-05T09:51:19.113781Z",
     "iopub.status.idle": "2023-03-05T09:51:19.122354Z",
     "shell.execute_reply": "2023-03-05T09:51:19.121078Z"
    },
    "papermill": {
     "duration": 0.030268,
     "end_time": "2023-03-05T09:51:19.125002",
     "exception": false,
     "start_time": "2023-03-05T09:51:19.094734",
     "status": "completed"
    },
    "tags": []
   },
   "outputs": [
    {
     "data": {
      "text/plain": [
       "[81916, 144371]"
      ]
     },
     "execution_count": 10,
     "metadata": {},
     "output_type": "execute_result"
    }
   ],
   "source": [
    "u_factors = als.user_factors \n",
    "d_factors = als.item_factors\n",
    "[len(u_factors), len(d_factors)]"
   ]
  },
  {
   "cell_type": "code",
   "execution_count": 11,
   "id": "aa242bdb",
   "metadata": {
    "execution": {
     "iopub.execute_input": "2023-03-05T09:51:19.166047Z",
     "iopub.status.busy": "2023-03-05T09:51:19.165618Z",
     "iopub.status.idle": "2023-03-05T09:51:27.060710Z",
     "shell.execute_reply": "2023-03-05T09:51:27.059201Z"
    },
    "papermill": {
     "duration": 7.918707,
     "end_time": "2023-03-05T09:51:27.063623",
     "exception": false,
     "start_time": "2023-03-05T09:51:19.144916",
     "status": "completed"
    },
    "tags": []
   },
   "outputs": [
    {
     "name": "stdout",
     "output_type": "stream",
     "text": [
      "CPU times: user 7.46 s, sys: 412 ms, total: 7.87 s\n",
      "Wall time: 7.89 s\n"
     ]
    }
   ],
   "source": [
    "%%time\n",
    "url_dict = {url: idurl for url, idurl in zip(site_data['url_host'], range(len(site_data['url_host'])))}\n",
    "inv_url_map = {v: k for k, v in url_dict.items()}\n",
    "title_emb = pd.DataFrame(d_factors)\n",
    "title_emb['url_host'] = title_emb.index.map(inv_url_map)\n",
    "title_emb.to_csv('title_emb.csv', index=False)"
   ]
  },
  {
   "cell_type": "code",
   "execution_count": 12,
   "id": "9d6759c9",
   "metadata": {
    "execution": {
     "iopub.execute_input": "2023-03-05T09:51:27.100515Z",
     "iopub.status.busy": "2023-03-05T09:51:27.100133Z",
     "iopub.status.idle": "2023-03-05T09:51:29.435693Z",
     "shell.execute_reply": "2023-03-05T09:51:29.433752Z"
    },
    "papermill": {
     "duration": 2.357768,
     "end_time": "2023-03-05T09:51:29.438718",
     "exception": false,
     "start_time": "2023-03-05T09:51:27.080950",
     "status": "completed"
    },
    "tags": []
   },
   "outputs": [
    {
     "data": {
      "text/plain": [
       "<144371x84888 sparse matrix of type '<class 'numpy.float64'>'\n",
       "\twith 1275639 stored elements in Compressed Sparse Row format>"
      ]
     },
     "execution_count": 12,
     "metadata": {},
     "output_type": "execute_result"
    }
   ],
   "source": [
    "tfidf_vectorizer = TfidfVectorizer(use_idf=True)\n",
    "description_tfidf = tfidf_vectorizer.fit_transform(site_data['description'].fillna(''))\n",
    "description_tfidf"
   ]
  },
  {
   "cell_type": "code",
   "execution_count": 13,
   "id": "89705a9a",
   "metadata": {
    "execution": {
     "iopub.execute_input": "2023-03-05T09:51:29.478151Z",
     "iopub.status.busy": "2023-03-05T09:51:29.477730Z",
     "iopub.status.idle": "2023-03-05T09:51:29.484467Z",
     "shell.execute_reply": "2023-03-05T09:51:29.482683Z"
    },
    "papermill": {
     "duration": 0.029907,
     "end_time": "2023-03-05T09:51:29.487320",
     "exception": false,
     "start_time": "2023-03-05T09:51:29.457413",
     "status": "completed"
    },
    "tags": []
   },
   "outputs": [],
   "source": [
    "als = implicit.approximate_als.FaissAlternatingLeastSquares(factors = 50, iterations = 30, use_gpu = False, \\\n",
    "       calculate_training_loss = False, regularization = 0.1)"
   ]
  },
  {
   "cell_type": "code",
   "execution_count": 14,
   "id": "f44d11e3",
   "metadata": {
    "execution": {
     "iopub.execute_input": "2023-03-05T09:51:29.526044Z",
     "iopub.status.busy": "2023-03-05T09:51:29.525652Z",
     "iopub.status.idle": "2023-03-05T09:52:05.874601Z",
     "shell.execute_reply": "2023-03-05T09:52:05.873502Z"
    },
    "papermill": {
     "duration": 36.371864,
     "end_time": "2023-03-05T09:52:05.877638",
     "exception": false,
     "start_time": "2023-03-05T09:51:29.505774",
     "status": "completed"
    },
    "tags": []
   },
   "outputs": [
    {
     "data": {
      "application/vnd.jupyter.widget-view+json": {
       "model_id": "198f222cd2da4b1db09535f2c4012e20",
       "version_major": 2,
       "version_minor": 0
      },
      "text/plain": [
       "  0%|          | 0/30 [00:00<?, ?it/s]"
      ]
     },
     "metadata": {},
     "output_type": "display_data"
    },
    {
     "name": "stdout",
     "output_type": "stream",
     "text": [
      "CPU times: user 2min 5s, sys: 13.6 s, total: 2min 19s\n",
      "Wall time: 36.3 s\n"
     ]
    }
   ],
   "source": [
    "%%time\n",
    "als.fit(description_tfidf)"
   ]
  },
  {
   "cell_type": "code",
   "execution_count": 15,
   "id": "1ac0b610",
   "metadata": {
    "execution": {
     "iopub.execute_input": "2023-03-05T09:52:05.917827Z",
     "iopub.status.busy": "2023-03-05T09:52:05.916834Z",
     "iopub.status.idle": "2023-03-05T09:52:05.925698Z",
     "shell.execute_reply": "2023-03-05T09:52:05.924283Z"
    },
    "papermill": {
     "duration": 0.030587,
     "end_time": "2023-03-05T09:52:05.928139",
     "exception": false,
     "start_time": "2023-03-05T09:52:05.897552",
     "status": "completed"
    },
    "tags": []
   },
   "outputs": [
    {
     "data": {
      "text/plain": [
       "[84888, 144371]"
      ]
     },
     "execution_count": 15,
     "metadata": {},
     "output_type": "execute_result"
    }
   ],
   "source": [
    "u_factors = als.user_factors \n",
    "d_factors = als.item_factors\n",
    "[len(u_factors), len(d_factors)]"
   ]
  },
  {
   "cell_type": "code",
   "execution_count": 16,
   "id": "909ec4f4",
   "metadata": {
    "execution": {
     "iopub.execute_input": "2023-03-05T09:52:05.964599Z",
     "iopub.status.busy": "2023-03-05T09:52:05.964170Z",
     "iopub.status.idle": "2023-03-05T09:52:12.318832Z",
     "shell.execute_reply": "2023-03-05T09:52:12.317494Z"
    },
    "papermill": {
     "duration": 6.37613,
     "end_time": "2023-03-05T09:52:12.321728",
     "exception": false,
     "start_time": "2023-03-05T09:52:05.945598",
     "status": "completed"
    },
    "tags": []
   },
   "outputs": [
    {
     "name": "stdout",
     "output_type": "stream",
     "text": [
      "CPU times: user 6.09 s, sys: 249 ms, total: 6.34 s\n",
      "Wall time: 6.35 s\n"
     ]
    }
   ],
   "source": [
    "%%time\n",
    "description_emb = pd.DataFrame(d_factors)\n",
    "description_emb['url_host'] = description_emb.index.map(inv_url_map)\n",
    "description_emb.to_csv('description_emb.csv', index=False)"
   ]
  },
  {
   "cell_type": "code",
   "execution_count": 17,
   "id": "11a6e1c4",
   "metadata": {
    "execution": {
     "iopub.execute_input": "2023-03-05T09:52:12.360289Z",
     "iopub.status.busy": "2023-03-05T09:52:12.359538Z",
     "iopub.status.idle": "2023-03-05T09:52:14.496945Z",
     "shell.execute_reply": "2023-03-05T09:52:14.495949Z"
    },
    "papermill": {
     "duration": 2.159278,
     "end_time": "2023-03-05T09:52:14.499425",
     "exception": false,
     "start_time": "2023-03-05T09:52:12.340147",
     "status": "completed"
    },
    "tags": []
   },
   "outputs": [
    {
     "data": {
      "text/plain": [
       "<144371x94113 sparse matrix of type '<class 'numpy.float64'>'\n",
       "\twith 733894 stored elements in Compressed Sparse Row format>"
      ]
     },
     "execution_count": 17,
     "metadata": {},
     "output_type": "execute_result"
    }
   ],
   "source": [
    "tfidf_vectorizer = TfidfVectorizer(use_idf=True)\n",
    "keywords_tfidf = tfidf_vectorizer.fit_transform(site_data['keywords'].fillna(''))\n",
    "keywords_tfidf"
   ]
  },
  {
   "cell_type": "code",
   "execution_count": 18,
   "id": "0ec60374",
   "metadata": {
    "execution": {
     "iopub.execute_input": "2023-03-05T09:52:14.537913Z",
     "iopub.status.busy": "2023-03-05T09:52:14.537397Z",
     "iopub.status.idle": "2023-03-05T09:52:14.543797Z",
     "shell.execute_reply": "2023-03-05T09:52:14.542570Z"
    },
    "papermill": {
     "duration": 0.028667,
     "end_time": "2023-03-05T09:52:14.546428",
     "exception": false,
     "start_time": "2023-03-05T09:52:14.517761",
     "status": "completed"
    },
    "tags": []
   },
   "outputs": [],
   "source": [
    "als = implicit.approximate_als.FaissAlternatingLeastSquares(factors = 50, iterations = 30, use_gpu = False, \\\n",
    "       calculate_training_loss = False, regularization = 0.1)"
   ]
  },
  {
   "cell_type": "code",
   "execution_count": 19,
   "id": "983c9d3d",
   "metadata": {
    "execution": {
     "iopub.execute_input": "2023-03-05T09:52:14.584756Z",
     "iopub.status.busy": "2023-03-05T09:52:14.584302Z",
     "iopub.status.idle": "2023-03-05T09:52:42.376585Z",
     "shell.execute_reply": "2023-03-05T09:52:42.375535Z"
    },
    "papermill": {
     "duration": 27.815001,
     "end_time": "2023-03-05T09:52:42.379477",
     "exception": false,
     "start_time": "2023-03-05T09:52:14.564476",
     "status": "completed"
    },
    "tags": []
   },
   "outputs": [
    {
     "data": {
      "application/vnd.jupyter.widget-view+json": {
       "model_id": "fd824863fbd34afea26325b108fdcdb3",
       "version_major": 2,
       "version_minor": 0
      },
      "text/plain": [
       "  0%|          | 0/30 [00:00<?, ?it/s]"
      ]
     },
     "metadata": {},
     "output_type": "display_data"
    },
    {
     "name": "stdout",
     "output_type": "stream",
     "text": [
      "CPU times: user 1min 33s, sys: 12.5 s, total: 1min 45s\n",
      "Wall time: 27.8 s\n"
     ]
    }
   ],
   "source": [
    "%%time\n",
    "als.fit(keywords_tfidf)"
   ]
  },
  {
   "cell_type": "code",
   "execution_count": 20,
   "id": "859988b1",
   "metadata": {
    "execution": {
     "iopub.execute_input": "2023-03-05T09:52:42.420172Z",
     "iopub.status.busy": "2023-03-05T09:52:42.419221Z",
     "iopub.status.idle": "2023-03-05T09:52:42.428052Z",
     "shell.execute_reply": "2023-03-05T09:52:42.426652Z"
    },
    "papermill": {
     "duration": 0.031461,
     "end_time": "2023-03-05T09:52:42.430552",
     "exception": false,
     "start_time": "2023-03-05T09:52:42.399091",
     "status": "completed"
    },
    "tags": []
   },
   "outputs": [
    {
     "data": {
      "text/plain": [
       "[94113, 144371]"
      ]
     },
     "execution_count": 20,
     "metadata": {},
     "output_type": "execute_result"
    }
   ],
   "source": [
    "u_factors = als.user_factors \n",
    "d_factors = als.item_factors\n",
    "[len(u_factors), len(d_factors)]"
   ]
  },
  {
   "cell_type": "code",
   "execution_count": 21,
   "id": "29ff6d9c",
   "metadata": {
    "execution": {
     "iopub.execute_input": "2023-03-05T09:52:42.468332Z",
     "iopub.status.busy": "2023-03-05T09:52:42.467924Z",
     "iopub.status.idle": "2023-03-05T09:52:47.318802Z",
     "shell.execute_reply": "2023-03-05T09:52:47.316549Z"
    },
    "papermill": {
     "duration": 4.873587,
     "end_time": "2023-03-05T09:52:47.322311",
     "exception": false,
     "start_time": "2023-03-05T09:52:42.448724",
     "status": "completed"
    },
    "tags": []
   },
   "outputs": [
    {
     "name": "stdout",
     "output_type": "stream",
     "text": [
      "CPU times: user 4.7 s, sys: 132 ms, total: 4.83 s\n",
      "Wall time: 4.84 s\n"
     ]
    }
   ],
   "source": [
    "%%time\n",
    "keywords_emb = pd.DataFrame(d_factors)\n",
    "keywords_emb['url_host'] = keywords_emb.index.map(inv_url_map)\n",
    "keywords_emb.to_csv('keywords_emb.csv', index=False)"
   ]
  },
  {
   "cell_type": "code",
   "execution_count": 22,
   "id": "2d08371d",
   "metadata": {
    "execution": {
     "iopub.execute_input": "2023-03-05T09:52:47.362605Z",
     "iopub.status.busy": "2023-03-05T09:52:47.361965Z",
     "iopub.status.idle": "2023-03-05T09:52:52.051326Z",
     "shell.execute_reply": "2023-03-05T09:52:52.050386Z"
    },
    "papermill": {
     "duration": 4.713265,
     "end_time": "2023-03-05T09:52:52.053616",
     "exception": false,
     "start_time": "2023-03-05T09:52:47.340351",
     "status": "completed"
    },
    "tags": []
   },
   "outputs": [
    {
     "data": {
      "text/plain": [
       "<144371x160890 sparse matrix of type '<class 'numpy.float64'>'\n",
       "\twith 2083077 stored elements in Compressed Sparse Row format>"
      ]
     },
     "execution_count": 22,
     "metadata": {},
     "output_type": "execute_result"
    }
   ],
   "source": [
    "tfidf_vectorizer = TfidfVectorizer(use_idf=True)\n",
    "info_tfidf = tfidf_vectorizer.fit_transform(site_data['info'].fillna(''))\n",
    "info_tfidf"
   ]
  },
  {
   "cell_type": "code",
   "execution_count": 23,
   "id": "c34497ca",
   "metadata": {
    "execution": {
     "iopub.execute_input": "2023-03-05T09:52:52.091847Z",
     "iopub.status.busy": "2023-03-05T09:52:52.090813Z",
     "iopub.status.idle": "2023-03-05T09:52:52.097839Z",
     "shell.execute_reply": "2023-03-05T09:52:52.096458Z"
    },
    "papermill": {
     "duration": 0.029123,
     "end_time": "2023-03-05T09:52:52.100753",
     "exception": false,
     "start_time": "2023-03-05T09:52:52.071630",
     "status": "completed"
    },
    "tags": []
   },
   "outputs": [],
   "source": [
    "als = implicit.approximate_als.FaissAlternatingLeastSquares(factors = 50, iterations = 30, use_gpu = False, \\\n",
    "       calculate_training_loss = False, regularization = 0.1)"
   ]
  },
  {
   "cell_type": "code",
   "execution_count": 24,
   "id": "e1b67d82",
   "metadata": {
    "execution": {
     "iopub.execute_input": "2023-03-05T09:52:52.139830Z",
     "iopub.status.busy": "2023-03-05T09:52:52.138935Z",
     "iopub.status.idle": "2023-03-05T09:53:48.044747Z",
     "shell.execute_reply": "2023-03-05T09:53:48.043574Z"
    },
    "papermill": {
     "duration": 55.928992,
     "end_time": "2023-03-05T09:53:48.047737",
     "exception": false,
     "start_time": "2023-03-05T09:52:52.118745",
     "status": "completed"
    },
    "tags": []
   },
   "outputs": [
    {
     "data": {
      "application/vnd.jupyter.widget-view+json": {
       "model_id": "247b2c2d00544d1394750004094be1b7",
       "version_major": 2,
       "version_minor": 0
      },
      "text/plain": [
       "  0%|          | 0/30 [00:00<?, ?it/s]"
      ]
     },
     "metadata": {},
     "output_type": "display_data"
    },
    {
     "name": "stdout",
     "output_type": "stream",
     "text": [
      "CPU times: user 3min 13s, sys: 20.5 s, total: 3min 34s\n",
      "Wall time: 55.9 s\n"
     ]
    }
   ],
   "source": [
    "%%time\n",
    "als.fit(info_tfidf)"
   ]
  },
  {
   "cell_type": "code",
   "execution_count": 25,
   "id": "d312b087",
   "metadata": {
    "execution": {
     "iopub.execute_input": "2023-03-05T09:53:48.088932Z",
     "iopub.status.busy": "2023-03-05T09:53:48.088523Z",
     "iopub.status.idle": "2023-03-05T09:53:48.096196Z",
     "shell.execute_reply": "2023-03-05T09:53:48.094928Z"
    },
    "papermill": {
     "duration": 0.030936,
     "end_time": "2023-03-05T09:53:48.098857",
     "exception": false,
     "start_time": "2023-03-05T09:53:48.067921",
     "status": "completed"
    },
    "tags": []
   },
   "outputs": [
    {
     "data": {
      "text/plain": [
       "[160890, 144371]"
      ]
     },
     "execution_count": 25,
     "metadata": {},
     "output_type": "execute_result"
    }
   ],
   "source": [
    "u_factors = als.user_factors \n",
    "d_factors = als.item_factors\n",
    "[len(u_factors), len(d_factors)]"
   ]
  },
  {
   "cell_type": "code",
   "execution_count": 26,
   "id": "c173b6c6",
   "metadata": {
    "execution": {
     "iopub.execute_input": "2023-03-05T09:53:48.138464Z",
     "iopub.status.busy": "2023-03-05T09:53:48.138041Z",
     "iopub.status.idle": "2023-03-05T09:53:55.618853Z",
     "shell.execute_reply": "2023-03-05T09:53:55.617511Z"
    },
    "papermill": {
     "duration": 7.504342,
     "end_time": "2023-03-05T09:53:55.621691",
     "exception": false,
     "start_time": "2023-03-05T09:53:48.117349",
     "status": "completed"
    },
    "tags": []
   },
   "outputs": [
    {
     "name": "stdout",
     "output_type": "stream",
     "text": [
      "CPU times: user 7.34 s, sys: 126 ms, total: 7.47 s\n",
      "Wall time: 7.47 s\n"
     ]
    }
   ],
   "source": [
    "%%time\n",
    "info_emb = pd.DataFrame(d_factors)\n",
    "info_emb['url_host'] = info_emb.index.map(inv_url_map)\n",
    "info_emb.to_csv('info_emb.csv', index=False)"
   ]
  },
  {
   "cell_type": "code",
   "execution_count": 27,
   "id": "41b84e24",
   "metadata": {
    "execution": {
     "iopub.execute_input": "2023-03-05T09:53:55.661383Z",
     "iopub.status.busy": "2023-03-05T09:53:55.660980Z",
     "iopub.status.idle": "2023-03-05T09:53:58.987465Z",
     "shell.execute_reply": "2023-03-05T09:53:58.986132Z"
    },
    "papermill": {
     "duration": 3.34957,
     "end_time": "2023-03-05T09:53:58.990318",
     "exception": false,
     "start_time": "2023-03-05T09:53:55.640748",
     "status": "completed"
    },
    "tags": []
   },
   "outputs": [
    {
     "data": {
      "text/plain": [
       "<144371x118602 sparse matrix of type '<class 'numpy.float64'>'\n",
       "\twith 1673920 stored elements in Compressed Sparse Row format>"
      ]
     },
     "execution_count": 27,
     "metadata": {},
     "output_type": "execute_result"
    }
   ],
   "source": [
    "tfidf_vectorizer = TfidfVectorizer(use_idf=True)\n",
    "title_description_tfidf = tfidf_vectorizer.fit_transform(site_data['title_description'].fillna(''))\n",
    "title_description_tfidf"
   ]
  },
  {
   "cell_type": "code",
   "execution_count": 28,
   "id": "83605975",
   "metadata": {
    "execution": {
     "iopub.execute_input": "2023-03-05T09:53:59.031836Z",
     "iopub.status.busy": "2023-03-05T09:53:59.031059Z",
     "iopub.status.idle": "2023-03-05T09:53:59.036503Z",
     "shell.execute_reply": "2023-03-05T09:53:59.035645Z"
    },
    "papermill": {
     "duration": 0.029288,
     "end_time": "2023-03-05T09:53:59.038958",
     "exception": false,
     "start_time": "2023-03-05T09:53:59.009670",
     "status": "completed"
    },
    "tags": []
   },
   "outputs": [],
   "source": [
    "als = implicit.approximate_als.FaissAlternatingLeastSquares(factors = 50, iterations = 30, use_gpu = False, \\\n",
    "       calculate_training_loss = False, regularization = 0.1)"
   ]
  },
  {
   "cell_type": "code",
   "execution_count": 29,
   "id": "479a1e85",
   "metadata": {
    "execution": {
     "iopub.execute_input": "2023-03-05T09:53:59.078822Z",
     "iopub.status.busy": "2023-03-05T09:53:59.077884Z",
     "iopub.status.idle": "2023-03-05T09:54:47.618254Z",
     "shell.execute_reply": "2023-03-05T09:54:47.617233Z"
    },
    "papermill": {
     "duration": 48.563165,
     "end_time": "2023-03-05T09:54:47.621055",
     "exception": false,
     "start_time": "2023-03-05T09:53:59.057890",
     "status": "completed"
    },
    "tags": []
   },
   "outputs": [
    {
     "data": {
      "application/vnd.jupyter.widget-view+json": {
       "model_id": "87e024a85ace457b9a6c1289a05d8bd9",
       "version_major": 2,
       "version_minor": 0
      },
      "text/plain": [
       "  0%|          | 0/30 [00:00<?, ?it/s]"
      ]
     },
     "metadata": {},
     "output_type": "display_data"
    },
    {
     "name": "stdout",
     "output_type": "stream",
     "text": [
      "CPU times: user 2min 47s, sys: 19.5 s, total: 3min 7s\n",
      "Wall time: 48.5 s\n"
     ]
    }
   ],
   "source": [
    "%%time\n",
    "als.fit(title_description_tfidf)"
   ]
  },
  {
   "cell_type": "code",
   "execution_count": 30,
   "id": "0c608b2c",
   "metadata": {
    "execution": {
     "iopub.execute_input": "2023-03-05T09:54:47.664689Z",
     "iopub.status.busy": "2023-03-05T09:54:47.664244Z",
     "iopub.status.idle": "2023-03-05T09:54:47.673527Z",
     "shell.execute_reply": "2023-03-05T09:54:47.672177Z"
    },
    "papermill": {
     "duration": 0.033475,
     "end_time": "2023-03-05T09:54:47.676028",
     "exception": false,
     "start_time": "2023-03-05T09:54:47.642553",
     "status": "completed"
    },
    "tags": []
   },
   "outputs": [
    {
     "data": {
      "text/plain": [
       "[118602, 144371]"
      ]
     },
     "execution_count": 30,
     "metadata": {},
     "output_type": "execute_result"
    }
   ],
   "source": [
    "u_factors = als.user_factors \n",
    "d_factors = als.item_factors\n",
    "[len(u_factors), len(d_factors)]"
   ]
  },
  {
   "cell_type": "code",
   "execution_count": 31,
   "id": "4eb66b45",
   "metadata": {
    "execution": {
     "iopub.execute_input": "2023-03-05T09:54:47.717093Z",
     "iopub.status.busy": "2023-03-05T09:54:47.716642Z",
     "iopub.status.idle": "2023-03-05T09:54:55.205176Z",
     "shell.execute_reply": "2023-03-05T09:54:55.204175Z"
    },
    "papermill": {
     "duration": 7.51221,
     "end_time": "2023-03-05T09:54:55.208111",
     "exception": false,
     "start_time": "2023-03-05T09:54:47.695901",
     "status": "completed"
    },
    "tags": []
   },
   "outputs": [
    {
     "name": "stdout",
     "output_type": "stream",
     "text": [
      "CPU times: user 7.33 s, sys: 141 ms, total: 7.47 s\n",
      "Wall time: 7.48 s\n"
     ]
    }
   ],
   "source": [
    "%%time\n",
    "title_description_emb = pd.DataFrame(d_factors)\n",
    "title_description_emb['url_host'] = title_description_emb.index.map(inv_url_map)\n",
    "title_description_emb.to_csv('title_description_emb.csv', index=False)"
   ]
  },
  {
   "cell_type": "code",
   "execution_count": 32,
   "id": "04aaf9df",
   "metadata": {
    "execution": {
     "iopub.execute_input": "2023-03-05T09:54:55.252098Z",
     "iopub.status.busy": "2023-03-05T09:54:55.250867Z",
     "iopub.status.idle": "2023-03-05T09:54:58.393440Z",
     "shell.execute_reply": "2023-03-05T09:54:58.392104Z"
    },
    "papermill": {
     "duration": 3.168038,
     "end_time": "2023-03-05T09:54:58.395983",
     "exception": false,
     "start_time": "2023-03-05T09:54:55.227945",
     "status": "completed"
    },
    "tags": []
   },
   "outputs": [
    {
     "data": {
      "text/plain": [
       "<144371x136072 sparse matrix of type '<class 'numpy.float64'>'\n",
       "\twith 1309164 stored elements in Compressed Sparse Row format>"
      ]
     },
     "execution_count": 32,
     "metadata": {},
     "output_type": "execute_result"
    }
   ],
   "source": [
    "tfidf_vectorizer = TfidfVectorizer(use_idf=True)\n",
    "title_keywords_tfidf = tfidf_vectorizer.fit_transform(site_data['title_keywords'].fillna(''))\n",
    "title_keywords_tfidf"
   ]
  },
  {
   "cell_type": "code",
   "execution_count": 33,
   "id": "e3665894",
   "metadata": {
    "execution": {
     "iopub.execute_input": "2023-03-05T09:54:58.437313Z",
     "iopub.status.busy": "2023-03-05T09:54:58.436891Z",
     "iopub.status.idle": "2023-03-05T09:54:58.442886Z",
     "shell.execute_reply": "2023-03-05T09:54:58.441371Z"
    },
    "papermill": {
     "duration": 0.029722,
     "end_time": "2023-03-05T09:54:58.445577",
     "exception": false,
     "start_time": "2023-03-05T09:54:58.415855",
     "status": "completed"
    },
    "tags": []
   },
   "outputs": [],
   "source": [
    "als = implicit.approximate_als.FaissAlternatingLeastSquares(factors = 50, iterations = 30, use_gpu = False, \\\n",
    "       calculate_training_loss = False, regularization = 0.1)"
   ]
  },
  {
   "cell_type": "code",
   "execution_count": 34,
   "id": "acba7191",
   "metadata": {
    "execution": {
     "iopub.execute_input": "2023-03-05T09:54:58.486277Z",
     "iopub.status.busy": "2023-03-05T09:54:58.485549Z",
     "iopub.status.idle": "2023-03-05T09:55:46.635292Z",
     "shell.execute_reply": "2023-03-05T09:55:46.634250Z"
    },
    "papermill": {
     "duration": 48.17317,
     "end_time": "2023-03-05T09:55:46.637952",
     "exception": false,
     "start_time": "2023-03-05T09:54:58.464782",
     "status": "completed"
    },
    "tags": []
   },
   "outputs": [
    {
     "data": {
      "application/vnd.jupyter.widget-view+json": {
       "model_id": "f164826ea1544ca5b94dfbf0d12c0842",
       "version_major": 2,
       "version_minor": 0
      },
      "text/plain": [
       "  0%|          | 0/30 [00:00<?, ?it/s]"
      ]
     },
     "metadata": {},
     "output_type": "display_data"
    },
    {
     "name": "stdout",
     "output_type": "stream",
     "text": [
      "CPU times: user 2min 40s, sys: 22.7 s, total: 3min 3s\n",
      "Wall time: 48.1 s\n"
     ]
    }
   ],
   "source": [
    "%%time\n",
    "als.fit(title_keywords_tfidf)"
   ]
  },
  {
   "cell_type": "code",
   "execution_count": 35,
   "id": "8256e2e1",
   "metadata": {
    "execution": {
     "iopub.execute_input": "2023-03-05T09:55:46.682735Z",
     "iopub.status.busy": "2023-03-05T09:55:46.682226Z",
     "iopub.status.idle": "2023-03-05T09:55:46.690840Z",
     "shell.execute_reply": "2023-03-05T09:55:46.689597Z"
    },
    "papermill": {
     "duration": 0.033354,
     "end_time": "2023-03-05T09:55:46.693546",
     "exception": false,
     "start_time": "2023-03-05T09:55:46.660192",
     "status": "completed"
    },
    "tags": []
   },
   "outputs": [
    {
     "data": {
      "text/plain": [
       "[136072, 144371]"
      ]
     },
     "execution_count": 35,
     "metadata": {},
     "output_type": "execute_result"
    }
   ],
   "source": [
    "u_factors = als.user_factors \n",
    "d_factors = als.item_factors\n",
    "[len(u_factors), len(d_factors)]"
   ]
  },
  {
   "cell_type": "code",
   "execution_count": 36,
   "id": "0c461012",
   "metadata": {
    "execution": {
     "iopub.execute_input": "2023-03-05T09:55:46.736762Z",
     "iopub.status.busy": "2023-03-05T09:55:46.736280Z",
     "iopub.status.idle": "2023-03-05T09:55:54.330875Z",
     "shell.execute_reply": "2023-03-05T09:55:54.329338Z"
    },
    "papermill": {
     "duration": 7.620689,
     "end_time": "2023-03-05T09:55:54.333637",
     "exception": false,
     "start_time": "2023-03-05T09:55:46.712948",
     "status": "completed"
    },
    "tags": []
   },
   "outputs": [
    {
     "name": "stdout",
     "output_type": "stream",
     "text": [
      "CPU times: user 7.42 s, sys: 150 ms, total: 7.57 s\n",
      "Wall time: 7.59 s\n"
     ]
    }
   ],
   "source": [
    "%%time\n",
    "title_keywords_emb = pd.DataFrame(d_factors)\n",
    "title_keywords_emb['url_host'] = title_keywords_emb.index.map(inv_url_map)\n",
    "title_keywords_emb.to_csv('title_keywords_emb.csv', index=False)"
   ]
  },
  {
   "cell_type": "code",
   "execution_count": 37,
   "id": "cc8551c1",
   "metadata": {
    "execution": {
     "iopub.execute_input": "2023-03-05T09:55:54.375496Z",
     "iopub.status.busy": "2023-03-05T09:55:54.375054Z",
     "iopub.status.idle": "2023-03-05T09:55:58.138937Z",
     "shell.execute_reply": "2023-03-05T09:55:58.137164Z"
    },
    "papermill": {
     "duration": 3.789074,
     "end_time": "2023-03-05T09:55:58.142535",
     "exception": false,
     "start_time": "2023-03-05T09:55:54.353461",
     "status": "completed"
    },
    "tags": []
   },
   "outputs": [
    {
     "data": {
      "text/plain": [
       "<144371x133024 sparse matrix of type '<class 'numpy.float64'>'\n",
       "\twith 1726703 stored elements in Compressed Sparse Row format>"
      ]
     },
     "execution_count": 37,
     "metadata": {},
     "output_type": "execute_result"
    }
   ],
   "source": [
    "tfidf_vectorizer = TfidfVectorizer(use_idf=True)\n",
    "description_keywords_tfidf = tfidf_vectorizer.fit_transform(site_data['description_keywords'].fillna(''))\n",
    "description_keywords_tfidf"
   ]
  },
  {
   "cell_type": "code",
   "execution_count": 38,
   "id": "b5576392",
   "metadata": {
    "execution": {
     "iopub.execute_input": "2023-03-05T09:55:58.185976Z",
     "iopub.status.busy": "2023-03-05T09:55:58.185460Z",
     "iopub.status.idle": "2023-03-05T09:55:58.192335Z",
     "shell.execute_reply": "2023-03-05T09:55:58.190544Z"
    },
    "papermill": {
     "duration": 0.031514,
     "end_time": "2023-03-05T09:55:58.194913",
     "exception": false,
     "start_time": "2023-03-05T09:55:58.163399",
     "status": "completed"
    },
    "tags": []
   },
   "outputs": [],
   "source": [
    "als = implicit.approximate_als.FaissAlternatingLeastSquares(factors = 50, iterations = 30, use_gpu = False, \\\n",
    "       calculate_training_loss = False, regularization = 0.1)"
   ]
  },
  {
   "cell_type": "code",
   "execution_count": 39,
   "id": "0341ce57",
   "metadata": {
    "execution": {
     "iopub.execute_input": "2023-03-05T09:55:58.238981Z",
     "iopub.status.busy": "2023-03-05T09:55:58.238525Z",
     "iopub.status.idle": "2023-03-05T09:56:45.450532Z",
     "shell.execute_reply": "2023-03-05T09:56:45.449150Z"
    },
    "papermill": {
     "duration": 47.237942,
     "end_time": "2023-03-05T09:56:45.453217",
     "exception": false,
     "start_time": "2023-03-05T09:55:58.215275",
     "status": "completed"
    },
    "tags": []
   },
   "outputs": [
    {
     "data": {
      "application/vnd.jupyter.widget-view+json": {
       "model_id": "1fa707d229f047088176621ca36d90e0",
       "version_major": 2,
       "version_minor": 0
      },
      "text/plain": [
       "  0%|          | 0/30 [00:00<?, ?it/s]"
      ]
     },
     "metadata": {},
     "output_type": "display_data"
    },
    {
     "name": "stdout",
     "output_type": "stream",
     "text": [
      "CPU times: user 2min 43s, sys: 16.3 s, total: 2min 59s\n",
      "Wall time: 47.2 s\n"
     ]
    }
   ],
   "source": [
    "%%time\n",
    "als.fit(description_keywords_tfidf)"
   ]
  },
  {
   "cell_type": "code",
   "execution_count": 40,
   "id": "604b86b6",
   "metadata": {
    "execution": {
     "iopub.execute_input": "2023-03-05T09:56:45.499608Z",
     "iopub.status.busy": "2023-03-05T09:56:45.499157Z",
     "iopub.status.idle": "2023-03-05T09:56:45.508306Z",
     "shell.execute_reply": "2023-03-05T09:56:45.506646Z"
    },
    "papermill": {
     "duration": 0.035093,
     "end_time": "2023-03-05T09:56:45.511925",
     "exception": false,
     "start_time": "2023-03-05T09:56:45.476832",
     "status": "completed"
    },
    "tags": []
   },
   "outputs": [
    {
     "data": {
      "text/plain": [
       "[133024, 144371]"
      ]
     },
     "execution_count": 40,
     "metadata": {},
     "output_type": "execute_result"
    }
   ],
   "source": [
    "u_factors = als.user_factors \n",
    "d_factors = als.item_factors\n",
    "[len(u_factors), len(d_factors)]"
   ]
  },
  {
   "cell_type": "code",
   "execution_count": 41,
   "id": "ddfe6305",
   "metadata": {
    "execution": {
     "iopub.execute_input": "2023-03-05T09:56:45.556621Z",
     "iopub.status.busy": "2023-03-05T09:56:45.556165Z",
     "iopub.status.idle": "2023-03-05T09:56:51.889729Z",
     "shell.execute_reply": "2023-03-05T09:56:51.888227Z"
    },
    "papermill": {
     "duration": 6.359148,
     "end_time": "2023-03-05T09:56:51.892876",
     "exception": false,
     "start_time": "2023-03-05T09:56:45.533728",
     "status": "completed"
    },
    "tags": []
   },
   "outputs": [
    {
     "name": "stdout",
     "output_type": "stream",
     "text": [
      "CPU times: user 6.17 s, sys: 150 ms, total: 6.32 s\n",
      "Wall time: 6.33 s\n"
     ]
    }
   ],
   "source": [
    "%%time\n",
    "description_keywords_emb = pd.DataFrame(d_factors)\n",
    "description_keywords_emb['url_host'] = description_keywords_emb.index.map(inv_url_map)\n",
    "description_keywords_emb.to_csv('description_keywords_emb.csv', index=False)"
   ]
  }
 ],
 "metadata": {
  "kernelspec": {
   "display_name": "Python 3",
   "language": "python",
   "name": "python3"
  },
  "language_info": {
   "codemirror_mode": {
    "name": "ipython",
    "version": 3
   },
   "file_extension": ".py",
   "mimetype": "text/x-python",
   "name": "python",
   "nbconvert_exporter": "python",
   "pygments_lexer": "ipython3",
   "version": "3.7.12"
  },
  "papermill": {
   "default_parameters": {},
   "duration": 466.951887,
   "end_time": "2023-03-05T09:56:54.079845",
   "environment_variables": {},
   "exception": null,
   "input_path": "__notebook__.ipynb",
   "output_path": "__notebook__.ipynb",
   "parameters": {},
   "start_time": "2023-03-05T09:49:07.127958",
   "version": "2.3.4"
  },
  "widgets": {
   "application/vnd.jupyter.widget-state+json": {
    "state": {
     "0379fc8a594d4e4fb6eaa25ae50a441f": {
      "model_module": "@jupyter-widgets/base",
      "model_module_version": "1.2.0",
      "model_name": "LayoutModel",
      "state": {
       "_model_module": "@jupyter-widgets/base",
       "_model_module_version": "1.2.0",
       "_model_name": "LayoutModel",
       "_view_count": null,
       "_view_module": "@jupyter-widgets/base",
       "_view_module_version": "1.2.0",
       "_view_name": "LayoutView",
       "align_content": null,
       "align_items": null,
       "align_self": null,
       "border": null,
       "bottom": null,
       "display": null,
       "flex": null,
       "flex_flow": null,
       "grid_area": null,
       "grid_auto_columns": null,
       "grid_auto_flow": null,
       "grid_auto_rows": null,
       "grid_column": null,
       "grid_gap": null,
       "grid_row": null,
       "grid_template_areas": null,
       "grid_template_columns": null,
       "grid_template_rows": null,
       "height": null,
       "justify_content": null,
       "justify_items": null,
       "left": null,
       "margin": null,
       "max_height": null,
       "max_width": null,
       "min_height": null,
       "min_width": null,
       "object_fit": null,
       "object_position": null,
       "order": null,
       "overflow": null,
       "overflow_x": null,
       "overflow_y": null,
       "padding": null,
       "right": null,
       "top": null,
       "visibility": null,
       "width": null
      }
     },
     "04bf59413e1246f78a27b24f0ef50824": {
      "model_module": "@jupyter-widgets/controls",
      "model_module_version": "1.5.0",
      "model_name": "ProgressStyleModel",
      "state": {
       "_model_module": "@jupyter-widgets/controls",
       "_model_module_version": "1.5.0",
       "_model_name": "ProgressStyleModel",
       "_view_count": null,
       "_view_module": "@jupyter-widgets/base",
       "_view_module_version": "1.2.0",
       "_view_name": "StyleView",
       "bar_color": null,
       "description_width": ""
      }
     },
     "05c2126bc20548f6b6f3370ee66f1a73": {
      "model_module": "@jupyter-widgets/base",
      "model_module_version": "1.2.0",
      "model_name": "LayoutModel",
      "state": {
       "_model_module": "@jupyter-widgets/base",
       "_model_module_version": "1.2.0",
       "_model_name": "LayoutModel",
       "_view_count": null,
       "_view_module": "@jupyter-widgets/base",
       "_view_module_version": "1.2.0",
       "_view_name": "LayoutView",
       "align_content": null,
       "align_items": null,
       "align_self": null,
       "border": null,
       "bottom": null,
       "display": null,
       "flex": null,
       "flex_flow": null,
       "grid_area": null,
       "grid_auto_columns": null,
       "grid_auto_flow": null,
       "grid_auto_rows": null,
       "grid_column": null,
       "grid_gap": null,
       "grid_row": null,
       "grid_template_areas": null,
       "grid_template_columns": null,
       "grid_template_rows": null,
       "height": null,
       "justify_content": null,
       "justify_items": null,
       "left": null,
       "margin": null,
       "max_height": null,
       "max_width": null,
       "min_height": null,
       "min_width": null,
       "object_fit": null,
       "object_position": null,
       "order": null,
       "overflow": null,
       "overflow_x": null,
       "overflow_y": null,
       "padding": null,
       "right": null,
       "top": null,
       "visibility": null,
       "width": null
      }
     },
     "0b1d81f258a14a8ca4430dfd8221ef3c": {
      "model_module": "@jupyter-widgets/base",
      "model_module_version": "1.2.0",
      "model_name": "LayoutModel",
      "state": {
       "_model_module": "@jupyter-widgets/base",
       "_model_module_version": "1.2.0",
       "_model_name": "LayoutModel",
       "_view_count": null,
       "_view_module": "@jupyter-widgets/base",
       "_view_module_version": "1.2.0",
       "_view_name": "LayoutView",
       "align_content": null,
       "align_items": null,
       "align_self": null,
       "border": null,
       "bottom": null,
       "display": null,
       "flex": null,
       "flex_flow": null,
       "grid_area": null,
       "grid_auto_columns": null,
       "grid_auto_flow": null,
       "grid_auto_rows": null,
       "grid_column": null,
       "grid_gap": null,
       "grid_row": null,
       "grid_template_areas": null,
       "grid_template_columns": null,
       "grid_template_rows": null,
       "height": null,
       "justify_content": null,
       "justify_items": null,
       "left": null,
       "margin": null,
       "max_height": null,
       "max_width": null,
       "min_height": null,
       "min_width": null,
       "object_fit": null,
       "object_position": null,
       "order": null,
       "overflow": null,
       "overflow_x": null,
       "overflow_y": null,
       "padding": null,
       "right": null,
       "top": null,
       "visibility": null,
       "width": null
      }
     },
     "12984f105a5247708448e23985a14086": {
      "model_module": "@jupyter-widgets/controls",
      "model_module_version": "1.5.0",
      "model_name": "DescriptionStyleModel",
      "state": {
       "_model_module": "@jupyter-widgets/controls",
       "_model_module_version": "1.5.0",
       "_model_name": "DescriptionStyleModel",
       "_view_count": null,
       "_view_module": "@jupyter-widgets/base",
       "_view_module_version": "1.2.0",
       "_view_name": "StyleView",
       "description_width": ""
      }
     },
     "148fdfc3b5cc4750afdebfcd453c45ff": {
      "model_module": "@jupyter-widgets/base",
      "model_module_version": "1.2.0",
      "model_name": "LayoutModel",
      "state": {
       "_model_module": "@jupyter-widgets/base",
       "_model_module_version": "1.2.0",
       "_model_name": "LayoutModel",
       "_view_count": null,
       "_view_module": "@jupyter-widgets/base",
       "_view_module_version": "1.2.0",
       "_view_name": "LayoutView",
       "align_content": null,
       "align_items": null,
       "align_self": null,
       "border": null,
       "bottom": null,
       "display": null,
       "flex": null,
       "flex_flow": null,
       "grid_area": null,
       "grid_auto_columns": null,
       "grid_auto_flow": null,
       "grid_auto_rows": null,
       "grid_column": null,
       "grid_gap": null,
       "grid_row": null,
       "grid_template_areas": null,
       "grid_template_columns": null,
       "grid_template_rows": null,
       "height": null,
       "justify_content": null,
       "justify_items": null,
       "left": null,
       "margin": null,
       "max_height": null,
       "max_width": null,
       "min_height": null,
       "min_width": null,
       "object_fit": null,
       "object_position": null,
       "order": null,
       "overflow": null,
       "overflow_x": null,
       "overflow_y": null,
       "padding": null,
       "right": null,
       "top": null,
       "visibility": null,
       "width": null
      }
     },
     "191f6965d1904645bc4b8dafce812021": {
      "model_module": "@jupyter-widgets/controls",
      "model_module_version": "1.5.0",
      "model_name": "DescriptionStyleModel",
      "state": {
       "_model_module": "@jupyter-widgets/controls",
       "_model_module_version": "1.5.0",
       "_model_name": "DescriptionStyleModel",
       "_view_count": null,
       "_view_module": "@jupyter-widgets/base",
       "_view_module_version": "1.2.0",
       "_view_name": "StyleView",
       "description_width": ""
      }
     },
     "198f222cd2da4b1db09535f2c4012e20": {
      "model_module": "@jupyter-widgets/controls",
      "model_module_version": "1.5.0",
      "model_name": "HBoxModel",
      "state": {
       "_dom_classes": [],
       "_model_module": "@jupyter-widgets/controls",
       "_model_module_version": "1.5.0",
       "_model_name": "HBoxModel",
       "_view_count": null,
       "_view_module": "@jupyter-widgets/controls",
       "_view_module_version": "1.5.0",
       "_view_name": "HBoxView",
       "box_style": "",
       "children": [
        "IPY_MODEL_617aa3b7844b4dffba02102fd8735f75",
        "IPY_MODEL_5284ce685cb64b59b8cdcaaf2385792f",
        "IPY_MODEL_d5ac1ee69cd0426eacb08720633f3143"
       ],
       "layout": "IPY_MODEL_88543bef558f4f1fa77fbf133070e6aa"
      }
     },
     "1b1d6f8bf914446a997cbda766e040b9": {
      "model_module": "@jupyter-widgets/base",
      "model_module_version": "1.2.0",
      "model_name": "LayoutModel",
      "state": {
       "_model_module": "@jupyter-widgets/base",
       "_model_module_version": "1.2.0",
       "_model_name": "LayoutModel",
       "_view_count": null,
       "_view_module": "@jupyter-widgets/base",
       "_view_module_version": "1.2.0",
       "_view_name": "LayoutView",
       "align_content": null,
       "align_items": null,
       "align_self": null,
       "border": null,
       "bottom": null,
       "display": null,
       "flex": null,
       "flex_flow": null,
       "grid_area": null,
       "grid_auto_columns": null,
       "grid_auto_flow": null,
       "grid_auto_rows": null,
       "grid_column": null,
       "grid_gap": null,
       "grid_row": null,
       "grid_template_areas": null,
       "grid_template_columns": null,
       "grid_template_rows": null,
       "height": null,
       "justify_content": null,
       "justify_items": null,
       "left": null,
       "margin": null,
       "max_height": null,
       "max_width": null,
       "min_height": null,
       "min_width": null,
       "object_fit": null,
       "object_position": null,
       "order": null,
       "overflow": null,
       "overflow_x": null,
       "overflow_y": null,
       "padding": null,
       "right": null,
       "top": null,
       "visibility": null,
       "width": null
      }
     },
     "1d30d90211284605bbae9fb706f5e8bd": {
      "model_module": "@jupyter-widgets/controls",
      "model_module_version": "1.5.0",
      "model_name": "DescriptionStyleModel",
      "state": {
       "_model_module": "@jupyter-widgets/controls",
       "_model_module_version": "1.5.0",
       "_model_name": "DescriptionStyleModel",
       "_view_count": null,
       "_view_module": "@jupyter-widgets/base",
       "_view_module_version": "1.2.0",
       "_view_name": "StyleView",
       "description_width": ""
      }
     },
     "1d73933390e24017b7581ed8491078f2": {
      "model_module": "@jupyter-widgets/controls",
      "model_module_version": "1.5.0",
      "model_name": "DescriptionStyleModel",
      "state": {
       "_model_module": "@jupyter-widgets/controls",
       "_model_module_version": "1.5.0",
       "_model_name": "DescriptionStyleModel",
       "_view_count": null,
       "_view_module": "@jupyter-widgets/base",
       "_view_module_version": "1.2.0",
       "_view_name": "StyleView",
       "description_width": ""
      }
     },
     "1f0d7045b5314b079f258eb60f85b9a3": {
      "model_module": "@jupyter-widgets/controls",
      "model_module_version": "1.5.0",
      "model_name": "HTMLModel",
      "state": {
       "_dom_classes": [],
       "_model_module": "@jupyter-widgets/controls",
       "_model_module_version": "1.5.0",
       "_model_name": "HTMLModel",
       "_view_count": null,
       "_view_module": "@jupyter-widgets/controls",
       "_view_module_version": "1.5.0",
       "_view_name": "HTMLView",
       "description": "",
       "description_tooltip": null,
       "layout": "IPY_MODEL_8722de10819148c08d39466399aac015",
       "placeholder": "​",
       "style": "IPY_MODEL_2473de6117834896bd721866406297d8",
       "value": "100%"
      }
     },
     "1f26b7d41ebd4382bae1ecd527437929": {
      "model_module": "@jupyter-widgets/base",
      "model_module_version": "1.2.0",
      "model_name": "LayoutModel",
      "state": {
       "_model_module": "@jupyter-widgets/base",
       "_model_module_version": "1.2.0",
       "_model_name": "LayoutModel",
       "_view_count": null,
       "_view_module": "@jupyter-widgets/base",
       "_view_module_version": "1.2.0",
       "_view_name": "LayoutView",
       "align_content": null,
       "align_items": null,
       "align_self": null,
       "border": null,
       "bottom": null,
       "display": null,
       "flex": null,
       "flex_flow": null,
       "grid_area": null,
       "grid_auto_columns": null,
       "grid_auto_flow": null,
       "grid_auto_rows": null,
       "grid_column": null,
       "grid_gap": null,
       "grid_row": null,
       "grid_template_areas": null,
       "grid_template_columns": null,
       "grid_template_rows": null,
       "height": null,
       "justify_content": null,
       "justify_items": null,
       "left": null,
       "margin": null,
       "max_height": null,
       "max_width": null,
       "min_height": null,
       "min_width": null,
       "object_fit": null,
       "object_position": null,
       "order": null,
       "overflow": null,
       "overflow_x": null,
       "overflow_y": null,
       "padding": null,
       "right": null,
       "top": null,
       "visibility": null,
       "width": null
      }
     },
     "1fa707d229f047088176621ca36d90e0": {
      "model_module": "@jupyter-widgets/controls",
      "model_module_version": "1.5.0",
      "model_name": "HBoxModel",
      "state": {
       "_dom_classes": [],
       "_model_module": "@jupyter-widgets/controls",
       "_model_module_version": "1.5.0",
       "_model_name": "HBoxModel",
       "_view_count": null,
       "_view_module": "@jupyter-widgets/controls",
       "_view_module_version": "1.5.0",
       "_view_name": "HBoxView",
       "box_style": "",
       "children": [
        "IPY_MODEL_f85b3d6e813c4c96811aeb200a522517",
        "IPY_MODEL_3265d5783d664a028ba1b62802125924",
        "IPY_MODEL_3e41e33fdd064f70bc7493dd5b4ca288"
       ],
       "layout": "IPY_MODEL_88dfb922704e4ac7af9645d7e57b0e21"
      }
     },
     "21acc8eb503d4b4081886e0e6aa671ef": {
      "model_module": "@jupyter-widgets/base",
      "model_module_version": "1.2.0",
      "model_name": "LayoutModel",
      "state": {
       "_model_module": "@jupyter-widgets/base",
       "_model_module_version": "1.2.0",
       "_model_name": "LayoutModel",
       "_view_count": null,
       "_view_module": "@jupyter-widgets/base",
       "_view_module_version": "1.2.0",
       "_view_name": "LayoutView",
       "align_content": null,
       "align_items": null,
       "align_self": null,
       "border": null,
       "bottom": null,
       "display": null,
       "flex": null,
       "flex_flow": null,
       "grid_area": null,
       "grid_auto_columns": null,
       "grid_auto_flow": null,
       "grid_auto_rows": null,
       "grid_column": null,
       "grid_gap": null,
       "grid_row": null,
       "grid_template_areas": null,
       "grid_template_columns": null,
       "grid_template_rows": null,
       "height": null,
       "justify_content": null,
       "justify_items": null,
       "left": null,
       "margin": null,
       "max_height": null,
       "max_width": null,
       "min_height": null,
       "min_width": null,
       "object_fit": null,
       "object_position": null,
       "order": null,
       "overflow": null,
       "overflow_x": null,
       "overflow_y": null,
       "padding": null,
       "right": null,
       "top": null,
       "visibility": null,
       "width": null
      }
     },
     "22d00a3a3e72486787b05212bfb13aca": {
      "model_module": "@jupyter-widgets/base",
      "model_module_version": "1.2.0",
      "model_name": "LayoutModel",
      "state": {
       "_model_module": "@jupyter-widgets/base",
       "_model_module_version": "1.2.0",
       "_model_name": "LayoutModel",
       "_view_count": null,
       "_view_module": "@jupyter-widgets/base",
       "_view_module_version": "1.2.0",
       "_view_name": "LayoutView",
       "align_content": null,
       "align_items": null,
       "align_self": null,
       "border": null,
       "bottom": null,
       "display": null,
       "flex": null,
       "flex_flow": null,
       "grid_area": null,
       "grid_auto_columns": null,
       "grid_auto_flow": null,
       "grid_auto_rows": null,
       "grid_column": null,
       "grid_gap": null,
       "grid_row": null,
       "grid_template_areas": null,
       "grid_template_columns": null,
       "grid_template_rows": null,
       "height": null,
       "justify_content": null,
       "justify_items": null,
       "left": null,
       "margin": null,
       "max_height": null,
       "max_width": null,
       "min_height": null,
       "min_width": null,
       "object_fit": null,
       "object_position": null,
       "order": null,
       "overflow": null,
       "overflow_x": null,
       "overflow_y": null,
       "padding": null,
       "right": null,
       "top": null,
       "visibility": null,
       "width": null
      }
     },
     "23c70afd7022428ba0bc533231802c4f": {
      "model_module": "@jupyter-widgets/base",
      "model_module_version": "1.2.0",
      "model_name": "LayoutModel",
      "state": {
       "_model_module": "@jupyter-widgets/base",
       "_model_module_version": "1.2.0",
       "_model_name": "LayoutModel",
       "_view_count": null,
       "_view_module": "@jupyter-widgets/base",
       "_view_module_version": "1.2.0",
       "_view_name": "LayoutView",
       "align_content": null,
       "align_items": null,
       "align_self": null,
       "border": null,
       "bottom": null,
       "display": null,
       "flex": null,
       "flex_flow": null,
       "grid_area": null,
       "grid_auto_columns": null,
       "grid_auto_flow": null,
       "grid_auto_rows": null,
       "grid_column": null,
       "grid_gap": null,
       "grid_row": null,
       "grid_template_areas": null,
       "grid_template_columns": null,
       "grid_template_rows": null,
       "height": null,
       "justify_content": null,
       "justify_items": null,
       "left": null,
       "margin": null,
       "max_height": null,
       "max_width": null,
       "min_height": null,
       "min_width": null,
       "object_fit": null,
       "object_position": null,
       "order": null,
       "overflow": null,
       "overflow_x": null,
       "overflow_y": null,
       "padding": null,
       "right": null,
       "top": null,
       "visibility": null,
       "width": null
      }
     },
     "2473de6117834896bd721866406297d8": {
      "model_module": "@jupyter-widgets/controls",
      "model_module_version": "1.5.0",
      "model_name": "DescriptionStyleModel",
      "state": {
       "_model_module": "@jupyter-widgets/controls",
       "_model_module_version": "1.5.0",
       "_model_name": "DescriptionStyleModel",
       "_view_count": null,
       "_view_module": "@jupyter-widgets/base",
       "_view_module_version": "1.2.0",
       "_view_name": "StyleView",
       "description_width": ""
      }
     },
     "247b2c2d00544d1394750004094be1b7": {
      "model_module": "@jupyter-widgets/controls",
      "model_module_version": "1.5.0",
      "model_name": "HBoxModel",
      "state": {
       "_dom_classes": [],
       "_model_module": "@jupyter-widgets/controls",
       "_model_module_version": "1.5.0",
       "_model_name": "HBoxModel",
       "_view_count": null,
       "_view_module": "@jupyter-widgets/controls",
       "_view_module_version": "1.5.0",
       "_view_name": "HBoxView",
       "box_style": "",
       "children": [
        "IPY_MODEL_93af1da898ad4b109223c64574e2ac6a",
        "IPY_MODEL_adf7f0f7724d44b9a47d202586d17df5",
        "IPY_MODEL_9db9a594dec54c819551e0f6ac332707"
       ],
       "layout": "IPY_MODEL_21acc8eb503d4b4081886e0e6aa671ef"
      }
     },
     "24cfaf50c9b54b9b975011fffd3d50f0": {
      "model_module": "@jupyter-widgets/base",
      "model_module_version": "1.2.0",
      "model_name": "LayoutModel",
      "state": {
       "_model_module": "@jupyter-widgets/base",
       "_model_module_version": "1.2.0",
       "_model_name": "LayoutModel",
       "_view_count": null,
       "_view_module": "@jupyter-widgets/base",
       "_view_module_version": "1.2.0",
       "_view_name": "LayoutView",
       "align_content": null,
       "align_items": null,
       "align_self": null,
       "border": null,
       "bottom": null,
       "display": null,
       "flex": null,
       "flex_flow": null,
       "grid_area": null,
       "grid_auto_columns": null,
       "grid_auto_flow": null,
       "grid_auto_rows": null,
       "grid_column": null,
       "grid_gap": null,
       "grid_row": null,
       "grid_template_areas": null,
       "grid_template_columns": null,
       "grid_template_rows": null,
       "height": null,
       "justify_content": null,
       "justify_items": null,
       "left": null,
       "margin": null,
       "max_height": null,
       "max_width": null,
       "min_height": null,
       "min_width": null,
       "object_fit": null,
       "object_position": null,
       "order": null,
       "overflow": null,
       "overflow_x": null,
       "overflow_y": null,
       "padding": null,
       "right": null,
       "top": null,
       "visibility": null,
       "width": null
      }
     },
     "2551477bdb7a4a63ba75bf9a74d88065": {
      "model_module": "@jupyter-widgets/controls",
      "model_module_version": "1.5.0",
      "model_name": "HTMLModel",
      "state": {
       "_dom_classes": [],
       "_model_module": "@jupyter-widgets/controls",
       "_model_module_version": "1.5.0",
       "_model_name": "HTMLModel",
       "_view_count": null,
       "_view_module": "@jupyter-widgets/controls",
       "_view_module_version": "1.5.0",
       "_view_name": "HTMLView",
       "description": "",
       "description_tooltip": null,
       "layout": "IPY_MODEL_f43d91b2262b444480f5c916fef04ec5",
       "placeholder": "​",
       "style": "IPY_MODEL_12984f105a5247708448e23985a14086",
       "value": "100%"
      }
     },
     "3265d5783d664a028ba1b62802125924": {
      "model_module": "@jupyter-widgets/controls",
      "model_module_version": "1.5.0",
      "model_name": "FloatProgressModel",
      "state": {
       "_dom_classes": [],
       "_model_module": "@jupyter-widgets/controls",
       "_model_module_version": "1.5.0",
       "_model_name": "FloatProgressModel",
       "_view_count": null,
       "_view_module": "@jupyter-widgets/controls",
       "_view_module_version": "1.5.0",
       "_view_name": "ProgressView",
       "bar_style": "success",
       "description": "",
       "description_tooltip": null,
       "layout": "IPY_MODEL_ffbdd4a0cb30437db8df579d18190197",
       "max": 30,
       "min": 0,
       "orientation": "horizontal",
       "style": "IPY_MODEL_5622c9076165459bb68ab04a6ba7ea64",
       "value": 30
      }
     },
     "34b634d0618e4429851f411e32b5ae41": {
      "model_module": "@jupyter-widgets/controls",
      "model_module_version": "1.5.0",
      "model_name": "FloatProgressModel",
      "state": {
       "_dom_classes": [],
       "_model_module": "@jupyter-widgets/controls",
       "_model_module_version": "1.5.0",
       "_model_name": "FloatProgressModel",
       "_view_count": null,
       "_view_module": "@jupyter-widgets/controls",
       "_view_module_version": "1.5.0",
       "_view_name": "ProgressView",
       "bar_style": "success",
       "description": "",
       "description_tooltip": null,
       "layout": "IPY_MODEL_ab6aff736b624a85a56f20d1f65b4bc5",
       "max": 30,
       "min": 0,
       "orientation": "horizontal",
       "style": "IPY_MODEL_8bc7c9a6fd4c4ba9bafe6f99412b703c",
       "value": 30
      }
     },
     "350f85629079432390202004ecfdfc93": {
      "model_module": "@jupyter-widgets/controls",
      "model_module_version": "1.5.0",
      "model_name": "DescriptionStyleModel",
      "state": {
       "_model_module": "@jupyter-widgets/controls",
       "_model_module_version": "1.5.0",
       "_model_name": "DescriptionStyleModel",
       "_view_count": null,
       "_view_module": "@jupyter-widgets/base",
       "_view_module_version": "1.2.0",
       "_view_name": "StyleView",
       "description_width": ""
      }
     },
     "3829e400d5854e899834549ff1e2a793": {
      "model_module": "@jupyter-widgets/controls",
      "model_module_version": "1.5.0",
      "model_name": "HTMLModel",
      "state": {
       "_dom_classes": [],
       "_model_module": "@jupyter-widgets/controls",
       "_model_module_version": "1.5.0",
       "_model_name": "HTMLModel",
       "_view_count": null,
       "_view_module": "@jupyter-widgets/controls",
       "_view_module_version": "1.5.0",
       "_view_name": "HTMLView",
       "description": "",
       "description_tooltip": null,
       "layout": "IPY_MODEL_b5454748ad214d599a181b20e3d95481",
       "placeholder": "​",
       "style": "IPY_MODEL_f16f222cc16f4f55b3455a3761828081",
       "value": " 30/30 [00:36&lt;00:00,  1.20s/it]"
      }
     },
     "39652bb767504a209bdfa0a8a4216279": {
      "model_module": "@jupyter-widgets/controls",
      "model_module_version": "1.5.0",
      "model_name": "FloatProgressModel",
      "state": {
       "_dom_classes": [],
       "_model_module": "@jupyter-widgets/controls",
       "_model_module_version": "1.5.0",
       "_model_name": "FloatProgressModel",
       "_view_count": null,
       "_view_module": "@jupyter-widgets/controls",
       "_view_module_version": "1.5.0",
       "_view_name": "ProgressView",
       "bar_style": "success",
       "description": "",
       "description_tooltip": null,
       "layout": "IPY_MODEL_cd32b3d14ad4424d980a0bbd437f11ed",
       "max": 30,
       "min": 0,
       "orientation": "horizontal",
       "style": "IPY_MODEL_a02bcae6412a40dabe4d148ffd0f8479",
       "value": 30
      }
     },
     "3c8c2b4bf18144b680b7aea88ebee69c": {
      "model_module": "@jupyter-widgets/base",
      "model_module_version": "1.2.0",
      "model_name": "LayoutModel",
      "state": {
       "_model_module": "@jupyter-widgets/base",
       "_model_module_version": "1.2.0",
       "_model_name": "LayoutModel",
       "_view_count": null,
       "_view_module": "@jupyter-widgets/base",
       "_view_module_version": "1.2.0",
       "_view_name": "LayoutView",
       "align_content": null,
       "align_items": null,
       "align_self": null,
       "border": null,
       "bottom": null,
       "display": null,
       "flex": null,
       "flex_flow": null,
       "grid_area": null,
       "grid_auto_columns": null,
       "grid_auto_flow": null,
       "grid_auto_rows": null,
       "grid_column": null,
       "grid_gap": null,
       "grid_row": null,
       "grid_template_areas": null,
       "grid_template_columns": null,
       "grid_template_rows": null,
       "height": null,
       "justify_content": null,
       "justify_items": null,
       "left": null,
       "margin": null,
       "max_height": null,
       "max_width": null,
       "min_height": null,
       "min_width": null,
       "object_fit": null,
       "object_position": null,
       "order": null,
       "overflow": null,
       "overflow_x": null,
       "overflow_y": null,
       "padding": null,
       "right": null,
       "top": null,
       "visibility": null,
       "width": null
      }
     },
     "3e41e33fdd064f70bc7493dd5b4ca288": {
      "model_module": "@jupyter-widgets/controls",
      "model_module_version": "1.5.0",
      "model_name": "HTMLModel",
      "state": {
       "_dom_classes": [],
       "_model_module": "@jupyter-widgets/controls",
       "_model_module_version": "1.5.0",
       "_model_name": "HTMLModel",
       "_view_count": null,
       "_view_module": "@jupyter-widgets/controls",
       "_view_module_version": "1.5.0",
       "_view_name": "HTMLView",
       "description": "",
       "description_tooltip": null,
       "layout": "IPY_MODEL_22d00a3a3e72486787b05212bfb13aca",
       "placeholder": "​",
       "style": "IPY_MODEL_a5b2fd30677641c28ab2581c4798ad83",
       "value": " 30/30 [00:44&lt;00:00,  1.49s/it]"
      }
     },
     "426f54da48ef46dab8dfbe40c7695665": {
      "model_module": "@jupyter-widgets/base",
      "model_module_version": "1.2.0",
      "model_name": "LayoutModel",
      "state": {
       "_model_module": "@jupyter-widgets/base",
       "_model_module_version": "1.2.0",
       "_model_name": "LayoutModel",
       "_view_count": null,
       "_view_module": "@jupyter-widgets/base",
       "_view_module_version": "1.2.0",
       "_view_name": "LayoutView",
       "align_content": null,
       "align_items": null,
       "align_self": null,
       "border": null,
       "bottom": null,
       "display": null,
       "flex": null,
       "flex_flow": null,
       "grid_area": null,
       "grid_auto_columns": null,
       "grid_auto_flow": null,
       "grid_auto_rows": null,
       "grid_column": null,
       "grid_gap": null,
       "grid_row": null,
       "grid_template_areas": null,
       "grid_template_columns": null,
       "grid_template_rows": null,
       "height": null,
       "justify_content": null,
       "justify_items": null,
       "left": null,
       "margin": null,
       "max_height": null,
       "max_width": null,
       "min_height": null,
       "min_width": null,
       "object_fit": null,
       "object_position": null,
       "order": null,
       "overflow": null,
       "overflow_x": null,
       "overflow_y": null,
       "padding": null,
       "right": null,
       "top": null,
       "visibility": null,
       "width": null
      }
     },
     "5284ce685cb64b59b8cdcaaf2385792f": {
      "model_module": "@jupyter-widgets/controls",
      "model_module_version": "1.5.0",
      "model_name": "FloatProgressModel",
      "state": {
       "_dom_classes": [],
       "_model_module": "@jupyter-widgets/controls",
       "_model_module_version": "1.5.0",
       "_model_name": "FloatProgressModel",
       "_view_count": null,
       "_view_module": "@jupyter-widgets/controls",
       "_view_module_version": "1.5.0",
       "_view_name": "ProgressView",
       "bar_style": "success",
       "description": "",
       "description_tooltip": null,
       "layout": "IPY_MODEL_666e36f1dee247a09f41289004f77d03",
       "max": 30,
       "min": 0,
       "orientation": "horizontal",
       "style": "IPY_MODEL_a0416312ab504d22a2ad92e055480e9b",
       "value": 30
      }
     },
     "5622c9076165459bb68ab04a6ba7ea64": {
      "model_module": "@jupyter-widgets/controls",
      "model_module_version": "1.5.0",
      "model_name": "ProgressStyleModel",
      "state": {
       "_model_module": "@jupyter-widgets/controls",
       "_model_module_version": "1.5.0",
       "_model_name": "ProgressStyleModel",
       "_view_count": null,
       "_view_module": "@jupyter-widgets/base",
       "_view_module_version": "1.2.0",
       "_view_name": "StyleView",
       "bar_color": null,
       "description_width": ""
      }
     },
     "5c89f735820f478196406557f23ee9ba": {
      "model_module": "@jupyter-widgets/base",
      "model_module_version": "1.2.0",
      "model_name": "LayoutModel",
      "state": {
       "_model_module": "@jupyter-widgets/base",
       "_model_module_version": "1.2.0",
       "_model_name": "LayoutModel",
       "_view_count": null,
       "_view_module": "@jupyter-widgets/base",
       "_view_module_version": "1.2.0",
       "_view_name": "LayoutView",
       "align_content": null,
       "align_items": null,
       "align_self": null,
       "border": null,
       "bottom": null,
       "display": null,
       "flex": null,
       "flex_flow": null,
       "grid_area": null,
       "grid_auto_columns": null,
       "grid_auto_flow": null,
       "grid_auto_rows": null,
       "grid_column": null,
       "grid_gap": null,
       "grid_row": null,
       "grid_template_areas": null,
       "grid_template_columns": null,
       "grid_template_rows": null,
       "height": null,
       "justify_content": null,
       "justify_items": null,
       "left": null,
       "margin": null,
       "max_height": null,
       "max_width": null,
       "min_height": null,
       "min_width": null,
       "object_fit": null,
       "object_position": null,
       "order": null,
       "overflow": null,
       "overflow_x": null,
       "overflow_y": null,
       "padding": null,
       "right": null,
       "top": null,
       "visibility": null,
       "width": null
      }
     },
     "5ca1f891ac4d4bb09f8294d0e4dbe5eb": {
      "model_module": "@jupyter-widgets/base",
      "model_module_version": "1.2.0",
      "model_name": "LayoutModel",
      "state": {
       "_model_module": "@jupyter-widgets/base",
       "_model_module_version": "1.2.0",
       "_model_name": "LayoutModel",
       "_view_count": null,
       "_view_module": "@jupyter-widgets/base",
       "_view_module_version": "1.2.0",
       "_view_name": "LayoutView",
       "align_content": null,
       "align_items": null,
       "align_self": null,
       "border": null,
       "bottom": null,
       "display": null,
       "flex": null,
       "flex_flow": null,
       "grid_area": null,
       "grid_auto_columns": null,
       "grid_auto_flow": null,
       "grid_auto_rows": null,
       "grid_column": null,
       "grid_gap": null,
       "grid_row": null,
       "grid_template_areas": null,
       "grid_template_columns": null,
       "grid_template_rows": null,
       "height": null,
       "justify_content": null,
       "justify_items": null,
       "left": null,
       "margin": null,
       "max_height": null,
       "max_width": null,
       "min_height": null,
       "min_width": null,
       "object_fit": null,
       "object_position": null,
       "order": null,
       "overflow": null,
       "overflow_x": null,
       "overflow_y": null,
       "padding": null,
       "right": null,
       "top": null,
       "visibility": null,
       "width": null
      }
     },
     "617aa3b7844b4dffba02102fd8735f75": {
      "model_module": "@jupyter-widgets/controls",
      "model_module_version": "1.5.0",
      "model_name": "HTMLModel",
      "state": {
       "_dom_classes": [],
       "_model_module": "@jupyter-widgets/controls",
       "_model_module_version": "1.5.0",
       "_model_name": "HTMLModel",
       "_view_count": null,
       "_view_module": "@jupyter-widgets/controls",
       "_view_module_version": "1.5.0",
       "_view_name": "HTMLView",
       "description": "",
       "description_tooltip": null,
       "layout": "IPY_MODEL_8c2c6359fde5413197aaf2671bd473c0",
       "placeholder": "​",
       "style": "IPY_MODEL_ce7bf7a05df24c4a8418dc6df49b32fb",
       "value": "100%"
      }
     },
     "666e36f1dee247a09f41289004f77d03": {
      "model_module": "@jupyter-widgets/base",
      "model_module_version": "1.2.0",
      "model_name": "LayoutModel",
      "state": {
       "_model_module": "@jupyter-widgets/base",
       "_model_module_version": "1.2.0",
       "_model_name": "LayoutModel",
       "_view_count": null,
       "_view_module": "@jupyter-widgets/base",
       "_view_module_version": "1.2.0",
       "_view_name": "LayoutView",
       "align_content": null,
       "align_items": null,
       "align_self": null,
       "border": null,
       "bottom": null,
       "display": null,
       "flex": null,
       "flex_flow": null,
       "grid_area": null,
       "grid_auto_columns": null,
       "grid_auto_flow": null,
       "grid_auto_rows": null,
       "grid_column": null,
       "grid_gap": null,
       "grid_row": null,
       "grid_template_areas": null,
       "grid_template_columns": null,
       "grid_template_rows": null,
       "height": null,
       "justify_content": null,
       "justify_items": null,
       "left": null,
       "margin": null,
       "max_height": null,
       "max_width": null,
       "min_height": null,
       "min_width": null,
       "object_fit": null,
       "object_position": null,
       "order": null,
       "overflow": null,
       "overflow_x": null,
       "overflow_y": null,
       "padding": null,
       "right": null,
       "top": null,
       "visibility": null,
       "width": null
      }
     },
     "6b681af883be4b14934a7e1ea5c8c658": {
      "model_module": "@jupyter-widgets/controls",
      "model_module_version": "1.5.0",
      "model_name": "FloatProgressModel",
      "state": {
       "_dom_classes": [],
       "_model_module": "@jupyter-widgets/controls",
       "_model_module_version": "1.5.0",
       "_model_name": "FloatProgressModel",
       "_view_count": null,
       "_view_module": "@jupyter-widgets/controls",
       "_view_module_version": "1.5.0",
       "_view_name": "ProgressView",
       "bar_style": "success",
       "description": "",
       "description_tooltip": null,
       "layout": "IPY_MODEL_e743b3610d9e4f5684bacfb5168d969a",
       "max": 30,
       "min": 0,
       "orientation": "horizontal",
       "style": "IPY_MODEL_04bf59413e1246f78a27b24f0ef50824",
       "value": 30
      }
     },
     "6b98dc8f92c445b695fb94b0b5e71deb": {
      "model_module": "@jupyter-widgets/controls",
      "model_module_version": "1.5.0",
      "model_name": "DescriptionStyleModel",
      "state": {
       "_model_module": "@jupyter-widgets/controls",
       "_model_module_version": "1.5.0",
       "_model_name": "DescriptionStyleModel",
       "_view_count": null,
       "_view_module": "@jupyter-widgets/base",
       "_view_module_version": "1.2.0",
       "_view_name": "StyleView",
       "description_width": ""
      }
     },
     "73f786b7132b4627af114c467d55960b": {
      "model_module": "@jupyter-widgets/controls",
      "model_module_version": "1.5.0",
      "model_name": "HTMLModel",
      "state": {
       "_dom_classes": [],
       "_model_module": "@jupyter-widgets/controls",
       "_model_module_version": "1.5.0",
       "_model_name": "HTMLModel",
       "_view_count": null,
       "_view_module": "@jupyter-widgets/controls",
       "_view_module_version": "1.5.0",
       "_view_name": "HTMLView",
       "description": "",
       "description_tooltip": null,
       "layout": "IPY_MODEL_3c8c2b4bf18144b680b7aea88ebee69c",
       "placeholder": "​",
       "style": "IPY_MODEL_e99f20dad0304441b38b304a001349d8",
       "value": " 30/30 [00:25&lt;00:00,  1.18it/s]"
      }
     },
     "74f6c8d627c6442b86d93bd2b835bc91": {
      "model_module": "@jupyter-widgets/controls",
      "model_module_version": "1.5.0",
      "model_name": "HTMLModel",
      "state": {
       "_dom_classes": [],
       "_model_module": "@jupyter-widgets/controls",
       "_model_module_version": "1.5.0",
       "_model_name": "HTMLModel",
       "_view_count": null,
       "_view_module": "@jupyter-widgets/controls",
       "_view_module_version": "1.5.0",
       "_view_name": "HTMLView",
       "description": "",
       "description_tooltip": null,
       "layout": "IPY_MODEL_91db7745638e4d068ebd0529769c06e4",
       "placeholder": "​",
       "style": "IPY_MODEL_1d73933390e24017b7581ed8491078f2",
       "value": " 30/30 [00:46&lt;00:00,  1.51s/it]"
      }
     },
     "8722de10819148c08d39466399aac015": {
      "model_module": "@jupyter-widgets/base",
      "model_module_version": "1.2.0",
      "model_name": "LayoutModel",
      "state": {
       "_model_module": "@jupyter-widgets/base",
       "_model_module_version": "1.2.0",
       "_model_name": "LayoutModel",
       "_view_count": null,
       "_view_module": "@jupyter-widgets/base",
       "_view_module_version": "1.2.0",
       "_view_name": "LayoutView",
       "align_content": null,
       "align_items": null,
       "align_self": null,
       "border": null,
       "bottom": null,
       "display": null,
       "flex": null,
       "flex_flow": null,
       "grid_area": null,
       "grid_auto_columns": null,
       "grid_auto_flow": null,
       "grid_auto_rows": null,
       "grid_column": null,
       "grid_gap": null,
       "grid_row": null,
       "grid_template_areas": null,
       "grid_template_columns": null,
       "grid_template_rows": null,
       "height": null,
       "justify_content": null,
       "justify_items": null,
       "left": null,
       "margin": null,
       "max_height": null,
       "max_width": null,
       "min_height": null,
       "min_width": null,
       "object_fit": null,
       "object_position": null,
       "order": null,
       "overflow": null,
       "overflow_x": null,
       "overflow_y": null,
       "padding": null,
       "right": null,
       "top": null,
       "visibility": null,
       "width": null
      }
     },
     "87e024a85ace457b9a6c1289a05d8bd9": {
      "model_module": "@jupyter-widgets/controls",
      "model_module_version": "1.5.0",
      "model_name": "HBoxModel",
      "state": {
       "_dom_classes": [],
       "_model_module": "@jupyter-widgets/controls",
       "_model_module_version": "1.5.0",
       "_model_name": "HBoxModel",
       "_view_count": null,
       "_view_module": "@jupyter-widgets/controls",
       "_view_module_version": "1.5.0",
       "_view_name": "HBoxView",
       "box_style": "",
       "children": [
        "IPY_MODEL_b34fefe415564973b2e802cf062d6060",
        "IPY_MODEL_39652bb767504a209bdfa0a8a4216279",
        "IPY_MODEL_74f6c8d627c6442b86d93bd2b835bc91"
       ],
       "layout": "IPY_MODEL_148fdfc3b5cc4750afdebfcd453c45ff"
      }
     },
     "88543bef558f4f1fa77fbf133070e6aa": {
      "model_module": "@jupyter-widgets/base",
      "model_module_version": "1.2.0",
      "model_name": "LayoutModel",
      "state": {
       "_model_module": "@jupyter-widgets/base",
       "_model_module_version": "1.2.0",
       "_model_name": "LayoutModel",
       "_view_count": null,
       "_view_module": "@jupyter-widgets/base",
       "_view_module_version": "1.2.0",
       "_view_name": "LayoutView",
       "align_content": null,
       "align_items": null,
       "align_self": null,
       "border": null,
       "bottom": null,
       "display": null,
       "flex": null,
       "flex_flow": null,
       "grid_area": null,
       "grid_auto_columns": null,
       "grid_auto_flow": null,
       "grid_auto_rows": null,
       "grid_column": null,
       "grid_gap": null,
       "grid_row": null,
       "grid_template_areas": null,
       "grid_template_columns": null,
       "grid_template_rows": null,
       "height": null,
       "justify_content": null,
       "justify_items": null,
       "left": null,
       "margin": null,
       "max_height": null,
       "max_width": null,
       "min_height": null,
       "min_width": null,
       "object_fit": null,
       "object_position": null,
       "order": null,
       "overflow": null,
       "overflow_x": null,
       "overflow_y": null,
       "padding": null,
       "right": null,
       "top": null,
       "visibility": null,
       "width": null
      }
     },
     "88dfb922704e4ac7af9645d7e57b0e21": {
      "model_module": "@jupyter-widgets/base",
      "model_module_version": "1.2.0",
      "model_name": "LayoutModel",
      "state": {
       "_model_module": "@jupyter-widgets/base",
       "_model_module_version": "1.2.0",
       "_model_name": "LayoutModel",
       "_view_count": null,
       "_view_module": "@jupyter-widgets/base",
       "_view_module_version": "1.2.0",
       "_view_name": "LayoutView",
       "align_content": null,
       "align_items": null,
       "align_self": null,
       "border": null,
       "bottom": null,
       "display": null,
       "flex": null,
       "flex_flow": null,
       "grid_area": null,
       "grid_auto_columns": null,
       "grid_auto_flow": null,
       "grid_auto_rows": null,
       "grid_column": null,
       "grid_gap": null,
       "grid_row": null,
       "grid_template_areas": null,
       "grid_template_columns": null,
       "grid_template_rows": null,
       "height": null,
       "justify_content": null,
       "justify_items": null,
       "left": null,
       "margin": null,
       "max_height": null,
       "max_width": null,
       "min_height": null,
       "min_width": null,
       "object_fit": null,
       "object_position": null,
       "order": null,
       "overflow": null,
       "overflow_x": null,
       "overflow_y": null,
       "padding": null,
       "right": null,
       "top": null,
       "visibility": null,
       "width": null
      }
     },
     "8bc7c9a6fd4c4ba9bafe6f99412b703c": {
      "model_module": "@jupyter-widgets/controls",
      "model_module_version": "1.5.0",
      "model_name": "ProgressStyleModel",
      "state": {
       "_model_module": "@jupyter-widgets/controls",
       "_model_module_version": "1.5.0",
       "_model_name": "ProgressStyleModel",
       "_view_count": null,
       "_view_module": "@jupyter-widgets/base",
       "_view_module_version": "1.2.0",
       "_view_name": "StyleView",
       "bar_color": null,
       "description_width": ""
      }
     },
     "8c2c6359fde5413197aaf2671bd473c0": {
      "model_module": "@jupyter-widgets/base",
      "model_module_version": "1.2.0",
      "model_name": "LayoutModel",
      "state": {
       "_model_module": "@jupyter-widgets/base",
       "_model_module_version": "1.2.0",
       "_model_name": "LayoutModel",
       "_view_count": null,
       "_view_module": "@jupyter-widgets/base",
       "_view_module_version": "1.2.0",
       "_view_name": "LayoutView",
       "align_content": null,
       "align_items": null,
       "align_self": null,
       "border": null,
       "bottom": null,
       "display": null,
       "flex": null,
       "flex_flow": null,
       "grid_area": null,
       "grid_auto_columns": null,
       "grid_auto_flow": null,
       "grid_auto_rows": null,
       "grid_column": null,
       "grid_gap": null,
       "grid_row": null,
       "grid_template_areas": null,
       "grid_template_columns": null,
       "grid_template_rows": null,
       "height": null,
       "justify_content": null,
       "justify_items": null,
       "left": null,
       "margin": null,
       "max_height": null,
       "max_width": null,
       "min_height": null,
       "min_width": null,
       "object_fit": null,
       "object_position": null,
       "order": null,
       "overflow": null,
       "overflow_x": null,
       "overflow_y": null,
       "padding": null,
       "right": null,
       "top": null,
       "visibility": null,
       "width": null
      }
     },
     "8c833ae515a34749a11b295883b80d12": {
      "model_module": "@jupyter-widgets/controls",
      "model_module_version": "1.5.0",
      "model_name": "HTMLModel",
      "state": {
       "_dom_classes": [],
       "_model_module": "@jupyter-widgets/controls",
       "_model_module_version": "1.5.0",
       "_model_name": "HTMLModel",
       "_view_count": null,
       "_view_module": "@jupyter-widgets/controls",
       "_view_module_version": "1.5.0",
       "_view_name": "HTMLView",
       "description": "",
       "description_tooltip": null,
       "layout": "IPY_MODEL_1b1d6f8bf914446a997cbda766e040b9",
       "placeholder": "​",
       "style": "IPY_MODEL_975ac3ffd310423392e3361bdc60c12f",
       "value": " 30/30 [00:45&lt;00:00,  1.53s/it]"
      }
     },
     "8f6faa13bb9649878b47441bc45f7e23": {
      "model_module": "@jupyter-widgets/controls",
      "model_module_version": "1.5.0",
      "model_name": "ProgressStyleModel",
      "state": {
       "_model_module": "@jupyter-widgets/controls",
       "_model_module_version": "1.5.0",
       "_model_name": "ProgressStyleModel",
       "_view_count": null,
       "_view_module": "@jupyter-widgets/base",
       "_view_module_version": "1.2.0",
       "_view_name": "StyleView",
       "bar_color": null,
       "description_width": ""
      }
     },
     "91db7745638e4d068ebd0529769c06e4": {
      "model_module": "@jupyter-widgets/base",
      "model_module_version": "1.2.0",
      "model_name": "LayoutModel",
      "state": {
       "_model_module": "@jupyter-widgets/base",
       "_model_module_version": "1.2.0",
       "_model_name": "LayoutModel",
       "_view_count": null,
       "_view_module": "@jupyter-widgets/base",
       "_view_module_version": "1.2.0",
       "_view_name": "LayoutView",
       "align_content": null,
       "align_items": null,
       "align_self": null,
       "border": null,
       "bottom": null,
       "display": null,
       "flex": null,
       "flex_flow": null,
       "grid_area": null,
       "grid_auto_columns": null,
       "grid_auto_flow": null,
       "grid_auto_rows": null,
       "grid_column": null,
       "grid_gap": null,
       "grid_row": null,
       "grid_template_areas": null,
       "grid_template_columns": null,
       "grid_template_rows": null,
       "height": null,
       "justify_content": null,
       "justify_items": null,
       "left": null,
       "margin": null,
       "max_height": null,
       "max_width": null,
       "min_height": null,
       "min_width": null,
       "object_fit": null,
       "object_position": null,
       "order": null,
       "overflow": null,
       "overflow_x": null,
       "overflow_y": null,
       "padding": null,
       "right": null,
       "top": null,
       "visibility": null,
       "width": null
      }
     },
     "93af1da898ad4b109223c64574e2ac6a": {
      "model_module": "@jupyter-widgets/controls",
      "model_module_version": "1.5.0",
      "model_name": "HTMLModel",
      "state": {
       "_dom_classes": [],
       "_model_module": "@jupyter-widgets/controls",
       "_model_module_version": "1.5.0",
       "_model_name": "HTMLModel",
       "_view_count": null,
       "_view_module": "@jupyter-widgets/controls",
       "_view_module_version": "1.5.0",
       "_view_name": "HTMLView",
       "description": "",
       "description_tooltip": null,
       "layout": "IPY_MODEL_a814c897005b4309ba84bcc1b31905ba",
       "placeholder": "​",
       "style": "IPY_MODEL_1d30d90211284605bbae9fb706f5e8bd",
       "value": "100%"
      }
     },
     "975ac3ffd310423392e3361bdc60c12f": {
      "model_module": "@jupyter-widgets/controls",
      "model_module_version": "1.5.0",
      "model_name": "DescriptionStyleModel",
      "state": {
       "_model_module": "@jupyter-widgets/controls",
       "_model_module_version": "1.5.0",
       "_model_name": "DescriptionStyleModel",
       "_view_count": null,
       "_view_module": "@jupyter-widgets/base",
       "_view_module_version": "1.2.0",
       "_view_name": "StyleView",
       "description_width": ""
      }
     },
     "9db9a594dec54c819551e0f6ac332707": {
      "model_module": "@jupyter-widgets/controls",
      "model_module_version": "1.5.0",
      "model_name": "HTMLModel",
      "state": {
       "_dom_classes": [],
       "_model_module": "@jupyter-widgets/controls",
       "_model_module_version": "1.5.0",
       "_model_name": "HTMLModel",
       "_view_count": null,
       "_view_module": "@jupyter-widgets/controls",
       "_view_module_version": "1.5.0",
       "_view_name": "HTMLView",
       "description": "",
       "description_tooltip": null,
       "layout": "IPY_MODEL_23c70afd7022428ba0bc533231802c4f",
       "placeholder": "​",
       "style": "IPY_MODEL_6b98dc8f92c445b695fb94b0b5e71deb",
       "value": " 30/30 [00:53&lt;00:00,  1.76s/it]"
      }
     },
     "a02bcae6412a40dabe4d148ffd0f8479": {
      "model_module": "@jupyter-widgets/controls",
      "model_module_version": "1.5.0",
      "model_name": "ProgressStyleModel",
      "state": {
       "_model_module": "@jupyter-widgets/controls",
       "_model_module_version": "1.5.0",
       "_model_name": "ProgressStyleModel",
       "_view_count": null,
       "_view_module": "@jupyter-widgets/base",
       "_view_module_version": "1.2.0",
       "_view_name": "StyleView",
       "bar_color": null,
       "description_width": ""
      }
     },
     "a0416312ab504d22a2ad92e055480e9b": {
      "model_module": "@jupyter-widgets/controls",
      "model_module_version": "1.5.0",
      "model_name": "ProgressStyleModel",
      "state": {
       "_model_module": "@jupyter-widgets/controls",
       "_model_module_version": "1.5.0",
       "_model_name": "ProgressStyleModel",
       "_view_count": null,
       "_view_module": "@jupyter-widgets/base",
       "_view_module_version": "1.2.0",
       "_view_name": "StyleView",
       "bar_color": null,
       "description_width": ""
      }
     },
     "a5b2fd30677641c28ab2581c4798ad83": {
      "model_module": "@jupyter-widgets/controls",
      "model_module_version": "1.5.0",
      "model_name": "DescriptionStyleModel",
      "state": {
       "_model_module": "@jupyter-widgets/controls",
       "_model_module_version": "1.5.0",
       "_model_name": "DescriptionStyleModel",
       "_view_count": null,
       "_view_module": "@jupyter-widgets/base",
       "_view_module_version": "1.2.0",
       "_view_name": "StyleView",
       "description_width": ""
      }
     },
     "a814c897005b4309ba84bcc1b31905ba": {
      "model_module": "@jupyter-widgets/base",
      "model_module_version": "1.2.0",
      "model_name": "LayoutModel",
      "state": {
       "_model_module": "@jupyter-widgets/base",
       "_model_module_version": "1.2.0",
       "_model_name": "LayoutModel",
       "_view_count": null,
       "_view_module": "@jupyter-widgets/base",
       "_view_module_version": "1.2.0",
       "_view_name": "LayoutView",
       "align_content": null,
       "align_items": null,
       "align_self": null,
       "border": null,
       "bottom": null,
       "display": null,
       "flex": null,
       "flex_flow": null,
       "grid_area": null,
       "grid_auto_columns": null,
       "grid_auto_flow": null,
       "grid_auto_rows": null,
       "grid_column": null,
       "grid_gap": null,
       "grid_row": null,
       "grid_template_areas": null,
       "grid_template_columns": null,
       "grid_template_rows": null,
       "height": null,
       "justify_content": null,
       "justify_items": null,
       "left": null,
       "margin": null,
       "max_height": null,
       "max_width": null,
       "min_height": null,
       "min_width": null,
       "object_fit": null,
       "object_position": null,
       "order": null,
       "overflow": null,
       "overflow_x": null,
       "overflow_y": null,
       "padding": null,
       "right": null,
       "top": null,
       "visibility": null,
       "width": null
      }
     },
     "ab6aff736b624a85a56f20d1f65b4bc5": {
      "model_module": "@jupyter-widgets/base",
      "model_module_version": "1.2.0",
      "model_name": "LayoutModel",
      "state": {
       "_model_module": "@jupyter-widgets/base",
       "_model_module_version": "1.2.0",
       "_model_name": "LayoutModel",
       "_view_count": null,
       "_view_module": "@jupyter-widgets/base",
       "_view_module_version": "1.2.0",
       "_view_name": "LayoutView",
       "align_content": null,
       "align_items": null,
       "align_self": null,
       "border": null,
       "bottom": null,
       "display": null,
       "flex": null,
       "flex_flow": null,
       "grid_area": null,
       "grid_auto_columns": null,
       "grid_auto_flow": null,
       "grid_auto_rows": null,
       "grid_column": null,
       "grid_gap": null,
       "grid_row": null,
       "grid_template_areas": null,
       "grid_template_columns": null,
       "grid_template_rows": null,
       "height": null,
       "justify_content": null,
       "justify_items": null,
       "left": null,
       "margin": null,
       "max_height": null,
       "max_width": null,
       "min_height": null,
       "min_width": null,
       "object_fit": null,
       "object_position": null,
       "order": null,
       "overflow": null,
       "overflow_x": null,
       "overflow_y": null,
       "padding": null,
       "right": null,
       "top": null,
       "visibility": null,
       "width": null
      }
     },
     "adf7f0f7724d44b9a47d202586d17df5": {
      "model_module": "@jupyter-widgets/controls",
      "model_module_version": "1.5.0",
      "model_name": "FloatProgressModel",
      "state": {
       "_dom_classes": [],
       "_model_module": "@jupyter-widgets/controls",
       "_model_module_version": "1.5.0",
       "_model_name": "FloatProgressModel",
       "_view_count": null,
       "_view_module": "@jupyter-widgets/controls",
       "_view_module_version": "1.5.0",
       "_view_name": "ProgressView",
       "bar_style": "success",
       "description": "",
       "description_tooltip": null,
       "layout": "IPY_MODEL_5c89f735820f478196406557f23ee9ba",
       "max": 30,
       "min": 0,
       "orientation": "horizontal",
       "style": "IPY_MODEL_b83e26a2b77745fcb7464923f130d531",
       "value": 30
      }
     },
     "b03e86125f6f4de8b9d84907832670be": {
      "model_module": "@jupyter-widgets/controls",
      "model_module_version": "1.5.0",
      "model_name": "DescriptionStyleModel",
      "state": {
       "_model_module": "@jupyter-widgets/controls",
       "_model_module_version": "1.5.0",
       "_model_name": "DescriptionStyleModel",
       "_view_count": null,
       "_view_module": "@jupyter-widgets/base",
       "_view_module_version": "1.2.0",
       "_view_name": "StyleView",
       "description_width": ""
      }
     },
     "b34fefe415564973b2e802cf062d6060": {
      "model_module": "@jupyter-widgets/controls",
      "model_module_version": "1.5.0",
      "model_name": "HTMLModel",
      "state": {
       "_dom_classes": [],
       "_model_module": "@jupyter-widgets/controls",
       "_model_module_version": "1.5.0",
       "_model_name": "HTMLModel",
       "_view_count": null,
       "_view_module": "@jupyter-widgets/controls",
       "_view_module_version": "1.5.0",
       "_view_name": "HTMLView",
       "description": "",
       "description_tooltip": null,
       "layout": "IPY_MODEL_24cfaf50c9b54b9b975011fffd3d50f0",
       "placeholder": "​",
       "style": "IPY_MODEL_b03e86125f6f4de8b9d84907832670be",
       "value": "100%"
      }
     },
     "b5454748ad214d599a181b20e3d95481": {
      "model_module": "@jupyter-widgets/base",
      "model_module_version": "1.2.0",
      "model_name": "LayoutModel",
      "state": {
       "_model_module": "@jupyter-widgets/base",
       "_model_module_version": "1.2.0",
       "_model_name": "LayoutModel",
       "_view_count": null,
       "_view_module": "@jupyter-widgets/base",
       "_view_module_version": "1.2.0",
       "_view_name": "LayoutView",
       "align_content": null,
       "align_items": null,
       "align_self": null,
       "border": null,
       "bottom": null,
       "display": null,
       "flex": null,
       "flex_flow": null,
       "grid_area": null,
       "grid_auto_columns": null,
       "grid_auto_flow": null,
       "grid_auto_rows": null,
       "grid_column": null,
       "grid_gap": null,
       "grid_row": null,
       "grid_template_areas": null,
       "grid_template_columns": null,
       "grid_template_rows": null,
       "height": null,
       "justify_content": null,
       "justify_items": null,
       "left": null,
       "margin": null,
       "max_height": null,
       "max_width": null,
       "min_height": null,
       "min_width": null,
       "object_fit": null,
       "object_position": null,
       "order": null,
       "overflow": null,
       "overflow_x": null,
       "overflow_y": null,
       "padding": null,
       "right": null,
       "top": null,
       "visibility": null,
       "width": null
      }
     },
     "b83e26a2b77745fcb7464923f130d531": {
      "model_module": "@jupyter-widgets/controls",
      "model_module_version": "1.5.0",
      "model_name": "ProgressStyleModel",
      "state": {
       "_model_module": "@jupyter-widgets/controls",
       "_model_module_version": "1.5.0",
       "_model_name": "ProgressStyleModel",
       "_view_count": null,
       "_view_module": "@jupyter-widgets/base",
       "_view_module_version": "1.2.0",
       "_view_name": "StyleView",
       "bar_color": null,
       "description_width": ""
      }
     },
     "be4b52a200d148fabf8a71a425535923": {
      "model_module": "@jupyter-widgets/base",
      "model_module_version": "1.2.0",
      "model_name": "LayoutModel",
      "state": {
       "_model_module": "@jupyter-widgets/base",
       "_model_module_version": "1.2.0",
       "_model_name": "LayoutModel",
       "_view_count": null,
       "_view_module": "@jupyter-widgets/base",
       "_view_module_version": "1.2.0",
       "_view_name": "LayoutView",
       "align_content": null,
       "align_items": null,
       "align_self": null,
       "border": null,
       "bottom": null,
       "display": null,
       "flex": null,
       "flex_flow": null,
       "grid_area": null,
       "grid_auto_columns": null,
       "grid_auto_flow": null,
       "grid_auto_rows": null,
       "grid_column": null,
       "grid_gap": null,
       "grid_row": null,
       "grid_template_areas": null,
       "grid_template_columns": null,
       "grid_template_rows": null,
       "height": null,
       "justify_content": null,
       "justify_items": null,
       "left": null,
       "margin": null,
       "max_height": null,
       "max_width": null,
       "min_height": null,
       "min_width": null,
       "object_fit": null,
       "object_position": null,
       "order": null,
       "overflow": null,
       "overflow_x": null,
       "overflow_y": null,
       "padding": null,
       "right": null,
       "top": null,
       "visibility": null,
       "width": null
      }
     },
     "cd32b3d14ad4424d980a0bbd437f11ed": {
      "model_module": "@jupyter-widgets/base",
      "model_module_version": "1.2.0",
      "model_name": "LayoutModel",
      "state": {
       "_model_module": "@jupyter-widgets/base",
       "_model_module_version": "1.2.0",
       "_model_name": "LayoutModel",
       "_view_count": null,
       "_view_module": "@jupyter-widgets/base",
       "_view_module_version": "1.2.0",
       "_view_name": "LayoutView",
       "align_content": null,
       "align_items": null,
       "align_self": null,
       "border": null,
       "bottom": null,
       "display": null,
       "flex": null,
       "flex_flow": null,
       "grid_area": null,
       "grid_auto_columns": null,
       "grid_auto_flow": null,
       "grid_auto_rows": null,
       "grid_column": null,
       "grid_gap": null,
       "grid_row": null,
       "grid_template_areas": null,
       "grid_template_columns": null,
       "grid_template_rows": null,
       "height": null,
       "justify_content": null,
       "justify_items": null,
       "left": null,
       "margin": null,
       "max_height": null,
       "max_width": null,
       "min_height": null,
       "min_width": null,
       "object_fit": null,
       "object_position": null,
       "order": null,
       "overflow": null,
       "overflow_x": null,
       "overflow_y": null,
       "padding": null,
       "right": null,
       "top": null,
       "visibility": null,
       "width": null
      }
     },
     "ce3d23942a5541138c2d6d3a6c03cb1d": {
      "model_module": "@jupyter-widgets/controls",
      "model_module_version": "1.5.0",
      "model_name": "HTMLModel",
      "state": {
       "_dom_classes": [],
       "_model_module": "@jupyter-widgets/controls",
       "_model_module_version": "1.5.0",
       "_model_name": "HTMLModel",
       "_view_count": null,
       "_view_module": "@jupyter-widgets/controls",
       "_view_module_version": "1.5.0",
       "_view_name": "HTMLView",
       "description": "",
       "description_tooltip": null,
       "layout": "IPY_MODEL_be4b52a200d148fabf8a71a425535923",
       "placeholder": "​",
       "style": "IPY_MODEL_350f85629079432390202004ecfdfc93",
       "value": "100%"
      }
     },
     "ce7bf7a05df24c4a8418dc6df49b32fb": {
      "model_module": "@jupyter-widgets/controls",
      "model_module_version": "1.5.0",
      "model_name": "DescriptionStyleModel",
      "state": {
       "_model_module": "@jupyter-widgets/controls",
       "_model_module_version": "1.5.0",
       "_model_name": "DescriptionStyleModel",
       "_view_count": null,
       "_view_module": "@jupyter-widgets/base",
       "_view_module_version": "1.2.0",
       "_view_name": "StyleView",
       "description_width": ""
      }
     },
     "d5ac1ee69cd0426eacb08720633f3143": {
      "model_module": "@jupyter-widgets/controls",
      "model_module_version": "1.5.0",
      "model_name": "HTMLModel",
      "state": {
       "_dom_classes": [],
       "_model_module": "@jupyter-widgets/controls",
       "_model_module_version": "1.5.0",
       "_model_name": "HTMLModel",
       "_view_count": null,
       "_view_module": "@jupyter-widgets/controls",
       "_view_module_version": "1.5.0",
       "_view_name": "HTMLView",
       "description": "",
       "description_tooltip": null,
       "layout": "IPY_MODEL_426f54da48ef46dab8dfbe40c7695665",
       "placeholder": "​",
       "style": "IPY_MODEL_f8d2a75de0804a658e4b1f6bbc1d7150",
       "value": " 30/30 [00:34&lt;00:00,  1.13s/it]"
      }
     },
     "e743b3610d9e4f5684bacfb5168d969a": {
      "model_module": "@jupyter-widgets/base",
      "model_module_version": "1.2.0",
      "model_name": "LayoutModel",
      "state": {
       "_model_module": "@jupyter-widgets/base",
       "_model_module_version": "1.2.0",
       "_model_name": "LayoutModel",
       "_view_count": null,
       "_view_module": "@jupyter-widgets/base",
       "_view_module_version": "1.2.0",
       "_view_name": "LayoutView",
       "align_content": null,
       "align_items": null,
       "align_self": null,
       "border": null,
       "bottom": null,
       "display": null,
       "flex": null,
       "flex_flow": null,
       "grid_area": null,
       "grid_auto_columns": null,
       "grid_auto_flow": null,
       "grid_auto_rows": null,
       "grid_column": null,
       "grid_gap": null,
       "grid_row": null,
       "grid_template_areas": null,
       "grid_template_columns": null,
       "grid_template_rows": null,
       "height": null,
       "justify_content": null,
       "justify_items": null,
       "left": null,
       "margin": null,
       "max_height": null,
       "max_width": null,
       "min_height": null,
       "min_width": null,
       "object_fit": null,
       "object_position": null,
       "order": null,
       "overflow": null,
       "overflow_x": null,
       "overflow_y": null,
       "padding": null,
       "right": null,
       "top": null,
       "visibility": null,
       "width": null
      }
     },
     "e99f20dad0304441b38b304a001349d8": {
      "model_module": "@jupyter-widgets/controls",
      "model_module_version": "1.5.0",
      "model_name": "DescriptionStyleModel",
      "state": {
       "_model_module": "@jupyter-widgets/controls",
       "_model_module_version": "1.5.0",
       "_model_name": "DescriptionStyleModel",
       "_view_count": null,
       "_view_module": "@jupyter-widgets/base",
       "_view_module_version": "1.2.0",
       "_view_name": "StyleView",
       "description_width": ""
      }
     },
     "f164826ea1544ca5b94dfbf0d12c0842": {
      "model_module": "@jupyter-widgets/controls",
      "model_module_version": "1.5.0",
      "model_name": "HBoxModel",
      "state": {
       "_dom_classes": [],
       "_model_module": "@jupyter-widgets/controls",
       "_model_module_version": "1.5.0",
       "_model_name": "HBoxModel",
       "_view_count": null,
       "_view_module": "@jupyter-widgets/controls",
       "_view_module_version": "1.5.0",
       "_view_name": "HBoxView",
       "box_style": "",
       "children": [
        "IPY_MODEL_ce3d23942a5541138c2d6d3a6c03cb1d",
        "IPY_MODEL_ff5a8241607a4d8991c7e679ab2d219a",
        "IPY_MODEL_8c833ae515a34749a11b295883b80d12"
       ],
       "layout": "IPY_MODEL_1f26b7d41ebd4382bae1ecd527437929"
      }
     },
     "f16f222cc16f4f55b3455a3761828081": {
      "model_module": "@jupyter-widgets/controls",
      "model_module_version": "1.5.0",
      "model_name": "DescriptionStyleModel",
      "state": {
       "_model_module": "@jupyter-widgets/controls",
       "_model_module_version": "1.5.0",
       "_model_name": "DescriptionStyleModel",
       "_view_count": null,
       "_view_module": "@jupyter-widgets/base",
       "_view_module_version": "1.2.0",
       "_view_name": "StyleView",
       "description_width": ""
      }
     },
     "f30e82517ff54420ab23fad469d407ff": {
      "model_module": "@jupyter-widgets/controls",
      "model_module_version": "1.5.0",
      "model_name": "HBoxModel",
      "state": {
       "_dom_classes": [],
       "_model_module": "@jupyter-widgets/controls",
       "_model_module_version": "1.5.0",
       "_model_name": "HBoxModel",
       "_view_count": null,
       "_view_module": "@jupyter-widgets/controls",
       "_view_module_version": "1.5.0",
       "_view_name": "HBoxView",
       "box_style": "",
       "children": [
        "IPY_MODEL_2551477bdb7a4a63ba75bf9a74d88065",
        "IPY_MODEL_6b681af883be4b14934a7e1ea5c8c658",
        "IPY_MODEL_3829e400d5854e899834549ff1e2a793"
       ],
       "layout": "IPY_MODEL_5ca1f891ac4d4bb09f8294d0e4dbe5eb"
      }
     },
     "f43d91b2262b444480f5c916fef04ec5": {
      "model_module": "@jupyter-widgets/base",
      "model_module_version": "1.2.0",
      "model_name": "LayoutModel",
      "state": {
       "_model_module": "@jupyter-widgets/base",
       "_model_module_version": "1.2.0",
       "_model_name": "LayoutModel",
       "_view_count": null,
       "_view_module": "@jupyter-widgets/base",
       "_view_module_version": "1.2.0",
       "_view_name": "LayoutView",
       "align_content": null,
       "align_items": null,
       "align_self": null,
       "border": null,
       "bottom": null,
       "display": null,
       "flex": null,
       "flex_flow": null,
       "grid_area": null,
       "grid_auto_columns": null,
       "grid_auto_flow": null,
       "grid_auto_rows": null,
       "grid_column": null,
       "grid_gap": null,
       "grid_row": null,
       "grid_template_areas": null,
       "grid_template_columns": null,
       "grid_template_rows": null,
       "height": null,
       "justify_content": null,
       "justify_items": null,
       "left": null,
       "margin": null,
       "max_height": null,
       "max_width": null,
       "min_height": null,
       "min_width": null,
       "object_fit": null,
       "object_position": null,
       "order": null,
       "overflow": null,
       "overflow_x": null,
       "overflow_y": null,
       "padding": null,
       "right": null,
       "top": null,
       "visibility": null,
       "width": null
      }
     },
     "f85b3d6e813c4c96811aeb200a522517": {
      "model_module": "@jupyter-widgets/controls",
      "model_module_version": "1.5.0",
      "model_name": "HTMLModel",
      "state": {
       "_dom_classes": [],
       "_model_module": "@jupyter-widgets/controls",
       "_model_module_version": "1.5.0",
       "_model_name": "HTMLModel",
       "_view_count": null,
       "_view_module": "@jupyter-widgets/controls",
       "_view_module_version": "1.5.0",
       "_view_name": "HTMLView",
       "description": "",
       "description_tooltip": null,
       "layout": "IPY_MODEL_0379fc8a594d4e4fb6eaa25ae50a441f",
       "placeholder": "​",
       "style": "IPY_MODEL_191f6965d1904645bc4b8dafce812021",
       "value": "100%"
      }
     },
     "f8d2a75de0804a658e4b1f6bbc1d7150": {
      "model_module": "@jupyter-widgets/controls",
      "model_module_version": "1.5.0",
      "model_name": "DescriptionStyleModel",
      "state": {
       "_model_module": "@jupyter-widgets/controls",
       "_model_module_version": "1.5.0",
       "_model_name": "DescriptionStyleModel",
       "_view_count": null,
       "_view_module": "@jupyter-widgets/base",
       "_view_module_version": "1.2.0",
       "_view_name": "StyleView",
       "description_width": ""
      }
     },
     "fd824863fbd34afea26325b108fdcdb3": {
      "model_module": "@jupyter-widgets/controls",
      "model_module_version": "1.5.0",
      "model_name": "HBoxModel",
      "state": {
       "_dom_classes": [],
       "_model_module": "@jupyter-widgets/controls",
       "_model_module_version": "1.5.0",
       "_model_name": "HBoxModel",
       "_view_count": null,
       "_view_module": "@jupyter-widgets/controls",
       "_view_module_version": "1.5.0",
       "_view_name": "HBoxView",
       "box_style": "",
       "children": [
        "IPY_MODEL_1f0d7045b5314b079f258eb60f85b9a3",
        "IPY_MODEL_34b634d0618e4429851f411e32b5ae41",
        "IPY_MODEL_73f786b7132b4627af114c467d55960b"
       ],
       "layout": "IPY_MODEL_05c2126bc20548f6b6f3370ee66f1a73"
      }
     },
     "ff5a8241607a4d8991c7e679ab2d219a": {
      "model_module": "@jupyter-widgets/controls",
      "model_module_version": "1.5.0",
      "model_name": "FloatProgressModel",
      "state": {
       "_dom_classes": [],
       "_model_module": "@jupyter-widgets/controls",
       "_model_module_version": "1.5.0",
       "_model_name": "FloatProgressModel",
       "_view_count": null,
       "_view_module": "@jupyter-widgets/controls",
       "_view_module_version": "1.5.0",
       "_view_name": "ProgressView",
       "bar_style": "success",
       "description": "",
       "description_tooltip": null,
       "layout": "IPY_MODEL_0b1d81f258a14a8ca4430dfd8221ef3c",
       "max": 30,
       "min": 0,
       "orientation": "horizontal",
       "style": "IPY_MODEL_8f6faa13bb9649878b47441bc45f7e23",
       "value": 30
      }
     },
     "ffbdd4a0cb30437db8df579d18190197": {
      "model_module": "@jupyter-widgets/base",
      "model_module_version": "1.2.0",
      "model_name": "LayoutModel",
      "state": {
       "_model_module": "@jupyter-widgets/base",
       "_model_module_version": "1.2.0",
       "_model_name": "LayoutModel",
       "_view_count": null,
       "_view_module": "@jupyter-widgets/base",
       "_view_module_version": "1.2.0",
       "_view_name": "LayoutView",
       "align_content": null,
       "align_items": null,
       "align_self": null,
       "border": null,
       "bottom": null,
       "display": null,
       "flex": null,
       "flex_flow": null,
       "grid_area": null,
       "grid_auto_columns": null,
       "grid_auto_flow": null,
       "grid_auto_rows": null,
       "grid_column": null,
       "grid_gap": null,
       "grid_row": null,
       "grid_template_areas": null,
       "grid_template_columns": null,
       "grid_template_rows": null,
       "height": null,
       "justify_content": null,
       "justify_items": null,
       "left": null,
       "margin": null,
       "max_height": null,
       "max_width": null,
       "min_height": null,
       "min_width": null,
       "object_fit": null,
       "object_position": null,
       "order": null,
       "overflow": null,
       "overflow_x": null,
       "overflow_y": null,
       "padding": null,
       "right": null,
       "top": null,
       "visibility": null,
       "width": null
      }
     }
    },
    "version_major": 2,
    "version_minor": 0
   }
  }
 },
 "nbformat": 4,
 "nbformat_minor": 5
}
